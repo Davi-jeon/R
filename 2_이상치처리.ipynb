{
 "cells": [
  {
   "cell_type": "markdown",
   "metadata": {},
   "source": [
    "## 데이터 검증"
   ]
  },
  {
   "cell_type": "markdown",
   "metadata": {},
   "source": [
    "\n",
    "### 1. 데이터 검증 개념\n",
    "\n",
    "- 검증은 데이터 입력 규칙에 일치하지 않는 데이터도출한다.\n",
    "- 제외할 것인지, 평균값으로 대체할 것인지 이후 대응책을 결정한다.\n",
    "- 너무 많이 제거하면 결과에 영향을 줄 수 있음\n",
    "\n",
    "#### 이상값 - 지나치게 높거나 낮은 값\n",
    "#### 결측값 - 비어있음"
   ]
  },
  {
   "cell_type": "markdown",
   "metadata": {},
   "source": [
    "### 2. 결측치 처리방법\n",
    "\n",
    "- NA 레코드 제거  \n",
    "- NA가 아닌 값으로만 연산하기\n",
    "- 대체 : 회귀분석을 했을 때의 추정값으로 대체, 최빈값 혹은 평균값으로 대체\n",
    "- NA를 0으로 대체하기\n",
    "\n",
    "#### 방법\n",
    "- 1 제거 - 함수 na.omit을 사용\n",
    "- 2 평균치 삽입법 - 누락된 사례의 변수값으로 변수의 평균치를 계산하여 사용한다.\n",
    "- 3 보삽법 - 시계열자료의 누락에서 사용하는 방법, 지난 기간의 자료들로 에측\n",
    "- 4 평가치추정법 - 평균치를 사용하는게 아니라, 작은 오차를 감수하면서 원래의 값을 추정\n"
   ]
  },
  {
   "cell_type": "markdown",
   "metadata": {},
   "source": [
    "### 3. 이상치 판정 방법\n",
    " - 제거, 상한/하한값(정규분포 기준)으로 대체할 수 있다. \n",
    " - 데이터의 특성에 따라 적용 방법이 따르다.\n",
    " - 정규분포의 여부 /  그룹화 여부\n",
    "\n",
    "#### 1. 모수적방법 - 정규 분포를 따른다면 사용\n",
    "- 정규모형기반 - 3sigma, rulebox plot\n",
    "- 회귀모형기반 - 데이터를 회귀모형에 적합한 후 잔차(산점도에서 ax+b로 설명이 안되는 데이터) 분석, 잔차가 크면 이상치로 판단\n",
    "- 혼합 모수적 분포 기반 : 정상자료는 표준정규분포 - N(0,1) 비정상자료는 분산이 큰 정규분포 - N(평균,큰 분산)를 생성.\n",
    "\n",
    "#### 2. 비모수적 방법\n",
    "- 정규분포 인지 모르거나 아닐때, 히스토그램, 커널함수 기반을 이용해서 이상치를 찾는 방법\n",
    "\n",
    "- 커널함수 기반(데이터를 잘 설명하는 수식을 찾음)\n",
    "- 데이터 전체에 대한 f(x1)을 계산하고, 데이터 상위값과 하위값을 제거한 후 f(x10)를 계산\n",
    "- f(x1)과 f(x2)가 값이 많이 차이나는 지점이 있으면 해당 데이터가 이상치다.\n",
    "\n",
    "#### 3. 군집기반\n",
    "- 군집에서 멀리 떨어진 데이터를 이상치로 본다. \n",
    "- SOM, K-means, EM\n",
    "\n",
    "#### 4. k근접이웃기반\n",
    "- 각 자료로부터 k번째 이웃까지 거리(유클리디안 거리) 를 비정상 점수로 이용하는 방법\n",
    "- 산점도에서 점의 그룹간의 상대적 density를 비정상점수로 계산, 밀도가 낮은 그룹은 비정상(이상치) 판단\n",
    "- 비정상 점수 == 밀도\n"
   ]
  },
  {
   "cell_type": "markdown",
   "metadata": {},
   "source": [
    "### NA처리 함수\n",
    "\n",
    "- na.omit() - NA가 포함된 값을 완전히 제외함\n",
    "- na.fail() - NA가 하나라도 포함되면 계산 중지\n",
    "- na.excluded() - NA는 분석에서 제외하고 싶으나, 검증 결과값의 순서가 중요할 때는 유용)\n",
    "\n"
   ]
  },
  {
   "cell_type": "markdown",
   "metadata": {},
   "source": [
    "### 5. table[ ]함수로 결측치 확인\n",
    "\n",
    "- table()은 기본 설정으로는 결측치 개수를 셀수 없으므로, exclude = NULL 옵션을 설정해 주어야 결측의 개수 카운트 할 수 있다"
   ]
  },
  {
   "cell_type": "code",
   "execution_count": 4,
   "metadata": {},
   "outputs": [
    {
     "data": {
      "text/html": [
       "<ol class=list-inline>\n",
       "\t<li>NA</li>\n",
       "\t<li>Inf</li>\n",
       "\t<li>1</li>\n",
       "\t<li>0.5</li>\n",
       "\t<li>0.333333333333333</li>\n",
       "\t<li>NA</li>\n",
       "\t<li>Inf</li>\n",
       "\t<li>1</li>\n",
       "\t<li>0.5</li>\n",
       "\t<li>0.333333333333333</li>\n",
       "\t<li>NA</li>\n",
       "\t<li>Inf</li>\n",
       "\t<li>1</li>\n",
       "\t<li>0.5</li>\n",
       "\t<li>0.333333333333333</li>\n",
       "\t<li>NA</li>\n",
       "\t<li>Inf</li>\n",
       "\t<li>1</li>\n",
       "\t<li>0.5</li>\n",
       "\t<li>0.333333333333333</li>\n",
       "\t<li>NA</li>\n",
       "\t<li>Inf</li>\n",
       "\t<li>1</li>\n",
       "\t<li>0.5</li>\n",
       "\t<li>0.333333333333333</li>\n",
       "\t<li>NA</li>\n",
       "\t<li>Inf</li>\n",
       "\t<li>1</li>\n",
       "\t<li>0.5</li>\n",
       "\t<li>0.333333333333333</li>\n",
       "\t<li>NA</li>\n",
       "\t<li>Inf</li>\n",
       "\t<li>1</li>\n",
       "\t<li>0.5</li>\n",
       "\t<li>0.333333333333333</li>\n",
       "\t<li>NA</li>\n",
       "\t<li>Inf</li>\n",
       "\t<li>1</li>\n",
       "\t<li>0.5</li>\n",
       "\t<li>0.333333333333333</li>\n",
       "\t<li>NA</li>\n",
       "\t<li>Inf</li>\n",
       "\t<li>1</li>\n",
       "\t<li>0.5</li>\n",
       "\t<li>0.333333333333333</li>\n",
       "\t<li>NA</li>\n",
       "\t<li>Inf</li>\n",
       "\t<li>1</li>\n",
       "\t<li>0.5</li>\n",
       "\t<li>0.333333333333333</li>\n",
       "</ol>\n"
      ],
      "text/latex": [
       "\\begin{enumerate*}\n",
       "\\item NA\n",
       "\\item Inf\n",
       "\\item 1\n",
       "\\item 0.5\n",
       "\\item 0.333333333333333\n",
       "\\item NA\n",
       "\\item Inf\n",
       "\\item 1\n",
       "\\item 0.5\n",
       "\\item 0.333333333333333\n",
       "\\item NA\n",
       "\\item Inf\n",
       "\\item 1\n",
       "\\item 0.5\n",
       "\\item 0.333333333333333\n",
       "\\item NA\n",
       "\\item Inf\n",
       "\\item 1\n",
       "\\item 0.5\n",
       "\\item 0.333333333333333\n",
       "\\item NA\n",
       "\\item Inf\n",
       "\\item 1\n",
       "\\item 0.5\n",
       "\\item 0.333333333333333\n",
       "\\item NA\n",
       "\\item Inf\n",
       "\\item 1\n",
       "\\item 0.5\n",
       "\\item 0.333333333333333\n",
       "\\item NA\n",
       "\\item Inf\n",
       "\\item 1\n",
       "\\item 0.5\n",
       "\\item 0.333333333333333\n",
       "\\item NA\n",
       "\\item Inf\n",
       "\\item 1\n",
       "\\item 0.5\n",
       "\\item 0.333333333333333\n",
       "\\item NA\n",
       "\\item Inf\n",
       "\\item 1\n",
       "\\item 0.5\n",
       "\\item 0.333333333333333\n",
       "\\item NA\n",
       "\\item Inf\n",
       "\\item 1\n",
       "\\item 0.5\n",
       "\\item 0.333333333333333\n",
       "\\end{enumerate*}\n"
      ],
      "text/markdown": [
       "1. NA\n",
       "2. Inf\n",
       "3. 1\n",
       "4. 0.5\n",
       "5. 0.333333333333333\n",
       "6. NA\n",
       "7. Inf\n",
       "8. 1\n",
       "9. 0.5\n",
       "10. 0.333333333333333\n",
       "11. NA\n",
       "12. Inf\n",
       "13. 1\n",
       "14. 0.5\n",
       "15. 0.333333333333333\n",
       "16. NA\n",
       "17. Inf\n",
       "18. 1\n",
       "19. 0.5\n",
       "20. 0.333333333333333\n",
       "21. NA\n",
       "22. Inf\n",
       "23. 1\n",
       "24. 0.5\n",
       "25. 0.333333333333333\n",
       "26. NA\n",
       "27. Inf\n",
       "28. 1\n",
       "29. 0.5\n",
       "30. 0.333333333333333\n",
       "31. NA\n",
       "32. Inf\n",
       "33. 1\n",
       "34. 0.5\n",
       "35. 0.333333333333333\n",
       "36. NA\n",
       "37. Inf\n",
       "38. 1\n",
       "39. 0.5\n",
       "40. 0.333333333333333\n",
       "41. NA\n",
       "42. Inf\n",
       "43. 1\n",
       "44. 0.5\n",
       "45. 0.333333333333333\n",
       "46. NA\n",
       "47. Inf\n",
       "48. 1\n",
       "49. 0.5\n",
       "50. 0.333333333333333\n",
       "\n",
       "\n"
      ],
      "text/plain": [
       " [1]        NA       Inf 1.0000000 0.5000000 0.3333333        NA       Inf\n",
       " [8] 1.0000000 0.5000000 0.3333333        NA       Inf 1.0000000 0.5000000\n",
       "[15] 0.3333333        NA       Inf 1.0000000 0.5000000 0.3333333        NA\n",
       "[22]       Inf 1.0000000 0.5000000 0.3333333        NA       Inf 1.0000000\n",
       "[29] 0.5000000 0.3333333        NA       Inf 1.0000000 0.5000000 0.3333333\n",
       "[36]        NA       Inf 1.0000000 0.5000000 0.3333333        NA       Inf\n",
       "[43] 1.0000000 0.5000000 0.3333333        NA       Inf 1.0000000 0.5000000\n",
       "[50] 0.3333333"
      ]
     },
     "metadata": {},
     "output_type": "display_data"
    }
   ],
   "source": [
    "a <- rep(c(NA, 1/0:3),10)\n",
    "a"
   ]
  },
  {
   "cell_type": "code",
   "execution_count": 5,
   "metadata": {},
   "outputs": [
    {
     "data": {
      "text/plain": [
       "a\n",
       "0.333333333333333               0.5                 1               Inf \n",
       "               10                10                10                10 "
      ]
     },
     "metadata": {},
     "output_type": "display_data"
    }
   ],
   "source": [
    "table(a)"
   ]
  },
  {
   "cell_type": "code",
   "execution_count": 6,
   "metadata": {},
   "outputs": [
    {
     "data": {
      "text/plain": [
       "a\n",
       "0.333333333333333               0.5                 1               Inf \n",
       "               10                10                10                10 \n",
       "             <NA> \n",
       "               10 "
      ]
     },
     "metadata": {},
     "output_type": "display_data"
    }
   ],
   "source": [
    "table(a, exclude = NULL)"
   ]
  },
  {
   "cell_type": "markdown",
   "metadata": {},
   "source": [
    "### 6. 잘못 입력된 값 찾기(이상치)\n",
    "\n",
    "- 순서 : 파일불러오기(read.csv) -> 데이터 파악( str(), data.calss(), typeof())  -> 이상치 찾기"
   ]
  },
  {
   "cell_type": "markdown",
   "metadata": {},
   "source": [
    "##### 파일 불러오기"
   ]
  },
  {
   "cell_type": "code",
   "execution_count": 19,
   "metadata": {
    "scrolled": true
   },
   "outputs": [
    {
     "data": {
      "text/html": [
       "<table>\n",
       "<thead><tr><th scope=col>gender</th><th scope=col>group</th><th scope=col>score</th></tr></thead>\n",
       "<tbody>\n",
       "\t<tr><td>1   </td><td>1   </td><td>3.04</td></tr>\n",
       "\t<tr><td>2   </td><td>1   </td><td>3.19</td></tr>\n",
       "\t<tr><td>1   </td><td>1   </td><td>3.09</td></tr>\n",
       "\t<tr><td>1   </td><td>1   </td><td>3.54</td></tr>\n",
       "\t<tr><td>2   </td><td>1   </td><td>2.48</td></tr>\n",
       "\t<tr><td>1   </td><td>1   </td><td>3.29</td></tr>\n",
       "\t<tr><td>1   </td><td>1   </td><td>2.65</td></tr>\n",
       "\t<tr><td>1   </td><td>1   </td><td>2.98</td></tr>\n",
       "\t<tr><td>1   </td><td>1   </td><td>2.44</td></tr>\n",
       "\t<tr><td>1   </td><td>1   </td><td>3.03</td></tr>\n",
       "\t<tr><td>1   </td><td>1   </td><td>3.15</td></tr>\n",
       "\t<tr><td>1   </td><td>1   </td><td>2.06</td></tr>\n",
       "\t<tr><td>2   </td><td>1   </td><td>2.39</td></tr>\n",
       "\t<tr><td>1   </td><td>1   </td><td>2.98</td></tr>\n",
       "\t<tr><td>1   </td><td>1   </td><td>2.73</td></tr>\n",
       "\t<tr><td>2   </td><td>1   </td><td>2.77</td></tr>\n",
       "\t<tr><td>1   </td><td>1   </td><td>2.61</td></tr>\n",
       "\t<tr><td>1   </td><td>1   </td><td>2.01</td></tr>\n",
       "\t<tr><td>1   </td><td>1   </td><td>2.57</td></tr>\n",
       "\t<tr><td>1   </td><td>1   </td><td>2.93</td></tr>\n",
       "\t<tr><td>1   </td><td>1   </td><td>2.60</td></tr>\n",
       "\t<tr><td>1   </td><td>1   </td><td>3.13</td></tr>\n",
       "\t<tr><td>1   </td><td>1   </td><td>2.71</td></tr>\n",
       "\t<tr><td>1   </td><td>1   </td><td>1.92</td></tr>\n",
       "\t<tr><td>1   </td><td>1   </td><td>3.08</td></tr>\n",
       "\t<tr><td>1   </td><td>1   </td><td>2.31</td></tr>\n",
       "\t<tr><td>1   </td><td>1   </td><td>7.00</td></tr>\n",
       "\t<tr><td>1   </td><td>1   </td><td>2.54</td></tr>\n",
       "\t<tr><td>1   </td><td>1   </td><td>2.66</td></tr>\n",
       "\t<tr><td>5   </td><td>3   </td><td>2.97</td></tr>\n",
       "\t<tr><td>⋮</td><td>⋮</td><td>⋮</td></tr>\n",
       "\t<tr><td>2   </td><td>3   </td><td>2.65</td></tr>\n",
       "\t<tr><td>1   </td><td>3   </td><td>2.22</td></tr>\n",
       "\t<tr><td>1   </td><td>3   </td><td>2.36</td></tr>\n",
       "\t<tr><td>1   </td><td>3   </td><td>2.52</td></tr>\n",
       "\t<tr><td>1   </td><td>3   </td><td>3.17</td></tr>\n",
       "\t<tr><td>1   </td><td>3   </td><td>3.16</td></tr>\n",
       "\t<tr><td>1   </td><td>3   </td><td>2.96</td></tr>\n",
       "\t<tr><td>1   </td><td>3   </td><td>2.42</td></tr>\n",
       "\t<tr><td>2   </td><td>3   </td><td>3.89</td></tr>\n",
       "\t<tr><td>1   </td><td>3   </td><td>2.69</td></tr>\n",
       "\t<tr><td>1   </td><td>3   </td><td>2.29</td></tr>\n",
       "\t<tr><td>1   </td><td>3   </td><td>2.34</td></tr>\n",
       "\t<tr><td>2   </td><td>3   </td><td>2.88</td></tr>\n",
       "\t<tr><td>1   </td><td>3   </td><td>2.54</td></tr>\n",
       "\t<tr><td>1   </td><td>3   </td><td>3.76</td></tr>\n",
       "\t<tr><td>1   </td><td>3   </td><td>2.57</td></tr>\n",
       "\t<tr><td>1   </td><td>3   </td><td>2.92</td></tr>\n",
       "\t<tr><td>1   </td><td>3   </td><td>2.71</td></tr>\n",
       "\t<tr><td>1   </td><td>3   </td><td>2.53</td></tr>\n",
       "\t<tr><td>1   </td><td>3   </td><td>3.18</td></tr>\n",
       "\t<tr><td>1   </td><td>3   </td><td>2.94</td></tr>\n",
       "\t<tr><td>2   </td><td>3   </td><td>3.06</td></tr>\n",
       "\t<tr><td>2   </td><td>3   </td><td>2.87</td></tr>\n",
       "\t<tr><td>2   </td><td>3   </td><td>2.66</td></tr>\n",
       "\t<tr><td>1   </td><td>3   </td><td>3.28</td></tr>\n",
       "\t<tr><td>1   </td><td>3   </td><td>3.74</td></tr>\n",
       "\t<tr><td>1   </td><td>3   </td><td>2.67</td></tr>\n",
       "\t<tr><td>1   </td><td>3   </td><td>2.38</td></tr>\n",
       "\t<tr><td>1   </td><td>3   </td><td>2.55</td></tr>\n",
       "\t<tr><td>1   </td><td>3   </td><td>2.48</td></tr>\n",
       "</tbody>\n",
       "</table>\n"
      ],
      "text/latex": [
       "\\begin{tabular}{r|lll}\n",
       " gender & group & score\\\\\n",
       "\\hline\n",
       "\t 1    & 1    & 3.04\\\\\n",
       "\t 2    & 1    & 3.19\\\\\n",
       "\t 1    & 1    & 3.09\\\\\n",
       "\t 1    & 1    & 3.54\\\\\n",
       "\t 2    & 1    & 2.48\\\\\n",
       "\t 1    & 1    & 3.29\\\\\n",
       "\t 1    & 1    & 2.65\\\\\n",
       "\t 1    & 1    & 2.98\\\\\n",
       "\t 1    & 1    & 2.44\\\\\n",
       "\t 1    & 1    & 3.03\\\\\n",
       "\t 1    & 1    & 3.15\\\\\n",
       "\t 1    & 1    & 2.06\\\\\n",
       "\t 2    & 1    & 2.39\\\\\n",
       "\t 1    & 1    & 2.98\\\\\n",
       "\t 1    & 1    & 2.73\\\\\n",
       "\t 2    & 1    & 2.77\\\\\n",
       "\t 1    & 1    & 2.61\\\\\n",
       "\t 1    & 1    & 2.01\\\\\n",
       "\t 1    & 1    & 2.57\\\\\n",
       "\t 1    & 1    & 2.93\\\\\n",
       "\t 1    & 1    & 2.60\\\\\n",
       "\t 1    & 1    & 3.13\\\\\n",
       "\t 1    & 1    & 2.71\\\\\n",
       "\t 1    & 1    & 1.92\\\\\n",
       "\t 1    & 1    & 3.08\\\\\n",
       "\t 1    & 1    & 2.31\\\\\n",
       "\t 1    & 1    & 7.00\\\\\n",
       "\t 1    & 1    & 2.54\\\\\n",
       "\t 1    & 1    & 2.66\\\\\n",
       "\t 5    & 3    & 2.97\\\\\n",
       "\t ⋮ & ⋮ & ⋮\\\\\n",
       "\t 2    & 3    & 2.65\\\\\n",
       "\t 1    & 3    & 2.22\\\\\n",
       "\t 1    & 3    & 2.36\\\\\n",
       "\t 1    & 3    & 2.52\\\\\n",
       "\t 1    & 3    & 3.17\\\\\n",
       "\t 1    & 3    & 3.16\\\\\n",
       "\t 1    & 3    & 2.96\\\\\n",
       "\t 1    & 3    & 2.42\\\\\n",
       "\t 2    & 3    & 3.89\\\\\n",
       "\t 1    & 3    & 2.69\\\\\n",
       "\t 1    & 3    & 2.29\\\\\n",
       "\t 1    & 3    & 2.34\\\\\n",
       "\t 2    & 3    & 2.88\\\\\n",
       "\t 1    & 3    & 2.54\\\\\n",
       "\t 1    & 3    & 3.76\\\\\n",
       "\t 1    & 3    & 2.57\\\\\n",
       "\t 1    & 3    & 2.92\\\\\n",
       "\t 1    & 3    & 2.71\\\\\n",
       "\t 1    & 3    & 2.53\\\\\n",
       "\t 1    & 3    & 3.18\\\\\n",
       "\t 1    & 3    & 2.94\\\\\n",
       "\t 2    & 3    & 3.06\\\\\n",
       "\t 2    & 3    & 2.87\\\\\n",
       "\t 2    & 3    & 2.66\\\\\n",
       "\t 1    & 3    & 3.28\\\\\n",
       "\t 1    & 3    & 3.74\\\\\n",
       "\t 1    & 3    & 2.67\\\\\n",
       "\t 1    & 3    & 2.38\\\\\n",
       "\t 1    & 3    & 2.55\\\\\n",
       "\t 1    & 3    & 2.48\\\\\n",
       "\\end{tabular}\n"
      ],
      "text/markdown": [
       "\n",
       "gender | group | score | \n",
       "|---|---|---|---|---|---|---|---|---|---|---|---|---|---|---|---|---|---|---|---|---|---|---|---|---|---|---|---|---|---|---|---|---|---|---|---|---|---|---|---|---|---|---|---|---|---|---|---|---|---|---|---|---|---|---|---|---|---|---|---|---|\n",
       "| 1    | 1    | 3.04 | \n",
       "| 2    | 1    | 3.19 | \n",
       "| 1    | 1    | 3.09 | \n",
       "| 1    | 1    | 3.54 | \n",
       "| 2    | 1    | 2.48 | \n",
       "| 1    | 1    | 3.29 | \n",
       "| 1    | 1    | 2.65 | \n",
       "| 1    | 1    | 2.98 | \n",
       "| 1    | 1    | 2.44 | \n",
       "| 1    | 1    | 3.03 | \n",
       "| 1    | 1    | 3.15 | \n",
       "| 1    | 1    | 2.06 | \n",
       "| 2    | 1    | 2.39 | \n",
       "| 1    | 1    | 2.98 | \n",
       "| 1    | 1    | 2.73 | \n",
       "| 2    | 1    | 2.77 | \n",
       "| 1    | 1    | 2.61 | \n",
       "| 1    | 1    | 2.01 | \n",
       "| 1    | 1    | 2.57 | \n",
       "| 1    | 1    | 2.93 | \n",
       "| 1    | 1    | 2.60 | \n",
       "| 1    | 1    | 3.13 | \n",
       "| 1    | 1    | 2.71 | \n",
       "| 1    | 1    | 1.92 | \n",
       "| 1    | 1    | 3.08 | \n",
       "| 1    | 1    | 2.31 | \n",
       "| 1    | 1    | 7.00 | \n",
       "| 1    | 1    | 2.54 | \n",
       "| 1    | 1    | 2.66 | \n",
       "| 5    | 3    | 2.97 | \n",
       "| ⋮ | ⋮ | ⋮ | \n",
       "| 2    | 3    | 2.65 | \n",
       "| 1    | 3    | 2.22 | \n",
       "| 1    | 3    | 2.36 | \n",
       "| 1    | 3    | 2.52 | \n",
       "| 1    | 3    | 3.17 | \n",
       "| 1    | 3    | 3.16 | \n",
       "| 1    | 3    | 2.96 | \n",
       "| 1    | 3    | 2.42 | \n",
       "| 2    | 3    | 3.89 | \n",
       "| 1    | 3    | 2.69 | \n",
       "| 1    | 3    | 2.29 | \n",
       "| 1    | 3    | 2.34 | \n",
       "| 2    | 3    | 2.88 | \n",
       "| 1    | 3    | 2.54 | \n",
       "| 1    | 3    | 3.76 | \n",
       "| 1    | 3    | 2.57 | \n",
       "| 1    | 3    | 2.92 | \n",
       "| 1    | 3    | 2.71 | \n",
       "| 1    | 3    | 2.53 | \n",
       "| 1    | 3    | 3.18 | \n",
       "| 1    | 3    | 2.94 | \n",
       "| 2    | 3    | 3.06 | \n",
       "| 2    | 3    | 2.87 | \n",
       "| 2    | 3    | 2.66 | \n",
       "| 1    | 3    | 3.28 | \n",
       "| 1    | 3    | 3.74 | \n",
       "| 1    | 3    | 2.67 | \n",
       "| 1    | 3    | 2.38 | \n",
       "| 1    | 3    | 2.55 | \n",
       "| 1    | 3    | 2.48 | \n",
       "\n",
       "\n"
      ],
      "text/plain": [
       "    gender group score\n",
       "1   1      1     3.04 \n",
       "2   2      1     3.19 \n",
       "3   1      1     3.09 \n",
       "4   1      1     3.54 \n",
       "5   2      1     2.48 \n",
       "6   1      1     3.29 \n",
       "7   1      1     2.65 \n",
       "8   1      1     2.98 \n",
       "9   1      1     2.44 \n",
       "10  1      1     3.03 \n",
       "11  1      1     3.15 \n",
       "12  1      1     2.06 \n",
       "13  2      1     2.39 \n",
       "14  1      1     2.98 \n",
       "15  1      1     2.73 \n",
       "16  2      1     2.77 \n",
       "17  1      1     2.61 \n",
       "18  1      1     2.01 \n",
       "19  1      1     2.57 \n",
       "20  1      1     2.93 \n",
       "21  1      1     2.60 \n",
       "22  1      1     3.13 \n",
       "23  1      1     2.71 \n",
       "24  1      1     1.92 \n",
       "25  1      1     3.08 \n",
       "26  1      1     2.31 \n",
       "27  1      1     7.00 \n",
       "28  1      1     2.54 \n",
       "29  1      1     2.66 \n",
       "30  5      3     2.97 \n",
       "⋮   ⋮      ⋮     ⋮    \n",
       "121 2      3     2.65 \n",
       "122 1      3     2.22 \n",
       "123 1      3     2.36 \n",
       "124 1      3     2.52 \n",
       "125 1      3     3.17 \n",
       "126 1      3     3.16 \n",
       "127 1      3     2.96 \n",
       "128 1      3     2.42 \n",
       "129 2      3     3.89 \n",
       "130 1      3     2.69 \n",
       "131 1      3     2.29 \n",
       "132 1      3     2.34 \n",
       "133 2      3     2.88 \n",
       "134 1      3     2.54 \n",
       "135 1      3     3.76 \n",
       "136 1      3     2.57 \n",
       "137 1      3     2.92 \n",
       "138 1      3     2.71 \n",
       "139 1      3     2.53 \n",
       "140 1      3     3.18 \n",
       "141 1      3     2.94 \n",
       "142 2      3     3.06 \n",
       "143 2      3     2.87 \n",
       "144 2      3     2.66 \n",
       "145 1      3     3.28 \n",
       "146 1      3     3.74 \n",
       "147 1      3     2.67 \n",
       "148 1      3     2.38 \n",
       "149 1      3     2.55 \n",
       "150 1      3     2.48 "
      ]
     },
     "metadata": {},
     "output_type": "display_data"
    }
   ],
   "source": [
    "valida <- read.csv(\"dataValidation.csv\", header = TRUE, encoding = \"UTF-8\")\n",
    "valida"
   ]
  },
  {
   "cell_type": "markdown",
   "metadata": {},
   "source": [
    "##### 자료 정보 파악하기"
   ]
  },
  {
   "cell_type": "code",
   "execution_count": 17,
   "metadata": {},
   "outputs": [
    {
     "name": "stdout",
     "output_type": "stream",
     "text": [
      "'data.frame':\t150 obs. of  3 variables:\n",
      " $ gender: int  1 2 1 1 2 1 1 1 1 1 ...\n",
      " $ group : int  1 1 1 1 1 1 1 1 1 1 ...\n",
      " $ score : num  3.04 3.19 3.09 3.54 2.48 3.29 2.65 2.98 2.44 3.03 ...\n"
     ]
    },
    {
     "data": {
      "text/html": [
       "'data.frame'"
      ],
      "text/latex": [
       "'data.frame'"
      ],
      "text/markdown": [
       "'data.frame'"
      ],
      "text/plain": [
       "[1] \"data.frame\""
      ]
     },
     "metadata": {},
     "output_type": "display_data"
    },
    {
     "data": {
      "text/html": [
       "'integer'"
      ],
      "text/latex": [
       "'integer'"
      ],
      "text/markdown": [
       "'integer'"
      ],
      "text/plain": [
       "[1] \"integer\""
      ]
     },
     "metadata": {},
     "output_type": "display_data"
    },
    {
     "data": {
      "text/html": [
       "'integer'"
      ],
      "text/latex": [
       "'integer'"
      ],
      "text/markdown": [
       "'integer'"
      ],
      "text/plain": [
       "[1] \"integer\""
      ]
     },
     "metadata": {},
     "output_type": "display_data"
    },
    {
     "data": {
      "text/html": [
       "'double'"
      ],
      "text/latex": [
       "'double'"
      ],
      "text/markdown": [
       "'double'"
      ],
      "text/plain": [
       "[1] \"double\""
      ]
     },
     "metadata": {},
     "output_type": "display_data"
    }
   ],
   "source": [
    "\n",
    "str(valida)\n",
    "\n",
    "data.class(valida) #data.frame\n",
    "typeof(valida$gender) #integer\n",
    "typeof(valida$group)  #integer\n",
    "typeof(valida$score)  #double\n"
   ]
  },
  {
   "cell_type": "markdown",
   "metadata": {},
   "source": [
    "##### 이상치 찾기"
   ]
  },
  {
   "cell_type": "code",
   "execution_count": 21,
   "metadata": {},
   "outputs": [
    {
     "data": {
      "text/html": [
       "<table>\n",
       "<thead><tr><th></th><th scope=col>gender</th><th scope=col>group</th><th scope=col>score</th></tr></thead>\n",
       "<tbody>\n",
       "\t<tr><th scope=row>30</th><td>5   </td><td>3   </td><td>2.97</td></tr>\n",
       "</tbody>\n",
       "</table>\n"
      ],
      "text/latex": [
       "\\begin{tabular}{r|lll}\n",
       "  & gender & group & score\\\\\n",
       "\\hline\n",
       "\t30 & 5    & 3    & 2.97\\\\\n",
       "\\end{tabular}\n"
      ],
      "text/markdown": [
       "\n",
       "| <!--/--> | gender | group | score | \n",
       "|---|\n",
       "| 30 | 5    | 3    | 2.97 | \n",
       "\n",
       "\n"
      ],
      "text/plain": [
       "   gender group score\n",
       "30 5      3     2.97 "
      ]
     },
     "metadata": {},
     "output_type": "display_data"
    },
    {
     "data": {
      "text/html": [
       "<table>\n",
       "<thead><tr><th></th><th scope=col>gender</th><th scope=col>group</th><th scope=col>score</th></tr></thead>\n",
       "<tbody>\n",
       "\t<tr><th scope=row>54</th><td>1   </td><td>7   </td><td>2.53</td></tr>\n",
       "</tbody>\n",
       "</table>\n"
      ],
      "text/latex": [
       "\\begin{tabular}{r|lll}\n",
       "  & gender & group & score\\\\\n",
       "\\hline\n",
       "\t54 & 1    & 7    & 2.53\\\\\n",
       "\\end{tabular}\n"
      ],
      "text/markdown": [
       "\n",
       "| <!--/--> | gender | group | score | \n",
       "|---|\n",
       "| 54 | 1    | 7    | 2.53 | \n",
       "\n",
       "\n"
      ],
      "text/plain": [
       "   gender group score\n",
       "54 1      7     2.53 "
      ]
     },
     "metadata": {},
     "output_type": "display_data"
    },
    {
     "data": {
      "text/html": [
       "<table>\n",
       "<thead><tr><th></th><th scope=col>gender</th><th scope=col>group</th><th scope=col>score</th></tr></thead>\n",
       "<tbody>\n",
       "\t<tr><th scope=row>27</th><td>1 </td><td>1 </td><td> 7</td></tr>\n",
       "\t<tr><th scope=row>78</th><td>1 </td><td>2 </td><td>10</td></tr>\n",
       "</tbody>\n",
       "</table>\n"
      ],
      "text/latex": [
       "\\begin{tabular}{r|lll}\n",
       "  & gender & group & score\\\\\n",
       "\\hline\n",
       "\t27 & 1  & 1  &  7\\\\\n",
       "\t78 & 1  & 2  & 10\\\\\n",
       "\\end{tabular}\n"
      ],
      "text/markdown": [
       "\n",
       "| <!--/--> | gender | group | score | \n",
       "|---|---|\n",
       "| 27 | 1  | 1  |  7 | \n",
       "| 78 | 1  | 2  | 10 | \n",
       "\n",
       "\n"
      ],
      "text/plain": [
       "   gender group score\n",
       "27 1      1      7   \n",
       "78 1      2     10   "
      ]
     },
     "metadata": {},
     "output_type": "display_data"
    }
   ],
   "source": [
    "#gender 속성에는 \"1\"과 \"2\"만 있고, 나머지는 이상값\n",
    "valida[valida[,1]>2 | valida[,1]<0,]   #30 case, gender=5\n",
    "\n",
    "#group 속성에는 \"1,2,3\"의 값만 있고,\n",
    "valida[valida[,2]>3 | valida[,2]<0,]   #54 case, group=7\n",
    "\n",
    "#score 속성에서 \"0 ~ 5\"의 값만 있고,\n",
    "valida[valida[,3]>5 | valida[,3]<0,]   #27, 58 case / score 7 10"
   ]
  },
  {
   "cell_type": "markdown",
   "metadata": {},
   "source": [
    "### 7. 특정값 결측으로 설정하기"
   ]
  },
  {
   "cell_type": "code",
   "execution_count": 22,
   "metadata": {
    "scrolled": true
   },
   "outputs": [
    {
     "data": {
      "text/plain": [
       "      X.2            발생년월일2         X.1          발생년월일      \n",
       " Min.   :    1   2012-09-14:   28   Min.   :    1   Min.   :20100101  \n",
       " 1st Qu.: 3594   2014-04-29:   28   1st Qu.: 3594   1st Qu.:20110605  \n",
       " Median : 7186   2015-10-03:   28   Median : 7186   Median :20121111  \n",
       " Mean   : 7186   2011-09-24:   27   Mean   : 7186   Mean   :20124947  \n",
       " 3rd Qu.:10779   2010-01-01:   26   3rd Qu.:10779   3rd Qu.:20140610  \n",
       " Max.   :14372   2011-01-12:   26   Max.   :14372   Max.   :20151231  \n",
       "                 (Other)   :14209                                     \n",
       "     발생시           X               Y              발생        사망        \n",
       " 18시   :1062   Min.   :126.9   Min.   :37.04   Min.   :1   Min.   :0.00000  \n",
       " 21시   : 877   1st Qu.:127.4   1st Qu.:37.24   1st Qu.:1   1st Qu.:0.00000  \n",
       " 20시   : 860   Median :127.5   Median :37.27   Median :1   Median :0.00000  \n",
       " 19시   : 849   Mean   :127.5   Mean   :37.25   Mean   :1   Mean   :0.01406  \n",
       " 22시   : 820   3rd Qu.:127.5   3rd Qu.:37.28   3rd Qu.:1   3rd Qu.:0.00000  \n",
       " 15시   : 771   Max.   :127.6   Max.   :37.71   Max.   :1   Max.   :1.00000  \n",
       " (Other):9133                                                                \n",
       "      중상             경상           부상신고           사고유형    \n",
       " Min.   :0.0000   Min.   :0.0000   Min.   :0.00000   차대사람: 1880  \n",
       " 1st Qu.:0.0000   1st Qu.:0.0000   1st Qu.:0.00000   차대차  :11654  \n",
       " Median :0.0000   Median :0.0000   Median :0.00000   차량단독:  838  \n",
       " Mean   :0.1605   Mean   :0.4535   Mean   :0.03465                   \n",
       " 3rd Qu.:0.0000   3rd Qu.:1.0000   3rd Qu.:0.00000                   \n",
       " Max.   :4.0000   Max.   :5.0000   Max.   :2.00000                   \n",
       "                                                                     \n",
       "        사고유형.1           사고유형.2                     인적유발요인 \n",
       " 측면직각충돌:4720   측면직각충돌 :4720   전방주시태만            :6710  \n",
       " 추돌        :4225   기타         :2589   0                       :2313  \n",
       " 기타        :2589   주정차중 추돌:2187   심신건강상태불량        :2193  \n",
       " 정면충돌    : 820   진행중 추돌  :2038   심리적요인에의한판단잘못:1096  \n",
       " 횡단중      : 773   정면충돌     : 820   인적요인없음            : 756  \n",
       " 공작물충돌  : 479   횡단중       : 773   기타인적요인있음        : 454  \n",
       " (Other)     : 766   (Other)      :1245   (Other)                 : 850  \n",
       "             인적유발요일               차량적유발요인            법규위반    \n",
       " 기타              :4695   차량적요인 없음     :11566   운전자법규위반:14361  \n",
       " 0                 :2313                       : 2313   정비불량      :   11  \n",
       " 주취(전날주취포함):2155   기타/불명           :  324                         \n",
       " 방심,딴생각       :1660   기타 차량적요인 있음:   80                         \n",
       " 인적요인 없음     : 756   타이어 불량         :   45                         \n",
       " 서두름            : 517   제동장치 불량       :   35                         \n",
       " (Other)           :2276   (Other)             :    9                         \n",
       "                       법규위반.1  \n",
       " 안전운전 의무 불이행       :8253  \n",
       " 신호위반                   :1922  \n",
       " 안전거리 미확보            :1209  \n",
       " 중앙선 침범                :1065  \n",
       " 교차로 통행방법 위반       : 656  \n",
       " 직진 및 우회전차의 통행방해: 432  \n",
       " (Other)                    : 835  \n",
       "                                           법규위반.2  \n",
       " 안전운전 의무 불이행                           :8253  \n",
       " 신호 또는 지시에 따를 의무위반(정지선 위반포함):1922  \n",
       " 안전거리 미확보(급제동포함)                    :1209  \n",
       " 중앙선 침범                                    :1065  \n",
       " 교차로 통행방법 위반                           : 656  \n",
       " 직진 및 우회전차의 통행방해                    : 432  \n",
       " (Other)                                        : 835  \n",
       "              법규위반.8종.       행동유형          행동유형.1  \n",
       " 안전운전 의무 불이행:8253   기타불명 :  275   직진중    :9181  \n",
       " 신호위반            :1922   자동차 등:14097   좌우회전중:2521  \n",
       " 안전거리 미확보     :1209                     진로변경중:1090  \n",
       " 중앙선 침범         :1065                     후진중    : 371  \n",
       " 기타                :1007                     U턴중     : 337  \n",
       " 교차로 통행방법 위반: 656                     기타/불명 : 275  \n",
       " (Other)             : 260                     (Other)   : 597  \n",
       "            당사자종별             당사자종별.1         차량용도별   \n",
       " 승용차          :9195   중형            :6279   기타불명    :  223  \n",
       " 화물차          :2688   소형            :4180   비사업용차량:11524  \n",
       " 승합차          : 784   대형            :1932   사업용차량  : 2493  \n",
       " 이륜차          : 698   경형            :1044   자전거      :  132  \n",
       " 원동기장치자전거: 368   원동기장치자전거: 368                       \n",
       " 불명            : 220   불명            : 220                       \n",
       " (Other)         : 419   (Other)         : 349                       \n",
       "     차량용도별.1      차량용도별.2        도로형태         도로형태.1  \n",
       " 승용차    :8251   승용차    :8251   고가도로위:   4   기타단일로:6191  \n",
       " 기타화물차:1647   기타화물차:1647   교차로    :7668   교차로내  :4181  \n",
       " 이륜차    : 675   이륜차    : 675   기타/불명 : 263   교차로부근:3487  \n",
       " 화물      : 563   렌트카    : 525   단일로    :6437   기타/불명 : 263  \n",
       " 렌트카    : 525   기타      : 466                     횡단보도상: 151  \n",
       " 사업용기타: 466   일반화물  : 417                     교량위    :  54  \n",
       " (Other)   :2245   (Other)   :2391                     (Other)   :  45  \n",
       "      기상상태        사상자성별     사상자연령   \n",
       " 기타/불명:   26   0       : 349   불명   :  529  \n",
       " 눈       :  203   기타불명: 181   42세   :  345  \n",
       " 맑음     :11999   남      :9548   49세   :  343  \n",
       " 비       : 1351   여      :4294   50세   :  343  \n",
       " 안개     :  163                   51세   :  343  \n",
       " 흐림     :  630                   52세   :  331  \n",
       "                                   (Other):12138  \n",
       "                                                                                                                                                                                                                                                                                                                                                                                                                               개요      \n",
       "                                                                                                                                                                                                                                                                                                                                                                                                                                 : 2313  \n",
       " 사고1차량은 장호원 쪽에서 충주 쪽으로 시속 약110킬로미터의 속력으로 1차로로 진행을 하던중 사고지점에 이르러 전방으로 앞서 진행하는 사고2차량이 브레이크등이 켜지는 것을 보고 제동을 하였으나 거리가 근접하여 추돌을 할것 같아 이를 피하기 위해 우측으로 핸들을 틀면서 도로우측 도로벽을 사고1차량의 우측앞범퍼 부분으로 충격을 하고 튕겨나오면서 사고2차량의 우측앞바퀴 부분을 사고1차량의 좌측앞휀다 부분으로 충격을 한 사고임.:   23  \n",
       " 사고 #1차량인 25인승 버스 차량이 정차중이던 사고 #2 운전연습용 화물 차량을 발견치 못하고 추돌하여 그 충격으로 #2 차량이 밀리면서 정차하고 있는 사고#3인 토스카, 사고#4인 포터차량, 사고#5 차량인 스타렉스를 연쇄적으로 추돌된 사고임.                                                                                                                                                                                           :   22  \n",
       " 사고1차량은 이천 쪽에서 백사 쪽으로 2차로를 따라 진행하던 중 사고 장소에 이르러 전방주시를 제대로 하지 못하여 신호대기 정지하고 있던 사고2차량의 뒤 범퍼부분을 사고1차량의 앞 범퍼부분으로 추돌한 사고임.                                                                                                                                                                                                                       :   20  \n",
       " #1 3.5톤 화물차량이 서울쪽에서 장호원쪽으로 진행중 전방 적색신호를 보고 정지한 #2 스타렉스 차량을 추돌하고 이어 충격으로 #2차량이 같은 방향으로 앞에 정차해있던 #3쏘나타 승용차량을 추돌하고 #3차량도 #2차량이 추돌한 충격으로 앞에 정지해 있던 #4포터 차량을 추돌한 것임.                                                                                                                                                      :   16  \n",
       " #1차량은 좌회전 차로에서 이천 방면에서 호법스포츠센타 방향으로 직진신호에 좌회전 중, 용인 방면에서 이천 방향으로 직진하는 #2차량과 충돌한 사고 임.                                                                                                                                                                                                                                                                              :   14  \n",
       " (Other)                                                                                                                                                                                                                                                                                                                                                                                                                         :11964  \n",
       "      year           mon              day           발생년월일2_2  \n",
       " Min.   :2010   Min.   : 1.000   Min.   : 1.00   2012-09-14:   28  \n",
       " 1st Qu.:2011   1st Qu.: 4.000   1st Qu.: 8.00   2014-04-29:   28  \n",
       " Median :2012   Median : 7.000   Median :16.00   2015-10-03:   28  \n",
       " Mean   :2012   Mean   : 6.666   Mean   :15.94   2011-09-24:   27  \n",
       " 3rd Qu.:2014   3rd Qu.:10.000   3rd Qu.:24.00   2010-01-01:   26  \n",
       " Max.   :2015   Max.   :12.000   Max.   :31.00   2011-01-12:   26  \n",
       "                                                 (Other)   :14209  \n",
       "   weekdays      주중토일       발생시_num    발생시_interval   강수량.mm.    \n",
       " 금요일:2228   일요일: 1925   Min.   : 0.00   0~6:59  :2152   Min.   :  0.00  \n",
       " 목요일:2044   주중  :10210   1st Qu.: 9.00   12~14:59:1893   1st Qu.:  0.50  \n",
       " 수요일:2024   토요일: 2237   Median :15.00   15~17:59:2187   Median :  3.20  \n",
       " 월요일:1913                  Mean   :13.69   18~21:59:3648   Mean   : 12.02  \n",
       " 일요일:1925                  3rd Qu.:19.00   22~23:59:1469   3rd Qu.: 12.50  \n",
       " 토요일:2237                  Max.   :23.00   7~8:59  :1239   Max.   :247.50  \n",
       " 화요일:2001                                  9~11:59 :1784   NA's   :9175    \n",
       "    평균기온         최저기온          최고기온    \n",
       " Min.   :-14.80   Min.   :-22.800   Min.   :-8.70  \n",
       " 1st Qu.:  3.00   1st Qu.: -2.600   1st Qu.: 9.00  \n",
       " Median : 13.60   Median :  7.900   Median :20.50  \n",
       " Mean   : 12.18   Mean   :  6.877   Mean   :18.24  \n",
       " 3rd Qu.: 22.00   3rd Qu.: 17.000   3rd Qu.:28.00  \n",
       " Max.   : 30.00   Max.   : 25.300   Max.   :37.70  \n",
       " NA's   :19       NA's   :8         NA's   :8      "
      ]
     },
     "metadata": {},
     "output_type": "display_data"
    }
   ],
   "source": [
    "icheon_regression <- read.csv(\"reproduct_temp_rain_UTF8.csv\")\n",
    "summary(icheon_regression)"
   ]
  },
  {
   "cell_type": "markdown",
   "metadata": {},
   "source": [
    "##### 결측값 찾기"
   ]
  },
  {
   "cell_type": "code",
   "execution_count": 23,
   "metadata": {
    "scrolled": true
   },
   "outputs": [
    {
     "data": {
      "text/html": [
       "<dl class=dl-horizontal>\n",
       "\t<dt>X.2</dt>\n",
       "\t\t<dd>0</dd>\n",
       "\t<dt>발생년월일2</dt>\n",
       "\t\t<dd>0</dd>\n",
       "\t<dt>X.1</dt>\n",
       "\t\t<dd>0</dd>\n",
       "\t<dt>발생년월일</dt>\n",
       "\t\t<dd>0</dd>\n",
       "\t<dt>발생시</dt>\n",
       "\t\t<dd>0</dd>\n",
       "\t<dt>X</dt>\n",
       "\t\t<dd>0</dd>\n",
       "\t<dt>Y</dt>\n",
       "\t\t<dd>0</dd>\n",
       "\t<dt>발생</dt>\n",
       "\t\t<dd>0</dd>\n",
       "\t<dt>사망</dt>\n",
       "\t\t<dd>0</dd>\n",
       "\t<dt>중상</dt>\n",
       "\t\t<dd>0</dd>\n",
       "\t<dt>경상</dt>\n",
       "\t\t<dd>0</dd>\n",
       "\t<dt>부상신고</dt>\n",
       "\t\t<dd>0</dd>\n",
       "\t<dt>사고유형</dt>\n",
       "\t\t<dd>0</dd>\n",
       "\t<dt>사고유형.1</dt>\n",
       "\t\t<dd>0</dd>\n",
       "\t<dt>사고유형.2</dt>\n",
       "\t\t<dd>0</dd>\n",
       "\t<dt>인적유발요인</dt>\n",
       "\t\t<dd>0</dd>\n",
       "\t<dt>인적유발요일</dt>\n",
       "\t\t<dd>0</dd>\n",
       "\t<dt>차량적유발요인</dt>\n",
       "\t\t<dd>0</dd>\n",
       "\t<dt>법규위반</dt>\n",
       "\t\t<dd>0</dd>\n",
       "\t<dt>법규위반.1</dt>\n",
       "\t\t<dd>0</dd>\n",
       "\t<dt>법규위반.2</dt>\n",
       "\t\t<dd>0</dd>\n",
       "\t<dt>법규위반.8종.</dt>\n",
       "\t\t<dd>0</dd>\n",
       "\t<dt>행동유형</dt>\n",
       "\t\t<dd>0</dd>\n",
       "\t<dt>행동유형.1</dt>\n",
       "\t\t<dd>0</dd>\n",
       "\t<dt>당사자종별</dt>\n",
       "\t\t<dd>0</dd>\n",
       "\t<dt>당사자종별.1</dt>\n",
       "\t\t<dd>0</dd>\n",
       "\t<dt>차량용도별</dt>\n",
       "\t\t<dd>0</dd>\n",
       "\t<dt>차량용도별.1</dt>\n",
       "\t\t<dd>0</dd>\n",
       "\t<dt>차량용도별.2</dt>\n",
       "\t\t<dd>0</dd>\n",
       "\t<dt>도로형태</dt>\n",
       "\t\t<dd>0</dd>\n",
       "\t<dt>도로형태.1</dt>\n",
       "\t\t<dd>0</dd>\n",
       "\t<dt>기상상태</dt>\n",
       "\t\t<dd>0</dd>\n",
       "\t<dt>사상자성별</dt>\n",
       "\t\t<dd>0</dd>\n",
       "\t<dt>사상자연령</dt>\n",
       "\t\t<dd>0</dd>\n",
       "\t<dt>개요</dt>\n",
       "\t\t<dd>0</dd>\n",
       "\t<dt>year</dt>\n",
       "\t\t<dd>0</dd>\n",
       "\t<dt>mon</dt>\n",
       "\t\t<dd>0</dd>\n",
       "\t<dt>day</dt>\n",
       "\t\t<dd>0</dd>\n",
       "\t<dt>발생년월일2_2</dt>\n",
       "\t\t<dd>0</dd>\n",
       "\t<dt>weekdays</dt>\n",
       "\t\t<dd>0</dd>\n",
       "\t<dt>주중토일</dt>\n",
       "\t\t<dd>0</dd>\n",
       "\t<dt>발생시_num</dt>\n",
       "\t\t<dd>0</dd>\n",
       "\t<dt>발생시_interval</dt>\n",
       "\t\t<dd>0</dd>\n",
       "\t<dt>강수량.mm.</dt>\n",
       "\t\t<dd>9175</dd>\n",
       "\t<dt>평균기온</dt>\n",
       "\t\t<dd>19</dd>\n",
       "\t<dt>최저기온</dt>\n",
       "\t\t<dd>8</dd>\n",
       "\t<dt>최고기온</dt>\n",
       "\t\t<dd>8</dd>\n",
       "</dl>\n"
      ],
      "text/latex": [
       "\\begin{description*}\n",
       "\\item[X.2] 0\n",
       "\\item[발생년월일2] 0\n",
       "\\item[X.1] 0\n",
       "\\item[발생년월일] 0\n",
       "\\item[발생시] 0\n",
       "\\item[X] 0\n",
       "\\item[Y] 0\n",
       "\\item[발생] 0\n",
       "\\item[사망] 0\n",
       "\\item[중상] 0\n",
       "\\item[경상] 0\n",
       "\\item[부상신고] 0\n",
       "\\item[사고유형] 0\n",
       "\\item[사고유형.1] 0\n",
       "\\item[사고유형.2] 0\n",
       "\\item[인적유발요인] 0\n",
       "\\item[인적유발요일] 0\n",
       "\\item[차량적유발요인] 0\n",
       "\\item[법규위반] 0\n",
       "\\item[법규위반.1] 0\n",
       "\\item[법규위반.2] 0\n",
       "\\item[법규위반.8종.] 0\n",
       "\\item[행동유형] 0\n",
       "\\item[행동유형.1] 0\n",
       "\\item[당사자종별] 0\n",
       "\\item[당사자종별.1] 0\n",
       "\\item[차량용도별] 0\n",
       "\\item[차량용도별.1] 0\n",
       "\\item[차량용도별.2] 0\n",
       "\\item[도로형태] 0\n",
       "\\item[도로형태.1] 0\n",
       "\\item[기상상태] 0\n",
       "\\item[사상자성별] 0\n",
       "\\item[사상자연령] 0\n",
       "\\item[개요] 0\n",
       "\\item[year] 0\n",
       "\\item[mon] 0\n",
       "\\item[day] 0\n",
       "\\item[발생년월일2\\textbackslash{}\\_2] 0\n",
       "\\item[weekdays] 0\n",
       "\\item[주중토일] 0\n",
       "\\item[발생시\\textbackslash{}\\_num] 0\n",
       "\\item[발생시\\textbackslash{}\\_interval] 0\n",
       "\\item[강수량.mm.] 9175\n",
       "\\item[평균기온] 19\n",
       "\\item[최저기온] 8\n",
       "\\item[최고기온] 8\n",
       "\\end{description*}\n"
      ],
      "text/markdown": [
       "X.2\n",
       ":   0발생년월일2\n",
       ":   0X.1\n",
       ":   0발생년월일\n",
       ":   0발생시\n",
       ":   0X\n",
       ":   0Y\n",
       ":   0발생\n",
       ":   0사망\n",
       ":   0중상\n",
       ":   0경상\n",
       ":   0부상신고\n",
       ":   0사고유형\n",
       ":   0사고유형.1\n",
       ":   0사고유형.2\n",
       ":   0인적유발요인\n",
       ":   0인적유발요일\n",
       ":   0차량적유발요인\n",
       ":   0법규위반\n",
       ":   0법규위반.1\n",
       ":   0법규위반.2\n",
       ":   0법규위반.8종.\n",
       ":   0행동유형\n",
       ":   0행동유형.1\n",
       ":   0당사자종별\n",
       ":   0당사자종별.1\n",
       ":   0차량용도별\n",
       ":   0차량용도별.1\n",
       ":   0차량용도별.2\n",
       ":   0도로형태\n",
       ":   0도로형태.1\n",
       ":   0기상상태\n",
       ":   0사상자성별\n",
       ":   0사상자연령\n",
       ":   0개요\n",
       ":   0year\n",
       ":   0mon\n",
       ":   0day\n",
       ":   0발생년월일2_2\n",
       ":   0weekdays\n",
       ":   0주중토일\n",
       ":   0발생시_num\n",
       ":   0발생시_interval\n",
       ":   0강수량.mm.\n",
       ":   9175평균기온\n",
       ":   19최저기온\n",
       ":   8최고기온\n",
       ":   8\n",
       "\n"
      ],
      "text/plain": [
       "            X.2     발생년월일2             X.1      발생년월일          발생시 \n",
       "              0               0               0               0               0 \n",
       "              X               Y            발생            사망            중상 \n",
       "              0               0               0               0               0 \n",
       "           경상        부상신고        사고유형      사고유형.1      사고유형.2 \n",
       "              0               0               0               0               0 \n",
       "   인적유발요인    인적유발요일  차량적유발요인        법규위반      법규위반.1 \n",
       "              0               0               0               0               0 \n",
       "     법규위반.2   법규위반.8종.        행동유형      행동유형.1      당사자종별 \n",
       "              0               0               0               0               0 \n",
       "   당사자종별.1      차량용도별    차량용도별.1    차량용도별.2        도로형태 \n",
       "              0               0               0               0               0 \n",
       "     도로형태.1        기상상태      사상자성별      사상자연령            개요 \n",
       "              0               0               0               0               0 \n",
       "           year             mon             day   발생년월일2_2        weekdays \n",
       "              0               0               0               0               0 \n",
       "       주중토일      발생시_num 발생시_interval      강수량.mm.        평균기온 \n",
       "              0               0               0            9175              19 \n",
       "       최저기온        최고기온 \n",
       "              8               8 "
      ]
     },
     "metadata": {},
     "output_type": "display_data"
    }
   ],
   "source": [
    "apply(apply(icheon_regression,2,is.na),2,sum)  #평균기온의 19개의 결측값 나옴."
   ]
  },
  {
   "cell_type": "code",
   "execution_count": 24,
   "metadata": {
    "collapsed": true
   },
   "outputs": [],
   "source": [
    "icheon_regression[c(1218, 1219, 1220, 1221, 1222, 1223, 1224, 1225),'평균기온'] <- 20.6\n"
   ]
  },
  {
   "cell_type": "code",
   "execution_count": 25,
   "metadata": {
    "collapsed": true
   },
   "outputs": [],
   "source": [
    "icheon_regression[c(8238, 8239, 8240, 8241, 8242, 8243, 8244, 8245, 8246, 8247, 8248),'평균기온']<- 12.4 \n"
   ]
  },
  {
   "cell_type": "code",
   "execution_count": 26,
   "metadata": {
    "scrolled": true
   },
   "outputs": [
    {
     "data": {
      "text/html": [
       "<dl class=dl-horizontal>\n",
       "\t<dt>X.2</dt>\n",
       "\t\t<dd>0</dd>\n",
       "\t<dt>발생년월일2</dt>\n",
       "\t\t<dd>0</dd>\n",
       "\t<dt>X.1</dt>\n",
       "\t\t<dd>0</dd>\n",
       "\t<dt>발생년월일</dt>\n",
       "\t\t<dd>0</dd>\n",
       "\t<dt>발생시</dt>\n",
       "\t\t<dd>0</dd>\n",
       "\t<dt>X</dt>\n",
       "\t\t<dd>0</dd>\n",
       "\t<dt>Y</dt>\n",
       "\t\t<dd>0</dd>\n",
       "\t<dt>발생</dt>\n",
       "\t\t<dd>0</dd>\n",
       "\t<dt>사망</dt>\n",
       "\t\t<dd>0</dd>\n",
       "\t<dt>중상</dt>\n",
       "\t\t<dd>0</dd>\n",
       "\t<dt>경상</dt>\n",
       "\t\t<dd>0</dd>\n",
       "\t<dt>부상신고</dt>\n",
       "\t\t<dd>0</dd>\n",
       "\t<dt>사고유형</dt>\n",
       "\t\t<dd>0</dd>\n",
       "\t<dt>사고유형.1</dt>\n",
       "\t\t<dd>0</dd>\n",
       "\t<dt>사고유형.2</dt>\n",
       "\t\t<dd>0</dd>\n",
       "\t<dt>인적유발요인</dt>\n",
       "\t\t<dd>0</dd>\n",
       "\t<dt>인적유발요일</dt>\n",
       "\t\t<dd>0</dd>\n",
       "\t<dt>차량적유발요인</dt>\n",
       "\t\t<dd>0</dd>\n",
       "\t<dt>법규위반</dt>\n",
       "\t\t<dd>0</dd>\n",
       "\t<dt>법규위반.1</dt>\n",
       "\t\t<dd>0</dd>\n",
       "\t<dt>법규위반.2</dt>\n",
       "\t\t<dd>0</dd>\n",
       "\t<dt>법규위반.8종.</dt>\n",
       "\t\t<dd>0</dd>\n",
       "\t<dt>행동유형</dt>\n",
       "\t\t<dd>0</dd>\n",
       "\t<dt>행동유형.1</dt>\n",
       "\t\t<dd>0</dd>\n",
       "\t<dt>당사자종별</dt>\n",
       "\t\t<dd>0</dd>\n",
       "\t<dt>당사자종별.1</dt>\n",
       "\t\t<dd>0</dd>\n",
       "\t<dt>차량용도별</dt>\n",
       "\t\t<dd>0</dd>\n",
       "\t<dt>차량용도별.1</dt>\n",
       "\t\t<dd>0</dd>\n",
       "\t<dt>차량용도별.2</dt>\n",
       "\t\t<dd>0</dd>\n",
       "\t<dt>도로형태</dt>\n",
       "\t\t<dd>0</dd>\n",
       "\t<dt>도로형태.1</dt>\n",
       "\t\t<dd>0</dd>\n",
       "\t<dt>기상상태</dt>\n",
       "\t\t<dd>0</dd>\n",
       "\t<dt>사상자성별</dt>\n",
       "\t\t<dd>0</dd>\n",
       "\t<dt>사상자연령</dt>\n",
       "\t\t<dd>0</dd>\n",
       "\t<dt>개요</dt>\n",
       "\t\t<dd>0</dd>\n",
       "\t<dt>year</dt>\n",
       "\t\t<dd>0</dd>\n",
       "\t<dt>mon</dt>\n",
       "\t\t<dd>0</dd>\n",
       "\t<dt>day</dt>\n",
       "\t\t<dd>0</dd>\n",
       "\t<dt>발생년월일2_2</dt>\n",
       "\t\t<dd>0</dd>\n",
       "\t<dt>weekdays</dt>\n",
       "\t\t<dd>0</dd>\n",
       "\t<dt>주중토일</dt>\n",
       "\t\t<dd>0</dd>\n",
       "\t<dt>발생시_num</dt>\n",
       "\t\t<dd>0</dd>\n",
       "\t<dt>발생시_interval</dt>\n",
       "\t\t<dd>0</dd>\n",
       "\t<dt>강수량.mm.</dt>\n",
       "\t\t<dd>9175</dd>\n",
       "\t<dt>평균기온</dt>\n",
       "\t\t<dd>0</dd>\n",
       "\t<dt>최저기온</dt>\n",
       "\t\t<dd>8</dd>\n",
       "\t<dt>최고기온</dt>\n",
       "\t\t<dd>8</dd>\n",
       "</dl>\n"
      ],
      "text/latex": [
       "\\begin{description*}\n",
       "\\item[X.2] 0\n",
       "\\item[발생년월일2] 0\n",
       "\\item[X.1] 0\n",
       "\\item[발생년월일] 0\n",
       "\\item[발생시] 0\n",
       "\\item[X] 0\n",
       "\\item[Y] 0\n",
       "\\item[발생] 0\n",
       "\\item[사망] 0\n",
       "\\item[중상] 0\n",
       "\\item[경상] 0\n",
       "\\item[부상신고] 0\n",
       "\\item[사고유형] 0\n",
       "\\item[사고유형.1] 0\n",
       "\\item[사고유형.2] 0\n",
       "\\item[인적유발요인] 0\n",
       "\\item[인적유발요일] 0\n",
       "\\item[차량적유발요인] 0\n",
       "\\item[법규위반] 0\n",
       "\\item[법규위반.1] 0\n",
       "\\item[법규위반.2] 0\n",
       "\\item[법규위반.8종.] 0\n",
       "\\item[행동유형] 0\n",
       "\\item[행동유형.1] 0\n",
       "\\item[당사자종별] 0\n",
       "\\item[당사자종별.1] 0\n",
       "\\item[차량용도별] 0\n",
       "\\item[차량용도별.1] 0\n",
       "\\item[차량용도별.2] 0\n",
       "\\item[도로형태] 0\n",
       "\\item[도로형태.1] 0\n",
       "\\item[기상상태] 0\n",
       "\\item[사상자성별] 0\n",
       "\\item[사상자연령] 0\n",
       "\\item[개요] 0\n",
       "\\item[year] 0\n",
       "\\item[mon] 0\n",
       "\\item[day] 0\n",
       "\\item[발생년월일2\\textbackslash{}\\_2] 0\n",
       "\\item[weekdays] 0\n",
       "\\item[주중토일] 0\n",
       "\\item[발생시\\textbackslash{}\\_num] 0\n",
       "\\item[발생시\\textbackslash{}\\_interval] 0\n",
       "\\item[강수량.mm.] 9175\n",
       "\\item[평균기온] 0\n",
       "\\item[최저기온] 8\n",
       "\\item[최고기온] 8\n",
       "\\end{description*}\n"
      ],
      "text/markdown": [
       "X.2\n",
       ":   0발생년월일2\n",
       ":   0X.1\n",
       ":   0발생년월일\n",
       ":   0발생시\n",
       ":   0X\n",
       ":   0Y\n",
       ":   0발생\n",
       ":   0사망\n",
       ":   0중상\n",
       ":   0경상\n",
       ":   0부상신고\n",
       ":   0사고유형\n",
       ":   0사고유형.1\n",
       ":   0사고유형.2\n",
       ":   0인적유발요인\n",
       ":   0인적유발요일\n",
       ":   0차량적유발요인\n",
       ":   0법규위반\n",
       ":   0법규위반.1\n",
       ":   0법규위반.2\n",
       ":   0법규위반.8종.\n",
       ":   0행동유형\n",
       ":   0행동유형.1\n",
       ":   0당사자종별\n",
       ":   0당사자종별.1\n",
       ":   0차량용도별\n",
       ":   0차량용도별.1\n",
       ":   0차량용도별.2\n",
       ":   0도로형태\n",
       ":   0도로형태.1\n",
       ":   0기상상태\n",
       ":   0사상자성별\n",
       ":   0사상자연령\n",
       ":   0개요\n",
       ":   0year\n",
       ":   0mon\n",
       ":   0day\n",
       ":   0발생년월일2_2\n",
       ":   0weekdays\n",
       ":   0주중토일\n",
       ":   0발생시_num\n",
       ":   0발생시_interval\n",
       ":   0강수량.mm.\n",
       ":   9175평균기온\n",
       ":   0최저기온\n",
       ":   8최고기온\n",
       ":   8\n",
       "\n"
      ],
      "text/plain": [
       "            X.2     발생년월일2             X.1      발생년월일          발생시 \n",
       "              0               0               0               0               0 \n",
       "              X               Y            발생            사망            중상 \n",
       "              0               0               0               0               0 \n",
       "           경상        부상신고        사고유형      사고유형.1      사고유형.2 \n",
       "              0               0               0               0               0 \n",
       "   인적유발요인    인적유발요일  차량적유발요인        법규위반      법규위반.1 \n",
       "              0               0               0               0               0 \n",
       "     법규위반.2   법규위반.8종.        행동유형      행동유형.1      당사자종별 \n",
       "              0               0               0               0               0 \n",
       "   당사자종별.1      차량용도별    차량용도별.1    차량용도별.2        도로형태 \n",
       "              0               0               0               0               0 \n",
       "     도로형태.1        기상상태      사상자성별      사상자연령            개요 \n",
       "              0               0               0               0               0 \n",
       "           year             mon             day   발생년월일2_2        weekdays \n",
       "              0               0               0               0               0 \n",
       "       주중토일      발생시_num 발생시_interval      강수량.mm.        평균기온 \n",
       "              0               0               0            9175               0 \n",
       "       최저기온        최고기온 \n",
       "              8               8 "
      ]
     },
     "metadata": {},
     "output_type": "display_data"
    }
   ],
   "source": [
    "# 평균기온의 결측값 사라짐\n",
    "apply(apply(icheon_regression,2,is.na),2,sum)"
   ]
  },
  {
   "cell_type": "markdown",
   "metadata": {},
   "source": [
    "### 9.결측이 존재하는 행 모두 출력"
   ]
  },
  {
   "cell_type": "markdown",
   "metadata": {},
   "source": [
    "#### 데이터 읽기"
   ]
  },
  {
   "cell_type": "code",
   "execution_count": 27,
   "metadata": {
    "collapsed": true
   },
   "outputs": [],
   "source": [
    "diris <- iris"
   ]
  },
  {
   "cell_type": "markdown",
   "metadata": {},
   "source": [
    "##### 데이터 결측값 생성하기"
   ]
  },
  {
   "cell_type": "code",
   "execution_count": 28,
   "metadata": {
    "collapsed": true
   },
   "outputs": [],
   "source": [
    "diris[c(10, 20,25, 30, 32, 40, 50),3] <- NA\n",
    "diris[c(33, 66, 100, 123, 133),1] <- NA"
   ]
  },
  {
   "cell_type": "markdown",
   "metadata": {},
   "source": [
    "##### 결측이 존재하는 행 찾기"
   ]
  },
  {
   "cell_type": "code",
   "execution_count": 29,
   "metadata": {},
   "outputs": [
    {
     "data": {
      "text/html": [
       "<table>\n",
       "<thead><tr><th></th><th scope=col>Sepal.Length</th><th scope=col>Sepal.Width</th><th scope=col>Petal.Length</th><th scope=col>Petal.Width</th><th scope=col>Species</th></tr></thead>\n",
       "<tbody>\n",
       "\t<tr><th scope=row>10</th><td>4.9       </td><td>3.1       </td><td> NA       </td><td>0.1       </td><td>setosa    </td></tr>\n",
       "\t<tr><th scope=row>20</th><td>5.1       </td><td>3.8       </td><td> NA       </td><td>0.3       </td><td>setosa    </td></tr>\n",
       "\t<tr><th scope=row>25</th><td>4.8       </td><td>3.4       </td><td> NA       </td><td>0.2       </td><td>setosa    </td></tr>\n",
       "\t<tr><th scope=row>30</th><td>4.7       </td><td>3.2       </td><td> NA       </td><td>0.2       </td><td>setosa    </td></tr>\n",
       "\t<tr><th scope=row>32</th><td>5.4       </td><td>3.4       </td><td> NA       </td><td>0.4       </td><td>setosa    </td></tr>\n",
       "\t<tr><th scope=row>33</th><td> NA       </td><td>4.1       </td><td>1.5       </td><td>0.1       </td><td>setosa    </td></tr>\n",
       "\t<tr><th scope=row>40</th><td>5.1       </td><td>3.4       </td><td> NA       </td><td>0.2       </td><td>setosa    </td></tr>\n",
       "\t<tr><th scope=row>50</th><td>5.0       </td><td>3.3       </td><td> NA       </td><td>0.2       </td><td>setosa    </td></tr>\n",
       "\t<tr><th scope=row>66</th><td> NA       </td><td>3.1       </td><td>4.4       </td><td>1.4       </td><td>versicolor</td></tr>\n",
       "\t<tr><th scope=row>100</th><td> NA       </td><td>2.8       </td><td>4.1       </td><td>1.3       </td><td>versicolor</td></tr>\n",
       "\t<tr><th scope=row>123</th><td> NA       </td><td>2.8       </td><td>6.7       </td><td>2.0       </td><td>virginica </td></tr>\n",
       "\t<tr><th scope=row>133</th><td> NA       </td><td>2.8       </td><td>5.6       </td><td>2.2       </td><td>virginica </td></tr>\n",
       "</tbody>\n",
       "</table>\n"
      ],
      "text/latex": [
       "\\begin{tabular}{r|lllll}\n",
       "  & Sepal.Length & Sepal.Width & Petal.Length & Petal.Width & Species\\\\\n",
       "\\hline\n",
       "\t10 & 4.9        & 3.1        &  NA        & 0.1        & setosa    \\\\\n",
       "\t20 & 5.1        & 3.8        &  NA        & 0.3        & setosa    \\\\\n",
       "\t25 & 4.8        & 3.4        &  NA        & 0.2        & setosa    \\\\\n",
       "\t30 & 4.7        & 3.2        &  NA        & 0.2        & setosa    \\\\\n",
       "\t32 & 5.4        & 3.4        &  NA        & 0.4        & setosa    \\\\\n",
       "\t33 &  NA        & 4.1        & 1.5        & 0.1        & setosa    \\\\\n",
       "\t40 & 5.1        & 3.4        &  NA        & 0.2        & setosa    \\\\\n",
       "\t50 & 5.0        & 3.3        &  NA        & 0.2        & setosa    \\\\\n",
       "\t66 &  NA        & 3.1        & 4.4        & 1.4        & versicolor\\\\\n",
       "\t100 &  NA        & 2.8        & 4.1        & 1.3        & versicolor\\\\\n",
       "\t123 &  NA        & 2.8        & 6.7        & 2.0        & virginica \\\\\n",
       "\t133 &  NA        & 2.8        & 5.6        & 2.2        & virginica \\\\\n",
       "\\end{tabular}\n"
      ],
      "text/markdown": [
       "\n",
       "| <!--/--> | Sepal.Length | Sepal.Width | Petal.Length | Petal.Width | Species | \n",
       "|---|---|---|---|---|---|---|---|---|---|---|---|\n",
       "| 10 | 4.9        | 3.1        |  NA        | 0.1        | setosa     | \n",
       "| 20 | 5.1        | 3.8        |  NA        | 0.3        | setosa     | \n",
       "| 25 | 4.8        | 3.4        |  NA        | 0.2        | setosa     | \n",
       "| 30 | 4.7        | 3.2        |  NA        | 0.2        | setosa     | \n",
       "| 32 | 5.4        | 3.4        |  NA        | 0.4        | setosa     | \n",
       "| 33 |  NA        | 4.1        | 1.5        | 0.1        | setosa     | \n",
       "| 40 | 5.1        | 3.4        |  NA        | 0.2        | setosa     | \n",
       "| 50 | 5.0        | 3.3        |  NA        | 0.2        | setosa     | \n",
       "| 66 |  NA        | 3.1        | 4.4        | 1.4        | versicolor | \n",
       "| 100 |  NA        | 2.8        | 4.1        | 1.3        | versicolor | \n",
       "| 123 |  NA        | 2.8        | 6.7        | 2.0        | virginica  | \n",
       "| 133 |  NA        | 2.8        | 5.6        | 2.2        | virginica  | \n",
       "\n",
       "\n"
      ],
      "text/plain": [
       "    Sepal.Length Sepal.Width Petal.Length Petal.Width Species   \n",
       "10  4.9          3.1          NA          0.1         setosa    \n",
       "20  5.1          3.8          NA          0.3         setosa    \n",
       "25  4.8          3.4          NA          0.2         setosa    \n",
       "30  4.7          3.2          NA          0.2         setosa    \n",
       "32  5.4          3.4          NA          0.4         setosa    \n",
       "33   NA          4.1         1.5          0.1         setosa    \n",
       "40  5.1          3.4          NA          0.2         setosa    \n",
       "50  5.0          3.3          NA          0.2         setosa    \n",
       "66   NA          3.1         4.4          1.4         versicolor\n",
       "100  NA          2.8         4.1          1.3         versicolor\n",
       "123  NA          2.8         6.7          2.0         virginica \n",
       "133  NA          2.8         5.6          2.2         virginica "
      ]
     },
     "metadata": {},
     "output_type": "display_data"
    }
   ],
   "source": [
    "diris[!complete.cases(diris),]"
   ]
  },
  {
   "cell_type": "markdown",
   "metadata": {},
   "source": [
    "### 10. 데이터를 리모델링 하면서 결측의 위치 확인"
   ]
  },
  {
   "cell_type": "code",
   "execution_count": 34,
   "metadata": {
    "collapsed": true
   },
   "outputs": [],
   "source": [
    "library(reshape2)"
   ]
  },
  {
   "cell_type": "markdown",
   "metadata": {},
   "source": [
    "##### 데이터읽기"
   ]
  },
  {
   "cell_type": "code",
   "execution_count": 65,
   "metadata": {
    "collapsed": true,
    "scrolled": true
   },
   "outputs": [],
   "source": [
    "ChickWeight_TM <- ChickWeight\n",
    "\n",
    "# tolower - 열이름의 대문자를 소문자로 바꾸기\n",
    "names(ChickWeight_TM) <- tolower(names(ChickWeight_TM))"
   ]
  },
  {
   "cell_type": "markdown",
   "metadata": {},
   "source": [
    "##### 특정값 찾기 (chick열이 18인 값)"
   ]
  },
  {
   "cell_type": "code",
   "execution_count": 63,
   "metadata": {
    "scrolled": true
   },
   "outputs": [
    {
     "data": {
      "text/html": [
       "<table>\n",
       "<thead><tr><th></th><th scope=col>weight</th><th scope=col>time</th><th scope=col>chick</th><th scope=col>diet</th></tr></thead>\n",
       "<tbody>\n",
       "\t<tr><th scope=row>195</th><td>39</td><td>0 </td><td>18</td><td>1 </td></tr>\n",
       "\t<tr><th scope=row>196</th><td>35</td><td>2 </td><td>18</td><td>1 </td></tr>\n",
       "</tbody>\n",
       "</table>\n"
      ],
      "text/latex": [
       "\\begin{tabular}{r|llll}\n",
       "  & weight & time & chick & diet\\\\\n",
       "\\hline\n",
       "\t195 & 39 & 0  & 18 & 1 \\\\\n",
       "\t196 & 35 & 2  & 18 & 1 \\\\\n",
       "\\end{tabular}\n"
      ],
      "text/markdown": [
       "\n",
       "| <!--/--> | weight | time | chick | diet | \n",
       "|---|---|\n",
       "| 195 | 39 | 0  | 18 | 1  | \n",
       "| 196 | 35 | 2  | 18 | 1  | \n",
       "\n",
       "\n"
      ],
      "text/plain": [
       "    weight time chick diet\n",
       "195 39     0    18    1   \n",
       "196 35     2    18    1   "
      ]
     },
     "metadata": {},
     "output_type": "display_data"
    }
   ],
   "source": [
    "ChickWeight_TM[ChickWeight_TM$chick==18,]"
   ]
  },
  {
   "cell_type": "code",
   "execution_count": 64,
   "metadata": {},
   "outputs": [
    {
     "name": "stderr",
     "output_type": "stream",
     "text": [
      "Using diet as value column: use value.var to override.\n"
     ]
    },
    {
     "data": {
      "text/html": [
       "<ol class=list-inline>\n",
       "\t<li>1</li>\n",
       "\t<li>1</li>\n",
       "\t<li>1</li>\n",
       "\t<li>1</li>\n",
       "\t<li>1</li>\n",
       "\t<li>1</li>\n",
       "\t<li>1</li>\n",
       "\t<li>1</li>\n",
       "\t<li>1</li>\n",
       "\t<li>1</li>\n",
       "\t<li>1</li>\n",
       "\t<li>1</li>\n",
       "\t<li>1</li>\n",
       "\t<li>1</li>\n",
       "\t<li>1</li>\n",
       "\t<li>1</li>\n",
       "\t<li>1</li>\n",
       "\t<li>1</li>\n",
       "\t<li>1</li>\n",
       "\t<li>1</li>\n",
       "\t<li>2</li>\n",
       "\t<li>2</li>\n",
       "\t<li>2</li>\n",
       "\t<li>2</li>\n",
       "\t<li>2</li>\n",
       "\t<li>2</li>\n",
       "\t<li>2</li>\n",
       "\t<li>2</li>\n",
       "\t<li>2</li>\n",
       "\t<li>2</li>\n",
       "\t<li>3</li>\n",
       "\t<li>3</li>\n",
       "\t<li>3</li>\n",
       "\t<li>3</li>\n",
       "\t<li>3</li>\n",
       "\t<li>3</li>\n",
       "\t<li>3</li>\n",
       "\t<li>3</li>\n",
       "\t<li>3</li>\n",
       "\t<li>3</li>\n",
       "\t<li>4</li>\n",
       "\t<li>4</li>\n",
       "\t<li>4</li>\n",
       "\t<li>4</li>\n",
       "\t<li>4</li>\n",
       "\t<li>4</li>\n",
       "\t<li>4</li>\n",
       "\t<li>4</li>\n",
       "\t<li>4</li>\n",
       "\t<li>4</li>\n",
       "\t<li>1</li>\n",
       "\t<li>1</li>\n",
       "\t<li>1</li>\n",
       "\t<li>1</li>\n",
       "\t<li>1</li>\n",
       "\t<li>1</li>\n",
       "\t<li>1</li>\n",
       "\t<li>1</li>\n",
       "\t<li>1</li>\n",
       "\t<li>1</li>\n",
       "\t<li>1</li>\n",
       "\t<li>1</li>\n",
       "\t<li>1</li>\n",
       "\t<li>1</li>\n",
       "\t<li>1</li>\n",
       "\t<li>1</li>\n",
       "\t<li>1</li>\n",
       "\t<li>1</li>\n",
       "\t<li>1</li>\n",
       "\t<li>1</li>\n",
       "\t<li>2</li>\n",
       "\t<li>2</li>\n",
       "\t<li>2</li>\n",
       "\t<li>2</li>\n",
       "\t<li>2</li>\n",
       "\t<li>2</li>\n",
       "\t<li>2</li>\n",
       "\t<li>2</li>\n",
       "\t<li>2</li>\n",
       "\t<li>2</li>\n",
       "\t<li>3</li>\n",
       "\t<li>3</li>\n",
       "\t<li>3</li>\n",
       "\t<li>3</li>\n",
       "\t<li>3</li>\n",
       "\t<li>3</li>\n",
       "\t<li>3</li>\n",
       "\t<li>3</li>\n",
       "\t<li>3</li>\n",
       "\t<li>3</li>\n",
       "\t<li>4</li>\n",
       "\t<li>4</li>\n",
       "\t<li>4</li>\n",
       "\t<li>4</li>\n",
       "\t<li>4</li>\n",
       "\t<li>4</li>\n",
       "\t<li>4</li>\n",
       "\t<li>4</li>\n",
       "\t<li>4</li>\n",
       "\t<li>4</li>\n",
       "\t<li>NA</li>\n",
       "\t<li>1</li>\n",
       "\t<li>1</li>\n",
       "\t<li>1</li>\n",
       "\t<li>1</li>\n",
       "\t<li>1</li>\n",
       "\t<li>1</li>\n",
       "\t<li>1</li>\n",
       "\t<li>1</li>\n",
       "\t<li>1</li>\n",
       "\t<li>1</li>\n",
       "\t<li>1</li>\n",
       "\t<li>1</li>\n",
       "\t<li>1</li>\n",
       "\t<li>1</li>\n",
       "\t<li>1</li>\n",
       "\t<li>1</li>\n",
       "\t<li>1</li>\n",
       "\t<li>1</li>\n",
       "\t<li>1</li>\n",
       "\t<li>2</li>\n",
       "\t<li>2</li>\n",
       "\t<li>2</li>\n",
       "\t<li>2</li>\n",
       "\t<li>2</li>\n",
       "\t<li>2</li>\n",
       "\t<li>2</li>\n",
       "\t<li>2</li>\n",
       "\t<li>2</li>\n",
       "\t<li>2</li>\n",
       "\t<li>3</li>\n",
       "\t<li>3</li>\n",
       "\t<li>3</li>\n",
       "\t<li>3</li>\n",
       "\t<li>3</li>\n",
       "\t<li>3</li>\n",
       "\t<li>3</li>\n",
       "\t<li>3</li>\n",
       "\t<li>3</li>\n",
       "\t<li>3</li>\n",
       "\t<li>4</li>\n",
       "\t<li>4</li>\n",
       "\t<li>4</li>\n",
       "\t<li>4</li>\n",
       "\t<li>4</li>\n",
       "\t<li>4</li>\n",
       "\t<li>4</li>\n",
       "\t<li>4</li>\n",
       "\t<li>4</li>\n",
       "\t<li>4</li>\n",
       "\t<li>NA</li>\n",
       "\t<li>1</li>\n",
       "\t<li>1</li>\n",
       "\t<li>1</li>\n",
       "\t<li>1</li>\n",
       "\t<li>1</li>\n",
       "\t<li>1</li>\n",
       "\t<li>1</li>\n",
       "\t<li>1</li>\n",
       "\t<li>1</li>\n",
       "\t<li>1</li>\n",
       "\t<li>1</li>\n",
       "\t<li>1</li>\n",
       "\t<li>1</li>\n",
       "\t<li>1</li>\n",
       "\t<li>1</li>\n",
       "\t<li>1</li>\n",
       "\t<li>1</li>\n",
       "\t<li>1</li>\n",
       "\t<li>1</li>\n",
       "\t<li>2</li>\n",
       "\t<li>2</li>\n",
       "\t<li>2</li>\n",
       "\t<li>2</li>\n",
       "\t<li>2</li>\n",
       "\t<li>2</li>\n",
       "\t<li>2</li>\n",
       "\t<li>2</li>\n",
       "\t<li>2</li>\n",
       "\t<li>2</li>\n",
       "\t<li>3</li>\n",
       "\t<li>3</li>\n",
       "\t<li>3</li>\n",
       "\t<li>3</li>\n",
       "\t<li>3</li>\n",
       "\t<li>3</li>\n",
       "\t<li>3</li>\n",
       "\t<li>3</li>\n",
       "\t<li>3</li>\n",
       "\t<li>3</li>\n",
       "\t<li>4</li>\n",
       "\t<li>4</li>\n",
       "\t<li>4</li>\n",
       "\t<li>4</li>\n",
       "\t<li>4</li>\n",
       "\t<li>4</li>\n",
       "\t<li>4</li>\n",
       "\t<li>4</li>\n",
       "\t<li>4</li>\n",
       "\t<li>4</li>\n",
       "\t<li>NA</li>\n",
       "\t<li>1</li>\n",
       "\t<li>1</li>\n",
       "\t<li>1</li>\n",
       "\t<li>1</li>\n",
       "\t<li>1</li>\n",
       "\t<li>1</li>\n",
       "\t<li>1</li>\n",
       "\t<li>1</li>\n",
       "\t<li>1</li>\n",
       "\t<li>1</li>\n",
       "\t<li>1</li>\n",
       "\t<li>1</li>\n",
       "\t<li>1</li>\n",
       "\t<li>1</li>\n",
       "\t<li>1</li>\n",
       "\t<li>1</li>\n",
       "\t<li>1</li>\n",
       "\t<li>1</li>\n",
       "\t<li>1</li>\n",
       "\t<li>2</li>\n",
       "\t<li>2</li>\n",
       "\t<li>2</li>\n",
       "\t<li>2</li>\n",
       "\t<li>2</li>\n",
       "\t<li>2</li>\n",
       "\t<li>2</li>\n",
       "\t<li>2</li>\n",
       "\t<li>2</li>\n",
       "\t<li>2</li>\n",
       "\t<li>3</li>\n",
       "\t<li>3</li>\n",
       "\t<li>3</li>\n",
       "\t<li>3</li>\n",
       "\t<li>3</li>\n",
       "\t<li>3</li>\n",
       "\t<li>3</li>\n",
       "\t<li>3</li>\n",
       "\t<li>3</li>\n",
       "\t<li>3</li>\n",
       "\t<li>4</li>\n",
       "\t<li>4</li>\n",
       "\t<li>4</li>\n",
       "\t<li>4</li>\n",
       "\t<li>4</li>\n",
       "\t<li>4</li>\n",
       "\t<li>4</li>\n",
       "\t<li>4</li>\n",
       "\t<li>4</li>\n",
       "\t<li>4</li>\n",
       "\t<li>NA</li>\n",
       "\t<li>1</li>\n",
       "\t<li>1</li>\n",
       "\t<li>1</li>\n",
       "\t<li>1</li>\n",
       "\t<li>1</li>\n",
       "\t<li>1</li>\n",
       "\t<li>1</li>\n",
       "\t<li>1</li>\n",
       "\t<li>1</li>\n",
       "\t<li>1</li>\n",
       "\t<li>1</li>\n",
       "\t<li>1</li>\n",
       "\t<li>1</li>\n",
       "\t<li>1</li>\n",
       "\t<li>1</li>\n",
       "\t<li>1</li>\n",
       "\t<li>1</li>\n",
       "\t<li>1</li>\n",
       "\t<li>1</li>\n",
       "\t<li>2</li>\n",
       "\t<li>2</li>\n",
       "\t<li>2</li>\n",
       "\t<li>2</li>\n",
       "\t<li>2</li>\n",
       "\t<li>2</li>\n",
       "\t<li>2</li>\n",
       "\t<li>2</li>\n",
       "\t<li>2</li>\n",
       "\t<li>2</li>\n",
       "\t<li>3</li>\n",
       "\t<li>3</li>\n",
       "\t<li>3</li>\n",
       "\t<li>3</li>\n",
       "\t<li>3</li>\n",
       "\t<li>3</li>\n",
       "\t<li>3</li>\n",
       "\t<li>3</li>\n",
       "\t<li>3</li>\n",
       "\t<li>3</li>\n",
       "\t<li>4</li>\n",
       "\t<li>4</li>\n",
       "\t<li>4</li>\n",
       "\t<li>4</li>\n",
       "\t<li>4</li>\n",
       "\t<li>4</li>\n",
       "\t<li>4</li>\n",
       "\t<li>4</li>\n",
       "\t<li>4</li>\n",
       "\t<li>4</li>\n",
       "\t<li>NA</li>\n",
       "\t<li>1</li>\n",
       "\t<li>1</li>\n",
       "\t<li>1</li>\n",
       "\t<li>1</li>\n",
       "\t<li>1</li>\n",
       "\t<li>1</li>\n",
       "\t<li>1</li>\n",
       "\t<li>1</li>\n",
       "\t<li>1</li>\n",
       "\t<li>1</li>\n",
       "\t<li>1</li>\n",
       "\t<li>1</li>\n",
       "\t<li>1</li>\n",
       "\t<li>1</li>\n",
       "\t<li>1</li>\n",
       "\t<li>1</li>\n",
       "\t<li>1</li>\n",
       "\t<li>1</li>\n",
       "\t<li>1</li>\n",
       "\t<li>2</li>\n",
       "\t<li>2</li>\n",
       "\t<li>2</li>\n",
       "\t<li>2</li>\n",
       "\t<li>2</li>\n",
       "\t<li>2</li>\n",
       "\t<li>2</li>\n",
       "\t<li>2</li>\n",
       "\t<li>2</li>\n",
       "\t<li>2</li>\n",
       "\t<li>3</li>\n",
       "\t<li>3</li>\n",
       "\t<li>3</li>\n",
       "\t<li>3</li>\n",
       "\t<li>3</li>\n",
       "\t<li>3</li>\n",
       "\t<li>3</li>\n",
       "\t<li>3</li>\n",
       "\t<li>3</li>\n",
       "\t<li>3</li>\n",
       "\t<li>4</li>\n",
       "\t<li>4</li>\n",
       "\t<li>4</li>\n",
       "\t<li>4</li>\n",
       "\t<li>4</li>\n",
       "\t<li>4</li>\n",
       "\t<li>4</li>\n",
       "\t<li>4</li>\n",
       "\t<li>4</li>\n",
       "\t<li>4</li>\n",
       "\t<li>NA</li>\n",
       "\t<li>NA</li>\n",
       "\t<li>1</li>\n",
       "\t<li>1</li>\n",
       "\t<li>1</li>\n",
       "\t<li>1</li>\n",
       "\t<li>1</li>\n",
       "\t<li>1</li>\n",
       "\t<li>1</li>\n",
       "\t<li>1</li>\n",
       "\t<li>1</li>\n",
       "\t<li>1</li>\n",
       "\t<li>1</li>\n",
       "\t<li>1</li>\n",
       "\t<li>1</li>\n",
       "\t<li>1</li>\n",
       "\t<li>1</li>\n",
       "\t<li>1</li>\n",
       "\t<li>1</li>\n",
       "\t<li>1</li>\n",
       "\t<li>2</li>\n",
       "\t<li>2</li>\n",
       "\t<li>2</li>\n",
       "\t<li>2</li>\n",
       "\t<li>2</li>\n",
       "\t<li>2</li>\n",
       "\t<li>2</li>\n",
       "\t<li>2</li>\n",
       "\t<li>2</li>\n",
       "\t<li>2</li>\n",
       "\t<li>3</li>\n",
       "\t<li>3</li>\n",
       "\t<li>3</li>\n",
       "\t<li>3</li>\n",
       "\t<li>3</li>\n",
       "\t<li>3</li>\n",
       "\t<li>3</li>\n",
       "\t<li>3</li>\n",
       "\t<li>3</li>\n",
       "\t<li>3</li>\n",
       "\t<li>4</li>\n",
       "\t<li>4</li>\n",
       "\t<li>4</li>\n",
       "\t<li>4</li>\n",
       "\t<li>4</li>\n",
       "\t<li>4</li>\n",
       "\t<li>4</li>\n",
       "\t<li>4</li>\n",
       "\t<li>4</li>\n",
       "\t<li>4</li>\n",
       "\t<li>NA</li>\n",
       "\t<li>NA</li>\n",
       "\t<li>NA</li>\n",
       "\t<li>1</li>\n",
       "\t<li>1</li>\n",
       "\t<li>1</li>\n",
       "\t<li>1</li>\n",
       "\t<li>1</li>\n",
       "\t<li>1</li>\n",
       "\t<li>1</li>\n",
       "\t<li>1</li>\n",
       "\t<li>1</li>\n",
       "\t<li>1</li>\n",
       "\t<li>1</li>\n",
       "\t<li>1</li>\n",
       "\t<li>1</li>\n",
       "\t<li>1</li>\n",
       "\t<li>1</li>\n",
       "\t<li>1</li>\n",
       "\t<li>1</li>\n",
       "\t<li>2</li>\n",
       "\t<li>2</li>\n",
       "\t<li>2</li>\n",
       "\t<li>2</li>\n",
       "\t<li>2</li>\n",
       "\t<li>2</li>\n",
       "\t<li>2</li>\n",
       "\t<li>2</li>\n",
       "\t<li>2</li>\n",
       "\t<li>2</li>\n",
       "\t<li>3</li>\n",
       "\t<li>3</li>\n",
       "\t<li>3</li>\n",
       "\t<li>3</li>\n",
       "\t<li>3</li>\n",
       "\t<li>3</li>\n",
       "\t<li>3</li>\n",
       "\t<li>3</li>\n",
       "\t<li>3</li>\n",
       "\t<li>3</li>\n",
       "\t<li>4</li>\n",
       "\t<li>4</li>\n",
       "\t<li>4</li>\n",
       "\t<li>4</li>\n",
       "\t<li>4</li>\n",
       "\t<li>4</li>\n",
       "\t<li>4</li>\n",
       "\t<li>4</li>\n",
       "\t<li>4</li>\n",
       "\t<li>4</li>\n",
       "\t<li>NA</li>\n",
       "\t<li>NA</li>\n",
       "\t<li>NA</li>\n",
       "\t<li>1</li>\n",
       "\t<li>1</li>\n",
       "\t<li>1</li>\n",
       "\t<li>1</li>\n",
       "\t<li>1</li>\n",
       "\t<li>1</li>\n",
       "\t<li>1</li>\n",
       "\t<li>1</li>\n",
       "\t<li>1</li>\n",
       "\t<li>1</li>\n",
       "\t<li>1</li>\n",
       "\t<li>1</li>\n",
       "\t<li>1</li>\n",
       "\t<li>1</li>\n",
       "\t<li>1</li>\n",
       "\t<li>1</li>\n",
       "\t<li>1</li>\n",
       "\t<li>2</li>\n",
       "\t<li>2</li>\n",
       "\t<li>2</li>\n",
       "\t<li>2</li>\n",
       "\t<li>2</li>\n",
       "\t<li>2</li>\n",
       "\t<li>2</li>\n",
       "\t<li>2</li>\n",
       "\t<li>2</li>\n",
       "\t<li>2</li>\n",
       "\t<li>3</li>\n",
       "\t<li>3</li>\n",
       "\t<li>3</li>\n",
       "\t<li>3</li>\n",
       "\t<li>3</li>\n",
       "\t<li>3</li>\n",
       "\t<li>3</li>\n",
       "\t<li>3</li>\n",
       "\t<li>3</li>\n",
       "\t<li>3</li>\n",
       "\t<li>4</li>\n",
       "\t<li>4</li>\n",
       "\t<li>4</li>\n",
       "\t<li>4</li>\n",
       "\t<li>4</li>\n",
       "\t<li>4</li>\n",
       "\t<li>4</li>\n",
       "\t<li>4</li>\n",
       "\t<li>4</li>\n",
       "\t<li>4</li>\n",
       "\t<li>NA</li>\n",
       "\t<li>NA</li>\n",
       "\t<li>NA</li>\n",
       "\t<li>1</li>\n",
       "\t<li>1</li>\n",
       "\t<li>1</li>\n",
       "\t<li>1</li>\n",
       "\t<li>1</li>\n",
       "\t<li>1</li>\n",
       "\t<li>1</li>\n",
       "\t<li>1</li>\n",
       "\t<li>1</li>\n",
       "\t<li>1</li>\n",
       "\t<li>1</li>\n",
       "\t<li>1</li>\n",
       "\t<li>1</li>\n",
       "\t<li>1</li>\n",
       "\t<li>1</li>\n",
       "\t<li>1</li>\n",
       "\t<li>1</li>\n",
       "\t<li>2</li>\n",
       "\t<li>2</li>\n",
       "\t<li>2</li>\n",
       "\t<li>2</li>\n",
       "\t<li>2</li>\n",
       "\t<li>2</li>\n",
       "\t<li>2</li>\n",
       "\t<li>2</li>\n",
       "\t<li>2</li>\n",
       "\t<li>2</li>\n",
       "\t<li>3</li>\n",
       "\t<li>3</li>\n",
       "\t<li>3</li>\n",
       "\t<li>3</li>\n",
       "\t<li>3</li>\n",
       "\t<li>3</li>\n",
       "\t<li>3</li>\n",
       "\t<li>3</li>\n",
       "\t<li>3</li>\n",
       "\t<li>3</li>\n",
       "\t<li>NA</li>\n",
       "\t<li>4</li>\n",
       "\t<li>4</li>\n",
       "\t<li>4</li>\n",
       "\t<li>4</li>\n",
       "\t<li>4</li>\n",
       "\t<li>4</li>\n",
       "\t<li>4</li>\n",
       "\t<li>4</li>\n",
       "\t<li>4</li>\n",
       "\t<li>NA</li>\n",
       "\t<li>NA</li>\n",
       "\t<li>NA</li>\n",
       "\t<li>1</li>\n",
       "\t<li>1</li>\n",
       "\t<li>1</li>\n",
       "\t<li>1</li>\n",
       "\t<li>NA</li>\n",
       "\t<li>1</li>\n",
       "\t<li>1</li>\n",
       "\t<li>1</li>\n",
       "\t<li>1</li>\n",
       "\t<li>1</li>\n",
       "\t<li>1</li>\n",
       "\t<li>1</li>\n",
       "\t<li>1</li>\n",
       "\t<li>1</li>\n",
       "\t<li>1</li>\n",
       "\t<li>1</li>\n",
       "\t<li>1</li>\n",
       "\t<li>2</li>\n",
       "\t<li>2</li>\n",
       "\t<li>2</li>\n",
       "\t<li>2</li>\n",
       "\t<li>2</li>\n",
       "\t<li>2</li>\n",
       "\t<li>2</li>\n",
       "\t<li>2</li>\n",
       "\t<li>2</li>\n",
       "\t<li>2</li>\n",
       "\t<li>3</li>\n",
       "\t<li>3</li>\n",
       "\t<li>3</li>\n",
       "\t<li>3</li>\n",
       "\t<li>3</li>\n",
       "\t<li>3</li>\n",
       "\t<li>3</li>\n",
       "\t<li>3</li>\n",
       "\t<li>3</li>\n",
       "\t<li>3</li>\n",
       "\t<li>NA</li>\n",
       "\t<li>4</li>\n",
       "\t<li>4</li>\n",
       "\t<li>4</li>\n",
       "\t<li>4</li>\n",
       "\t<li>4</li>\n",
       "\t<li>4</li>\n",
       "\t<li>4</li>\n",
       "\t<li>4</li>\n",
       "\t<li>4</li>\n",
       "</ol>\n"
      ],
      "text/latex": [
       "\\begin{enumerate*}\n",
       "\\item 1\n",
       "\\item 1\n",
       "\\item 1\n",
       "\\item 1\n",
       "\\item 1\n",
       "\\item 1\n",
       "\\item 1\n",
       "\\item 1\n",
       "\\item 1\n",
       "\\item 1\n",
       "\\item 1\n",
       "\\item 1\n",
       "\\item 1\n",
       "\\item 1\n",
       "\\item 1\n",
       "\\item 1\n",
       "\\item 1\n",
       "\\item 1\n",
       "\\item 1\n",
       "\\item 1\n",
       "\\item 2\n",
       "\\item 2\n",
       "\\item 2\n",
       "\\item 2\n",
       "\\item 2\n",
       "\\item 2\n",
       "\\item 2\n",
       "\\item 2\n",
       "\\item 2\n",
       "\\item 2\n",
       "\\item 3\n",
       "\\item 3\n",
       "\\item 3\n",
       "\\item 3\n",
       "\\item 3\n",
       "\\item 3\n",
       "\\item 3\n",
       "\\item 3\n",
       "\\item 3\n",
       "\\item 3\n",
       "\\item 4\n",
       "\\item 4\n",
       "\\item 4\n",
       "\\item 4\n",
       "\\item 4\n",
       "\\item 4\n",
       "\\item 4\n",
       "\\item 4\n",
       "\\item 4\n",
       "\\item 4\n",
       "\\item 1\n",
       "\\item 1\n",
       "\\item 1\n",
       "\\item 1\n",
       "\\item 1\n",
       "\\item 1\n",
       "\\item 1\n",
       "\\item 1\n",
       "\\item 1\n",
       "\\item 1\n",
       "\\item 1\n",
       "\\item 1\n",
       "\\item 1\n",
       "\\item 1\n",
       "\\item 1\n",
       "\\item 1\n",
       "\\item 1\n",
       "\\item 1\n",
       "\\item 1\n",
       "\\item 1\n",
       "\\item 2\n",
       "\\item 2\n",
       "\\item 2\n",
       "\\item 2\n",
       "\\item 2\n",
       "\\item 2\n",
       "\\item 2\n",
       "\\item 2\n",
       "\\item 2\n",
       "\\item 2\n",
       "\\item 3\n",
       "\\item 3\n",
       "\\item 3\n",
       "\\item 3\n",
       "\\item 3\n",
       "\\item 3\n",
       "\\item 3\n",
       "\\item 3\n",
       "\\item 3\n",
       "\\item 3\n",
       "\\item 4\n",
       "\\item 4\n",
       "\\item 4\n",
       "\\item 4\n",
       "\\item 4\n",
       "\\item 4\n",
       "\\item 4\n",
       "\\item 4\n",
       "\\item 4\n",
       "\\item 4\n",
       "\\item NA\n",
       "\\item 1\n",
       "\\item 1\n",
       "\\item 1\n",
       "\\item 1\n",
       "\\item 1\n",
       "\\item 1\n",
       "\\item 1\n",
       "\\item 1\n",
       "\\item 1\n",
       "\\item 1\n",
       "\\item 1\n",
       "\\item 1\n",
       "\\item 1\n",
       "\\item 1\n",
       "\\item 1\n",
       "\\item 1\n",
       "\\item 1\n",
       "\\item 1\n",
       "\\item 1\n",
       "\\item 2\n",
       "\\item 2\n",
       "\\item 2\n",
       "\\item 2\n",
       "\\item 2\n",
       "\\item 2\n",
       "\\item 2\n",
       "\\item 2\n",
       "\\item 2\n",
       "\\item 2\n",
       "\\item 3\n",
       "\\item 3\n",
       "\\item 3\n",
       "\\item 3\n",
       "\\item 3\n",
       "\\item 3\n",
       "\\item 3\n",
       "\\item 3\n",
       "\\item 3\n",
       "\\item 3\n",
       "\\item 4\n",
       "\\item 4\n",
       "\\item 4\n",
       "\\item 4\n",
       "\\item 4\n",
       "\\item 4\n",
       "\\item 4\n",
       "\\item 4\n",
       "\\item 4\n",
       "\\item 4\n",
       "\\item NA\n",
       "\\item 1\n",
       "\\item 1\n",
       "\\item 1\n",
       "\\item 1\n",
       "\\item 1\n",
       "\\item 1\n",
       "\\item 1\n",
       "\\item 1\n",
       "\\item 1\n",
       "\\item 1\n",
       "\\item 1\n",
       "\\item 1\n",
       "\\item 1\n",
       "\\item 1\n",
       "\\item 1\n",
       "\\item 1\n",
       "\\item 1\n",
       "\\item 1\n",
       "\\item 1\n",
       "\\item 2\n",
       "\\item 2\n",
       "\\item 2\n",
       "\\item 2\n",
       "\\item 2\n",
       "\\item 2\n",
       "\\item 2\n",
       "\\item 2\n",
       "\\item 2\n",
       "\\item 2\n",
       "\\item 3\n",
       "\\item 3\n",
       "\\item 3\n",
       "\\item 3\n",
       "\\item 3\n",
       "\\item 3\n",
       "\\item 3\n",
       "\\item 3\n",
       "\\item 3\n",
       "\\item 3\n",
       "\\item 4\n",
       "\\item 4\n",
       "\\item 4\n",
       "\\item 4\n",
       "\\item 4\n",
       "\\item 4\n",
       "\\item 4\n",
       "\\item 4\n",
       "\\item 4\n",
       "\\item 4\n",
       "\\item NA\n",
       "\\item 1\n",
       "\\item 1\n",
       "\\item 1\n",
       "\\item 1\n",
       "\\item 1\n",
       "\\item 1\n",
       "\\item 1\n",
       "\\item 1\n",
       "\\item 1\n",
       "\\item 1\n",
       "\\item 1\n",
       "\\item 1\n",
       "\\item 1\n",
       "\\item 1\n",
       "\\item 1\n",
       "\\item 1\n",
       "\\item 1\n",
       "\\item 1\n",
       "\\item 1\n",
       "\\item 2\n",
       "\\item 2\n",
       "\\item 2\n",
       "\\item 2\n",
       "\\item 2\n",
       "\\item 2\n",
       "\\item 2\n",
       "\\item 2\n",
       "\\item 2\n",
       "\\item 2\n",
       "\\item 3\n",
       "\\item 3\n",
       "\\item 3\n",
       "\\item 3\n",
       "\\item 3\n",
       "\\item 3\n",
       "\\item 3\n",
       "\\item 3\n",
       "\\item 3\n",
       "\\item 3\n",
       "\\item 4\n",
       "\\item 4\n",
       "\\item 4\n",
       "\\item 4\n",
       "\\item 4\n",
       "\\item 4\n",
       "\\item 4\n",
       "\\item 4\n",
       "\\item 4\n",
       "\\item 4\n",
       "\\item NA\n",
       "\\item 1\n",
       "\\item 1\n",
       "\\item 1\n",
       "\\item 1\n",
       "\\item 1\n",
       "\\item 1\n",
       "\\item 1\n",
       "\\item 1\n",
       "\\item 1\n",
       "\\item 1\n",
       "\\item 1\n",
       "\\item 1\n",
       "\\item 1\n",
       "\\item 1\n",
       "\\item 1\n",
       "\\item 1\n",
       "\\item 1\n",
       "\\item 1\n",
       "\\item 1\n",
       "\\item 2\n",
       "\\item 2\n",
       "\\item 2\n",
       "\\item 2\n",
       "\\item 2\n",
       "\\item 2\n",
       "\\item 2\n",
       "\\item 2\n",
       "\\item 2\n",
       "\\item 2\n",
       "\\item 3\n",
       "\\item 3\n",
       "\\item 3\n",
       "\\item 3\n",
       "\\item 3\n",
       "\\item 3\n",
       "\\item 3\n",
       "\\item 3\n",
       "\\item 3\n",
       "\\item 3\n",
       "\\item 4\n",
       "\\item 4\n",
       "\\item 4\n",
       "\\item 4\n",
       "\\item 4\n",
       "\\item 4\n",
       "\\item 4\n",
       "\\item 4\n",
       "\\item 4\n",
       "\\item 4\n",
       "\\item NA\n",
       "\\item 1\n",
       "\\item 1\n",
       "\\item 1\n",
       "\\item 1\n",
       "\\item 1\n",
       "\\item 1\n",
       "\\item 1\n",
       "\\item 1\n",
       "\\item 1\n",
       "\\item 1\n",
       "\\item 1\n",
       "\\item 1\n",
       "\\item 1\n",
       "\\item 1\n",
       "\\item 1\n",
       "\\item 1\n",
       "\\item 1\n",
       "\\item 1\n",
       "\\item 1\n",
       "\\item 2\n",
       "\\item 2\n",
       "\\item 2\n",
       "\\item 2\n",
       "\\item 2\n",
       "\\item 2\n",
       "\\item 2\n",
       "\\item 2\n",
       "\\item 2\n",
       "\\item 2\n",
       "\\item 3\n",
       "\\item 3\n",
       "\\item 3\n",
       "\\item 3\n",
       "\\item 3\n",
       "\\item 3\n",
       "\\item 3\n",
       "\\item 3\n",
       "\\item 3\n",
       "\\item 3\n",
       "\\item 4\n",
       "\\item 4\n",
       "\\item 4\n",
       "\\item 4\n",
       "\\item 4\n",
       "\\item 4\n",
       "\\item 4\n",
       "\\item 4\n",
       "\\item 4\n",
       "\\item 4\n",
       "\\item NA\n",
       "\\item NA\n",
       "\\item 1\n",
       "\\item 1\n",
       "\\item 1\n",
       "\\item 1\n",
       "\\item 1\n",
       "\\item 1\n",
       "\\item 1\n",
       "\\item 1\n",
       "\\item 1\n",
       "\\item 1\n",
       "\\item 1\n",
       "\\item 1\n",
       "\\item 1\n",
       "\\item 1\n",
       "\\item 1\n",
       "\\item 1\n",
       "\\item 1\n",
       "\\item 1\n",
       "\\item 2\n",
       "\\item 2\n",
       "\\item 2\n",
       "\\item 2\n",
       "\\item 2\n",
       "\\item 2\n",
       "\\item 2\n",
       "\\item 2\n",
       "\\item 2\n",
       "\\item 2\n",
       "\\item 3\n",
       "\\item 3\n",
       "\\item 3\n",
       "\\item 3\n",
       "\\item 3\n",
       "\\item 3\n",
       "\\item 3\n",
       "\\item 3\n",
       "\\item 3\n",
       "\\item 3\n",
       "\\item 4\n",
       "\\item 4\n",
       "\\item 4\n",
       "\\item 4\n",
       "\\item 4\n",
       "\\item 4\n",
       "\\item 4\n",
       "\\item 4\n",
       "\\item 4\n",
       "\\item 4\n",
       "\\item NA\n",
       "\\item NA\n",
       "\\item NA\n",
       "\\item 1\n",
       "\\item 1\n",
       "\\item 1\n",
       "\\item 1\n",
       "\\item 1\n",
       "\\item 1\n",
       "\\item 1\n",
       "\\item 1\n",
       "\\item 1\n",
       "\\item 1\n",
       "\\item 1\n",
       "\\item 1\n",
       "\\item 1\n",
       "\\item 1\n",
       "\\item 1\n",
       "\\item 1\n",
       "\\item 1\n",
       "\\item 2\n",
       "\\item 2\n",
       "\\item 2\n",
       "\\item 2\n",
       "\\item 2\n",
       "\\item 2\n",
       "\\item 2\n",
       "\\item 2\n",
       "\\item 2\n",
       "\\item 2\n",
       "\\item 3\n",
       "\\item 3\n",
       "\\item 3\n",
       "\\item 3\n",
       "\\item 3\n",
       "\\item 3\n",
       "\\item 3\n",
       "\\item 3\n",
       "\\item 3\n",
       "\\item 3\n",
       "\\item 4\n",
       "\\item 4\n",
       "\\item 4\n",
       "\\item 4\n",
       "\\item 4\n",
       "\\item 4\n",
       "\\item 4\n",
       "\\item 4\n",
       "\\item 4\n",
       "\\item 4\n",
       "\\item NA\n",
       "\\item NA\n",
       "\\item NA\n",
       "\\item 1\n",
       "\\item 1\n",
       "\\item 1\n",
       "\\item 1\n",
       "\\item 1\n",
       "\\item 1\n",
       "\\item 1\n",
       "\\item 1\n",
       "\\item 1\n",
       "\\item 1\n",
       "\\item 1\n",
       "\\item 1\n",
       "\\item 1\n",
       "\\item 1\n",
       "\\item 1\n",
       "\\item 1\n",
       "\\item 1\n",
       "\\item 2\n",
       "\\item 2\n",
       "\\item 2\n",
       "\\item 2\n",
       "\\item 2\n",
       "\\item 2\n",
       "\\item 2\n",
       "\\item 2\n",
       "\\item 2\n",
       "\\item 2\n",
       "\\item 3\n",
       "\\item 3\n",
       "\\item 3\n",
       "\\item 3\n",
       "\\item 3\n",
       "\\item 3\n",
       "\\item 3\n",
       "\\item 3\n",
       "\\item 3\n",
       "\\item 3\n",
       "\\item 4\n",
       "\\item 4\n",
       "\\item 4\n",
       "\\item 4\n",
       "\\item 4\n",
       "\\item 4\n",
       "\\item 4\n",
       "\\item 4\n",
       "\\item 4\n",
       "\\item 4\n",
       "\\item NA\n",
       "\\item NA\n",
       "\\item NA\n",
       "\\item 1\n",
       "\\item 1\n",
       "\\item 1\n",
       "\\item 1\n",
       "\\item 1\n",
       "\\item 1\n",
       "\\item 1\n",
       "\\item 1\n",
       "\\item 1\n",
       "\\item 1\n",
       "\\item 1\n",
       "\\item 1\n",
       "\\item 1\n",
       "\\item 1\n",
       "\\item 1\n",
       "\\item 1\n",
       "\\item 1\n",
       "\\item 2\n",
       "\\item 2\n",
       "\\item 2\n",
       "\\item 2\n",
       "\\item 2\n",
       "\\item 2\n",
       "\\item 2\n",
       "\\item 2\n",
       "\\item 2\n",
       "\\item 2\n",
       "\\item 3\n",
       "\\item 3\n",
       "\\item 3\n",
       "\\item 3\n",
       "\\item 3\n",
       "\\item 3\n",
       "\\item 3\n",
       "\\item 3\n",
       "\\item 3\n",
       "\\item 3\n",
       "\\item NA\n",
       "\\item 4\n",
       "\\item 4\n",
       "\\item 4\n",
       "\\item 4\n",
       "\\item 4\n",
       "\\item 4\n",
       "\\item 4\n",
       "\\item 4\n",
       "\\item 4\n",
       "\\item NA\n",
       "\\item NA\n",
       "\\item NA\n",
       "\\item 1\n",
       "\\item 1\n",
       "\\item 1\n",
       "\\item 1\n",
       "\\item NA\n",
       "\\item 1\n",
       "\\item 1\n",
       "\\item 1\n",
       "\\item 1\n",
       "\\item 1\n",
       "\\item 1\n",
       "\\item 1\n",
       "\\item 1\n",
       "\\item 1\n",
       "\\item 1\n",
       "\\item 1\n",
       "\\item 1\n",
       "\\item 2\n",
       "\\item 2\n",
       "\\item 2\n",
       "\\item 2\n",
       "\\item 2\n",
       "\\item 2\n",
       "\\item 2\n",
       "\\item 2\n",
       "\\item 2\n",
       "\\item 2\n",
       "\\item 3\n",
       "\\item 3\n",
       "\\item 3\n",
       "\\item 3\n",
       "\\item 3\n",
       "\\item 3\n",
       "\\item 3\n",
       "\\item 3\n",
       "\\item 3\n",
       "\\item 3\n",
       "\\item NA\n",
       "\\item 4\n",
       "\\item 4\n",
       "\\item 4\n",
       "\\item 4\n",
       "\\item 4\n",
       "\\item 4\n",
       "\\item 4\n",
       "\\item 4\n",
       "\\item 4\n",
       "\\end{enumerate*}\n"
      ],
      "text/markdown": [
       "1. 1\n",
       "2. 1\n",
       "3. 1\n",
       "4. 1\n",
       "5. 1\n",
       "6. 1\n",
       "7. 1\n",
       "8. 1\n",
       "9. 1\n",
       "10. 1\n",
       "11. 1\n",
       "12. 1\n",
       "13. 1\n",
       "14. 1\n",
       "15. 1\n",
       "16. 1\n",
       "17. 1\n",
       "18. 1\n",
       "19. 1\n",
       "20. 1\n",
       "21. 2\n",
       "22. 2\n",
       "23. 2\n",
       "24. 2\n",
       "25. 2\n",
       "26. 2\n",
       "27. 2\n",
       "28. 2\n",
       "29. 2\n",
       "30. 2\n",
       "31. 3\n",
       "32. 3\n",
       "33. 3\n",
       "34. 3\n",
       "35. 3\n",
       "36. 3\n",
       "37. 3\n",
       "38. 3\n",
       "39. 3\n",
       "40. 3\n",
       "41. 4\n",
       "42. 4\n",
       "43. 4\n",
       "44. 4\n",
       "45. 4\n",
       "46. 4\n",
       "47. 4\n",
       "48. 4\n",
       "49. 4\n",
       "50. 4\n",
       "51. 1\n",
       "52. 1\n",
       "53. 1\n",
       "54. 1\n",
       "55. 1\n",
       "56. 1\n",
       "57. 1\n",
       "58. 1\n",
       "59. 1\n",
       "60. 1\n",
       "61. 1\n",
       "62. 1\n",
       "63. 1\n",
       "64. 1\n",
       "65. 1\n",
       "66. 1\n",
       "67. 1\n",
       "68. 1\n",
       "69. 1\n",
       "70. 1\n",
       "71. 2\n",
       "72. 2\n",
       "73. 2\n",
       "74. 2\n",
       "75. 2\n",
       "76. 2\n",
       "77. 2\n",
       "78. 2\n",
       "79. 2\n",
       "80. 2\n",
       "81. 3\n",
       "82. 3\n",
       "83. 3\n",
       "84. 3\n",
       "85. 3\n",
       "86. 3\n",
       "87. 3\n",
       "88. 3\n",
       "89. 3\n",
       "90. 3\n",
       "91. 4\n",
       "92. 4\n",
       "93. 4\n",
       "94. 4\n",
       "95. 4\n",
       "96. 4\n",
       "97. 4\n",
       "98. 4\n",
       "99. 4\n",
       "100. 4\n",
       "101. NA\n",
       "102. 1\n",
       "103. 1\n",
       "104. 1\n",
       "105. 1\n",
       "106. 1\n",
       "107. 1\n",
       "108. 1\n",
       "109. 1\n",
       "110. 1\n",
       "111. 1\n",
       "112. 1\n",
       "113. 1\n",
       "114. 1\n",
       "115. 1\n",
       "116. 1\n",
       "117. 1\n",
       "118. 1\n",
       "119. 1\n",
       "120. 1\n",
       "121. 2\n",
       "122. 2\n",
       "123. 2\n",
       "124. 2\n",
       "125. 2\n",
       "126. 2\n",
       "127. 2\n",
       "128. 2\n",
       "129. 2\n",
       "130. 2\n",
       "131. 3\n",
       "132. 3\n",
       "133. 3\n",
       "134. 3\n",
       "135. 3\n",
       "136. 3\n",
       "137. 3\n",
       "138. 3\n",
       "139. 3\n",
       "140. 3\n",
       "141. 4\n",
       "142. 4\n",
       "143. 4\n",
       "144. 4\n",
       "145. 4\n",
       "146. 4\n",
       "147. 4\n",
       "148. 4\n",
       "149. 4\n",
       "150. 4\n",
       "151. NA\n",
       "152. 1\n",
       "153. 1\n",
       "154. 1\n",
       "155. 1\n",
       "156. 1\n",
       "157. 1\n",
       "158. 1\n",
       "159. 1\n",
       "160. 1\n",
       "161. 1\n",
       "162. 1\n",
       "163. 1\n",
       "164. 1\n",
       "165. 1\n",
       "166. 1\n",
       "167. 1\n",
       "168. 1\n",
       "169. 1\n",
       "170. 1\n",
       "171. 2\n",
       "172. 2\n",
       "173. 2\n",
       "174. 2\n",
       "175. 2\n",
       "176. 2\n",
       "177. 2\n",
       "178. 2\n",
       "179. 2\n",
       "180. 2\n",
       "181. 3\n",
       "182. 3\n",
       "183. 3\n",
       "184. 3\n",
       "185. 3\n",
       "186. 3\n",
       "187. 3\n",
       "188. 3\n",
       "189. 3\n",
       "190. 3\n",
       "191. 4\n",
       "192. 4\n",
       "193. 4\n",
       "194. 4\n",
       "195. 4\n",
       "196. 4\n",
       "197. 4\n",
       "198. 4\n",
       "199. 4\n",
       "200. 4\n",
       "201. NA\n",
       "202. 1\n",
       "203. 1\n",
       "204. 1\n",
       "205. 1\n",
       "206. 1\n",
       "207. 1\n",
       "208. 1\n",
       "209. 1\n",
       "210. 1\n",
       "211. 1\n",
       "212. 1\n",
       "213. 1\n",
       "214. 1\n",
       "215. 1\n",
       "216. 1\n",
       "217. 1\n",
       "218. 1\n",
       "219. 1\n",
       "220. 1\n",
       "221. 2\n",
       "222. 2\n",
       "223. 2\n",
       "224. 2\n",
       "225. 2\n",
       "226. 2\n",
       "227. 2\n",
       "228. 2\n",
       "229. 2\n",
       "230. 2\n",
       "231. 3\n",
       "232. 3\n",
       "233. 3\n",
       "234. 3\n",
       "235. 3\n",
       "236. 3\n",
       "237. 3\n",
       "238. 3\n",
       "239. 3\n",
       "240. 3\n",
       "241. 4\n",
       "242. 4\n",
       "243. 4\n",
       "244. 4\n",
       "245. 4\n",
       "246. 4\n",
       "247. 4\n",
       "248. 4\n",
       "249. 4\n",
       "250. 4\n",
       "251. NA\n",
       "252. 1\n",
       "253. 1\n",
       "254. 1\n",
       "255. 1\n",
       "256. 1\n",
       "257. 1\n",
       "258. 1\n",
       "259. 1\n",
       "260. 1\n",
       "261. 1\n",
       "262. 1\n",
       "263. 1\n",
       "264. 1\n",
       "265. 1\n",
       "266. 1\n",
       "267. 1\n",
       "268. 1\n",
       "269. 1\n",
       "270. 1\n",
       "271. 2\n",
       "272. 2\n",
       "273. 2\n",
       "274. 2\n",
       "275. 2\n",
       "276. 2\n",
       "277. 2\n",
       "278. 2\n",
       "279. 2\n",
       "280. 2\n",
       "281. 3\n",
       "282. 3\n",
       "283. 3\n",
       "284. 3\n",
       "285. 3\n",
       "286. 3\n",
       "287. 3\n",
       "288. 3\n",
       "289. 3\n",
       "290. 3\n",
       "291. 4\n",
       "292. 4\n",
       "293. 4\n",
       "294. 4\n",
       "295. 4\n",
       "296. 4\n",
       "297. 4\n",
       "298. 4\n",
       "299. 4\n",
       "300. 4\n",
       "301. NA\n",
       "302. 1\n",
       "303. 1\n",
       "304. 1\n",
       "305. 1\n",
       "306. 1\n",
       "307. 1\n",
       "308. 1\n",
       "309. 1\n",
       "310. 1\n",
       "311. 1\n",
       "312. 1\n",
       "313. 1\n",
       "314. 1\n",
       "315. 1\n",
       "316. 1\n",
       "317. 1\n",
       "318. 1\n",
       "319. 1\n",
       "320. 1\n",
       "321. 2\n",
       "322. 2\n",
       "323. 2\n",
       "324. 2\n",
       "325. 2\n",
       "326. 2\n",
       "327. 2\n",
       "328. 2\n",
       "329. 2\n",
       "330. 2\n",
       "331. 3\n",
       "332. 3\n",
       "333. 3\n",
       "334. 3\n",
       "335. 3\n",
       "336. 3\n",
       "337. 3\n",
       "338. 3\n",
       "339. 3\n",
       "340. 3\n",
       "341. 4\n",
       "342. 4\n",
       "343. 4\n",
       "344. 4\n",
       "345. 4\n",
       "346. 4\n",
       "347. 4\n",
       "348. 4\n",
       "349. 4\n",
       "350. 4\n",
       "351. NA\n",
       "352. NA\n",
       "353. 1\n",
       "354. 1\n",
       "355. 1\n",
       "356. 1\n",
       "357. 1\n",
       "358. 1\n",
       "359. 1\n",
       "360. 1\n",
       "361. 1\n",
       "362. 1\n",
       "363. 1\n",
       "364. 1\n",
       "365. 1\n",
       "366. 1\n",
       "367. 1\n",
       "368. 1\n",
       "369. 1\n",
       "370. 1\n",
       "371. 2\n",
       "372. 2\n",
       "373. 2\n",
       "374. 2\n",
       "375. 2\n",
       "376. 2\n",
       "377. 2\n",
       "378. 2\n",
       "379. 2\n",
       "380. 2\n",
       "381. 3\n",
       "382. 3\n",
       "383. 3\n",
       "384. 3\n",
       "385. 3\n",
       "386. 3\n",
       "387. 3\n",
       "388. 3\n",
       "389. 3\n",
       "390. 3\n",
       "391. 4\n",
       "392. 4\n",
       "393. 4\n",
       "394. 4\n",
       "395. 4\n",
       "396. 4\n",
       "397. 4\n",
       "398. 4\n",
       "399. 4\n",
       "400. 4\n",
       "401. NA\n",
       "402. NA\n",
       "403. NA\n",
       "404. 1\n",
       "405. 1\n",
       "406. 1\n",
       "407. 1\n",
       "408. 1\n",
       "409. 1\n",
       "410. 1\n",
       "411. 1\n",
       "412. 1\n",
       "413. 1\n",
       "414. 1\n",
       "415. 1\n",
       "416. 1\n",
       "417. 1\n",
       "418. 1\n",
       "419. 1\n",
       "420. 1\n",
       "421. 2\n",
       "422. 2\n",
       "423. 2\n",
       "424. 2\n",
       "425. 2\n",
       "426. 2\n",
       "427. 2\n",
       "428. 2\n",
       "429. 2\n",
       "430. 2\n",
       "431. 3\n",
       "432. 3\n",
       "433. 3\n",
       "434. 3\n",
       "435. 3\n",
       "436. 3\n",
       "437. 3\n",
       "438. 3\n",
       "439. 3\n",
       "440. 3\n",
       "441. 4\n",
       "442. 4\n",
       "443. 4\n",
       "444. 4\n",
       "445. 4\n",
       "446. 4\n",
       "447. 4\n",
       "448. 4\n",
       "449. 4\n",
       "450. 4\n",
       "451. NA\n",
       "452. NA\n",
       "453. NA\n",
       "454. 1\n",
       "455. 1\n",
       "456. 1\n",
       "457. 1\n",
       "458. 1\n",
       "459. 1\n",
       "460. 1\n",
       "461. 1\n",
       "462. 1\n",
       "463. 1\n",
       "464. 1\n",
       "465. 1\n",
       "466. 1\n",
       "467. 1\n",
       "468. 1\n",
       "469. 1\n",
       "470. 1\n",
       "471. 2\n",
       "472. 2\n",
       "473. 2\n",
       "474. 2\n",
       "475. 2\n",
       "476. 2\n",
       "477. 2\n",
       "478. 2\n",
       "479. 2\n",
       "480. 2\n",
       "481. 3\n",
       "482. 3\n",
       "483. 3\n",
       "484. 3\n",
       "485. 3\n",
       "486. 3\n",
       "487. 3\n",
       "488. 3\n",
       "489. 3\n",
       "490. 3\n",
       "491. 4\n",
       "492. 4\n",
       "493. 4\n",
       "494. 4\n",
       "495. 4\n",
       "496. 4\n",
       "497. 4\n",
       "498. 4\n",
       "499. 4\n",
       "500. 4\n",
       "501. NA\n",
       "502. NA\n",
       "503. NA\n",
       "504. 1\n",
       "505. 1\n",
       "506. 1\n",
       "507. 1\n",
       "508. 1\n",
       "509. 1\n",
       "510. 1\n",
       "511. 1\n",
       "512. 1\n",
       "513. 1\n",
       "514. 1\n",
       "515. 1\n",
       "516. 1\n",
       "517. 1\n",
       "518. 1\n",
       "519. 1\n",
       "520. 1\n",
       "521. 2\n",
       "522. 2\n",
       "523. 2\n",
       "524. 2\n",
       "525. 2\n",
       "526. 2\n",
       "527. 2\n",
       "528. 2\n",
       "529. 2\n",
       "530. 2\n",
       "531. 3\n",
       "532. 3\n",
       "533. 3\n",
       "534. 3\n",
       "535. 3\n",
       "536. 3\n",
       "537. 3\n",
       "538. 3\n",
       "539. 3\n",
       "540. 3\n",
       "541. NA\n",
       "542. 4\n",
       "543. 4\n",
       "544. 4\n",
       "545. 4\n",
       "546. 4\n",
       "547. 4\n",
       "548. 4\n",
       "549. 4\n",
       "550. 4\n",
       "551. NA\n",
       "552. NA\n",
       "553. NA\n",
       "554. 1\n",
       "555. 1\n",
       "556. 1\n",
       "557. 1\n",
       "558. NA\n",
       "559. 1\n",
       "560. 1\n",
       "561. 1\n",
       "562. 1\n",
       "563. 1\n",
       "564. 1\n",
       "565. 1\n",
       "566. 1\n",
       "567. 1\n",
       "568. 1\n",
       "569. 1\n",
       "570. 1\n",
       "571. 2\n",
       "572. 2\n",
       "573. 2\n",
       "574. 2\n",
       "575. 2\n",
       "576. 2\n",
       "577. 2\n",
       "578. 2\n",
       "579. 2\n",
       "580. 2\n",
       "581. 3\n",
       "582. 3\n",
       "583. 3\n",
       "584. 3\n",
       "585. 3\n",
       "586. 3\n",
       "587. 3\n",
       "588. 3\n",
       "589. 3\n",
       "590. 3\n",
       "591. NA\n",
       "592. 4\n",
       "593. 4\n",
       "594. 4\n",
       "595. 4\n",
       "596. 4\n",
       "597. 4\n",
       "598. 4\n",
       "599. 4\n",
       "600. 4\n",
       "\n",
       "\n"
      ],
      "text/plain": [
       "   0 2 4    6    8    10   12   14   16   18   20   21  \n",
       "18 1 1 <NA> <NA> <NA> <NA> <NA> <NA> <NA> <NA> <NA> <NA>\n",
       "16 1 1 1    1    1    1    1    <NA> <NA> <NA> <NA> <NA>\n",
       "15 1 1 1    1    1    1    1    1    <NA> <NA> <NA> <NA>\n",
       "13 1 1 1    1    1    1    1    1    1    1    1    1   \n",
       "9  1 1 1    1    1    1    1    1    1    1    1    1   \n",
       "20 1 1 1    1    1    1    1    1    1    1    1    1   \n",
       "10 1 1 1    1    1    1    1    1    1    1    1    1   \n",
       "8  1 1 1    1    1    1    1    1    1    1    1    <NA>\n",
       "17 1 1 1    1    1    1    1    1    1    1    1    1   \n",
       "19 1 1 1    1    1    1    1    1    1    1    1    1   \n",
       "4  1 1 1    1    1    1    1    1    1    1    1    1   \n",
       "6  1 1 1    1    1    1    1    1    1    1    1    1   \n",
       "11 1 1 1    1    1    1    1    1    1    1    1    1   \n",
       "3  1 1 1    1    1    1    1    1    1    1    1    1   \n",
       "1  1 1 1    1    1    1    1    1    1    1    1    1   \n",
       "12 1 1 1    1    1    1    1    1    1    1    1    1   \n",
       "2  1 1 1    1    1    1    1    1    1    1    1    1   \n",
       "5  1 1 1    1    1    1    1    1    1    1    1    1   \n",
       "14 1 1 1    1    1    1    1    1    1    1    1    1   \n",
       "7  1 1 1    1    1    1    1    1    1    1    1    1   \n",
       "24 2 2 2    2    2    2    2    2    2    2    2    2   \n",
       "30 2 2 2    2    2    2    2    2    2    2    2    2   \n",
       "22 2 2 2    2    2    2    2    2    2    2    2    2   \n",
       "23 2 2 2    2    2    2    2    2    2    2    2    2   \n",
       "27 2 2 2    2    2    2    2    2    2    2    2    2   \n",
       "28 2 2 2    2    2    2    2    2    2    2    2    2   \n",
       "26 2 2 2    2    2    2    2    2    2    2    2    2   \n",
       "25 2 2 2    2    2    2    2    2    2    2    2    2   \n",
       "29 2 2 2    2    2    2    2    2    2    2    2    2   \n",
       "21 2 2 2    2    2    2    2    2    2    2    2    2   \n",
       "33 3 3 3    3    3    3    3    3    3    3    3    3   \n",
       "37 3 3 3    3    3    3    3    3    3    3    3    3   \n",
       "36 3 3 3    3    3    3    3    3    3    3    3    3   \n",
       "31 3 3 3    3    3    3    3    3    3    3    3    3   \n",
       "39 3 3 3    3    3    3    3    3    3    3    3    3   \n",
       "38 3 3 3    3    3    3    3    3    3    3    3    3   \n",
       "32 3 3 3    3    3    3    3    3    3    3    3    3   \n",
       "40 3 3 3    3    3    3    3    3    3    3    3    3   \n",
       "34 3 3 3    3    3    3    3    3    3    3    3    3   \n",
       "35 3 3 3    3    3    3    3    3    3    3    3    3   \n",
       "44 4 4 4    4    4    4    4    4    4    4    <NA> <NA>\n",
       "45 4 4 4    4    4    4    4    4    4    4    4    4   \n",
       "43 4 4 4    4    4    4    4    4    4    4    4    4   \n",
       "41 4 4 4    4    4    4    4    4    4    4    4    4   \n",
       "47 4 4 4    4    4    4    4    4    4    4    4    4   \n",
       "49 4 4 4    4    4    4    4    4    4    4    4    4   \n",
       "46 4 4 4    4    4    4    4    4    4    4    4    4   \n",
       "50 4 4 4    4    4    4    4    4    4    4    4    4   \n",
       "42 4 4 4    4    4    4    4    4    4    4    4    4   \n",
       "48 4 4 4    4    4    4    4    4    4    4    4    4   \n",
       "Levels: 1 2 3 4"
      ]
     },
     "metadata": {},
     "output_type": "display_data"
    }
   ],
   "source": [
    "acast(ChickWeight_TM, chick ~ time)"
   ]
  },
  {
   "cell_type": "markdown",
   "metadata": {},
   "source": [
    "### 11. 결측치가 있는 행 삭제"
   ]
  },
  {
   "cell_type": "markdown",
   "metadata": {},
   "source": [
    "결측치가 있는 행의 제거는 na.omit()을 사용한다."
   ]
  },
  {
   "cell_type": "markdown",
   "metadata": {},
   "source": [
    "##### na.omit()"
   ]
  },
  {
   "cell_type": "code",
   "execution_count": 68,
   "metadata": {},
   "outputs": [
    {
     "data": {
      "text/html": [
       "<table>\n",
       "<thead><tr><th scope=col>x</th><th scope=col>y</th></tr></thead>\n",
       "<tbody>\n",
       "\t<tr><td>1 </td><td> 0</td></tr>\n",
       "\t<tr><td>2 </td><td>10</td></tr>\n",
       "\t<tr><td>3 </td><td>NA</td></tr>\n",
       "</tbody>\n",
       "</table>\n"
      ],
      "text/latex": [
       "\\begin{tabular}{r|ll}\n",
       " x & y\\\\\n",
       "\\hline\n",
       "\t 1  &  0\\\\\n",
       "\t 2  & 10\\\\\n",
       "\t 3  & NA\\\\\n",
       "\\end{tabular}\n"
      ],
      "text/markdown": [
       "\n",
       "x | y | \n",
       "|---|---|---|\n",
       "| 1  |  0 | \n",
       "| 2  | 10 | \n",
       "| 3  | NA | \n",
       "\n",
       "\n"
      ],
      "text/plain": [
       "  x y \n",
       "1 1  0\n",
       "2 2 10\n",
       "3 3 NA"
      ]
     },
     "metadata": {},
     "output_type": "display_data"
    }
   ],
   "source": [
    "dSample <- data.frame(x=c(1,2,3), y=c(0,10,NA))\n",
    "dSample"
   ]
  },
  {
   "cell_type": "code",
   "execution_count": 69,
   "metadata": {},
   "outputs": [
    {
     "data": {
      "text/html": [
       "<table>\n",
       "<thead><tr><th scope=col>x</th><th scope=col>y</th></tr></thead>\n",
       "<tbody>\n",
       "\t<tr><td>1 </td><td> 0</td></tr>\n",
       "\t<tr><td>2 </td><td>10</td></tr>\n",
       "</tbody>\n",
       "</table>\n"
      ],
      "text/latex": [
       "\\begin{tabular}{r|ll}\n",
       " x & y\\\\\n",
       "\\hline\n",
       "\t 1  &  0\\\\\n",
       "\t 2  & 10\\\\\n",
       "\\end{tabular}\n"
      ],
      "text/markdown": [
       "\n",
       "x | y | \n",
       "|---|---|\n",
       "| 1  |  0 | \n",
       "| 2  | 10 | \n",
       "\n",
       "\n"
      ],
      "text/plain": [
       "  x y \n",
       "1 1  0\n",
       "2 2 10"
      ]
     },
     "metadata": {},
     "output_type": "display_data"
    }
   ],
   "source": [
    "na.omit(dSample)"
   ]
  },
  {
   "cell_type": "markdown",
   "metadata": {},
   "source": [
    "### 12. 결측치와 이상값이 있는 행 삭제"
   ]
  },
  {
   "cell_type": "markdown",
   "metadata": {},
   "source": [
    "결측값 NA, 이상값 -8, -9 레코드를 모두 삭제"
   ]
  },
  {
   "cell_type": "code",
   "execution_count": 71,
   "metadata": {},
   "outputs": [
    {
     "data": {
      "text/html": [
       "<table>\n",
       "<thead><tr><th scope=col>vX1</th><th scope=col>vX2</th></tr></thead>\n",
       "<tbody>\n",
       "\t<tr><td> 1</td><td> 1</td></tr>\n",
       "\t<tr><td> 2</td><td> 2</td></tr>\n",
       "\t<tr><td> 3</td><td> 3</td></tr>\n",
       "\t<tr><td>NA</td><td> 4</td></tr>\n",
       "\t<tr><td> 5</td><td>NA</td></tr>\n",
       "\t<tr><td>-9</td><td>NA</td></tr>\n",
       "\t<tr><td>-8</td><td>-9</td></tr>\n",
       "\t<tr><td> 1</td><td> 1</td></tr>\n",
       "\t<tr><td> 2</td><td> 2</td></tr>\n",
       "\t<tr><td> 3</td><td>-8</td></tr>\n",
       "</tbody>\n",
       "</table>\n"
      ],
      "text/latex": [
       "\\begin{tabular}{r|ll}\n",
       " vX1 & vX2\\\\\n",
       "\\hline\n",
       "\t  1 &  1\\\\\n",
       "\t  2 &  2\\\\\n",
       "\t  3 &  3\\\\\n",
       "\t NA &  4\\\\\n",
       "\t  5 & NA\\\\\n",
       "\t -9 & NA\\\\\n",
       "\t -8 & -9\\\\\n",
       "\t  1 &  1\\\\\n",
       "\t  2 &  2\\\\\n",
       "\t  3 & -8\\\\\n",
       "\\end{tabular}\n"
      ],
      "text/markdown": [
       "\n",
       "vX1 | vX2 | \n",
       "|---|---|---|---|---|---|---|---|---|---|\n",
       "|  1 |  1 | \n",
       "|  2 |  2 | \n",
       "|  3 |  3 | \n",
       "| NA |  4 | \n",
       "|  5 | NA | \n",
       "| -9 | NA | \n",
       "| -8 | -9 | \n",
       "|  1 |  1 | \n",
       "|  2 |  2 | \n",
       "|  3 | -8 | \n",
       "\n",
       "\n"
      ],
      "text/plain": [
       "   vX1 vX2\n",
       "1   1   1 \n",
       "2   2   2 \n",
       "3   3   3 \n",
       "4  NA   4 \n",
       "5   5  NA \n",
       "6  -9  NA \n",
       "7  -8  -9 \n",
       "8   1   1 \n",
       "9   2   2 \n",
       "10  3  -8 "
      ]
     },
     "metadata": {},
     "output_type": "display_data"
    }
   ],
   "source": [
    "vX1 <- c(1,2,3,NA,5,-9,-8,1,2,3)\n",
    "vX2 <- c(1,2,3,4,NA,NA,-9,1,2,-8)\n",
    "dX <- data.frame(vX1, vX2)\n",
    "dX"
   ]
  },
  {
   "cell_type": "code",
   "execution_count": 74,
   "metadata": {
    "scrolled": true
   },
   "outputs": [
    {
     "data": {
      "text/html": [
       "<table>\n",
       "<thead><tr><th></th><th scope=col>vX1</th><th scope=col>vX2</th></tr></thead>\n",
       "<tbody>\n",
       "\t<tr><th scope=row>1</th><td> 1</td><td> 1</td></tr>\n",
       "\t<tr><th scope=row>2</th><td> 2</td><td> 2</td></tr>\n",
       "\t<tr><th scope=row>3</th><td> 3</td><td> 3</td></tr>\n",
       "\t<tr><th scope=row>NA</th><td>NA</td><td>NA</td></tr>\n",
       "\t<tr><th scope=row>5</th><td> 5</td><td>NA</td></tr>\n",
       "\t<tr><th scope=row>8</th><td> 1</td><td> 1</td></tr>\n",
       "\t<tr><th scope=row>9</th><td> 2</td><td> 2</td></tr>\n",
       "\t<tr><th scope=row>10</th><td> 3</td><td>-8</td></tr>\n",
       "</tbody>\n",
       "</table>\n"
      ],
      "text/latex": [
       "\\begin{tabular}{r|ll}\n",
       "  & vX1 & vX2\\\\\n",
       "\\hline\n",
       "\t1 &  1 &  1\\\\\n",
       "\t2 &  2 &  2\\\\\n",
       "\t3 &  3 &  3\\\\\n",
       "\tNA & NA & NA\\\\\n",
       "\t5 &  5 & NA\\\\\n",
       "\t8 &  1 &  1\\\\\n",
       "\t9 &  2 &  2\\\\\n",
       "\t10 &  3 & -8\\\\\n",
       "\\end{tabular}\n"
      ],
      "text/markdown": [
       "\n",
       "| <!--/--> | vX1 | vX2 | \n",
       "|---|---|---|---|---|---|---|---|\n",
       "| 1 |  1 |  1 | \n",
       "| 2 |  2 |  2 | \n",
       "| 3 |  3 |  3 | \n",
       "| NA | NA | NA | \n",
       "| 5 |  5 | NA | \n",
       "| 8 |  1 |  1 | \n",
       "| 9 |  2 |  2 | \n",
       "| 10 |  3 | -8 | \n",
       "\n",
       "\n"
      ],
      "text/plain": [
       "   vX1 vX2\n",
       "1   1   1 \n",
       "2   2   2 \n",
       "3   3   3 \n",
       "NA NA  NA \n",
       "5   5  NA \n",
       "8   1   1 \n",
       "9   2   2 \n",
       "10  3  -8 "
      ]
     },
     "metadata": {},
     "output_type": "display_data"
    }
   ],
   "source": [
    "dX <- dX[!dX$vX1 <0,]\n",
    "dX"
   ]
  },
  {
   "cell_type": "code",
   "execution_count": 75,
   "metadata": {},
   "outputs": [
    {
     "data": {
      "text/html": [
       "<table>\n",
       "<thead><tr><th></th><th scope=col>vX1</th><th scope=col>vX2</th></tr></thead>\n",
       "<tbody>\n",
       "\t<tr><th scope=row>1</th><td> 1</td><td> 1</td></tr>\n",
       "\t<tr><th scope=row>2</th><td> 2</td><td> 2</td></tr>\n",
       "\t<tr><th scope=row>3</th><td> 3</td><td> 3</td></tr>\n",
       "\t<tr><th scope=row>NA</th><td>NA</td><td>NA</td></tr>\n",
       "\t<tr><th scope=row>NA.1</th><td>NA</td><td>NA</td></tr>\n",
       "\t<tr><th scope=row>8</th><td> 1</td><td> 1</td></tr>\n",
       "\t<tr><th scope=row>9</th><td> 2</td><td> 2</td></tr>\n",
       "</tbody>\n",
       "</table>\n"
      ],
      "text/latex": [
       "\\begin{tabular}{r|ll}\n",
       "  & vX1 & vX2\\\\\n",
       "\\hline\n",
       "\t1 &  1 &  1\\\\\n",
       "\t2 &  2 &  2\\\\\n",
       "\t3 &  3 &  3\\\\\n",
       "\tNA & NA & NA\\\\\n",
       "\tNA.1 & NA & NA\\\\\n",
       "\t8 &  1 &  1\\\\\n",
       "\t9 &  2 &  2\\\\\n",
       "\\end{tabular}\n"
      ],
      "text/markdown": [
       "\n",
       "| <!--/--> | vX1 | vX2 | \n",
       "|---|---|---|---|---|---|---|\n",
       "| 1 |  1 |  1 | \n",
       "| 2 |  2 |  2 | \n",
       "| 3 |  3 |  3 | \n",
       "| NA | NA | NA | \n",
       "| NA.1 | NA | NA | \n",
       "| 8 |  1 |  1 | \n",
       "| 9 |  2 |  2 | \n",
       "\n",
       "\n"
      ],
      "text/plain": [
       "     vX1 vX2\n",
       "1     1   1 \n",
       "2     2   2 \n",
       "3     3   3 \n",
       "NA   NA  NA \n",
       "NA.1 NA  NA \n",
       "8     1   1 \n",
       "9     2   2 "
      ]
     },
     "metadata": {},
     "output_type": "display_data"
    }
   ],
   "source": [
    "dX <- dX[!dX$vX2 <0,]\n",
    "dX"
   ]
  },
  {
   "cell_type": "markdown",
   "metadata": {},
   "source": [
    "### 13. 두 속성 중에 하나라도 결측 값을 가진 행 모두 삭제"
   ]
  },
  {
   "cell_type": "code",
   "execution_count": 76,
   "metadata": {},
   "outputs": [
    {
     "data": {
      "text/html": [
       "<table>\n",
       "<thead><tr><th scope=col>vX1</th><th scope=col>vX2</th></tr></thead>\n",
       "<tbody>\n",
       "\t<tr><td> 1</td><td> 1</td></tr>\n",
       "\t<tr><td> 2</td><td> 2</td></tr>\n",
       "\t<tr><td> 3</td><td> 3</td></tr>\n",
       "\t<tr><td>NA</td><td> 4</td></tr>\n",
       "\t<tr><td> 5</td><td>NA</td></tr>\n",
       "\t<tr><td>-9</td><td>NA</td></tr>\n",
       "\t<tr><td>-8</td><td>-9</td></tr>\n",
       "\t<tr><td> 1</td><td> 1</td></tr>\n",
       "\t<tr><td> 2</td><td> 2</td></tr>\n",
       "\t<tr><td> 3</td><td>-8</td></tr>\n",
       "</tbody>\n",
       "</table>\n"
      ],
      "text/latex": [
       "\\begin{tabular}{r|ll}\n",
       " vX1 & vX2\\\\\n",
       "\\hline\n",
       "\t  1 &  1\\\\\n",
       "\t  2 &  2\\\\\n",
       "\t  3 &  3\\\\\n",
       "\t NA &  4\\\\\n",
       "\t  5 & NA\\\\\n",
       "\t -9 & NA\\\\\n",
       "\t -8 & -9\\\\\n",
       "\t  1 &  1\\\\\n",
       "\t  2 &  2\\\\\n",
       "\t  3 & -8\\\\\n",
       "\\end{tabular}\n"
      ],
      "text/markdown": [
       "\n",
       "vX1 | vX2 | \n",
       "|---|---|---|---|---|---|---|---|---|---|\n",
       "|  1 |  1 | \n",
       "|  2 |  2 | \n",
       "|  3 |  3 | \n",
       "| NA |  4 | \n",
       "|  5 | NA | \n",
       "| -9 | NA | \n",
       "| -8 | -9 | \n",
       "|  1 |  1 | \n",
       "|  2 |  2 | \n",
       "|  3 | -8 | \n",
       "\n",
       "\n"
      ],
      "text/plain": [
       "   vX1 vX2\n",
       "1   1   1 \n",
       "2   2   2 \n",
       "3   3   3 \n",
       "4  NA   4 \n",
       "5   5  NA \n",
       "6  -9  NA \n",
       "7  -8  -9 \n",
       "8   1   1 \n",
       "9   2   2 \n",
       "10  3  -8 "
      ]
     },
     "metadata": {},
     "output_type": "display_data"
    }
   ],
   "source": [
    "vX1 <- c(1,2,3,NA,5,-9,-8,1,2,3)\n",
    "vX2 <- c(1,2,3,4,NA,NA,-9,1,2,-8)\n",
    "dX <- data.frame(vX1, vX2)\n",
    "dX"
   ]
  },
  {
   "cell_type": "code",
   "execution_count": 80,
   "metadata": {},
   "outputs": [
    {
     "data": {
      "text/html": [
       "<table>\n",
       "<thead><tr><th></th><th scope=col>vX1</th><th scope=col>vX2</th></tr></thead>\n",
       "<tbody>\n",
       "\t<tr><th scope=row>1</th><td> 1</td><td> 1</td></tr>\n",
       "\t<tr><th scope=row>2</th><td> 2</td><td> 2</td></tr>\n",
       "\t<tr><th scope=row>3</th><td> 3</td><td> 3</td></tr>\n",
       "\t<tr><th scope=row>7</th><td>-8</td><td>-9</td></tr>\n",
       "\t<tr><th scope=row>8</th><td> 1</td><td> 1</td></tr>\n",
       "\t<tr><th scope=row>9</th><td> 2</td><td> 2</td></tr>\n",
       "\t<tr><th scope=row>10</th><td> 3</td><td>-8</td></tr>\n",
       "</tbody>\n",
       "</table>\n"
      ],
      "text/latex": [
       "\\begin{tabular}{r|ll}\n",
       "  & vX1 & vX2\\\\\n",
       "\\hline\n",
       "\t1 &  1 &  1\\\\\n",
       "\t2 &  2 &  2\\\\\n",
       "\t3 &  3 &  3\\\\\n",
       "\t7 & -8 & -9\\\\\n",
       "\t8 &  1 &  1\\\\\n",
       "\t9 &  2 &  2\\\\\n",
       "\t10 &  3 & -8\\\\\n",
       "\\end{tabular}\n"
      ],
      "text/markdown": [
       "\n",
       "| <!--/--> | vX1 | vX2 | \n",
       "|---|---|---|---|---|---|---|\n",
       "| 1 |  1 |  1 | \n",
       "| 2 |  2 |  2 | \n",
       "| 3 |  3 |  3 | \n",
       "| 7 | -8 | -9 | \n",
       "| 8 |  1 |  1 | \n",
       "| 9 |  2 |  2 | \n",
       "| 10 |  3 | -8 | \n",
       "\n",
       "\n"
      ],
      "text/plain": [
       "   vX1 vX2\n",
       "1   1   1 \n",
       "2   2   2 \n",
       "3   3   3 \n",
       "7  -8  -9 \n",
       "8   1   1 \n",
       "9   2   2 \n",
       "10  3  -8 "
      ]
     },
     "metadata": {},
     "output_type": "display_data"
    }
   ],
   "source": [
    "nadX[!is.na(dX$vX1) & !is.na(dX$vX2),]  #결측값이 사라짐."
   ]
  },
  {
   "cell_type": "markdown",
   "metadata": {},
   "source": [
    "### 14. Vecter Object에서 결측을 중앙값으로 치환"
   ]
  },
  {
   "cell_type": "code",
   "execution_count": 81,
   "metadata": {},
   "outputs": [
    {
     "data": {
      "text/html": [
       "<table>\n",
       "<thead><tr><th scope=col>val</th></tr></thead>\n",
       "<tbody>\n",
       "\t<tr><td> 1</td></tr>\n",
       "\t<tr><td> 2</td></tr>\n",
       "\t<tr><td> 3</td></tr>\n",
       "\t<tr><td> 4</td></tr>\n",
       "\t<tr><td>NA</td></tr>\n",
       "\t<tr><td> 5</td></tr>\n",
       "\t<tr><td>NA</td></tr>\n",
       "</tbody>\n",
       "</table>\n"
      ],
      "text/latex": [
       "\\begin{tabular}{r|l}\n",
       " val\\\\\n",
       "\\hline\n",
       "\t  1\\\\\n",
       "\t  2\\\\\n",
       "\t  3\\\\\n",
       "\t  4\\\\\n",
       "\t NA\\\\\n",
       "\t  5\\\\\n",
       "\t NA\\\\\n",
       "\\end{tabular}\n"
      ],
      "text/markdown": [
       "\n",
       "val | \n",
       "|---|---|---|---|---|---|---|\n",
       "|  1 | \n",
       "|  2 | \n",
       "|  3 | \n",
       "|  4 | \n",
       "| NA | \n",
       "|  5 | \n",
       "| NA | \n",
       "\n",
       "\n"
      ],
      "text/plain": [
       "  val\n",
       "1  1 \n",
       "2  2 \n",
       "3  3 \n",
       "4  4 \n",
       "5 NA \n",
       "6  5 \n",
       "7 NA "
      ]
     },
     "metadata": {},
     "output_type": "display_data"
    }
   ],
   "source": [
    "replacement <- data.frame(val = c(1,2,3,4,NA,5,NA))\n",
    "replacement"
   ]
  },
  {
   "cell_type": "code",
   "execution_count": 92,
   "metadata": {},
   "outputs": [
    {
     "data": {
      "text/html": [
       "<table>\n",
       "<thead><tr><th scope=col>val</th></tr></thead>\n",
       "<tbody>\n",
       "\t<tr><td>1</td></tr>\n",
       "\t<tr><td>2</td></tr>\n",
       "\t<tr><td>3</td></tr>\n",
       "\t<tr><td>4</td></tr>\n",
       "\t<tr><td>3</td></tr>\n",
       "\t<tr><td>5</td></tr>\n",
       "\t<tr><td>3</td></tr>\n",
       "</tbody>\n",
       "</table>\n"
      ],
      "text/latex": [
       "\\begin{tabular}{r|l}\n",
       " val\\\\\n",
       "\\hline\n",
       "\t 1\\\\\n",
       "\t 2\\\\\n",
       "\t 3\\\\\n",
       "\t 4\\\\\n",
       "\t 3\\\\\n",
       "\t 5\\\\\n",
       "\t 3\\\\\n",
       "\\end{tabular}\n"
      ],
      "text/markdown": [
       "\n",
       "val | \n",
       "|---|---|---|---|---|---|---|\n",
       "| 1 | \n",
       "| 2 | \n",
       "| 3 | \n",
       "| 4 | \n",
       "| 3 | \n",
       "| 5 | \n",
       "| 3 | \n",
       "\n",
       "\n"
      ],
      "text/plain": [
       "  val\n",
       "1 1  \n",
       "2 2  \n",
       "3 3  \n",
       "4 4  \n",
       "5 3  \n",
       "6 5  \n",
       "7 3  "
      ]
     },
     "metadata": {},
     "output_type": "display_data"
    }
   ],
   "source": [
    "replacement <- within(replacement,{val <- ifelse(is.na(val), median(val, na.rm = TRUE), val)})\n",
    "replacement"
   ]
  },
  {
   "cell_type": "code",
   "execution_count": 93,
   "metadata": {},
   "outputs": [
    {
     "data": {
      "text/html": [
       "<table>\n",
       "<thead><tr><th scope=col>val</th></tr></thead>\n",
       "<tbody>\n",
       "\t<tr><td>1</td></tr>\n",
       "\t<tr><td>2</td></tr>\n",
       "\t<tr><td>3</td></tr>\n",
       "\t<tr><td>4</td></tr>\n",
       "\t<tr><td>3</td></tr>\n",
       "\t<tr><td>5</td></tr>\n",
       "\t<tr><td>3</td></tr>\n",
       "</tbody>\n",
       "</table>\n"
      ],
      "text/latex": [
       "\\begin{tabular}{r|l}\n",
       " val\\\\\n",
       "\\hline\n",
       "\t 1\\\\\n",
       "\t 2\\\\\n",
       "\t 3\\\\\n",
       "\t 4\\\\\n",
       "\t 3\\\\\n",
       "\t 5\\\\\n",
       "\t 3\\\\\n",
       "\\end{tabular}\n"
      ],
      "text/markdown": [
       "\n",
       "val | \n",
       "|---|---|---|---|---|---|---|\n",
       "| 1 | \n",
       "| 2 | \n",
       "| 3 | \n",
       "| 4 | \n",
       "| 3 | \n",
       "| 5 | \n",
       "| 3 | \n",
       "\n",
       "\n"
      ],
      "text/plain": [
       "  val\n",
       "1 1  \n",
       "2 2  \n",
       "3 3  \n",
       "4 4  \n",
       "5 3  \n",
       "6 5  \n",
       "7 3  "
      ]
     },
     "metadata": {},
     "output_type": "display_data"
    }
   ],
   "source": [
    "replacement$val[is.na(replacement$val)] <- median(replacement$val, na.rm=TRUE)\n",
    "replacement"
   ]
  },
  {
   "cell_type": "markdown",
   "metadata": {},
   "source": [
    "### 15. DataFrame Object에서 결측을 중앙값으로 치환"
   ]
  },
  {
   "cell_type": "markdown",
   "metadata": {},
   "source": [
    "##### data 읽어오기"
   ]
  },
  {
   "cell_type": "code",
   "execution_count": 95,
   "metadata": {
    "collapsed": true
   },
   "outputs": [],
   "source": [
    "iris_repl <- iris"
   ]
  },
  {
   "cell_type": "code",
   "execution_count": 96,
   "metadata": {
    "collapsed": true
   },
   "outputs": [],
   "source": [
    "iris_repl[1,1] = NA "
   ]
  },
  {
   "cell_type": "code",
   "execution_count": 97,
   "metadata": {},
   "outputs": [
    {
     "data": {
      "text/html": [
       "<table>\n",
       "<thead><tr><th scope=col>Sepal.Length</th><th scope=col>Sepal.Width</th><th scope=col>Petal.Length</th><th scope=col>Petal.Width</th><th scope=col>Species</th></tr></thead>\n",
       "<tbody>\n",
       "\t<tr><td> NA   </td><td>3.5   </td><td>1.4   </td><td>0.2   </td><td>setosa</td></tr>\n",
       "\t<tr><td>4.9   </td><td>3.0   </td><td>1.4   </td><td>0.2   </td><td>setosa</td></tr>\n",
       "\t<tr><td>4.7   </td><td>3.2   </td><td>1.3   </td><td>0.2   </td><td>setosa</td></tr>\n",
       "\t<tr><td>4.6   </td><td>3.1   </td><td>1.5   </td><td>0.2   </td><td>setosa</td></tr>\n",
       "\t<tr><td>5.0   </td><td>3.6   </td><td>1.4   </td><td>0.2   </td><td>setosa</td></tr>\n",
       "\t<tr><td>5.4   </td><td>3.9   </td><td>1.7   </td><td>0.4   </td><td>setosa</td></tr>\n",
       "</tbody>\n",
       "</table>\n"
      ],
      "text/latex": [
       "\\begin{tabular}{r|lllll}\n",
       " Sepal.Length & Sepal.Width & Petal.Length & Petal.Width & Species\\\\\n",
       "\\hline\n",
       "\t  NA    & 3.5    & 1.4    & 0.2    & setosa\\\\\n",
       "\t 4.9    & 3.0    & 1.4    & 0.2    & setosa\\\\\n",
       "\t 4.7    & 3.2    & 1.3    & 0.2    & setosa\\\\\n",
       "\t 4.6    & 3.1    & 1.5    & 0.2    & setosa\\\\\n",
       "\t 5.0    & 3.6    & 1.4    & 0.2    & setosa\\\\\n",
       "\t 5.4    & 3.9    & 1.7    & 0.4    & setosa\\\\\n",
       "\\end{tabular}\n"
      ],
      "text/markdown": [
       "\n",
       "Sepal.Length | Sepal.Width | Petal.Length | Petal.Width | Species | \n",
       "|---|---|---|---|---|---|\n",
       "|  NA    | 3.5    | 1.4    | 0.2    | setosa | \n",
       "| 4.9    | 3.0    | 1.4    | 0.2    | setosa | \n",
       "| 4.7    | 3.2    | 1.3    | 0.2    | setosa | \n",
       "| 4.6    | 3.1    | 1.5    | 0.2    | setosa | \n",
       "| 5.0    | 3.6    | 1.4    | 0.2    | setosa | \n",
       "| 5.4    | 3.9    | 1.7    | 0.4    | setosa | \n",
       "\n",
       "\n"
      ],
      "text/plain": [
       "  Sepal.Length Sepal.Width Petal.Length Petal.Width Species\n",
       "1  NA          3.5         1.4          0.2         setosa \n",
       "2 4.9          3.0         1.4          0.2         setosa \n",
       "3 4.7          3.2         1.3          0.2         setosa \n",
       "4 4.6          3.1         1.5          0.2         setosa \n",
       "5 5.0          3.6         1.4          0.2         setosa \n",
       "6 5.4          3.9         1.7          0.4         setosa "
      ]
     },
     "metadata": {},
     "output_type": "display_data"
    }
   ],
   "source": [
    "head(iris_repl)"
   ]
  },
  {
   "cell_type": "code",
   "execution_count": 98,
   "metadata": {
    "collapsed": true
   },
   "outputs": [],
   "source": [
    "#해당 종의 Sepal.Length의 중앙값으로 대체한다. \n",
    "replacement_df <- sapply(split(iris_repl$Sepal.Length,iris_repl$Species), median, na.rm = TRUE)"
   ]
  },
  {
   "cell_type": "code",
   "execution_count": 99,
   "metadata": {},
   "outputs": [
    {
     "data": {
      "text/html": [
       "<dl class=dl-horizontal>\n",
       "\t<dt>setosa</dt>\n",
       "\t\t<dd>5</dd>\n",
       "\t<dt>versicolor</dt>\n",
       "\t\t<dd>5.9</dd>\n",
       "\t<dt>virginica</dt>\n",
       "\t\t<dd>6.5</dd>\n",
       "</dl>\n"
      ],
      "text/latex": [
       "\\begin{description*}\n",
       "\\item[setosa] 5\n",
       "\\item[versicolor] 5.9\n",
       "\\item[virginica] 6.5\n",
       "\\end{description*}\n"
      ],
      "text/markdown": [
       "setosa\n",
       ":   5versicolor\n",
       ":   5.9virginica\n",
       ":   6.5\n",
       "\n"
      ],
      "text/plain": [
       "    setosa versicolor  virginica \n",
       "       5.0        5.9        6.5 "
      ]
     },
     "metadata": {},
     "output_type": "display_data"
    }
   ],
   "source": [
    "replacement_df"
   ]
  },
  {
   "cell_type": "code",
   "execution_count": 108,
   "metadata": {
    "collapsed": true
   },
   "outputs": [],
   "source": [
    "iris_repl <- within(iris_repl,{ Sepal.Length <- ifelse (is.na(Sepal.Length), replacement_df[Species], Sepal.Length)})\n"
   ]
  },
  {
   "cell_type": "code",
   "execution_count": 105,
   "metadata": {},
   "outputs": [
    {
     "data": {
      "text/html": [
       "<dl class=dl-horizontal>\n",
       "\t<dt>setosa</dt>\n",
       "\t\t<dd>5</dd>\n",
       "\t<dt>setosa</dt>\n",
       "\t\t<dd>5</dd>\n",
       "\t<dt>setosa</dt>\n",
       "\t\t<dd>5</dd>\n",
       "\t<dt>setosa</dt>\n",
       "\t\t<dd>5</dd>\n",
       "\t<dt>setosa</dt>\n",
       "\t\t<dd>5</dd>\n",
       "\t<dt>setosa</dt>\n",
       "\t\t<dd>5</dd>\n",
       "\t<dt>setosa</dt>\n",
       "\t\t<dd>5</dd>\n",
       "\t<dt>setosa</dt>\n",
       "\t\t<dd>5</dd>\n",
       "\t<dt>setosa</dt>\n",
       "\t\t<dd>5</dd>\n",
       "\t<dt>setosa</dt>\n",
       "\t\t<dd>5</dd>\n",
       "\t<dt>setosa</dt>\n",
       "\t\t<dd>5</dd>\n",
       "\t<dt>setosa</dt>\n",
       "\t\t<dd>5</dd>\n",
       "\t<dt>setosa</dt>\n",
       "\t\t<dd>5</dd>\n",
       "\t<dt>setosa</dt>\n",
       "\t\t<dd>5</dd>\n",
       "\t<dt>setosa</dt>\n",
       "\t\t<dd>5</dd>\n",
       "\t<dt>setosa</dt>\n",
       "\t\t<dd>5</dd>\n",
       "\t<dt>setosa</dt>\n",
       "\t\t<dd>5</dd>\n",
       "\t<dt>setosa</dt>\n",
       "\t\t<dd>5</dd>\n",
       "\t<dt>setosa</dt>\n",
       "\t\t<dd>5</dd>\n",
       "\t<dt>setosa</dt>\n",
       "\t\t<dd>5</dd>\n",
       "\t<dt>setosa</dt>\n",
       "\t\t<dd>5</dd>\n",
       "\t<dt>setosa</dt>\n",
       "\t\t<dd>5</dd>\n",
       "\t<dt>setosa</dt>\n",
       "\t\t<dd>5</dd>\n",
       "\t<dt>setosa</dt>\n",
       "\t\t<dd>5</dd>\n",
       "\t<dt>setosa</dt>\n",
       "\t\t<dd>5</dd>\n",
       "\t<dt>setosa</dt>\n",
       "\t\t<dd>5</dd>\n",
       "\t<dt>setosa</dt>\n",
       "\t\t<dd>5</dd>\n",
       "\t<dt>setosa</dt>\n",
       "\t\t<dd>5</dd>\n",
       "\t<dt>setosa</dt>\n",
       "\t\t<dd>5</dd>\n",
       "\t<dt>setosa</dt>\n",
       "\t\t<dd>5</dd>\n",
       "\t<dt>setosa</dt>\n",
       "\t\t<dd>5</dd>\n",
       "\t<dt>setosa</dt>\n",
       "\t\t<dd>5</dd>\n",
       "\t<dt>setosa</dt>\n",
       "\t\t<dd>5</dd>\n",
       "\t<dt>setosa</dt>\n",
       "\t\t<dd>5</dd>\n",
       "\t<dt>setosa</dt>\n",
       "\t\t<dd>5</dd>\n",
       "\t<dt>setosa</dt>\n",
       "\t\t<dd>5</dd>\n",
       "\t<dt>setosa</dt>\n",
       "\t\t<dd>5</dd>\n",
       "\t<dt>setosa</dt>\n",
       "\t\t<dd>5</dd>\n",
       "\t<dt>setosa</dt>\n",
       "\t\t<dd>5</dd>\n",
       "\t<dt>setosa</dt>\n",
       "\t\t<dd>5</dd>\n",
       "\t<dt>setosa</dt>\n",
       "\t\t<dd>5</dd>\n",
       "\t<dt>setosa</dt>\n",
       "\t\t<dd>5</dd>\n",
       "\t<dt>setosa</dt>\n",
       "\t\t<dd>5</dd>\n",
       "\t<dt>setosa</dt>\n",
       "\t\t<dd>5</dd>\n",
       "\t<dt>setosa</dt>\n",
       "\t\t<dd>5</dd>\n",
       "\t<dt>setosa</dt>\n",
       "\t\t<dd>5</dd>\n",
       "\t<dt>setosa</dt>\n",
       "\t\t<dd>5</dd>\n",
       "\t<dt>setosa</dt>\n",
       "\t\t<dd>5</dd>\n",
       "\t<dt>setosa</dt>\n",
       "\t\t<dd>5</dd>\n",
       "\t<dt>setosa</dt>\n",
       "\t\t<dd>5</dd>\n",
       "\t<dt>versicolor</dt>\n",
       "\t\t<dd>5.9</dd>\n",
       "\t<dt>versicolor</dt>\n",
       "\t\t<dd>5.9</dd>\n",
       "\t<dt>versicolor</dt>\n",
       "\t\t<dd>5.9</dd>\n",
       "\t<dt>versicolor</dt>\n",
       "\t\t<dd>5.9</dd>\n",
       "\t<dt>versicolor</dt>\n",
       "\t\t<dd>5.9</dd>\n",
       "\t<dt>versicolor</dt>\n",
       "\t\t<dd>5.9</dd>\n",
       "\t<dt>versicolor</dt>\n",
       "\t\t<dd>5.9</dd>\n",
       "\t<dt>versicolor</dt>\n",
       "\t\t<dd>5.9</dd>\n",
       "\t<dt>versicolor</dt>\n",
       "\t\t<dd>5.9</dd>\n",
       "\t<dt>versicolor</dt>\n",
       "\t\t<dd>5.9</dd>\n",
       "\t<dt>versicolor</dt>\n",
       "\t\t<dd>5.9</dd>\n",
       "\t<dt>versicolor</dt>\n",
       "\t\t<dd>5.9</dd>\n",
       "\t<dt>versicolor</dt>\n",
       "\t\t<dd>5.9</dd>\n",
       "\t<dt>versicolor</dt>\n",
       "\t\t<dd>5.9</dd>\n",
       "\t<dt>versicolor</dt>\n",
       "\t\t<dd>5.9</dd>\n",
       "\t<dt>versicolor</dt>\n",
       "\t\t<dd>5.9</dd>\n",
       "\t<dt>versicolor</dt>\n",
       "\t\t<dd>5.9</dd>\n",
       "\t<dt>versicolor</dt>\n",
       "\t\t<dd>5.9</dd>\n",
       "\t<dt>versicolor</dt>\n",
       "\t\t<dd>5.9</dd>\n",
       "\t<dt>versicolor</dt>\n",
       "\t\t<dd>5.9</dd>\n",
       "\t<dt>versicolor</dt>\n",
       "\t\t<dd>5.9</dd>\n",
       "\t<dt>versicolor</dt>\n",
       "\t\t<dd>5.9</dd>\n",
       "\t<dt>versicolor</dt>\n",
       "\t\t<dd>5.9</dd>\n",
       "\t<dt>versicolor</dt>\n",
       "\t\t<dd>5.9</dd>\n",
       "\t<dt>versicolor</dt>\n",
       "\t\t<dd>5.9</dd>\n",
       "\t<dt>versicolor</dt>\n",
       "\t\t<dd>5.9</dd>\n",
       "\t<dt>versicolor</dt>\n",
       "\t\t<dd>5.9</dd>\n",
       "\t<dt>versicolor</dt>\n",
       "\t\t<dd>5.9</dd>\n",
       "\t<dt>versicolor</dt>\n",
       "\t\t<dd>5.9</dd>\n",
       "\t<dt>versicolor</dt>\n",
       "\t\t<dd>5.9</dd>\n",
       "\t<dt>versicolor</dt>\n",
       "\t\t<dd>5.9</dd>\n",
       "\t<dt>versicolor</dt>\n",
       "\t\t<dd>5.9</dd>\n",
       "\t<dt>versicolor</dt>\n",
       "\t\t<dd>5.9</dd>\n",
       "\t<dt>versicolor</dt>\n",
       "\t\t<dd>5.9</dd>\n",
       "\t<dt>versicolor</dt>\n",
       "\t\t<dd>5.9</dd>\n",
       "\t<dt>versicolor</dt>\n",
       "\t\t<dd>5.9</dd>\n",
       "\t<dt>versicolor</dt>\n",
       "\t\t<dd>5.9</dd>\n",
       "\t<dt>versicolor</dt>\n",
       "\t\t<dd>5.9</dd>\n",
       "\t<dt>versicolor</dt>\n",
       "\t\t<dd>5.9</dd>\n",
       "\t<dt>versicolor</dt>\n",
       "\t\t<dd>5.9</dd>\n",
       "\t<dt>versicolor</dt>\n",
       "\t\t<dd>5.9</dd>\n",
       "\t<dt>versicolor</dt>\n",
       "\t\t<dd>5.9</dd>\n",
       "\t<dt>versicolor</dt>\n",
       "\t\t<dd>5.9</dd>\n",
       "\t<dt>versicolor</dt>\n",
       "\t\t<dd>5.9</dd>\n",
       "\t<dt>versicolor</dt>\n",
       "\t\t<dd>5.9</dd>\n",
       "\t<dt>versicolor</dt>\n",
       "\t\t<dd>5.9</dd>\n",
       "\t<dt>versicolor</dt>\n",
       "\t\t<dd>5.9</dd>\n",
       "\t<dt>versicolor</dt>\n",
       "\t\t<dd>5.9</dd>\n",
       "\t<dt>versicolor</dt>\n",
       "\t\t<dd>5.9</dd>\n",
       "\t<dt>versicolor</dt>\n",
       "\t\t<dd>5.9</dd>\n",
       "\t<dt>virginica</dt>\n",
       "\t\t<dd>6.5</dd>\n",
       "\t<dt>virginica</dt>\n",
       "\t\t<dd>6.5</dd>\n",
       "\t<dt>virginica</dt>\n",
       "\t\t<dd>6.5</dd>\n",
       "\t<dt>virginica</dt>\n",
       "\t\t<dd>6.5</dd>\n",
       "\t<dt>virginica</dt>\n",
       "\t\t<dd>6.5</dd>\n",
       "\t<dt>virginica</dt>\n",
       "\t\t<dd>6.5</dd>\n",
       "\t<dt>virginica</dt>\n",
       "\t\t<dd>6.5</dd>\n",
       "\t<dt>virginica</dt>\n",
       "\t\t<dd>6.5</dd>\n",
       "\t<dt>virginica</dt>\n",
       "\t\t<dd>6.5</dd>\n",
       "\t<dt>virginica</dt>\n",
       "\t\t<dd>6.5</dd>\n",
       "\t<dt>virginica</dt>\n",
       "\t\t<dd>6.5</dd>\n",
       "\t<dt>virginica</dt>\n",
       "\t\t<dd>6.5</dd>\n",
       "\t<dt>virginica</dt>\n",
       "\t\t<dd>6.5</dd>\n",
       "\t<dt>virginica</dt>\n",
       "\t\t<dd>6.5</dd>\n",
       "\t<dt>virginica</dt>\n",
       "\t\t<dd>6.5</dd>\n",
       "\t<dt>virginica</dt>\n",
       "\t\t<dd>6.5</dd>\n",
       "\t<dt>virginica</dt>\n",
       "\t\t<dd>6.5</dd>\n",
       "\t<dt>virginica</dt>\n",
       "\t\t<dd>6.5</dd>\n",
       "\t<dt>virginica</dt>\n",
       "\t\t<dd>6.5</dd>\n",
       "\t<dt>virginica</dt>\n",
       "\t\t<dd>6.5</dd>\n",
       "\t<dt>virginica</dt>\n",
       "\t\t<dd>6.5</dd>\n",
       "\t<dt>virginica</dt>\n",
       "\t\t<dd>6.5</dd>\n",
       "\t<dt>virginica</dt>\n",
       "\t\t<dd>6.5</dd>\n",
       "\t<dt>virginica</dt>\n",
       "\t\t<dd>6.5</dd>\n",
       "\t<dt>virginica</dt>\n",
       "\t\t<dd>6.5</dd>\n",
       "\t<dt>virginica</dt>\n",
       "\t\t<dd>6.5</dd>\n",
       "\t<dt>virginica</dt>\n",
       "\t\t<dd>6.5</dd>\n",
       "\t<dt>virginica</dt>\n",
       "\t\t<dd>6.5</dd>\n",
       "\t<dt>virginica</dt>\n",
       "\t\t<dd>6.5</dd>\n",
       "\t<dt>virginica</dt>\n",
       "\t\t<dd>6.5</dd>\n",
       "\t<dt>virginica</dt>\n",
       "\t\t<dd>6.5</dd>\n",
       "\t<dt>virginica</dt>\n",
       "\t\t<dd>6.5</dd>\n",
       "\t<dt>virginica</dt>\n",
       "\t\t<dd>6.5</dd>\n",
       "\t<dt>virginica</dt>\n",
       "\t\t<dd>6.5</dd>\n",
       "\t<dt>virginica</dt>\n",
       "\t\t<dd>6.5</dd>\n",
       "\t<dt>virginica</dt>\n",
       "\t\t<dd>6.5</dd>\n",
       "\t<dt>virginica</dt>\n",
       "\t\t<dd>6.5</dd>\n",
       "\t<dt>virginica</dt>\n",
       "\t\t<dd>6.5</dd>\n",
       "\t<dt>virginica</dt>\n",
       "\t\t<dd>6.5</dd>\n",
       "\t<dt>virginica</dt>\n",
       "\t\t<dd>6.5</dd>\n",
       "\t<dt>virginica</dt>\n",
       "\t\t<dd>6.5</dd>\n",
       "\t<dt>virginica</dt>\n",
       "\t\t<dd>6.5</dd>\n",
       "\t<dt>virginica</dt>\n",
       "\t\t<dd>6.5</dd>\n",
       "\t<dt>virginica</dt>\n",
       "\t\t<dd>6.5</dd>\n",
       "\t<dt>virginica</dt>\n",
       "\t\t<dd>6.5</dd>\n",
       "\t<dt>virginica</dt>\n",
       "\t\t<dd>6.5</dd>\n",
       "\t<dt>virginica</dt>\n",
       "\t\t<dd>6.5</dd>\n",
       "\t<dt>virginica</dt>\n",
       "\t\t<dd>6.5</dd>\n",
       "\t<dt>virginica</dt>\n",
       "\t\t<dd>6.5</dd>\n",
       "\t<dt>virginica</dt>\n",
       "\t\t<dd>6.5</dd>\n",
       "</dl>\n"
      ],
      "text/latex": [
       "\\begin{description*}\n",
       "\\item[setosa] 5\n",
       "\\item[setosa] 5\n",
       "\\item[setosa] 5\n",
       "\\item[setosa] 5\n",
       "\\item[setosa] 5\n",
       "\\item[setosa] 5\n",
       "\\item[setosa] 5\n",
       "\\item[setosa] 5\n",
       "\\item[setosa] 5\n",
       "\\item[setosa] 5\n",
       "\\item[setosa] 5\n",
       "\\item[setosa] 5\n",
       "\\item[setosa] 5\n",
       "\\item[setosa] 5\n",
       "\\item[setosa] 5\n",
       "\\item[setosa] 5\n",
       "\\item[setosa] 5\n",
       "\\item[setosa] 5\n",
       "\\item[setosa] 5\n",
       "\\item[setosa] 5\n",
       "\\item[setosa] 5\n",
       "\\item[setosa] 5\n",
       "\\item[setosa] 5\n",
       "\\item[setosa] 5\n",
       "\\item[setosa] 5\n",
       "\\item[setosa] 5\n",
       "\\item[setosa] 5\n",
       "\\item[setosa] 5\n",
       "\\item[setosa] 5\n",
       "\\item[setosa] 5\n",
       "\\item[setosa] 5\n",
       "\\item[setosa] 5\n",
       "\\item[setosa] 5\n",
       "\\item[setosa] 5\n",
       "\\item[setosa] 5\n",
       "\\item[setosa] 5\n",
       "\\item[setosa] 5\n",
       "\\item[setosa] 5\n",
       "\\item[setosa] 5\n",
       "\\item[setosa] 5\n",
       "\\item[setosa] 5\n",
       "\\item[setosa] 5\n",
       "\\item[setosa] 5\n",
       "\\item[setosa] 5\n",
       "\\item[setosa] 5\n",
       "\\item[setosa] 5\n",
       "\\item[setosa] 5\n",
       "\\item[setosa] 5\n",
       "\\item[setosa] 5\n",
       "\\item[setosa] 5\n",
       "\\item[versicolor] 5.9\n",
       "\\item[versicolor] 5.9\n",
       "\\item[versicolor] 5.9\n",
       "\\item[versicolor] 5.9\n",
       "\\item[versicolor] 5.9\n",
       "\\item[versicolor] 5.9\n",
       "\\item[versicolor] 5.9\n",
       "\\item[versicolor] 5.9\n",
       "\\item[versicolor] 5.9\n",
       "\\item[versicolor] 5.9\n",
       "\\item[versicolor] 5.9\n",
       "\\item[versicolor] 5.9\n",
       "\\item[versicolor] 5.9\n",
       "\\item[versicolor] 5.9\n",
       "\\item[versicolor] 5.9\n",
       "\\item[versicolor] 5.9\n",
       "\\item[versicolor] 5.9\n",
       "\\item[versicolor] 5.9\n",
       "\\item[versicolor] 5.9\n",
       "\\item[versicolor] 5.9\n",
       "\\item[versicolor] 5.9\n",
       "\\item[versicolor] 5.9\n",
       "\\item[versicolor] 5.9\n",
       "\\item[versicolor] 5.9\n",
       "\\item[versicolor] 5.9\n",
       "\\item[versicolor] 5.9\n",
       "\\item[versicolor] 5.9\n",
       "\\item[versicolor] 5.9\n",
       "\\item[versicolor] 5.9\n",
       "\\item[versicolor] 5.9\n",
       "\\item[versicolor] 5.9\n",
       "\\item[versicolor] 5.9\n",
       "\\item[versicolor] 5.9\n",
       "\\item[versicolor] 5.9\n",
       "\\item[versicolor] 5.9\n",
       "\\item[versicolor] 5.9\n",
       "\\item[versicolor] 5.9\n",
       "\\item[versicolor] 5.9\n",
       "\\item[versicolor] 5.9\n",
       "\\item[versicolor] 5.9\n",
       "\\item[versicolor] 5.9\n",
       "\\item[versicolor] 5.9\n",
       "\\item[versicolor] 5.9\n",
       "\\item[versicolor] 5.9\n",
       "\\item[versicolor] 5.9\n",
       "\\item[versicolor] 5.9\n",
       "\\item[versicolor] 5.9\n",
       "\\item[versicolor] 5.9\n",
       "\\item[versicolor] 5.9\n",
       "\\item[versicolor] 5.9\n",
       "\\item[virginica] 6.5\n",
       "\\item[virginica] 6.5\n",
       "\\item[virginica] 6.5\n",
       "\\item[virginica] 6.5\n",
       "\\item[virginica] 6.5\n",
       "\\item[virginica] 6.5\n",
       "\\item[virginica] 6.5\n",
       "\\item[virginica] 6.5\n",
       "\\item[virginica] 6.5\n",
       "\\item[virginica] 6.5\n",
       "\\item[virginica] 6.5\n",
       "\\item[virginica] 6.5\n",
       "\\item[virginica] 6.5\n",
       "\\item[virginica] 6.5\n",
       "\\item[virginica] 6.5\n",
       "\\item[virginica] 6.5\n",
       "\\item[virginica] 6.5\n",
       "\\item[virginica] 6.5\n",
       "\\item[virginica] 6.5\n",
       "\\item[virginica] 6.5\n",
       "\\item[virginica] 6.5\n",
       "\\item[virginica] 6.5\n",
       "\\item[virginica] 6.5\n",
       "\\item[virginica] 6.5\n",
       "\\item[virginica] 6.5\n",
       "\\item[virginica] 6.5\n",
       "\\item[virginica] 6.5\n",
       "\\item[virginica] 6.5\n",
       "\\item[virginica] 6.5\n",
       "\\item[virginica] 6.5\n",
       "\\item[virginica] 6.5\n",
       "\\item[virginica] 6.5\n",
       "\\item[virginica] 6.5\n",
       "\\item[virginica] 6.5\n",
       "\\item[virginica] 6.5\n",
       "\\item[virginica] 6.5\n",
       "\\item[virginica] 6.5\n",
       "\\item[virginica] 6.5\n",
       "\\item[virginica] 6.5\n",
       "\\item[virginica] 6.5\n",
       "\\item[virginica] 6.5\n",
       "\\item[virginica] 6.5\n",
       "\\item[virginica] 6.5\n",
       "\\item[virginica] 6.5\n",
       "\\item[virginica] 6.5\n",
       "\\item[virginica] 6.5\n",
       "\\item[virginica] 6.5\n",
       "\\item[virginica] 6.5\n",
       "\\item[virginica] 6.5\n",
       "\\item[virginica] 6.5\n",
       "\\end{description*}\n"
      ],
      "text/markdown": [
       "setosa\n",
       ":   5setosa\n",
       ":   5setosa\n",
       ":   5setosa\n",
       ":   5setosa\n",
       ":   5setosa\n",
       ":   5setosa\n",
       ":   5setosa\n",
       ":   5setosa\n",
       ":   5setosa\n",
       ":   5setosa\n",
       ":   5setosa\n",
       ":   5setosa\n",
       ":   5setosa\n",
       ":   5setosa\n",
       ":   5setosa\n",
       ":   5setosa\n",
       ":   5setosa\n",
       ":   5setosa\n",
       ":   5setosa\n",
       ":   5setosa\n",
       ":   5setosa\n",
       ":   5setosa\n",
       ":   5setosa\n",
       ":   5setosa\n",
       ":   5setosa\n",
       ":   5setosa\n",
       ":   5setosa\n",
       ":   5setosa\n",
       ":   5setosa\n",
       ":   5setosa\n",
       ":   5setosa\n",
       ":   5setosa\n",
       ":   5setosa\n",
       ":   5setosa\n",
       ":   5setosa\n",
       ":   5setosa\n",
       ":   5setosa\n",
       ":   5setosa\n",
       ":   5setosa\n",
       ":   5setosa\n",
       ":   5setosa\n",
       ":   5setosa\n",
       ":   5setosa\n",
       ":   5setosa\n",
       ":   5setosa\n",
       ":   5setosa\n",
       ":   5setosa\n",
       ":   5setosa\n",
       ":   5setosa\n",
       ":   5versicolor\n",
       ":   5.9versicolor\n",
       ":   5.9versicolor\n",
       ":   5.9versicolor\n",
       ":   5.9versicolor\n",
       ":   5.9versicolor\n",
       ":   5.9versicolor\n",
       ":   5.9versicolor\n",
       ":   5.9versicolor\n",
       ":   5.9versicolor\n",
       ":   5.9versicolor\n",
       ":   5.9versicolor\n",
       ":   5.9versicolor\n",
       ":   5.9versicolor\n",
       ":   5.9versicolor\n",
       ":   5.9versicolor\n",
       ":   5.9versicolor\n",
       ":   5.9versicolor\n",
       ":   5.9versicolor\n",
       ":   5.9versicolor\n",
       ":   5.9versicolor\n",
       ":   5.9versicolor\n",
       ":   5.9versicolor\n",
       ":   5.9versicolor\n",
       ":   5.9versicolor\n",
       ":   5.9versicolor\n",
       ":   5.9versicolor\n",
       ":   5.9versicolor\n",
       ":   5.9versicolor\n",
       ":   5.9versicolor\n",
       ":   5.9versicolor\n",
       ":   5.9versicolor\n",
       ":   5.9versicolor\n",
       ":   5.9versicolor\n",
       ":   5.9versicolor\n",
       ":   5.9versicolor\n",
       ":   5.9versicolor\n",
       ":   5.9versicolor\n",
       ":   5.9versicolor\n",
       ":   5.9versicolor\n",
       ":   5.9versicolor\n",
       ":   5.9versicolor\n",
       ":   5.9versicolor\n",
       ":   5.9versicolor\n",
       ":   5.9versicolor\n",
       ":   5.9versicolor\n",
       ":   5.9versicolor\n",
       ":   5.9versicolor\n",
       ":   5.9versicolor\n",
       ":   5.9versicolor\n",
       ":   5.9virginica\n",
       ":   6.5virginica\n",
       ":   6.5virginica\n",
       ":   6.5virginica\n",
       ":   6.5virginica\n",
       ":   6.5virginica\n",
       ":   6.5virginica\n",
       ":   6.5virginica\n",
       ":   6.5virginica\n",
       ":   6.5virginica\n",
       ":   6.5virginica\n",
       ":   6.5virginica\n",
       ":   6.5virginica\n",
       ":   6.5virginica\n",
       ":   6.5virginica\n",
       ":   6.5virginica\n",
       ":   6.5virginica\n",
       ":   6.5virginica\n",
       ":   6.5virginica\n",
       ":   6.5virginica\n",
       ":   6.5virginica\n",
       ":   6.5virginica\n",
       ":   6.5virginica\n",
       ":   6.5virginica\n",
       ":   6.5virginica\n",
       ":   6.5virginica\n",
       ":   6.5virginica\n",
       ":   6.5virginica\n",
       ":   6.5virginica\n",
       ":   6.5virginica\n",
       ":   6.5virginica\n",
       ":   6.5virginica\n",
       ":   6.5virginica\n",
       ":   6.5virginica\n",
       ":   6.5virginica\n",
       ":   6.5virginica\n",
       ":   6.5virginica\n",
       ":   6.5virginica\n",
       ":   6.5virginica\n",
       ":   6.5virginica\n",
       ":   6.5virginica\n",
       ":   6.5virginica\n",
       ":   6.5virginica\n",
       ":   6.5virginica\n",
       ":   6.5virginica\n",
       ":   6.5virginica\n",
       ":   6.5virginica\n",
       ":   6.5virginica\n",
       ":   6.5virginica\n",
       ":   6.5virginica\n",
       ":   6.5\n",
       "\n"
      ],
      "text/plain": [
       "    setosa     setosa     setosa     setosa     setosa     setosa     setosa \n",
       "       5.0        5.0        5.0        5.0        5.0        5.0        5.0 \n",
       "    setosa     setosa     setosa     setosa     setosa     setosa     setosa \n",
       "       5.0        5.0        5.0        5.0        5.0        5.0        5.0 \n",
       "    setosa     setosa     setosa     setosa     setosa     setosa     setosa \n",
       "       5.0        5.0        5.0        5.0        5.0        5.0        5.0 \n",
       "    setosa     setosa     setosa     setosa     setosa     setosa     setosa \n",
       "       5.0        5.0        5.0        5.0        5.0        5.0        5.0 \n",
       "    setosa     setosa     setosa     setosa     setosa     setosa     setosa \n",
       "       5.0        5.0        5.0        5.0        5.0        5.0        5.0 \n",
       "    setosa     setosa     setosa     setosa     setosa     setosa     setosa \n",
       "       5.0        5.0        5.0        5.0        5.0        5.0        5.0 \n",
       "    setosa     setosa     setosa     setosa     setosa     setosa     setosa \n",
       "       5.0        5.0        5.0        5.0        5.0        5.0        5.0 \n",
       "    setosa versicolor versicolor versicolor versicolor versicolor versicolor \n",
       "       5.0        5.9        5.9        5.9        5.9        5.9        5.9 \n",
       "versicolor versicolor versicolor versicolor versicolor versicolor versicolor \n",
       "       5.9        5.9        5.9        5.9        5.9        5.9        5.9 \n",
       "versicolor versicolor versicolor versicolor versicolor versicolor versicolor \n",
       "       5.9        5.9        5.9        5.9        5.9        5.9        5.9 \n",
       "versicolor versicolor versicolor versicolor versicolor versicolor versicolor \n",
       "       5.9        5.9        5.9        5.9        5.9        5.9        5.9 \n",
       "versicolor versicolor versicolor versicolor versicolor versicolor versicolor \n",
       "       5.9        5.9        5.9        5.9        5.9        5.9        5.9 \n",
       "versicolor versicolor versicolor versicolor versicolor versicolor versicolor \n",
       "       5.9        5.9        5.9        5.9        5.9        5.9        5.9 \n",
       "versicolor versicolor versicolor versicolor versicolor versicolor versicolor \n",
       "       5.9        5.9        5.9        5.9        5.9        5.9        5.9 \n",
       "versicolor versicolor  virginica  virginica  virginica  virginica  virginica \n",
       "       5.9        5.9        6.5        6.5        6.5        6.5        6.5 \n",
       " virginica  virginica  virginica  virginica  virginica  virginica  virginica \n",
       "       6.5        6.5        6.5        6.5        6.5        6.5        6.5 \n",
       " virginica  virginica  virginica  virginica  virginica  virginica  virginica \n",
       "       6.5        6.5        6.5        6.5        6.5        6.5        6.5 \n",
       " virginica  virginica  virginica  virginica  virginica  virginica  virginica \n",
       "       6.5        6.5        6.5        6.5        6.5        6.5        6.5 \n",
       " virginica  virginica  virginica  virginica  virginica  virginica  virginica \n",
       "       6.5        6.5        6.5        6.5        6.5        6.5        6.5 \n",
       " virginica  virginica  virginica  virginica  virginica  virginica  virginica \n",
       "       6.5        6.5        6.5        6.5        6.5        6.5        6.5 \n",
       " virginica  virginica  virginica  virginica  virginica  virginica  virginica \n",
       "       6.5        6.5        6.5        6.5        6.5        6.5        6.5 \n",
       " virginica  virginica  virginica \n",
       "       6.5        6.5        6.5 "
      ]
     },
     "metadata": {},
     "output_type": "display_data"
    }
   ],
   "source": [
    "#데이터 셋 1[데이터셋2$속성명]\n",
    "replacement_df[iris_repl$Species]"
   ]
  },
  {
   "cell_type": "code",
   "execution_count": null,
   "metadata": {
    "collapsed": true
   },
   "outputs": [],
   "source": []
  },
  {
   "cell_type": "markdown",
   "metadata": {},
   "source": [
    "### 16. KNN을 사용해 K개 근접 이웃의 가중평균으로 치환"
   ]
  },
  {
   "cell_type": "markdown",
   "metadata": {},
   "source": [
    "NA을 knn을 사용해 k개 근접 이웃의 가중 평균을 치환해보자."
   ]
  },
  {
   "cell_type": "code",
   "execution_count": 109,
   "metadata": {
    "collapsed": true
   },
   "outputs": [],
   "source": [
    "iris_na <- iris"
   ]
  },
  {
   "cell_type": "code",
   "execution_count": 110,
   "metadata": {
    "collapsed": true
   },
   "outputs": [],
   "source": [
    "iris_na[c(10, 20, 25, 40, 32), 3] <- NA"
   ]
  },
  {
   "cell_type": "code",
   "execution_count": 112,
   "metadata": {
    "collapsed": true
   },
   "outputs": [],
   "source": [
    "iris_na[c(33, 100, 123), 1] <- NA"
   ]
  },
  {
   "cell_type": "code",
   "execution_count": 113,
   "metadata": {},
   "outputs": [
    {
     "name": "stderr",
     "output_type": "stream",
     "text": [
      "also installing the dependencies ‘gtools’, ‘gdata’, ‘TTR’, ‘gplots’, ‘xts’, ‘quantmod’, ‘abind’, ‘ROCR’\n",
      "\n",
      "Updating HTML index of packages in '.Library'\n",
      "Making 'packages.html' ... done\n"
     ]
    }
   ],
   "source": [
    "install.packages(\"DMwR\")"
   ]
  },
  {
   "cell_type": "code",
   "execution_count": 114,
   "metadata": {},
   "outputs": [
    {
     "name": "stderr",
     "output_type": "stream",
     "text": [
      "Loading required package: lattice\n",
      "Loading required package: grid\n"
     ]
    }
   ],
   "source": [
    "library(DMwR)"
   ]
  },
  {
   "cell_type": "markdown",
   "metadata": {},
   "source": [
    "##### 결측값 확인"
   ]
  },
  {
   "cell_type": "code",
   "execution_count": 116,
   "metadata": {
    "scrolled": true
   },
   "outputs": [
    {
     "data": {
      "text/html": [
       "<table>\n",
       "<thead><tr><th></th><th scope=col>Sepal.Length</th><th scope=col>Sepal.Width</th><th scope=col>Petal.Length</th><th scope=col>Petal.Width</th><th scope=col>Species</th></tr></thead>\n",
       "<tbody>\n",
       "\t<tr><th scope=row>10</th><td>4.9       </td><td>3.1       </td><td> NA       </td><td>0.1       </td><td>setosa    </td></tr>\n",
       "\t<tr><th scope=row>20</th><td>5.1       </td><td>3.8       </td><td> NA       </td><td>0.3       </td><td>setosa    </td></tr>\n",
       "\t<tr><th scope=row>25</th><td>4.8       </td><td>3.4       </td><td> NA       </td><td>0.2       </td><td>setosa    </td></tr>\n",
       "\t<tr><th scope=row>32</th><td>5.4       </td><td>3.4       </td><td> NA       </td><td>0.4       </td><td>setosa    </td></tr>\n",
       "\t<tr><th scope=row>33</th><td> NA       </td><td>4.1       </td><td>1.5       </td><td>0.1       </td><td>setosa    </td></tr>\n",
       "\t<tr><th scope=row>40</th><td>5.1       </td><td>3.4       </td><td> NA       </td><td>0.2       </td><td>setosa    </td></tr>\n",
       "\t<tr><th scope=row>100</th><td> NA       </td><td>2.8       </td><td>4.1       </td><td>1.3       </td><td>versicolor</td></tr>\n",
       "\t<tr><th scope=row>123</th><td> NA       </td><td>2.8       </td><td>6.7       </td><td>2.0       </td><td>virginica </td></tr>\n",
       "</tbody>\n",
       "</table>\n"
      ],
      "text/latex": [
       "\\begin{tabular}{r|lllll}\n",
       "  & Sepal.Length & Sepal.Width & Petal.Length & Petal.Width & Species\\\\\n",
       "\\hline\n",
       "\t10 & 4.9        & 3.1        &  NA        & 0.1        & setosa    \\\\\n",
       "\t20 & 5.1        & 3.8        &  NA        & 0.3        & setosa    \\\\\n",
       "\t25 & 4.8        & 3.4        &  NA        & 0.2        & setosa    \\\\\n",
       "\t32 & 5.4        & 3.4        &  NA        & 0.4        & setosa    \\\\\n",
       "\t33 &  NA        & 4.1        & 1.5        & 0.1        & setosa    \\\\\n",
       "\t40 & 5.1        & 3.4        &  NA        & 0.2        & setosa    \\\\\n",
       "\t100 &  NA        & 2.8        & 4.1        & 1.3        & versicolor\\\\\n",
       "\t123 &  NA        & 2.8        & 6.7        & 2.0        & virginica \\\\\n",
       "\\end{tabular}\n"
      ],
      "text/markdown": [
       "\n",
       "| <!--/--> | Sepal.Length | Sepal.Width | Petal.Length | Petal.Width | Species | \n",
       "|---|---|---|---|---|---|---|---|\n",
       "| 10 | 4.9        | 3.1        |  NA        | 0.1        | setosa     | \n",
       "| 20 | 5.1        | 3.8        |  NA        | 0.3        | setosa     | \n",
       "| 25 | 4.8        | 3.4        |  NA        | 0.2        | setosa     | \n",
       "| 32 | 5.4        | 3.4        |  NA        | 0.4        | setosa     | \n",
       "| 33 |  NA        | 4.1        | 1.5        | 0.1        | setosa     | \n",
       "| 40 | 5.1        | 3.4        |  NA        | 0.2        | setosa     | \n",
       "| 100 |  NA        | 2.8        | 4.1        | 1.3        | versicolor | \n",
       "| 123 |  NA        | 2.8        | 6.7        | 2.0        | virginica  | \n",
       "\n",
       "\n"
      ],
      "text/plain": [
       "    Sepal.Length Sepal.Width Petal.Length Petal.Width Species   \n",
       "10  4.9          3.1          NA          0.1         setosa    \n",
       "20  5.1          3.8          NA          0.3         setosa    \n",
       "25  4.8          3.4          NA          0.2         setosa    \n",
       "32  5.4          3.4          NA          0.4         setosa    \n",
       "33   NA          4.1         1.5          0.1         setosa    \n",
       "40  5.1          3.4          NA          0.2         setosa    \n",
       "100  NA          2.8         4.1          1.3         versicolor\n",
       "123  NA          2.8         6.7          2.0         virginica "
      ]
     },
     "metadata": {},
     "output_type": "display_data"
    }
   ],
   "source": [
    "iris_na[!complete.cases(iris_na),]"
   ]
  },
  {
   "cell_type": "markdown",
   "metadata": {},
   "source": [
    "##### knn에 의해서 결측값을 치환한다"
   ]
  },
  {
   "cell_type": "code",
   "execution_count": 119,
   "metadata": {},
   "outputs": [
    {
     "data": {
      "text/html": [
       "<table>\n",
       "<thead><tr><th></th><th scope=col>Sepal.Length</th><th scope=col>Sepal.Width</th><th scope=col>Petal.Length</th><th scope=col>Petal.Width</th></tr></thead>\n",
       "<tbody>\n",
       "\t<tr><th scope=row>10</th><td>4.900000</td><td>3.1     </td><td>1.452250</td><td>0.1     </td></tr>\n",
       "\t<tr><th scope=row>20</th><td>5.100000</td><td>3.8     </td><td>1.539881</td><td>0.3     </td></tr>\n",
       "\t<tr><th scope=row>25</th><td>4.800000</td><td>3.4     </td><td>1.457144</td><td>0.2     </td></tr>\n",
       "\t<tr><th scope=row>32</th><td>5.400000</td><td>3.4     </td><td>1.483821</td><td>0.4     </td></tr>\n",
       "\t<tr><th scope=row>33</th><td>5.462532</td><td>4.1     </td><td>1.500000</td><td>0.1     </td></tr>\n",
       "\t<tr><th scope=row>40</th><td>5.100000</td><td>3.4     </td><td>1.475718</td><td>0.2     </td></tr>\n",
       "\t<tr><th scope=row>100</th><td>5.891169</td><td>2.8     </td><td>4.100000</td><td>1.3     </td></tr>\n",
       "\t<tr><th scope=row>123</th><td>7.077197</td><td>2.8     </td><td>6.700000</td><td>2.0     </td></tr>\n",
       "</tbody>\n",
       "</table>\n"
      ],
      "text/latex": [
       "\\begin{tabular}{r|llll}\n",
       "  & Sepal.Length & Sepal.Width & Petal.Length & Petal.Width\\\\\n",
       "\\hline\n",
       "\t10 & 4.900000 & 3.1      & 1.452250 & 0.1     \\\\\n",
       "\t20 & 5.100000 & 3.8      & 1.539881 & 0.3     \\\\\n",
       "\t25 & 4.800000 & 3.4      & 1.457144 & 0.2     \\\\\n",
       "\t32 & 5.400000 & 3.4      & 1.483821 & 0.4     \\\\\n",
       "\t33 & 5.462532 & 4.1      & 1.500000 & 0.1     \\\\\n",
       "\t40 & 5.100000 & 3.4      & 1.475718 & 0.2     \\\\\n",
       "\t100 & 5.891169 & 2.8      & 4.100000 & 1.3     \\\\\n",
       "\t123 & 7.077197 & 2.8      & 6.700000 & 2.0     \\\\\n",
       "\\end{tabular}\n"
      ],
      "text/markdown": [
       "\n",
       "| <!--/--> | Sepal.Length | Sepal.Width | Petal.Length | Petal.Width | \n",
       "|---|---|---|---|---|---|---|---|\n",
       "| 10 | 4.900000 | 3.1      | 1.452250 | 0.1      | \n",
       "| 20 | 5.100000 | 3.8      | 1.539881 | 0.3      | \n",
       "| 25 | 4.800000 | 3.4      | 1.457144 | 0.2      | \n",
       "| 32 | 5.400000 | 3.4      | 1.483821 | 0.4      | \n",
       "| 33 | 5.462532 | 4.1      | 1.500000 | 0.1      | \n",
       "| 40 | 5.100000 | 3.4      | 1.475718 | 0.2      | \n",
       "| 100 | 5.891169 | 2.8      | 4.100000 | 1.3      | \n",
       "| 123 | 7.077197 | 2.8      | 6.700000 | 2.0      | \n",
       "\n",
       "\n"
      ],
      "text/plain": [
       "    Sepal.Length Sepal.Width Petal.Length Petal.Width\n",
       "10  4.900000     3.1         1.452250     0.1        \n",
       "20  5.100000     3.8         1.539881     0.3        \n",
       "25  4.800000     3.4         1.457144     0.2        \n",
       "32  5.400000     3.4         1.483821     0.4        \n",
       "33  5.462532     4.1         1.500000     0.1        \n",
       "40  5.100000     3.4         1.475718     0.2        \n",
       "100 5.891169     2.8         4.100000     1.3        \n",
       "123 7.077197     2.8         6.700000     2.0        "
      ]
     },
     "metadata": {},
     "output_type": "display_data"
    }
   ],
   "source": [
    "knnImputation(iris_na[1:4]) [c(10,20,25,32,33,40,100,123),]\n",
    "# 영역 : 열 1~4, 보기원하는 case - [c(10,20,25,32,33,40,100,123),] "
   ]
  },
  {
   "cell_type": "markdown",
   "metadata": {},
   "source": [
    "### 17. 성별 구분 코드값 이외값은 모두 na로 변경하기"
   ]
  },
  {
   "cell_type": "code",
   "execution_count": 122,
   "metadata": {},
   "outputs": [
    {
     "data": {
      "text/html": [
       "<table>\n",
       "<thead><tr><th scope=col>id</th><th scope=col>gender</th></tr></thead>\n",
       "<tbody>\n",
       "\t<tr><td>a </td><td> 1</td></tr>\n",
       "\t<tr><td>b </td><td> 2</td></tr>\n",
       "\t<tr><td>d </td><td> 2</td></tr>\n",
       "\t<tr><td>e </td><td> 1</td></tr>\n",
       "\t<tr><td>f </td><td> 9</td></tr>\n",
       "\t<tr><td>g </td><td>NA</td></tr>\n",
       "</tbody>\n",
       "</table>\n"
      ],
      "text/latex": [
       "\\begin{tabular}{r|ll}\n",
       " id & gender\\\\\n",
       "\\hline\n",
       "\t a  &  1\\\\\n",
       "\t b  &  2\\\\\n",
       "\t d  &  2\\\\\n",
       "\t e  &  1\\\\\n",
       "\t f  &  9\\\\\n",
       "\t g  & NA\\\\\n",
       "\\end{tabular}\n"
      ],
      "text/markdown": [
       "\n",
       "id | gender | \n",
       "|---|---|---|---|---|---|\n",
       "| a  |  1 | \n",
       "| b  |  2 | \n",
       "| d  |  2 | \n",
       "| e  |  1 | \n",
       "| f  |  9 | \n",
       "| g  | NA | \n",
       "\n",
       "\n"
      ],
      "text/plain": [
       "  id gender\n",
       "1 a   1    \n",
       "2 b   2    \n",
       "3 d   2    \n",
       "4 e   1    \n",
       "5 f   9    \n",
       "6 g  NA    "
      ]
     },
     "metadata": {},
     "output_type": "display_data"
    }
   ],
   "source": [
    "#gender 속성에 9와 NA값이 포함되어 있음\n",
    "dD <- data.frame(id=c(\"a\",\"b\",\"d\",\"e\",\"f\",\"g\"), gender=c(1,2,2,1,9,NA))\n",
    "dD"
   ]
  },
  {
   "cell_type": "code",
   "execution_count": 125,
   "metadata": {},
   "outputs": [
    {
     "data": {
      "text/html": [
       "<table>\n",
       "<thead><tr><th scope=col>id</th><th scope=col>gender</th></tr></thead>\n",
       "<tbody>\n",
       "\t<tr><td>a </td><td> 1</td></tr>\n",
       "\t<tr><td>b </td><td> 2</td></tr>\n",
       "\t<tr><td>d </td><td> 2</td></tr>\n",
       "\t<tr><td>e </td><td> 1</td></tr>\n",
       "\t<tr><td>f </td><td>NA</td></tr>\n",
       "\t<tr><td>g </td><td>NA</td></tr>\n",
       "</tbody>\n",
       "</table>\n"
      ],
      "text/latex": [
       "\\begin{tabular}{r|ll}\n",
       " id & gender\\\\\n",
       "\\hline\n",
       "\t a  &  1\\\\\n",
       "\t b  &  2\\\\\n",
       "\t d  &  2\\\\\n",
       "\t e  &  1\\\\\n",
       "\t f  & NA\\\\\n",
       "\t g  & NA\\\\\n",
       "\\end{tabular}\n"
      ],
      "text/markdown": [
       "\n",
       "id | gender | \n",
       "|---|---|---|---|---|---|\n",
       "| a  |  1 | \n",
       "| b  |  2 | \n",
       "| d  |  2 | \n",
       "| e  |  1 | \n",
       "| f  | NA | \n",
       "| g  | NA | \n",
       "\n",
       "\n"
      ],
      "text/plain": [
       "  id gender\n",
       "1 a   1    \n",
       "2 b   2    \n",
       "3 d   2    \n",
       "4 e   1    \n",
       "5 f  NA    \n",
       "6 g  NA    "
      ]
     },
     "metadata": {},
     "output_type": "display_data"
    }
   ],
   "source": [
    "#1이나 2값이 아닌 경우에는 NA로 입력하게 설정\n",
    "\n",
    "dD$gender[dD$gender<1 | dD$gender>2] <- NA   # 데이터셋$열이름[조건] <- 조건만족하면 취할 액션\n",
    "dD"
   ]
  },
  {
   "cell_type": "markdown",
   "metadata": {},
   "source": [
    "### 18. Missdata 처리"
   ]
  },
  {
   "cell_type": "code",
   "execution_count": 126,
   "metadata": {},
   "outputs": [
    {
     "name": "stderr",
     "output_type": "stream",
     "text": [
      "Updating HTML index of packages in '.Library'\n",
      "Making 'packages.html' ... done\n"
     ]
    }
   ],
   "source": [
    "install.packages(\"Amelia\")"
   ]
  },
  {
   "cell_type": "code",
   "execution_count": 127,
   "metadata": {},
   "outputs": [
    {
     "name": "stderr",
     "output_type": "stream",
     "text": [
      "Loading required package: Rcpp\n",
      "## \n",
      "## Amelia II: Multiple Imputation\n",
      "## (Version 1.7.4, built: 2015-12-05)\n",
      "## Copyright (C) 2005-2017 James Honaker, Gary King and Matthew Blackwell\n",
      "## Refer to http://gking.harvard.edu/amelia/ for more information\n",
      "## \n"
     ]
    }
   ],
   "source": [
    "library(Amelia)"
   ]
  },
  {
   "cell_type": "code",
   "execution_count": 136,
   "metadata": {
    "collapsed": true
   },
   "outputs": [],
   "source": [
    "?Amelia  #EM algorithm을 사용하여 부트스트랩(bootstrap)을 한다. "
   ]
  },
  {
   "cell_type": "markdown",
   "metadata": {},
   "source": [
    "data 로딩 및 탐색"
   ]
  },
  {
   "cell_type": "code",
   "execution_count": 128,
   "metadata": {
    "collapsed": true
   },
   "outputs": [],
   "source": [
    "data(freetrade)"
   ]
  },
  {
   "cell_type": "code",
   "execution_count": 133,
   "metadata": {
    "scrolled": true
   },
   "outputs": [
    {
     "name": "stdout",
     "output_type": "stream",
     "text": [
      "'data.frame':\t171 obs. of  10 variables:\n",
      " $ year    : int  1981 1982 1983 1984 1985 1986 1987 1988 1989 1990 ...\n",
      " $ country : chr  \"SriLanka\" \"SriLanka\" \"SriLanka\" \"SriLanka\" ...\n",
      " $ tariff  : num  NA NA 41.3 NA 31 ...\n",
      " $ polity  : int  6 5 5 5 5 5 5 5 5 5 ...\n",
      " $ pop     : num  14988000 15189000 15417000 15599000 15837000 ...\n",
      " $ gdp.pc  : num  461 474 489 508 526 ...\n",
      " $ intresmi: num  1.94 1.96 1.66 2.8 2.26 ...\n",
      " $ signed  : int  0 0 1 0 0 0 0 1 0 0 ...\n",
      " $ fiveop  : num  12.4 12.5 12.3 12.3 12.3 ...\n",
      " $ usheg   : num  0.259 0.256 0.266 0.299 0.295 ...\n"
     ]
    },
    {
     "data": {
      "text/html": [
       "'data.frame'"
      ],
      "text/latex": [
       "'data.frame'"
      ],
      "text/markdown": [
       "'data.frame'"
      ],
      "text/plain": [
       "[1] \"data.frame\""
      ]
     },
     "metadata": {},
     "output_type": "display_data"
    }
   ],
   "source": [
    "str(freetrade)\n",
    "data.class(freetrade)"
   ]
  },
  {
   "cell_type": "code",
   "execution_count": 137,
   "metadata": {},
   "outputs": [
    {
     "data": {
      "text/plain": [
       "      year        country              tariff           polity      \n",
       " Min.   :1981   Length:171         Min.   :  7.10   Min.   :-8.000  \n",
       " 1st Qu.:1985   Class :character   1st Qu.: 16.30   1st Qu.:-2.000  \n",
       " Median :1990   Mode  :character   Median : 25.20   Median : 5.000  \n",
       " Mean   :1990                      Mean   : 31.65   Mean   : 2.905  \n",
       " 3rd Qu.:1995                      3rd Qu.: 40.80   3rd Qu.: 8.000  \n",
       " Max.   :1999                      Max.   :100.00   Max.   : 9.000  \n",
       "                                   NA's   :58       NA's   :2       \n",
       "      pop                gdp.pc           intresmi          signed      \n",
       " Min.   : 14105080   Min.   :  149.5   Min.   :0.9036   Min.   :0.0000  \n",
       " 1st Qu.: 19676715   1st Qu.:  420.1   1st Qu.:2.2231   1st Qu.:0.0000  \n",
       " Median : 52799040   Median :  814.3   Median :3.1815   Median :0.0000  \n",
       " Mean   :149904501   Mean   : 1867.3   Mean   :3.3752   Mean   :0.1548  \n",
       " 3rd Qu.:120888400   3rd Qu.: 2462.9   3rd Qu.:4.4063   3rd Qu.:0.0000  \n",
       " Max.   :997515200   Max.   :12086.2   Max.   :7.9346   Max.   :1.0000  \n",
       "                                       NA's   :13       NA's   :3       \n",
       "     fiveop          usheg       \n",
       " Min.   :12.30   Min.   :0.2558  \n",
       " 1st Qu.:12.50   1st Qu.:0.2623  \n",
       " Median :12.60   Median :0.2756  \n",
       " Mean   :12.74   Mean   :0.2764  \n",
       " 3rd Qu.:13.20   3rd Qu.:0.2887  \n",
       " Max.   :13.20   Max.   :0.3083  \n",
       " NA's   :18                      "
      ]
     },
     "metadata": {},
     "output_type": "display_data"
    }
   ],
   "source": [
    "summary(freetrade)   #\"tariff\", \"polity\", intresmi\", \"signed\", \"fiveop\"에서 NA발견"
   ]
  },
  {
   "cell_type": "markdown",
   "metadata": {},
   "source": [
    "##### amelia를 이용해서  imputation(결측값 제거) 만들기"
   ]
  },
  {
   "cell_type": "code",
   "execution_count": 138,
   "metadata": {},
   "outputs": [
    {
     "name": "stdout",
     "output_type": "stream",
     "text": [
      "-- Imputation 1 --\n",
      "\n",
      "  1  2  3  4  5  6  7  8  9 10 11 12 13\n",
      "\n",
      "-- Imputation 2 --\n",
      "\n",
      "  1  2  3  4  5  6  7  8  9 10 11 12 13 14\n",
      "\n",
      "-- Imputation 3 --\n",
      "\n",
      "  1  2  3  4  5  6  7  8  9 10 11 12 13 14 15\n",
      "\n",
      "-- Imputation 4 --\n",
      "\n",
      "  1  2  3  4  5  6  7  8  9 10 11 12 13 14 15\n",
      "\n",
      "-- Imputation 5 --\n",
      "\n",
      "  1  2  3  4  5  6  7  8  9 10 11 12 13 14 15 16\n",
      "\n"
     ]
    }
   ],
   "source": [
    "a.out <- amelia(freetrade, m = 5, ts = \"year\", cs = \"country\") #"
   ]
  },
  {
   "cell_type": "markdown",
   "metadata": {},
   "source": [
    "##### imputation 한 결과로 히스토그램 그려보기"
   ]
  },
  {
   "cell_type": "code",
   "execution_count": 139,
   "metadata": {
    "scrolled": true
   },
   "outputs": [
    {
     "data": {
      "image/png": "[encoded data removed]",
      "text/plain": [
       "Plot with title “Histogram of a.out$imputations[[3]]$tariff”"
      ]
     },
     "metadata": {},
     "output_type": "display_data"
    }
   ],
   "source": [
    "hist(a.out$imputations[[3]]$tariff, col=\"grey\", border=\"white\")"
   ]
  },
  {
   "cell_type": "markdown",
   "metadata": {},
   "source": [
    "##### imputation 저장"
   ]
  },
  {
   "cell_type": "code",
   "execution_count": 141,
   "metadata": {
    "collapsed": true
   },
   "outputs": [],
   "source": [
    "save(a.out, file = \"imputations.RData\") #imputation 결과 저장"
   ]
  },
  {
   "cell_type": "markdown",
   "metadata": {},
   "source": [
    "##### missmpa 그려서 결측값 체크하기"
   ]
  },
  {
   "cell_type": "code",
   "execution_count": 143,
   "metadata": {
    "scrolled": true
   },
   "outputs": [
    {
     "data": {
      "image/png": "[encoded data removed]",
      "text/plain": [
       "Plot with title “Missingness Map”"
      ]
     },
     "metadata": {},
     "output_type": "display_data"
    }
   ],
   "source": [
    "missmap(a.out)"
   ]
  },
  {
   "cell_type": "code",
   "execution_count": 144,
   "metadata": {},
   "outputs": [
    {
     "data": {
      "image/png": "[encoded data removed]",
      "text/plain": [
       "Plot with title “Missingness Map”"
      ]
     },
     "metadata": {},
     "output_type": "display_data"
    }
   ],
   "source": [
    "freetrade$tariff <- a.out$imputations[[5]]$tariff\n",
    "missmap(freetrade)"
   ]
  },
  {
   "cell_type": "code",
   "execution_count": 145,
   "metadata": {
    "collapsed": true
   },
   "outputs": [],
   "source": [
    "?lofactor"
   ]
  },
  {
   "cell_type": "markdown",
   "metadata": {},
   "source": [
    "### 19. 가설검정\n",
    "\n",
    "- chisq.out.test()함수를 사용한다."
   ]
  },
  {
   "cell_type": "markdown",
   "metadata": {},
   "source": [
    "- s_ot$statistic - 검정통계량 = 사실인지 거짓인지 판단하는 기준 수치\n",
    "- s_ot$p.value - p값\n",
    "- s_ot$alternative - 양측, 단측검정\n",
    "\n",
    "- 카이제곱 분포(chisquared distribution)를 바탕으로 검정하는 방법"
   ]
  },
  {
   "cell_type": "code",
   "execution_count": null,
   "metadata": {
    "collapsed": true
   },
   "outputs": [],
   "source": []
  },
  {
   "cell_type": "markdown",
   "metadata": {},
   "source": [
    "-정규성 검정 (정규성 검정과 박스플롯을 사용하여 정규성 검정)\n",
    "- 정규성을 따르는지 검정하는 정규분포이면, 정규분포를 따르면 99.3%의 데이터가 포함되게 되고, 이상치는 0.7%에 해당하는 데이터 임."
   ]
  },
  {
   "cell_type": "markdown",
   "metadata": {},
   "source": [
    "- 예시 : 정규성 검정결과 서울시의 식품민원 데이터의 처리시간은 Shapiro-Wilk normality test에 의하여 통계량 W는 0.12637이고, p-value값이 2.2e-16보다 적게 나와서 서울시의 식품민원 데이터의 처리시간은 정규분포라고 할 수 없다. 그러므로 박스플롯에서 사용된 이상치인 55개를 이상치로 설정 할 수 없다."
   ]
  },
  {
   "cell_type": "markdown",
   "metadata": {},
   "source": [
    "### 20. 이상치 1차원 및 2차원 도표"
   ]
  },
  {
   "cell_type": "markdown",
   "metadata": {},
   "source": [
    "#### 1.outlier vector object의 1차원에서 도표화"
   ]
  },
  {
   "cell_type": "code",
   "execution_count": 155,
   "metadata": {},
   "outputs": [
    {
     "data": {
      "text/html": [
       "TRUE"
      ],
      "text/latex": [
       "TRUE"
      ],
      "text/markdown": [
       "TRUE"
      ],
      "text/plain": [
       "[1] TRUE"
      ]
     },
     "metadata": {},
     "output_type": "display_data"
    }
   ],
   "source": [
    "set.seed(3147)\n",
    "y <-rnorm(100)\n",
    "is.vector(y)"
   ]
  },
  {
   "cell_type": "code",
   "execution_count": 156,
   "metadata": {},
   "outputs": [
    {
     "data": {
      "text/html": [
       "<ol class=list-inline>\n",
       "\t<li>1</li>\n",
       "\t<li>33</li>\n",
       "\t<li>64</li>\n",
       "\t<li>74</li>\n",
       "</ol>\n"
      ],
      "text/latex": [
       "\\begin{enumerate*}\n",
       "\\item 1\n",
       "\\item 33\n",
       "\\item 64\n",
       "\\item 74\n",
       "\\end{enumerate*}\n"
      ],
      "text/markdown": [
       "1. 1\n",
       "2. 33\n",
       "3. 64\n",
       "4. 74\n",
       "\n",
       "\n"
      ],
      "text/plain": [
       "[1]  1 33 64 74"
      ]
     },
     "metadata": {},
     "output_type": "display_data"
    }
   ],
   "source": [
    "b <- which(y %in% boxplot.stats(y)$out) # boxplot.stats 안에 $out 이란 변수가 있다. \n",
    "b"
   ]
  },
  {
   "cell_type": "code",
   "execution_count": 158,
   "metadata": {},
   "outputs": [
    {
     "data": {
      "text/html": [
       "<ol class=list-inline>\n",
       "\t<li>-3.31539149613418</li>\n",
       "\t<li>2.68592240155622</li>\n",
       "\t<li>-3.05571698072628</li>\n",
       "\t<li>2.57120346597897</li>\n",
       "</ol>\n"
      ],
      "text/latex": [
       "\\begin{enumerate*}\n",
       "\\item -3.31539149613418\n",
       "\\item 2.68592240155622\n",
       "\\item -3.05571698072628\n",
       "\\item 2.57120346597897\n",
       "\\end{enumerate*}\n"
      ],
      "text/markdown": [
       "1. -3.31539149613418\n",
       "2. 2.68592240155622\n",
       "3. -3.05571698072628\n",
       "4. 2.57120346597897\n",
       "\n",
       "\n"
      ],
      "text/plain": [
       "[1] -3.315391  2.685922 -3.055717  2.571203"
      ]
     },
     "metadata": {},
     "output_type": "display_data"
    },
    {
     "data": {
      "text/html": [
       "<ol class=list-inline>\n",
       "\t<li>-3.31539149613418</li>\n",
       "\t<li>2.68592240155622</li>\n",
       "\t<li>-3.05571698072628</li>\n",
       "\t<li>2.57120346597897</li>\n",
       "</ol>\n"
      ],
      "text/latex": [
       "\\begin{enumerate*}\n",
       "\\item -3.31539149613418\n",
       "\\item 2.68592240155622\n",
       "\\item -3.05571698072628\n",
       "\\item 2.57120346597897\n",
       "\\end{enumerate*}\n"
      ],
      "text/markdown": [
       "1. -3.31539149613418\n",
       "2. 2.68592240155622\n",
       "3. -3.05571698072628\n",
       "4. 2.57120346597897\n",
       "\n",
       "\n"
      ],
      "text/plain": [
       "[1] -3.315391  2.685922 -3.055717  2.571203"
      ]
     },
     "metadata": {},
     "output_type": "display_data"
    }
   ],
   "source": [
    "y[c(b)]  # 대량 -3 보다 작고, 2.5보다 큰 값이 이상치이다.\n",
    "y[c(1,33,64,74)]"
   ]
  },
  {
   "cell_type": "markdown",
   "metadata": {},
   "source": [
    "##### outlier인 값들만 저장, 인덱스번호와 값 형식으로 저장"
   ]
  },
  {
   "cell_type": "code",
   "execution_count": 159,
   "metadata": {
    "collapsed": true
   },
   "outputs": [],
   "source": [
    "ot <- cbind(b,y[c(1,33,64,74)])"
   ]
  },
  {
   "cell_type": "markdown",
   "metadata": {},
   "source": [
    "##### plot 그려보기"
   ]
  },
  {
   "cell_type": "code",
   "execution_count": 162,
   "metadata": {
    "scrolled": true
   },
   "outputs": [
    {
     "data": {
      "image/png": "[encoded data removed]",
      "text/plain": [
       "plot without title"
      ]
     },
     "metadata": {},
     "output_type": "display_data"
    }
   ],
   "source": [
    "plot(y)\n",
    "points(ot, col=\"red\", pch=\"+\", cex=2.5)"
   ]
  },
  {
   "cell_type": "markdown",
   "metadata": {},
   "source": [
    "#### 2. outlier 도표화 2차원에서"
   ]
  },
  {
   "cell_type": "code",
   "execution_count": 186,
   "metadata": {
    "collapsed": true
   },
   "outputs": [],
   "source": [
    "y <- rnorm(100)\n",
    "x <- rnorm(100)"
   ]
  },
  {
   "cell_type": "code",
   "execution_count": 187,
   "metadata": {
    "collapsed": true
   },
   "outputs": [],
   "source": [
    "df <- data.frame(x,y)"
   ]
  },
  {
   "cell_type": "code",
   "execution_count": 188,
   "metadata": {
    "collapsed": true
   },
   "outputs": [],
   "source": [
    "rm(x,y)"
   ]
  },
  {
   "cell_type": "code",
   "execution_count": 189,
   "metadata": {},
   "outputs": [
    {
     "name": "stderr",
     "output_type": "stream",
     "text": [
      "The following objects are masked from df (pos = 3):\n",
      "\n",
      "    x, y\n",
      "\n",
      "The following objects are masked from df (pos = 4):\n",
      "\n",
      "    x, y\n",
      "\n",
      "The following objects are masked from df (pos = 5):\n",
      "\n",
      "    x, y\n",
      "\n"
     ]
    }
   ],
   "source": [
    "attach(df)"
   ]
  },
  {
   "cell_type": "markdown",
   "metadata": {},
   "source": [
    "##### boxplot으로 outlier찾기"
   ]
  },
  {
   "cell_type": "code",
   "execution_count": 198,
   "metadata": {},
   "outputs": [
    {
     "data": {
      "text/html": [
       "<ol class=list-inline>\n",
       "\t<li>62</li>\n",
       "\t<li>93</li>\n",
       "</ol>\n"
      ],
      "text/latex": [
       "\\begin{enumerate*}\n",
       "\\item 62\n",
       "\\item 93\n",
       "\\end{enumerate*}\n"
      ],
      "text/markdown": [
       "1. 62\n",
       "2. 93\n",
       "\n",
       "\n"
      ],
      "text/plain": [
       "[1] 62 93"
      ]
     },
     "metadata": {},
     "output_type": "display_data"
    }
   ],
   "source": [
    "(a <- which(x %in% boxplot.stats(x)$out))   # x이 outlier는 62행과, 93행"
   ]
  },
  {
   "cell_type": "code",
   "execution_count": 191,
   "metadata": {
    "scrolled": true
   },
   "outputs": [
    {
     "data": {
      "text/html": [
       "<ol class=list-inline>\n",
       "\t<li>29</li>\n",
       "\t<li>45</li>\n",
       "\t<li>62</li>\n",
       "</ol>\n"
      ],
      "text/latex": [
       "\\begin{enumerate*}\n",
       "\\item 29\n",
       "\\item 45\n",
       "\\item 62\n",
       "\\end{enumerate*}\n"
      ],
      "text/markdown": [
       "1. 29\n",
       "2. 45\n",
       "3. 62\n",
       "\n",
       "\n"
      ],
      "text/plain": [
       "[1] 29 45 62"
      ]
     },
     "metadata": {},
     "output_type": "display_data"
    }
   ],
   "source": [
    "(b <- which(y %in% boxplot.stats(y)$out))   # x이 outlier는 29행과, 45행, 62행"
   ]
  },
  {
   "cell_type": "markdown",
   "metadata": {},
   "source": [
    "##### x,y 의 공통 outlier 찾기\n",
    "- intersect()함수 이용"
   ]
  },
  {
   "cell_type": "code",
   "execution_count": 197,
   "metadata": {},
   "outputs": [
    {
     "data": {
      "text/html": [
       "62"
      ],
      "text/latex": [
       "62"
      ],
      "text/markdown": [
       "62"
      ],
      "text/plain": [
       "[1] 62"
      ]
     },
     "metadata": {},
     "output_type": "display_data"
    }
   ],
   "source": [
    "(outlier.list1 <- intersect(a,b))  # outliers in both x and y : 62행"
   ]
  },
  {
   "cell_type": "markdown",
   "metadata": {},
   "source": [
    "##### boxplot 그려보기"
   ]
  },
  {
   "cell_type": "code",
   "execution_count": 195,
   "metadata": {
    "scrolled": true
   },
   "outputs": [
    {
     "data": {
      "image/png": "[encoded data removed]",
      "text/plain": [
       "plot without title"
      ]
     },
     "metadata": {},
     "output_type": "display_data"
    }
   ],
   "source": [
    "plot(df)\n",
    "points(df[outlier.list1,], col=\"red\", pch=\"+\", cex= 2.5)"
   ]
  },
  {
   "cell_type": "markdown",
   "metadata": {},
   "source": [
    "### 21. NA 집계하기 - 실전 연습!"
   ]
  },
  {
   "cell_type": "markdown",
   "metadata": {},
   "source": [
    "#### 자료 읽기와 가공하기"
   ]
  },
  {
   "cell_type": "code",
   "execution_count": 1,
   "metadata": {
    "collapsed": true
   },
   "outputs": [],
   "source": [
    "library(\"openxlsx\")"
   ]
  },
  {
   "cell_type": "code",
   "execution_count": 5,
   "metadata": {
    "collapsed": true,
    "scrolled": true
   },
   "outputs": [],
   "source": [
    "ham <- read.xlsx(\"data/outlier_food.xlsx\", sheet=1, colNames = TRUE, detectDates = TRUE )"
   ]
  },
  {
   "cell_type": "code",
   "execution_count": 6,
   "metadata": {
    "collapsed": true
   },
   "outputs": [],
   "source": [
    "ham$sido <- substr(ham$sigun, 1, 2)\n",
    "ham$sido <- factor(ham$sido) #그림을 잘 그리기 위해서 레벨을 부여. 범주화가 됨 -> 그래프 그리기 용이\n",
    "\n",
    "ham$year <- substr(ham$접수일,1,4)\n",
    "\n",
    "ham$mon <- substr(ham$접수일,6,7)\n",
    "ham$mon<- factor(ham$mon)\n",
    "ham$mon<- ordered(ham$mon, levels =c(\"01\",\"02\",\"03\",\"04\",\"05\",\"06\",\"07\",\"08\",\"09\",\"10\",\"11\",\"12\")) #월을 순서대로 나열하기 위해서"
   ]
  },
  {
   "cell_type": "markdown",
   "metadata": {},
   "source": [
    "##### 텍스트 정규형"
   ]
  },
  {
   "cell_type": "markdown",
   "metadata": {},
   "source": [
    "- [a-z]는 a부터 z중 하나\n",
    "- \"-\" 기호와 함께 쓰면 문자의 범위를 지정할 수 있음.\n",
    "- \"[]\" : \"[\" 과 \"]\" 사이의 문자열 중 하나를 의미.\n",
    "- . \\ | ( ) [ { ^ $ * ? # 이런 글자를 찾고 싶을 때는 앞에 \\ \\를 붙여준다\n",
    "- \"^\"는 바로 뒤의 문자열을 기준으로 \",\"그 문자열과 동일한 문자열로 시작하는 것.\n",
    "- 소문자 s는 줄바꿈을 임의의 한 문자로 취급하여 찾는다. \n",
    "- \\n"
   ]
  },
  {
   "cell_type": "code",
   "execution_count": 17,
   "metadata": {
    "collapsed": true,
    "scrolled": true
   },
   "outputs": [],
   "source": [
    "ham$민원구분 <- gsub(\"[^\\uAC00-\\uD7A3xfe,0-9a-zA-Zㄱ-ㅎ ㅏ-ㅣ가-힣\\\\s]\",\"\",ham$민원구분)"
   ]
  },
  {
   "cell_type": "code",
   "execution_count": 18,
   "metadata": {
    "collapsed": true
   },
   "outputs": [],
   "source": [
    "ham$민원구분 <- factor(ham$민원구분)"
   ]
  },
  {
   "cell_type": "code",
   "execution_count": 21,
   "metadata": {},
   "outputs": [
    {
     "data": {
      "text/html": [
       "<ol class=list-inline>\n",
       "\t<li>'변경민원'</li>\n",
       "\t<li><span style=white-space:pre-wrap>'변경민원      '</span></li>\n",
       "\t<li>'신규민원'</li>\n",
       "\t<li><span style=white-space:pre-wrap>'신규민원      '</span></li>\n",
       "\t<li>'재교부민원'</li>\n",
       "\t<li><span style=white-space:pre-wrap>'재교부민원    '</span></li>\n",
       "\t<li>'지위승계민원'</li>\n",
       "\t<li><span style=white-space:pre-wrap>'지위승계민원  '</span></li>\n",
       "\t<li>'폐업민원'</li>\n",
       "\t<li><span style=white-space:pre-wrap>'폐업민원      '</span></li>\n",
       "</ol>\n"
      ],
      "text/latex": [
       "\\begin{enumerate*}\n",
       "\\item '변경민원'\n",
       "\\item '변경민원      '\n",
       "\\item '신규민원'\n",
       "\\item '신규민원      '\n",
       "\\item '재교부민원'\n",
       "\\item '재교부민원    '\n",
       "\\item '지위승계민원'\n",
       "\\item '지위승계민원  '\n",
       "\\item '폐업민원'\n",
       "\\item '폐업민원      '\n",
       "\\end{enumerate*}\n"
      ],
      "text/markdown": [
       "1. '변경민원'\n",
       "2. <span style=white-space:pre-wrap>'변경민원      '</span>\n",
       "3. '신규민원'\n",
       "4. <span style=white-space:pre-wrap>'신규민원      '</span>\n",
       "5. '재교부민원'\n",
       "6. <span style=white-space:pre-wrap>'재교부민원    '</span>\n",
       "7. '지위승계민원'\n",
       "8. <span style=white-space:pre-wrap>'지위승계민원  '</span>\n",
       "9. '폐업민원'\n",
       "10. <span style=white-space:pre-wrap>'폐업민원      '</span>\n",
       "\n",
       "\n"
      ],
      "text/plain": [
       " [1] \"변경민원\"       \"변경민원      \" \"신규민원\"       \"신규민원      \"\n",
       " [5] \"재교부민원\"     \"재교부민원    \" \"지위승계민원\"   \"지위승계민원  \"\n",
       " [9] \"폐업민원\"       \"폐업민원      \""
      ]
     },
     "metadata": {},
     "output_type": "display_data"
    }
   ],
   "source": [
    "levels(ham$민원구분)  #민원구분에 무슨 값이 있는지 추출!!!!"
   ]
  },
  {
   "cell_type": "markdown",
   "metadata": {},
   "source": [
    "#### 시각화"
   ]
  },
  {
   "cell_type": "code",
   "execution_count": 23,
   "metadata": {
    "collapsed": true
   },
   "outputs": [],
   "source": [
    "library(ggplot2)"
   ]
  },
  {
   "cell_type": "code",
   "execution_count": 24,
   "metadata": {},
   "outputs": [
    {
     "ename": "ERROR",
     "evalue": "Error in eval(expr, envir, enclos): could not find function \"windows\"\n",
     "output_type": "error",
     "traceback": [
      "Error in eval(expr, envir, enclos): could not find function \"windows\"\nTraceback:\n"
     ]
    }
   ],
   "source": [
    "windows(30,30)"
   ]
  },
  {
   "cell_type": "code",
   "execution_count": 26,
   "metadata": {},
   "outputs": [
    {
     "data": {},
     "metadata": {},
     "output_type": "display_data"
    },
    {
     "data": {
      "image/png": "[encoded data removed]",
      "text/plain": [
       "plot without title"
      ]
     },
     "metadata": {},
     "output_type": "display_data"
    }
   ],
   "source": [
    "qplot(h, year, data=ham, facets=sido ~.)+\n",
    "geom_vline(xintercept = 72, linetype=\"dashed\", color = \"red\", size=1.5)"
   ]
  },
  {
   "cell_type": "code",
   "execution_count": 27,
   "metadata": {
    "collapsed": true
   },
   "outputs": [],
   "source": [
    "library(lattice)"
   ]
  },
  {
   "cell_type": "code",
   "execution_count": 29,
   "metadata": {},
   "outputs": [
    {
     "data": {},
     "metadata": {},
     "output_type": "display_data"
    },
    {
     "data": {
      "image/png": "[encoded data removed]",
      "text/plain": [
       "plot without title"
      ]
     },
     "metadata": {},
     "output_type": "display_data"
    }
   ],
   "source": [
    "xyplot(ham$h~ham$mon | ham$민원구분, data=ham, nint=5, type=\"p\", grid=TRUE, cex=0.4, jitter.x=TRUE,   \n",
    "      group = sido, auto.key=list(title=\"시도\",space = \"right\", cex=1.0),\n",
    "      par.settings=list(superpose.symbol=list(pch=1:17)),\n",
    "      panel=function(x,...){\n",
    "          panel.xyplot(x=x,...)\n",
    "          m<-length(x)\n",
    "          panel.text(x=11, y=200,labels=m)\n",
    "      }\n",
    "      )"
   ]
  },
  {
   "cell_type": "code",
   "execution_count": null,
   "metadata": {
    "collapsed": true
   },
   "outputs": [],
   "source": []
  }
 ],
 "metadata": {
  "kernelspec": {
   "display_name": "R",
   "language": "R",
   "name": "ir"
  },
  "language_info": {
   "codemirror_mode": "r",
   "file_extension": ".r",
   "mimetype": "text/x-r-source",
   "name": "R",
   "pygments_lexer": "r",
   "version": "3.3.2"
  }
 },
 "nbformat": 4,
 "nbformat_minor": 2
}
