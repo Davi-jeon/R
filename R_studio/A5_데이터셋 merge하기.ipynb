{
 "cells": [
  {
   "cell_type": "markdown",
   "metadata": {},
   "source": [
    "##  데이터셋 merge"
   ]
  },
  {
   "cell_type": "code",
   "execution_count": 3,
   "metadata": {
    "scrolled": true
   },
   "outputs": [
    {
     "name": "stderr",
     "output_type": "stream",
     "text": [
      "also installing the dependencies ‘gsubfn’, ‘chron’\n",
      "\n",
      "Updating HTML index of packages in '.Library'\n",
      "Making 'packages.html' ... done\n"
     ]
    }
   ],
   "source": [
    "install.packages(\"sqldf\")"
   ]
  },
  {
   "cell_type": "markdown",
   "metadata": {},
   "source": [
    "### (1)SQL 사용 inner join\n",
    "- CustomerID가 공통으로 존재하는 열만 추출하여 merge"
   ]
  },
  {
   "cell_type": "code",
   "execution_count": 8,
   "metadata": {
    "scrolled": true
   },
   "outputs": [
    {
     "data": {
      "text/html": [
       "<table>\n",
       "<thead><tr><th scope=col>CustomerId</th><th scope=col>Product</th></tr></thead>\n",
       "<tbody>\n",
       "\t<tr><td>1      </td><td>Toaster</td></tr>\n",
       "\t<tr><td>2      </td><td>Toaster</td></tr>\n",
       "\t<tr><td>3      </td><td>Toaster</td></tr>\n",
       "\t<tr><td>4      </td><td>Radio  </td></tr>\n",
       "\t<tr><td>5      </td><td>Radio  </td></tr>\n",
       "\t<tr><td>6      </td><td>Radio  </td></tr>\n",
       "</tbody>\n",
       "</table>\n"
      ],
      "text/latex": [
       "\\begin{tabular}{r|ll}\n",
       " CustomerId & Product\\\\\n",
       "\\hline\n",
       "\t 1       & Toaster\\\\\n",
       "\t 2       & Toaster\\\\\n",
       "\t 3       & Toaster\\\\\n",
       "\t 4       & Radio  \\\\\n",
       "\t 5       & Radio  \\\\\n",
       "\t 6       & Radio  \\\\\n",
       "\\end{tabular}\n"
      ],
      "text/markdown": [
       "\n",
       "CustomerId | Product | \n",
       "|---|---|---|---|---|---|\n",
       "| 1       | Toaster | \n",
       "| 2       | Toaster | \n",
       "| 3       | Toaster | \n",
       "| 4       | Radio   | \n",
       "| 5       | Radio   | \n",
       "| 6       | Radio   | \n",
       "\n",
       "\n"
      ],
      "text/plain": [
       "  CustomerId Product\n",
       "1 1          Toaster\n",
       "2 2          Toaster\n",
       "3 3          Toaster\n",
       "4 4          Radio  \n",
       "5 5          Radio  \n",
       "6 6          Radio  "
      ]
     },
     "metadata": {},
     "output_type": "display_data"
    },
    {
     "data": {
      "text/html": [
       "<table>\n",
       "<thead><tr><th scope=col>CustomerId</th><th scope=col>State</th></tr></thead>\n",
       "<tbody>\n",
       "\t<tr><td>2      </td><td>Alabama</td></tr>\n",
       "\t<tr><td>4      </td><td>Alabama</td></tr>\n",
       "\t<tr><td>6      </td><td>Ohio   </td></tr>\n",
       "</tbody>\n",
       "</table>\n"
      ],
      "text/latex": [
       "\\begin{tabular}{r|ll}\n",
       " CustomerId & State\\\\\n",
       "\\hline\n",
       "\t 2       & Alabama\\\\\n",
       "\t 4       & Alabama\\\\\n",
       "\t 6       & Ohio   \\\\\n",
       "\\end{tabular}\n"
      ],
      "text/markdown": [
       "\n",
       "CustomerId | State | \n",
       "|---|---|---|\n",
       "| 2       | Alabama | \n",
       "| 4       | Alabama | \n",
       "| 6       | Ohio    | \n",
       "\n",
       "\n"
      ],
      "text/plain": [
       "  CustomerId State  \n",
       "1 2          Alabama\n",
       "2 4          Alabama\n",
       "3 6          Ohio   "
      ]
     },
     "metadata": {},
     "output_type": "display_data"
    },
    {
     "data": {
      "text/html": [
       "<table>\n",
       "<thead><tr><th scope=col>CustomerId</th><th scope=col>Product</th><th scope=col>State</th></tr></thead>\n",
       "<tbody>\n",
       "\t<tr><td>2      </td><td>Toaster</td><td>Alabama</td></tr>\n",
       "\t<tr><td>4      </td><td>Radio  </td><td>Alabama</td></tr>\n",
       "\t<tr><td>6      </td><td>Radio  </td><td>Ohio   </td></tr>\n",
       "</tbody>\n",
       "</table>\n"
      ],
      "text/latex": [
       "\\begin{tabular}{r|lll}\n",
       " CustomerId & Product & State\\\\\n",
       "\\hline\n",
       "\t 2       & Toaster & Alabama\\\\\n",
       "\t 4       & Radio   & Alabama\\\\\n",
       "\t 6       & Radio   & Ohio   \\\\\n",
       "\\end{tabular}\n"
      ],
      "text/markdown": [
       "\n",
       "CustomerId | Product | State | \n",
       "|---|---|---|\n",
       "| 2       | Toaster | Alabama | \n",
       "| 4       | Radio   | Alabama | \n",
       "| 6       | Radio   | Ohio    | \n",
       "\n",
       "\n"
      ],
      "text/plain": [
       "  CustomerId Product State  \n",
       "1 2          Toaster Alabama\n",
       "2 4          Radio   Alabama\n",
       "3 6          Radio   Ohio   "
      ]
     },
     "metadata": {},
     "output_type": "display_data"
    }
   ],
   "source": [
    "library(sqldf)\n",
    "df_1 = data.frame(CustomerId = c(1:6), Product = c(rep(\"Toaster\", 3), rep(\"Radio\", 3)))\n",
    "df_1\n",
    "\n",
    "df_2 = data.frame(CustomerId = c(2, 4, 6), State = c(rep(\"Alabama\", 2), rep(\"Ohio\", 1)))\n",
    "df_2\n",
    "\n",
    "df3 <- sqldf(\"SELECT CustomerId, Product, State\n",
    "FROM df_1\n",
    "JOIN df_2 USING(CustomerId)\")"
   ]
  },
  {
   "cell_type": "code",
   "execution_count": 9,
   "metadata": {},
   "outputs": [
    {
     "data": {
      "text/html": [
       "<table>\n",
       "<thead><tr><th scope=col>CustomerId</th><th scope=col>Product</th><th scope=col>State</th></tr></thead>\n",
       "<tbody>\n",
       "\t<tr><td>2      </td><td>Toaster</td><td>Alabama</td></tr>\n",
       "\t<tr><td>4      </td><td>Radio  </td><td>Alabama</td></tr>\n",
       "\t<tr><td>6      </td><td>Radio  </td><td>Ohio   </td></tr>\n",
       "</tbody>\n",
       "</table>\n"
      ],
      "text/latex": [
       "\\begin{tabular}{r|lll}\n",
       " CustomerId & Product & State\\\\\n",
       "\\hline\n",
       "\t 2       & Toaster & Alabama\\\\\n",
       "\t 4       & Radio   & Alabama\\\\\n",
       "\t 6       & Radio   & Ohio   \\\\\n",
       "\\end{tabular}\n"
      ],
      "text/markdown": [
       "\n",
       "CustomerId | Product | State | \n",
       "|---|---|---|\n",
       "| 2       | Toaster | Alabama | \n",
       "| 4       | Radio   | Alabama | \n",
       "| 6       | Radio   | Ohio    | \n",
       "\n",
       "\n"
      ],
      "text/plain": [
       "  CustomerId Product State  \n",
       "1 2          Toaster Alabama\n",
       "2 4          Radio   Alabama\n",
       "3 6          Radio   Ohio   "
      ]
     },
     "metadata": {},
     "output_type": "display_data"
    }
   ],
   "source": [
    "df3"
   ]
  },
  {
   "cell_type": "markdown",
   "metadata": {},
   "source": [
    "### (2) 두 데이터 셋에 있는 값모두 나타나게 두데이터셋 합하기"
   ]
  },
  {
   "cell_type": "code",
   "execution_count": 11,
   "metadata": {},
   "outputs": [
    {
     "data": {
      "text/html": [
       "<table>\n",
       "<thead><tr><th scope=col>CustomerId</th><th scope=col>Product</th></tr></thead>\n",
       "<tbody>\n",
       "\t<tr><td>1      </td><td>Toaster</td></tr>\n",
       "\t<tr><td>2      </td><td>Toaster</td></tr>\n",
       "\t<tr><td>3      </td><td>Toaster</td></tr>\n",
       "\t<tr><td>4      </td><td>Radio  </td></tr>\n",
       "\t<tr><td>5      </td><td>Radio  </td></tr>\n",
       "\t<tr><td>6      </td><td>Radio  </td></tr>\n",
       "</tbody>\n",
       "</table>\n"
      ],
      "text/latex": [
       "\\begin{tabular}{r|ll}\n",
       " CustomerId & Product\\\\\n",
       "\\hline\n",
       "\t 1       & Toaster\\\\\n",
       "\t 2       & Toaster\\\\\n",
       "\t 3       & Toaster\\\\\n",
       "\t 4       & Radio  \\\\\n",
       "\t 5       & Radio  \\\\\n",
       "\t 6       & Radio  \\\\\n",
       "\\end{tabular}\n"
      ],
      "text/markdown": [
       "\n",
       "CustomerId | Product | \n",
       "|---|---|---|---|---|---|\n",
       "| 1       | Toaster | \n",
       "| 2       | Toaster | \n",
       "| 3       | Toaster | \n",
       "| 4       | Radio   | \n",
       "| 5       | Radio   | \n",
       "| 6       | Radio   | \n",
       "\n",
       "\n"
      ],
      "text/plain": [
       "  CustomerId Product\n",
       "1 1          Toaster\n",
       "2 2          Toaster\n",
       "3 3          Toaster\n",
       "4 4          Radio  \n",
       "5 5          Radio  \n",
       "6 6          Radio  "
      ]
     },
     "metadata": {},
     "output_type": "display_data"
    },
    {
     "data": {
      "text/html": [
       "<table>\n",
       "<thead><tr><th scope=col>CustomerId</th><th scope=col>State</th></tr></thead>\n",
       "<tbody>\n",
       "\t<tr><td>2      </td><td>Alabama</td></tr>\n",
       "\t<tr><td>4      </td><td>Alabama</td></tr>\n",
       "\t<tr><td>7      </td><td>Ohio   </td></tr>\n",
       "</tbody>\n",
       "</table>\n"
      ],
      "text/latex": [
       "\\begin{tabular}{r|ll}\n",
       " CustomerId & State\\\\\n",
       "\\hline\n",
       "\t 2       & Alabama\\\\\n",
       "\t 4       & Alabama\\\\\n",
       "\t 7       & Ohio   \\\\\n",
       "\\end{tabular}\n"
      ],
      "text/markdown": [
       "\n",
       "CustomerId | State | \n",
       "|---|---|---|\n",
       "| 2       | Alabama | \n",
       "| 4       | Alabama | \n",
       "| 7       | Ohio    | \n",
       "\n",
       "\n"
      ],
      "text/plain": [
       "  CustomerId State  \n",
       "1 2          Alabama\n",
       "2 4          Alabama\n",
       "3 7          Ohio   "
      ]
     },
     "metadata": {},
     "output_type": "display_data"
    }
   ],
   "source": [
    "df1 = data.frame(CustomerId = c(1:6), Product = c(rep(\"Toaster\", 3), rep(\"Radio\", 3)))\n",
    "df1\n",
    "\n",
    "df2 = data.frame(CustomerId = c(2L, 4L, 7L), State = c(rep(\"Alabama\", 2), rep(\"Ohio\", 1)))\n",
    "df2\n",
    " \n",
    "\n",
    "library(data.table)\n",
    "\n",
    "dt1 = as.data.table(df1)\n",
    "dt2 = as.data.table(df2)"
   ]
  },
  {
   "cell_type": "code",
   "execution_count": 10,
   "metadata": {},
   "outputs": [
    {
     "data": {
      "text/html": [
       "<table>\n",
       "<thead><tr><th scope=col>CustomerId</th><th scope=col>Product</th><th scope=col>State</th></tr></thead>\n",
       "<tbody>\n",
       "\t<tr><td>1      </td><td>Toaster</td><td>NA     </td></tr>\n",
       "\t<tr><td>2      </td><td>Toaster</td><td>Alabama</td></tr>\n",
       "\t<tr><td>3      </td><td>Toaster</td><td>NA     </td></tr>\n",
       "\t<tr><td>4      </td><td>Radio  </td><td>Alabama</td></tr>\n",
       "\t<tr><td>5      </td><td>Radio  </td><td>NA     </td></tr>\n",
       "\t<tr><td>6      </td><td>Radio  </td><td>NA     </td></tr>\n",
       "\t<tr><td>7      </td><td>NA     </td><td>Ohio   </td></tr>\n",
       "</tbody>\n",
       "</table>\n"
      ],
      "text/latex": [
       "\\begin{tabular}{r|lll}\n",
       " CustomerId & Product & State\\\\\n",
       "\\hline\n",
       "\t 1       & Toaster & NA     \\\\\n",
       "\t 2       & Toaster & Alabama\\\\\n",
       "\t 3       & Toaster & NA     \\\\\n",
       "\t 4       & Radio   & Alabama\\\\\n",
       "\t 5       & Radio   & NA     \\\\\n",
       "\t 6       & Radio   & NA     \\\\\n",
       "\t 7       & NA      & Ohio   \\\\\n",
       "\\end{tabular}\n"
      ],
      "text/markdown": [
       "\n",
       "CustomerId | Product | State | \n",
       "|---|---|---|---|---|---|---|\n",
       "| 1       | Toaster | NA      | \n",
       "| 2       | Toaster | Alabama | \n",
       "| 3       | Toaster | NA      | \n",
       "| 4       | Radio   | Alabama | \n",
       "| 5       | Radio   | NA      | \n",
       "| 6       | Radio   | NA      | \n",
       "| 7       | NA      | Ohio    | \n",
       "\n",
       "\n"
      ],
      "text/plain": [
       "  CustomerId Product State  \n",
       "1 1          Toaster NA     \n",
       "2 2          Toaster Alabama\n",
       "3 3          Toaster NA     \n",
       "4 4          Radio   Alabama\n",
       "5 5          Radio   NA     \n",
       "6 6          Radio   NA     \n",
       "7 7          NA      Ohio   "
      ]
     },
     "metadata": {},
     "output_type": "display_data"
    }
   ],
   "source": [
    "dt3 <- merge(dt1, dt2, by = \"CustomerId\", all = TRUE)\n",
    "dt3"
   ]
  }
 ],
 "metadata": {
  "kernelspec": {
   "display_name": "R",
   "language": "R",
   "name": "ir"
  },
  "language_info": {
   "codemirror_mode": "r",
   "file_extension": ".r",
   "mimetype": "text/x-r-source",
   "name": "R",
   "pygments_lexer": "r",
   "version": "3.3.2"
  }
 },
 "nbformat": 4,
 "nbformat_minor": 2
}
