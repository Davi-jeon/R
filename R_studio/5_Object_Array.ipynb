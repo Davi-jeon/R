{
 "cells": [
  {
   "cell_type": "markdown",
   "metadata": {},
   "source": [
    "## Array"
   ]
  },
  {
   "cell_type": "markdown",
   "metadata": {},
   "source": [
    "##### array\n",
    "- matrix가 2차원 배열이라면, array는 다차원의 배열이다.\n",
    "- 행렬을 2차원 이상으로 확장시킨 object이다.\n",
    "- 배열은 일반적으로 3차원 이상의 차원을 갖는 object이다."
   ]
  },
  {
   "cell_type": "markdown",
   "metadata": {},
   "source": [
    "##### 생성\n",
    "- array(data = NA, dim = length(Data), dimname = NULL)"
   ]
  },
  {
   "cell_type": "code",
   "execution_count": 2,
   "metadata": {},
   "outputs": [
    {
     "data": {
      "text/html": [
       "<ol class=list-inline>\n",
       "\t<li>11</li>\n",
       "\t<li>12</li>\n",
       "\t<li>13</li>\n",
       "\t<li>21</li>\n",
       "\t<li>22</li>\n",
       "\t<li>23</li>\n",
       "\t<li>31</li>\n",
       "\t<li>32</li>\n",
       "\t<li>33</li>\n",
       "\t<li>11</li>\n",
       "\t<li>12</li>\n",
       "\t<li>13</li>\n",
       "\t<li>21</li>\n",
       "\t<li>22</li>\n",
       "\t<li>23</li>\n",
       "\t<li>31</li>\n",
       "\t<li>32</li>\n",
       "\t<li>33</li>\n",
       "</ol>\n"
      ],
      "text/latex": [
       "\\begin{enumerate*}\n",
       "\\item 11\n",
       "\\item 12\n",
       "\\item 13\n",
       "\\item 21\n",
       "\\item 22\n",
       "\\item 23\n",
       "\\item 31\n",
       "\\item 32\n",
       "\\item 33\n",
       "\\item 11\n",
       "\\item 12\n",
       "\\item 13\n",
       "\\item 21\n",
       "\\item 22\n",
       "\\item 23\n",
       "\\item 31\n",
       "\\item 32\n",
       "\\item 33\n",
       "\\end{enumerate*}\n"
      ],
      "text/markdown": [
       "1. 11\n",
       "2. 12\n",
       "3. 13\n",
       "4. 21\n",
       "5. 22\n",
       "6. 23\n",
       "7. 31\n",
       "8. 32\n",
       "9. 33\n",
       "10. 11\n",
       "11. 12\n",
       "12. 13\n",
       "13. 21\n",
       "14. 22\n",
       "15. 23\n",
       "16. 31\n",
       "17. 32\n",
       "18. 33\n",
       "\n",
       "\n"
      ],
      "text/plain": [
       ", , 1\n",
       "\n",
       "     [,1] [,2]\n",
       "[1,]   11   21\n",
       "[2,]   12   22\n",
       "[3,]   13   23\n",
       "\n",
       ", , 2\n",
       "\n",
       "     [,1] [,2]\n",
       "[1,]   31   11\n",
       "[2,]   32   12\n",
       "[3,]   33   13\n",
       "\n",
       ", , 3\n",
       "\n",
       "     [,1] [,2]\n",
       "[1,]   21   31\n",
       "[2,]   22   32\n",
       "[3,]   23   33\n"
      ]
     },
     "metadata": {},
     "output_type": "display_data"
    }
   ],
   "source": [
    "aArray <- array(c(11:13,21:23,31:33), dim=c(3,2,3))\n",
    "aArray    #3행, 2열, 3차원"
   ]
  },
  {
   "cell_type": "markdown",
   "metadata": {},
   "source": [
    "UCBAdmissions으로 array실습"
   ]
  },
  {
   "cell_type": "code",
   "execution_count": 3,
   "metadata": {
    "scrolled": true
   },
   "outputs": [
    {
     "data": {
      "text/plain": [
       ", , Dept = A\n",
       "\n",
       "          Gender\n",
       "Admit      Male Female\n",
       "  Admitted  512     89\n",
       "  Rejected  313     19\n",
       "\n",
       ", , Dept = B\n",
       "\n",
       "          Gender\n",
       "Admit      Male Female\n",
       "  Admitted  353     17\n",
       "  Rejected  207      8\n",
       "\n",
       ", , Dept = C\n",
       "\n",
       "          Gender\n",
       "Admit      Male Female\n",
       "  Admitted  120    202\n",
       "  Rejected  205    391\n",
       "\n",
       ", , Dept = D\n",
       "\n",
       "          Gender\n",
       "Admit      Male Female\n",
       "  Admitted  138    131\n",
       "  Rejected  279    244\n",
       "\n",
       ", , Dept = E\n",
       "\n",
       "          Gender\n",
       "Admit      Male Female\n",
       "  Admitted   53     94\n",
       "  Rejected  138    299\n",
       "\n",
       ", , Dept = F\n",
       "\n",
       "          Gender\n",
       "Admit      Male Female\n",
       "  Admitted   22     24\n",
       "  Rejected  351    317\n"
      ]
     },
     "metadata": {},
     "output_type": "display_data"
    }
   ],
   "source": [
    "UCBAdmissions"
   ]
  },
  {
   "cell_type": "code",
   "execution_count": 4,
   "metadata": {},
   "outputs": [
    {
     "data": {
      "text/plain": [
       "          Gender\n",
       "Admit      Male Female\n",
       "  Admitted  512     89\n",
       "  Rejected  313     19"
      ]
     },
     "metadata": {},
     "output_type": "display_data"
    }
   ],
   "source": [
    "UCBAdmissions[,,1]"
   ]
  },
  {
   "cell_type": "code",
   "execution_count": 5,
   "metadata": {},
   "outputs": [
    {
     "data": {
      "text/html": [
       "<dl class=dl-horizontal>\n",
       "\t<dt>A</dt>\n",
       "\t\t<dd>512</dd>\n",
       "\t<dt>B</dt>\n",
       "\t\t<dd>353</dd>\n",
       "\t<dt>C</dt>\n",
       "\t\t<dd>120</dd>\n",
       "\t<dt>D</dt>\n",
       "\t\t<dd>138</dd>\n",
       "\t<dt>E</dt>\n",
       "\t\t<dd>53</dd>\n",
       "\t<dt>F</dt>\n",
       "\t\t<dd>22</dd>\n",
       "</dl>\n"
      ],
      "text/latex": [
       "\\begin{description*}\n",
       "\\item[A] 512\n",
       "\\item[B] 353\n",
       "\\item[C] 120\n",
       "\\item[D] 138\n",
       "\\item[E] 53\n",
       "\\item[F] 22\n",
       "\\end{description*}\n"
      ],
      "text/markdown": [
       "A\n",
       ":   512B\n",
       ":   353C\n",
       ":   120D\n",
       ":   138E\n",
       ":   53F\n",
       ":   22\n",
       "\n"
      ],
      "text/plain": [
       "  A   B   C   D   E   F \n",
       "512 353 120 138  53  22 "
      ]
     },
     "metadata": {},
     "output_type": "display_data"
    }
   ],
   "source": [
    "# 각 학과의 남자 합격생\n",
    "UCBAdmissions[1,1,]"
   ]
  },
  {
   "cell_type": "code",
   "execution_count": 6,
   "metadata": {},
   "outputs": [
    {
     "data": {
      "text/html": [
       "<dl class=dl-horizontal>\n",
       "\t<dt>A</dt>\n",
       "\t\t<dd>89</dd>\n",
       "\t<dt>B</dt>\n",
       "\t\t<dd>17</dd>\n",
       "\t<dt>C</dt>\n",
       "\t\t<dd>202</dd>\n",
       "\t<dt>D</dt>\n",
       "\t\t<dd>131</dd>\n",
       "\t<dt>E</dt>\n",
       "\t\t<dd>94</dd>\n",
       "\t<dt>F</dt>\n",
       "\t\t<dd>24</dd>\n",
       "</dl>\n"
      ],
      "text/latex": [
       "\\begin{description*}\n",
       "\\item[A] 89\n",
       "\\item[B] 17\n",
       "\\item[C] 202\n",
       "\\item[D] 131\n",
       "\\item[E] 94\n",
       "\\item[F] 24\n",
       "\\end{description*}\n"
      ],
      "text/markdown": [
       "A\n",
       ":   89B\n",
       ":   17C\n",
       ":   202D\n",
       ":   131E\n",
       ":   94F\n",
       ":   24\n",
       "\n"
      ],
      "text/plain": [
       "  A   B   C   D   E   F \n",
       " 89  17 202 131  94  24 "
      ]
     },
     "metadata": {},
     "output_type": "display_data"
    }
   ],
   "source": [
    "# 각 학과의 여자 합격생\n",
    "UCBAdmissions[1,2,]"
   ]
  },
  {
   "cell_type": "code",
   "execution_count": 32,
   "metadata": {},
   "outputs": [
    {
     "data": {
      "text/html": [
       "<ol class=list-inline>\n",
       "\t<li>1</li>\n",
       "\t<li>2</li>\n",
       "\t<li>3</li>\n",
       "\t<li>4</li>\n",
       "\t<li>5</li>\n",
       "\t<li>6</li>\n",
       "\t<li>7</li>\n",
       "\t<li>8</li>\n",
       "</ol>\n"
      ],
      "text/latex": [
       "\\begin{enumerate*}\n",
       "\\item 1\n",
       "\\item 2\n",
       "\\item 3\n",
       "\\item 4\n",
       "\\item 5\n",
       "\\item 6\n",
       "\\item 7\n",
       "\\item 8\n",
       "\\end{enumerate*}\n"
      ],
      "text/markdown": [
       "1. 1\n",
       "2. 2\n",
       "3. 3\n",
       "4. 4\n",
       "5. 5\n",
       "6. 6\n",
       "7. 7\n",
       "8. 8\n",
       "\n",
       "\n"
      ],
      "text/plain": [
       ", , 1\n",
       "\n",
       "     [,1] [,2]\n",
       "[1,]    1    3\n",
       "[2,]    2    4\n",
       "\n",
       ", , 2\n",
       "\n",
       "     [,1] [,2]\n",
       "[1,]    5    7\n",
       "[2,]    6    8\n"
      ]
     },
     "metadata": {},
     "output_type": "display_data"
    },
    {
     "data": {
      "text/html": [
       "<table>\n",
       "<tbody>\n",
       "\t<tr><td>5</td><td>7</td></tr>\n",
       "\t<tr><td>6</td><td>8</td></tr>\n",
       "</tbody>\n",
       "</table>\n"
      ],
      "text/latex": [
       "\\begin{tabular}{ll}\n",
       "\t 5 & 7\\\\\n",
       "\t 6 & 8\\\\\n",
       "\\end{tabular}\n"
      ],
      "text/markdown": [
       "\n",
       "| 5 | 7 | \n",
       "| 6 | 8 | \n",
       "\n",
       "\n"
      ],
      "text/plain": [
       "     [,1] [,2]\n",
       "[1,] 5    7   \n",
       "[2,] 6    8   "
      ]
     },
     "metadata": {},
     "output_type": "display_data"
    }
   ],
   "source": [
    "#삭제하기\n",
    "ary1 <- array(1:8, dim = c(2,2,2))\n",
    "ary1\n",
    "ary1[,,-1]"
   ]
  },
  {
   "cell_type": "markdown",
   "metadata": {},
   "source": [
    "#### 과제\n",
    "- Array로 된 내장데이터를 찾아서 rowsums(...,dim=1) 해보고, 하드에 저장해보기"
   ]
  },
  {
   "cell_type": "code",
   "execution_count": 16,
   "metadata": {},
   "outputs": [
    {
     "data": {
      "text/plain": [
       "     Jan Feb Mar Apr May Jun Jul Aug Sep Oct Nov Dec\n",
       "1949 112 118 132 129 121 135 148 148 136 119 104 118\n",
       "1950 115 126 141 135 125 149 170 170 158 133 114 140\n",
       "1951 145 150 178 163 172 178 199 199 184 162 146 166\n",
       "1952 171 180 193 181 183 218 230 242 209 191 172 194\n",
       "1953 196 196 236 235 229 243 264 272 237 211 180 201\n",
       "1954 204 188 235 227 234 264 302 293 259 229 203 229\n",
       "1955 242 233 267 269 270 315 364 347 312 274 237 278\n",
       "1956 284 277 317 313 318 374 413 405 355 306 271 306\n",
       "1957 315 301 356 348 355 422 465 467 404 347 305 336\n",
       "1958 340 318 362 348 363 435 491 505 404 359 310 337\n",
       "1959 360 342 406 396 420 472 548 559 463 407 362 405\n",
       "1960 417 391 419 461 472 535 622 606 508 461 390 432"
      ]
     },
     "metadata": {},
     "output_type": "display_data"
    },
    {
     "data": {
      "text/plain": [
       "NULL"
      ]
     },
     "metadata": {},
     "output_type": "display_data"
    }
   ],
   "source": [
    "AirPassengers\n",
    "dim(AirPassengers) #array가 아님"
   ]
  },
  {
   "cell_type": "code",
   "execution_count": 19,
   "metadata": {},
   "outputs": [
    {
     "data": {
      "text/html": [
       "<ol class=list-inline>\n",
       "\t<li>4</li>\n",
       "\t<li>2</li>\n",
       "\t<li>2</li>\n",
       "\t<li>2</li>\n",
       "</ol>\n"
      ],
      "text/latex": [
       "\\begin{enumerate*}\n",
       "\\item 4\n",
       "\\item 2\n",
       "\\item 2\n",
       "\\item 2\n",
       "\\end{enumerate*}\n"
      ],
      "text/markdown": [
       "1. 4\n",
       "2. 2\n",
       "3. 2\n",
       "4. 2\n",
       "\n",
       "\n"
      ],
      "text/plain": [
       "[1] 4 2 2 2"
      ]
     },
     "metadata": {},
     "output_type": "display_data"
    }
   ],
   "source": [
    "dim(Titanic)  \n",
    "#4차원 - 4행(class), 2열(sex), 2(age = child, adult), 2(survived=No, Yes)\n",
    "\n",
    "T <- Titanic"
   ]
  },
  {
   "cell_type": "code",
   "execution_count": 21,
   "metadata": {
    "collapsed": true
   },
   "outputs": [],
   "source": [
    "write.csv(T,\"Titanic.csv\") #csv로 저장"
   ]
  },
  {
   "cell_type": "markdown",
   "metadata": {},
   "source": [
    "#### melt.array\n",
    "\n",
    "- 차원축소\n",
    "- 데이터 전처리 시, 유용하게 사용"
   ]
  },
  {
   "cell_type": "code",
   "execution_count": 29,
   "metadata": {},
   "outputs": [
    {
     "data": {
      "text/html": [
       "<ol class=list-inline>\n",
       "\t<li>1</li>\n",
       "\t<li>2</li>\n",
       "\t<li>3</li>\n",
       "\t<li>4</li>\n",
       "\t<li>5</li>\n",
       "\t<li>6</li>\n",
       "\t<li>7</li>\n",
       "\t<li>8</li>\n",
       "\t<li>9</li>\n",
       "\t<li>10</li>\n",
       "\t<li>11</li>\n",
       "\t<li>12</li>\n",
       "\t<li>13</li>\n",
       "\t<li>14</li>\n",
       "\t<li>15</li>\n",
       "\t<li>16</li>\n",
       "\t<li>17</li>\n",
       "\t<li>18</li>\n",
       "\t<li>19</li>\n",
       "\t<li>20</li>\n",
       "\t<li>21</li>\n",
       "\t<li>22</li>\n",
       "\t<li>23</li>\n",
       "\t<li>NA</li>\n",
       "</ol>\n"
      ],
      "text/latex": [
       "\\begin{enumerate*}\n",
       "\\item 1\n",
       "\\item 2\n",
       "\\item 3\n",
       "\\item 4\n",
       "\\item 5\n",
       "\\item 6\n",
       "\\item 7\n",
       "\\item 8\n",
       "\\item 9\n",
       "\\item 10\n",
       "\\item 11\n",
       "\\item 12\n",
       "\\item 13\n",
       "\\item 14\n",
       "\\item 15\n",
       "\\item 16\n",
       "\\item 17\n",
       "\\item 18\n",
       "\\item 19\n",
       "\\item 20\n",
       "\\item 21\n",
       "\\item 22\n",
       "\\item 23\n",
       "\\item NA\n",
       "\\end{enumerate*}\n"
      ],
      "text/markdown": [
       "1. 1\n",
       "2. 2\n",
       "3. 3\n",
       "4. 4\n",
       "5. 5\n",
       "6. 6\n",
       "7. 7\n",
       "8. 8\n",
       "9. 9\n",
       "10. 10\n",
       "11. 11\n",
       "12. 12\n",
       "13. 13\n",
       "14. 14\n",
       "15. 15\n",
       "16. 16\n",
       "17. 17\n",
       "18. 18\n",
       "19. 19\n",
       "20. 20\n",
       "21. 21\n",
       "22. 22\n",
       "23. 23\n",
       "24. NA\n",
       "\n",
       "\n"
      ],
      "text/plain": [
       ", , 1\n",
       "\n",
       "     [,1] [,2] [,3]\n",
       "[1,]    1    3    5\n",
       "[2,]    2    4    6\n",
       "\n",
       ", , 2\n",
       "\n",
       "     [,1] [,2] [,3]\n",
       "[1,]    7    9   11\n",
       "[2,]    8   10   12\n",
       "\n",
       ", , 3\n",
       "\n",
       "     [,1] [,2] [,3]\n",
       "[1,]   13   15   17\n",
       "[2,]   14   16   18\n",
       "\n",
       ", , 4\n",
       "\n",
       "     [,1] [,2] [,3]\n",
       "[1,]   19   21   23\n",
       "[2,]   20   22   NA\n"
      ]
     },
     "metadata": {},
     "output_type": "display_data"
    }
   ],
   "source": [
    "a <- array(c(1:23, NA),c(2,3,4))\n",
    "a"
   ]
  },
  {
   "cell_type": "code",
   "execution_count": 28,
   "metadata": {
    "scrolled": true
   },
   "outputs": [
    {
     "data": {
      "text/html": [
       "<table>\n",
       "<thead><tr><th scope=col>X1</th><th scope=col>X2</th><th scope=col>X3</th><th scope=col>value</th></tr></thead>\n",
       "<tbody>\n",
       "\t<tr><td>1 </td><td>1 </td><td>1 </td><td> 1</td></tr>\n",
       "\t<tr><td>2 </td><td>1 </td><td>1 </td><td> 2</td></tr>\n",
       "\t<tr><td>1 </td><td>2 </td><td>1 </td><td> 3</td></tr>\n",
       "\t<tr><td>2 </td><td>2 </td><td>1 </td><td> 4</td></tr>\n",
       "\t<tr><td>1 </td><td>3 </td><td>1 </td><td> 5</td></tr>\n",
       "\t<tr><td>2 </td><td>3 </td><td>1 </td><td> 6</td></tr>\n",
       "\t<tr><td>1 </td><td>1 </td><td>2 </td><td> 7</td></tr>\n",
       "\t<tr><td>2 </td><td>1 </td><td>2 </td><td> 8</td></tr>\n",
       "\t<tr><td>1 </td><td>2 </td><td>2 </td><td> 9</td></tr>\n",
       "\t<tr><td>2 </td><td>2 </td><td>2 </td><td>10</td></tr>\n",
       "\t<tr><td>1 </td><td>3 </td><td>2 </td><td>11</td></tr>\n",
       "\t<tr><td>2 </td><td>3 </td><td>2 </td><td>12</td></tr>\n",
       "\t<tr><td>1 </td><td>1 </td><td>3 </td><td>13</td></tr>\n",
       "\t<tr><td>2 </td><td>1 </td><td>3 </td><td>14</td></tr>\n",
       "\t<tr><td>1 </td><td>2 </td><td>3 </td><td>15</td></tr>\n",
       "\t<tr><td>2 </td><td>2 </td><td>3 </td><td>16</td></tr>\n",
       "\t<tr><td>1 </td><td>3 </td><td>3 </td><td>17</td></tr>\n",
       "\t<tr><td>2 </td><td>3 </td><td>3 </td><td>18</td></tr>\n",
       "\t<tr><td>1 </td><td>1 </td><td>4 </td><td>19</td></tr>\n",
       "\t<tr><td>2 </td><td>1 </td><td>4 </td><td>20</td></tr>\n",
       "\t<tr><td>1 </td><td>2 </td><td>4 </td><td>21</td></tr>\n",
       "\t<tr><td>2 </td><td>2 </td><td>4 </td><td>22</td></tr>\n",
       "\t<tr><td>1 </td><td>3 </td><td>4 </td><td>23</td></tr>\n",
       "\t<tr><td>2 </td><td>3 </td><td>4 </td><td>NA</td></tr>\n",
       "</tbody>\n",
       "</table>\n"
      ],
      "text/latex": [
       "\\begin{tabular}{r|llll}\n",
       " X1 & X2 & X3 & value\\\\\n",
       "\\hline\n",
       "\t 1  & 1  & 1  &  1\\\\\n",
       "\t 2  & 1  & 1  &  2\\\\\n",
       "\t 1  & 2  & 1  &  3\\\\\n",
       "\t 2  & 2  & 1  &  4\\\\\n",
       "\t 1  & 3  & 1  &  5\\\\\n",
       "\t 2  & 3  & 1  &  6\\\\\n",
       "\t 1  & 1  & 2  &  7\\\\\n",
       "\t 2  & 1  & 2  &  8\\\\\n",
       "\t 1  & 2  & 2  &  9\\\\\n",
       "\t 2  & 2  & 2  & 10\\\\\n",
       "\t 1  & 3  & 2  & 11\\\\\n",
       "\t 2  & 3  & 2  & 12\\\\\n",
       "\t 1  & 1  & 3  & 13\\\\\n",
       "\t 2  & 1  & 3  & 14\\\\\n",
       "\t 1  & 2  & 3  & 15\\\\\n",
       "\t 2  & 2  & 3  & 16\\\\\n",
       "\t 1  & 3  & 3  & 17\\\\\n",
       "\t 2  & 3  & 3  & 18\\\\\n",
       "\t 1  & 1  & 4  & 19\\\\\n",
       "\t 2  & 1  & 4  & 20\\\\\n",
       "\t 1  & 2  & 4  & 21\\\\\n",
       "\t 2  & 2  & 4  & 22\\\\\n",
       "\t 1  & 3  & 4  & 23\\\\\n",
       "\t 2  & 3  & 4  & NA\\\\\n",
       "\\end{tabular}\n"
      ],
      "text/markdown": [
       "\n",
       "X1 | X2 | X3 | value | \n",
       "|---|---|---|---|---|---|---|---|---|---|---|---|---|---|---|---|---|---|---|---|---|---|---|---|\n",
       "| 1  | 1  | 1  |  1 | \n",
       "| 2  | 1  | 1  |  2 | \n",
       "| 1  | 2  | 1  |  3 | \n",
       "| 2  | 2  | 1  |  4 | \n",
       "| 1  | 3  | 1  |  5 | \n",
       "| 2  | 3  | 1  |  6 | \n",
       "| 1  | 1  | 2  |  7 | \n",
       "| 2  | 1  | 2  |  8 | \n",
       "| 1  | 2  | 2  |  9 | \n",
       "| 2  | 2  | 2  | 10 | \n",
       "| 1  | 3  | 2  | 11 | \n",
       "| 2  | 3  | 2  | 12 | \n",
       "| 1  | 1  | 3  | 13 | \n",
       "| 2  | 1  | 3  | 14 | \n",
       "| 1  | 2  | 3  | 15 | \n",
       "| 2  | 2  | 3  | 16 | \n",
       "| 1  | 3  | 3  | 17 | \n",
       "| 2  | 3  | 3  | 18 | \n",
       "| 1  | 1  | 4  | 19 | \n",
       "| 2  | 1  | 4  | 20 | \n",
       "| 1  | 2  | 4  | 21 | \n",
       "| 2  | 2  | 4  | 22 | \n",
       "| 1  | 3  | 4  | 23 | \n",
       "| 2  | 3  | 4  | NA | \n",
       "\n",
       "\n"
      ],
      "text/plain": [
       "   X1 X2 X3 value\n",
       "1  1  1  1   1   \n",
       "2  2  1  1   2   \n",
       "3  1  2  1   3   \n",
       "4  2  2  1   4   \n",
       "5  1  3  1   5   \n",
       "6  2  3  1   6   \n",
       "7  1  1  2   7   \n",
       "8  2  1  2   8   \n",
       "9  1  2  2   9   \n",
       "10 2  2  2  10   \n",
       "11 1  3  2  11   \n",
       "12 2  3  2  12   \n",
       "13 1  1  3  13   \n",
       "14 2  1  3  14   \n",
       "15 1  2  3  15   \n",
       "16 2  2  3  16   \n",
       "17 1  3  3  17   \n",
       "18 2  3  3  18   \n",
       "19 1  1  4  19   \n",
       "20 2  1  4  20   \n",
       "21 1  2  4  21   \n",
       "22 2  2  4  22   \n",
       "23 1  3  4  23   \n",
       "24 2  3  4  NA   "
      ]
     },
     "metadata": {},
     "output_type": "display_data"
    }
   ],
   "source": [
    "library(reshape)\n",
    "melt(a) \n",
    "\n",
    "#첫번째 줄은 행, 열번호, 테이블번호, 값(vlaue) -->1"
   ]
  },
  {
   "cell_type": "markdown",
   "metadata": {},
   "source": [
    "array에 이름 붙여주기"
   ]
  },
  {
   "cell_type": "code",
   "execution_count": 30,
   "metadata": {
    "scrolled": true
   },
   "outputs": [
    {
     "data": {
      "text/html": [
       "<table>\n",
       "<thead><tr><th scope=col>X</th><th scope=col>Y</th><th scope=col>Z</th><th scope=col>value</th></tr></thead>\n",
       "<tbody>\n",
       "\t<tr><td>1 </td><td>1 </td><td>1 </td><td> 1</td></tr>\n",
       "\t<tr><td>2 </td><td>1 </td><td>1 </td><td> 2</td></tr>\n",
       "\t<tr><td>1 </td><td>2 </td><td>1 </td><td> 3</td></tr>\n",
       "\t<tr><td>2 </td><td>2 </td><td>1 </td><td> 4</td></tr>\n",
       "\t<tr><td>1 </td><td>3 </td><td>1 </td><td> 5</td></tr>\n",
       "\t<tr><td>2 </td><td>3 </td><td>1 </td><td> 6</td></tr>\n",
       "\t<tr><td>1 </td><td>1 </td><td>2 </td><td> 7</td></tr>\n",
       "\t<tr><td>2 </td><td>1 </td><td>2 </td><td> 8</td></tr>\n",
       "\t<tr><td>1 </td><td>2 </td><td>2 </td><td> 9</td></tr>\n",
       "\t<tr><td>2 </td><td>2 </td><td>2 </td><td>10</td></tr>\n",
       "\t<tr><td>1 </td><td>3 </td><td>2 </td><td>11</td></tr>\n",
       "\t<tr><td>2 </td><td>3 </td><td>2 </td><td>12</td></tr>\n",
       "\t<tr><td>1 </td><td>1 </td><td>3 </td><td>13</td></tr>\n",
       "\t<tr><td>2 </td><td>1 </td><td>3 </td><td>14</td></tr>\n",
       "\t<tr><td>1 </td><td>2 </td><td>3 </td><td>15</td></tr>\n",
       "\t<tr><td>2 </td><td>2 </td><td>3 </td><td>16</td></tr>\n",
       "\t<tr><td>1 </td><td>3 </td><td>3 </td><td>17</td></tr>\n",
       "\t<tr><td>2 </td><td>3 </td><td>3 </td><td>18</td></tr>\n",
       "\t<tr><td>1 </td><td>1 </td><td>4 </td><td>19</td></tr>\n",
       "\t<tr><td>2 </td><td>1 </td><td>4 </td><td>20</td></tr>\n",
       "\t<tr><td>1 </td><td>2 </td><td>4 </td><td>21</td></tr>\n",
       "\t<tr><td>2 </td><td>2 </td><td>4 </td><td>22</td></tr>\n",
       "\t<tr><td>1 </td><td>3 </td><td>4 </td><td>23</td></tr>\n",
       "\t<tr><td>2 </td><td>3 </td><td>4 </td><td>NA</td></tr>\n",
       "</tbody>\n",
       "</table>\n"
      ],
      "text/latex": [
       "\\begin{tabular}{r|llll}\n",
       " X & Y & Z & value\\\\\n",
       "\\hline\n",
       "\t 1  & 1  & 1  &  1\\\\\n",
       "\t 2  & 1  & 1  &  2\\\\\n",
       "\t 1  & 2  & 1  &  3\\\\\n",
       "\t 2  & 2  & 1  &  4\\\\\n",
       "\t 1  & 3  & 1  &  5\\\\\n",
       "\t 2  & 3  & 1  &  6\\\\\n",
       "\t 1  & 1  & 2  &  7\\\\\n",
       "\t 2  & 1  & 2  &  8\\\\\n",
       "\t 1  & 2  & 2  &  9\\\\\n",
       "\t 2  & 2  & 2  & 10\\\\\n",
       "\t 1  & 3  & 2  & 11\\\\\n",
       "\t 2  & 3  & 2  & 12\\\\\n",
       "\t 1  & 1  & 3  & 13\\\\\n",
       "\t 2  & 1  & 3  & 14\\\\\n",
       "\t 1  & 2  & 3  & 15\\\\\n",
       "\t 2  & 2  & 3  & 16\\\\\n",
       "\t 1  & 3  & 3  & 17\\\\\n",
       "\t 2  & 3  & 3  & 18\\\\\n",
       "\t 1  & 1  & 4  & 19\\\\\n",
       "\t 2  & 1  & 4  & 20\\\\\n",
       "\t 1  & 2  & 4  & 21\\\\\n",
       "\t 2  & 2  & 4  & 22\\\\\n",
       "\t 1  & 3  & 4  & 23\\\\\n",
       "\t 2  & 3  & 4  & NA\\\\\n",
       "\\end{tabular}\n"
      ],
      "text/markdown": [
       "\n",
       "X | Y | Z | value | \n",
       "|---|---|---|---|---|---|---|---|---|---|---|---|---|---|---|---|---|---|---|---|---|---|---|---|\n",
       "| 1  | 1  | 1  |  1 | \n",
       "| 2  | 1  | 1  |  2 | \n",
       "| 1  | 2  | 1  |  3 | \n",
       "| 2  | 2  | 1  |  4 | \n",
       "| 1  | 3  | 1  |  5 | \n",
       "| 2  | 3  | 1  |  6 | \n",
       "| 1  | 1  | 2  |  7 | \n",
       "| 2  | 1  | 2  |  8 | \n",
       "| 1  | 2  | 2  |  9 | \n",
       "| 2  | 2  | 2  | 10 | \n",
       "| 1  | 3  | 2  | 11 | \n",
       "| 2  | 3  | 2  | 12 | \n",
       "| 1  | 1  | 3  | 13 | \n",
       "| 2  | 1  | 3  | 14 | \n",
       "| 1  | 2  | 3  | 15 | \n",
       "| 2  | 2  | 3  | 16 | \n",
       "| 1  | 3  | 3  | 17 | \n",
       "| 2  | 3  | 3  | 18 | \n",
       "| 1  | 1  | 4  | 19 | \n",
       "| 2  | 1  | 4  | 20 | \n",
       "| 1  | 2  | 4  | 21 | \n",
       "| 2  | 2  | 4  | 22 | \n",
       "| 1  | 3  | 4  | 23 | \n",
       "| 2  | 3  | 4  | NA | \n",
       "\n",
       "\n"
      ],
      "text/plain": [
       "   X Y Z value\n",
       "1  1 1 1  1   \n",
       "2  2 1 1  2   \n",
       "3  1 2 1  3   \n",
       "4  2 2 1  4   \n",
       "5  1 3 1  5   \n",
       "6  2 3 1  6   \n",
       "7  1 1 2  7   \n",
       "8  2 1 2  8   \n",
       "9  1 2 2  9   \n",
       "10 2 2 2 10   \n",
       "11 1 3 2 11   \n",
       "12 2 3 2 12   \n",
       "13 1 1 3 13   \n",
       "14 2 1 3 14   \n",
       "15 1 2 3 15   \n",
       "16 2 2 3 16   \n",
       "17 1 3 3 17   \n",
       "18 2 3 3 18   \n",
       "19 1 1 4 19   \n",
       "20 2 1 4 20   \n",
       "21 1 2 4 21   \n",
       "22 2 2 4 22   \n",
       "23 1 3 4 23   \n",
       "24 2 3 4 NA   "
      ]
     },
     "metadata": {},
     "output_type": "display_data"
    }
   ],
   "source": [
    "melt(a, varnames = c(\"X\",\"Y\",\"Z\")) "
   ]
  }
 ],
 "metadata": {
  "kernelspec": {
   "display_name": "R",
   "language": "R",
   "name": "ir"
  },
  "language_info": {
   "codemirror_mode": "r",
   "file_extension": ".r",
   "mimetype": "text/x-r-source",
   "name": "R",
   "pygments_lexer": "r",
   "version": "3.3.2"
  }
 },
 "nbformat": 4,
 "nbformat_minor": 2
}
