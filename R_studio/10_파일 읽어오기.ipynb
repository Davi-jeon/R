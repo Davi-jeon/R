{
 "cells": [
  {
   "cell_type": "markdown",
   "metadata": {},
   "source": [
    "# 파일 읽기\n",
    "- csv파일읽기\n",
    "- 탭으로 구분된 파일읽기"
   ]
  },
  {
   "cell_type": "markdown",
   "metadata": {},
   "source": [
    "## CSV파일 읽기"
   ]
  },
  {
   "cell_type": "markdown",
   "metadata": {},
   "source": [
    "##### Factor Object로 읽지 않기"
   ]
  },
  {
   "cell_type": "code",
   "execution_count": 16,
   "metadata": {
    "scrolled": false
   },
   "outputs": [
    {
     "name": "stdout",
     "output_type": "stream",
     "text": [
      "'data.frame':\t32 obs. of  12 variables:\n",
      " $ X   : Factor w/ 32 levels \"AMC Javelin\",..: 18 19 5 13 14 31 7 21 20 22 ...\n",
      " $ mpg : num  21 21 22.8 21.4 18.7 18.1 14.3 24.4 22.8 19.2 ...\n",
      " $ cyl : int  6 6 4 6 8 6 8 4 4 6 ...\n",
      " $ disp: num  160 160 108 258 360 ...\n",
      " $ hp  : int  110 110 93 110 175 105 245 62 95 123 ...\n",
      " $ drat: num  3.9 3.9 3.85 3.08 3.15 2.76 3.21 3.69 3.92 3.92 ...\n",
      " $ wt  : num  2.62 2.88 2.32 3.21 3.44 ...\n",
      " $ qsec: num  16.5 17 18.6 19.4 17 ...\n",
      " $ vs  : int  0 0 1 1 0 1 0 1 1 1 ...\n",
      " $ am  : int  1 1 1 0 0 0 0 0 0 0 ...\n",
      " $ gear: int  4 4 4 3 3 3 3 4 4 4 ...\n",
      " $ carb: int  4 4 1 1 2 1 4 2 2 4 ...\n"
     ]
    }
   ],
   "source": [
    "readcsv_defa <- read.csv(\"data/readcsv_simple.csv\", header= TRUE)\n",
    "#default 옵션에서는 문자를 factor로 읽는다. \n",
    "\n",
    "str(readcsv_defa)"
   ]
  },
  {
   "cell_type": "code",
   "execution_count": 18,
   "metadata": {},
   "outputs": [
    {
     "name": "stdout",
     "output_type": "stream",
     "text": [
      "'data.frame':\t32 obs. of  12 variables:\n",
      " $ X   : chr  \"Mazda RX4\" \"Mazda RX4 Wag\" \"Datsun 710\" \"Hornet 4 Drive\" ...\n",
      " $ mpg : num  21 21 22.8 21.4 18.7 18.1 14.3 24.4 22.8 19.2 ...\n",
      " $ cyl : int  6 6 4 6 8 6 8 4 4 6 ...\n",
      " $ disp: num  160 160 108 258 360 ...\n",
      " $ hp  : int  110 110 93 110 175 105 245 62 95 123 ...\n",
      " $ drat: num  3.9 3.9 3.85 3.08 3.15 2.76 3.21 3.69 3.92 3.92 ...\n",
      " $ wt  : num  2.62 2.88 2.32 3.21 3.44 ...\n",
      " $ qsec: num  16.5 17 18.6 19.4 17 ...\n",
      " $ vs  : int  0 0 1 1 0 1 0 1 1 1 ...\n",
      " $ am  : int  1 1 1 0 0 0 0 0 0 0 ...\n",
      " $ gear: int  4 4 4 3 3 3 3 4 4 4 ...\n",
      " $ carb: int  4 4 1 1 2 1 4 2 2 4 ...\n"
     ]
    }
   ],
   "source": [
    "#Factor Object로 읽지 않기\n",
    "readcsv_fa <- read.csv(\"data/readcsv_simple.csv\", header= TRUE, stringsAsFactors = FALSE)\n",
    "str(readcsv_fa) \n",
    "# character로 나옴.\n",
    "\n",
    "# factor로 하게 되면, 전처리가 매우 어려움. - 사칙연산이 안되기 때문!\n",
    "# 파일 읽는 속도가 올라감"
   ]
  },
  {
   "cell_type": "markdown",
   "metadata": {},
   "source": [
    "##### 특정 값을 결측으로 처리하기"
   ]
  },
  {
   "cell_type": "code",
   "execution_count": 13,
   "metadata": {},
   "outputs": [
    {
     "name": "stdout",
     "output_type": "stream",
     "text": [
      "'data.frame':\t3 obs. of  3 variables:\n",
      " $ id   : int  1 2 3\n",
      " $ name : Factor w/ 3 levels \"Mr. Baz \",\"Mr. Foo \",..: 2 3 1\n",
      " $ score: Factor w/ 3 levels \"92\",\"95\",\"NIL\": 2 3 1\n"
     ]
    }
   ],
   "source": [
    "numchar <- read.csv(\"data/numChar.csv\")\n",
    "str(numchar)   #score에 문자 NIL 이 있음, 이 값을 NA값으로 변환하여 읽고자 함."
   ]
  },
  {
   "cell_type": "code",
   "execution_count": 15,
   "metadata": {},
   "outputs": [
    {
     "name": "stdout",
     "output_type": "stream",
     "text": [
      "'data.frame':\t3 obs. of  3 variables:\n",
      " $ id   : int  1 2 3\n",
      " $ name : Factor w/ 3 levels \"Mr. Baz \",\"Mr. Foo \",..: 2 3 1\n",
      " $ score: int  95 NA 92\n"
     ]
    }
   ],
   "source": [
    "numchar <- read.csv(\"data/numChar.csv\", na.strings =c(\"NIL\"))\n",
    "str(numchar)  \n",
    "\n",
    "# NIL값이 NA로 나옴\n",
    "# SCORE의 속성이 int로 바뀌어, 계산이 가능하게 됨."
   ]
  },
  {
   "cell_type": "markdown",
   "metadata": {
    "collapsed": true
   },
   "source": [
    "practice\n"
   ]
  },
  {
   "cell_type": "code",
   "execution_count": 21,
   "metadata": {},
   "outputs": [
    {
     "data": {
      "text/html": [
       "<table>\n",
       "<thead><tr><th scope=col>id</th><th scope=col>name</th><th scope=col>score</th></tr></thead>\n",
       "<tbody>\n",
       "\t<tr><td>1       </td><td>Mr. o   </td><td>95      </td></tr>\n",
       "\t<tr><td>2       </td><td>Ms. Bar </td><td>NN      </td></tr>\n",
       "\t<tr><td>3       </td><td>Mr. Baz </td><td>92      </td></tr>\n",
       "\t<tr><td>1       </td><td>Mr. Ho  </td><td>95      </td></tr>\n",
       "\t<tr><td>2       </td><td>Ms. Bar </td><td>CC      </td></tr>\n",
       "\t<tr><td>3       </td><td>Mr. Baz </td><td>92      </td></tr>\n",
       "\t<tr><td>1       </td><td>Mr. Foo </td><td>95      </td></tr>\n",
       "\t<tr><td>2       </td><td>Ms. Ba  </td><td>NIL     </td></tr>\n",
       "\t<tr><td>3       </td><td>Mr. Bab </td><td>92      </td></tr>\n",
       "\t<tr><td>1       </td><td>Mr. Foo </td><td>95      </td></tr>\n",
       "\t<tr><td>2       </td><td>Ms. Bar </td><td>NIL     </td></tr>\n",
       "\t<tr><td>3       </td><td>Mr. Baz </td><td>92      </td></tr>\n",
       "\t<tr><td>1       </td><td>Mr. Foo </td><td>95      </td></tr>\n",
       "\t<tr><td>2       </td><td>Ms. Bar </td><td>NIL     </td></tr>\n",
       "\t<tr><td>3       </td><td>Mr. Ba  </td><td>92      </td></tr>\n",
       "</tbody>\n",
       "</table>\n"
      ],
      "text/latex": [
       "\\begin{tabular}{r|lll}\n",
       " id & name & score\\\\\n",
       "\\hline\n",
       "\t 1        & Mr. o    & 95      \\\\\n",
       "\t 2        & Ms. Bar  & NN      \\\\\n",
       "\t 3        & Mr. Baz  & 92      \\\\\n",
       "\t 1        & Mr. Ho   & 95      \\\\\n",
       "\t 2        & Ms. Bar  & CC      \\\\\n",
       "\t 3        & Mr. Baz  & 92      \\\\\n",
       "\t 1        & Mr. Foo  & 95      \\\\\n",
       "\t 2        & Ms. Ba   & NIL     \\\\\n",
       "\t 3        & Mr. Bab  & 92      \\\\\n",
       "\t 1        & Mr. Foo  & 95      \\\\\n",
       "\t 2        & Ms. Bar  & NIL     \\\\\n",
       "\t 3        & Mr. Baz  & 92      \\\\\n",
       "\t 1        & Mr. Foo  & 95      \\\\\n",
       "\t 2        & Ms. Bar  & NIL     \\\\\n",
       "\t 3        & Mr. Ba   & 92      \\\\\n",
       "\\end{tabular}\n"
      ],
      "text/markdown": [
       "\n",
       "id | name | score | \n",
       "|---|---|---|---|---|---|---|---|---|---|---|---|---|---|---|\n",
       "| 1        | Mr. o    | 95       | \n",
       "| 2        | Ms. Bar  | NN       | \n",
       "| 3        | Mr. Baz  | 92       | \n",
       "| 1        | Mr. Ho   | 95       | \n",
       "| 2        | Ms. Bar  | CC       | \n",
       "| 3        | Mr. Baz  | 92       | \n",
       "| 1        | Mr. Foo  | 95       | \n",
       "| 2        | Ms. Ba   | NIL      | \n",
       "| 3        | Mr. Bab  | 92       | \n",
       "| 1        | Mr. Foo  | 95       | \n",
       "| 2        | Ms. Bar  | NIL      | \n",
       "| 3        | Mr. Baz  | 92       | \n",
       "| 1        | Mr. Foo  | 95       | \n",
       "| 2        | Ms. Bar  | NIL      | \n",
       "| 3        | Mr. Ba   | 92       | \n",
       "\n",
       "\n"
      ],
      "text/plain": [
       "   id name     score\n",
       "1  1  Mr. o    95   \n",
       "2  2  Ms. Bar  NN   \n",
       "3  3  Mr. Baz  92   \n",
       "4  1  Mr. Ho   95   \n",
       "5  2  Ms. Bar  CC   \n",
       "6  3  Mr. Baz  92   \n",
       "7  1  Mr. Foo  95   \n",
       "8  2  Ms. Ba   NIL  \n",
       "9  3  Mr. Bab  92   \n",
       "10 1  Mr. Foo  95   \n",
       "11 2  Ms. Bar  NIL  \n",
       "12 3  Mr. Baz  92   \n",
       "13 1  Mr. Foo  95   \n",
       "14 2  Ms. Bar  NIL  \n",
       "15 3  Mr. Ba   92   "
      ]
     },
     "metadata": {},
     "output_type": "display_data"
    }
   ],
   "source": [
    "numchar2 <- read.csv(\"data/numChar2.csv\")\n",
    "numchar2"
   ]
  },
  {
   "cell_type": "code",
   "execution_count": 23,
   "metadata": {},
   "outputs": [
    {
     "data": {
      "text/html": [
       "<table>\n",
       "<thead><tr><th scope=col>id</th><th scope=col>name</th><th scope=col>score</th></tr></thead>\n",
       "<tbody>\n",
       "\t<tr><td>1       </td><td>Mr. o   </td><td>95      </td></tr>\n",
       "\t<tr><td>2       </td><td>Ms. Bar </td><td>NA      </td></tr>\n",
       "\t<tr><td>3       </td><td>Mr. Baz </td><td>92      </td></tr>\n",
       "\t<tr><td>1       </td><td>Mr. Ho  </td><td>95      </td></tr>\n",
       "\t<tr><td>2       </td><td>Ms. Bar </td><td>NA      </td></tr>\n",
       "\t<tr><td>3       </td><td>Mr. Baz </td><td>92      </td></tr>\n",
       "\t<tr><td>1       </td><td>Mr. Foo </td><td>95      </td></tr>\n",
       "\t<tr><td>2       </td><td>Ms. Ba  </td><td>NA      </td></tr>\n",
       "\t<tr><td>3       </td><td>Mr. Bab </td><td>92      </td></tr>\n",
       "\t<tr><td>1       </td><td>Mr. Foo </td><td>95      </td></tr>\n",
       "\t<tr><td>2       </td><td>Ms. Bar </td><td>NA      </td></tr>\n",
       "\t<tr><td>3       </td><td>Mr. Baz </td><td>92      </td></tr>\n",
       "\t<tr><td>1       </td><td>Mr. Foo </td><td>95      </td></tr>\n",
       "\t<tr><td>2       </td><td>Ms. Bar </td><td>NA      </td></tr>\n",
       "\t<tr><td>3       </td><td>Mr. Ba  </td><td>92      </td></tr>\n",
       "</tbody>\n",
       "</table>\n"
      ],
      "text/latex": [
       "\\begin{tabular}{r|lll}\n",
       " id & name & score\\\\\n",
       "\\hline\n",
       "\t 1        & Mr. o    & 95      \\\\\n",
       "\t 2        & Ms. Bar  & NA      \\\\\n",
       "\t 3        & Mr. Baz  & 92      \\\\\n",
       "\t 1        & Mr. Ho   & 95      \\\\\n",
       "\t 2        & Ms. Bar  & NA      \\\\\n",
       "\t 3        & Mr. Baz  & 92      \\\\\n",
       "\t 1        & Mr. Foo  & 95      \\\\\n",
       "\t 2        & Ms. Ba   & NA      \\\\\n",
       "\t 3        & Mr. Bab  & 92      \\\\\n",
       "\t 1        & Mr. Foo  & 95      \\\\\n",
       "\t 2        & Ms. Bar  & NA      \\\\\n",
       "\t 3        & Mr. Baz  & 92      \\\\\n",
       "\t 1        & Mr. Foo  & 95      \\\\\n",
       "\t 2        & Ms. Bar  & NA      \\\\\n",
       "\t 3        & Mr. Ba   & 92      \\\\\n",
       "\\end{tabular}\n"
      ],
      "text/markdown": [
       "\n",
       "id | name | score | \n",
       "|---|---|---|---|---|---|---|---|---|---|---|---|---|---|---|\n",
       "| 1        | Mr. o    | 95       | \n",
       "| 2        | Ms. Bar  | NA       | \n",
       "| 3        | Mr. Baz  | 92       | \n",
       "| 1        | Mr. Ho   | 95       | \n",
       "| 2        | Ms. Bar  | NA       | \n",
       "| 3        | Mr. Baz  | 92       | \n",
       "| 1        | Mr. Foo  | 95       | \n",
       "| 2        | Ms. Ba   | NA       | \n",
       "| 3        | Mr. Bab  | 92       | \n",
       "| 1        | Mr. Foo  | 95       | \n",
       "| 2        | Ms. Bar  | NA       | \n",
       "| 3        | Mr. Baz  | 92       | \n",
       "| 1        | Mr. Foo  | 95       | \n",
       "| 2        | Ms. Bar  | NA       | \n",
       "| 3        | Mr. Ba   | 92       | \n",
       "\n",
       "\n"
      ],
      "text/plain": [
       "   id name     score\n",
       "1  1  Mr. o    95   \n",
       "2  2  Ms. Bar  NA   \n",
       "3  3  Mr. Baz  92   \n",
       "4  1  Mr. Ho   95   \n",
       "5  2  Ms. Bar  NA   \n",
       "6  3  Mr. Baz  92   \n",
       "7  1  Mr. Foo  95   \n",
       "8  2  Ms. Ba   NA   \n",
       "9  3  Mr. Bab  92   \n",
       "10 1  Mr. Foo  95   \n",
       "11 2  Ms. Bar  NA   \n",
       "12 3  Mr. Baz  92   \n",
       "13 1  Mr. Foo  95   \n",
       "14 2  Ms. Bar  NA   \n",
       "15 3  Mr. Ba   92   "
      ]
     },
     "metadata": {},
     "output_type": "display_data"
    }
   ],
   "source": [
    "numchar2 <- read.csv(\"data/numChar2.csv\", na.string=c(\"NIL\",\"NN\",\"CC\"))\n",
    "numchar2\n",
    "\n"
   ]
  },
  {
   "cell_type": "markdown",
   "metadata": {
    "collapsed": true
   },
   "source": [
    "##### 글깨짐 처리하기\n",
    "- encoding = \"UTF-8\"을 추가한다."
   ]
  },
  {
   "cell_type": "code",
   "execution_count": 32,
   "metadata": {},
   "outputs": [
    {
     "data": {
      "text/html": [
       "<table>\n",
       "<thead><tr><th scope=col>x1</th><th scope=col>x2</th><th scope=col>x3</th></tr></thead>\n",
       "<tbody>\n",
       "\t<tr><td>30</td><td> 5</td><td>23</td></tr>\n",
       "\t<tr><td>33</td><td>10</td><td>20</td></tr>\n",
       "\t<tr><td>61</td><td>13</td><td>33</td></tr>\n",
       "\t<tr><td>40</td><td>12</td><td>21</td></tr>\n",
       "\t<tr><td>30</td><td> 6</td><td>27</td></tr>\n",
       "\t<tr><td>33</td><td> 5</td><td>22</td></tr>\n",
       "\t<tr><td>25</td><td> 9</td><td>19</td></tr>\n",
       "\t<tr><td>23</td><td> 5</td><td> 9</td></tr>\n",
       "\t<tr><td>23</td><td> 7</td><td>23</td></tr>\n",
       "\t<tr><td>23</td><td> 6</td><td>23</td></tr>\n",
       "\t<tr><td>20</td><td> 9</td><td>23</td></tr>\n",
       "\t<tr><td>33</td><td>14</td><td>20</td></tr>\n",
       "\t<tr><td>21</td><td> 8</td><td>33</td></tr>\n",
       "\t<tr><td>27</td><td> 7</td><td>21</td></tr>\n",
       "\t<tr><td>22</td><td> 9</td><td>27</td></tr>\n",
       "\t<tr><td>19</td><td> 9</td><td>22</td></tr>\n",
       "\t<tr><td> 9</td><td>20</td><td>19</td></tr>\n",
       "\t<tr><td>12</td><td> 7</td><td> 9</td></tr>\n",
       "\t<tr><td>12</td><td> 8</td><td>12</td></tr>\n",
       "</tbody>\n",
       "</table>\n"
      ],
      "text/latex": [
       "\\begin{tabular}{r|lll}\n",
       " x1 & x2 & x3\\\\\n",
       "\\hline\n",
       "\t 30 &  5 & 23\\\\\n",
       "\t 33 & 10 & 20\\\\\n",
       "\t 61 & 13 & 33\\\\\n",
       "\t 40 & 12 & 21\\\\\n",
       "\t 30 &  6 & 27\\\\\n",
       "\t 33 &  5 & 22\\\\\n",
       "\t 25 &  9 & 19\\\\\n",
       "\t 23 &  5 &  9\\\\\n",
       "\t 23 &  7 & 23\\\\\n",
       "\t 23 &  6 & 23\\\\\n",
       "\t 20 &  9 & 23\\\\\n",
       "\t 33 & 14 & 20\\\\\n",
       "\t 21 &  8 & 33\\\\\n",
       "\t 27 &  7 & 21\\\\\n",
       "\t 22 &  9 & 27\\\\\n",
       "\t 19 &  9 & 22\\\\\n",
       "\t  9 & 20 & 19\\\\\n",
       "\t 12 &  7 &  9\\\\\n",
       "\t 12 &  8 & 12\\\\\n",
       "\\end{tabular}\n"
      ],
      "text/markdown": [
       "\n",
       "x1 | x2 | x3 | \n",
       "|---|---|---|---|---|---|---|---|---|---|---|---|---|---|---|---|---|---|---|\n",
       "| 30 |  5 | 23 | \n",
       "| 33 | 10 | 20 | \n",
       "| 61 | 13 | 33 | \n",
       "| 40 | 12 | 21 | \n",
       "| 30 |  6 | 27 | \n",
       "| 33 |  5 | 22 | \n",
       "| 25 |  9 | 19 | \n",
       "| 23 |  5 |  9 | \n",
       "| 23 |  7 | 23 | \n",
       "| 23 |  6 | 23 | \n",
       "| 20 |  9 | 23 | \n",
       "| 33 | 14 | 20 | \n",
       "| 21 |  8 | 33 | \n",
       "| 27 |  7 | 21 | \n",
       "| 22 |  9 | 27 | \n",
       "| 19 |  9 | 22 | \n",
       "|  9 | 20 | 19 | \n",
       "| 12 |  7 |  9 | \n",
       "| 12 |  8 | 12 | \n",
       "\n",
       "\n"
      ],
      "text/plain": [
       "   x1 x2 x3\n",
       "1  30  5 23\n",
       "2  33 10 20\n",
       "3  61 13 33\n",
       "4  40 12 21\n",
       "5  30  6 27\n",
       "6  33  5 22\n",
       "7  25  9 19\n",
       "8  23  5  9\n",
       "9  23  7 23\n",
       "10 23  6 23\n",
       "11 20  9 23\n",
       "12 33 14 20\n",
       "13 21  8 33\n",
       "14 27  7 21\n",
       "15 22  9 27\n",
       "16 19  9 22\n",
       "17  9 20 19\n",
       "18 12  7  9\n",
       "19 12  8 12"
      ]
     },
     "metadata": {},
     "output_type": "display_data"
    }
   ],
   "source": [
    "corre <- read.csv(\"data/correlationx1x2x3-raw.csv\", header = TRUE)\n",
    "corre"
   ]
  },
  {
   "cell_type": "code",
   "execution_count": 33,
   "metadata": {},
   "outputs": [
    {
     "data": {
      "text/html": [
       "<table>\n",
       "<thead><tr><th scope=col>x1</th><th scope=col>x2</th><th scope=col>x3</th></tr></thead>\n",
       "<tbody>\n",
       "\t<tr><td>30</td><td> 5</td><td>23</td></tr>\n",
       "\t<tr><td>33</td><td>10</td><td>20</td></tr>\n",
       "\t<tr><td>61</td><td>13</td><td>33</td></tr>\n",
       "\t<tr><td>40</td><td>12</td><td>21</td></tr>\n",
       "\t<tr><td>30</td><td> 6</td><td>27</td></tr>\n",
       "\t<tr><td>33</td><td> 5</td><td>22</td></tr>\n",
       "\t<tr><td>25</td><td> 9</td><td>19</td></tr>\n",
       "\t<tr><td>23</td><td> 5</td><td> 9</td></tr>\n",
       "\t<tr><td>23</td><td> 7</td><td>23</td></tr>\n",
       "\t<tr><td>23</td><td> 6</td><td>23</td></tr>\n",
       "\t<tr><td>20</td><td> 9</td><td>23</td></tr>\n",
       "\t<tr><td>33</td><td>14</td><td>20</td></tr>\n",
       "\t<tr><td>21</td><td> 8</td><td>33</td></tr>\n",
       "\t<tr><td>27</td><td> 7</td><td>21</td></tr>\n",
       "\t<tr><td>22</td><td> 9</td><td>27</td></tr>\n",
       "\t<tr><td>19</td><td> 9</td><td>22</td></tr>\n",
       "\t<tr><td> 9</td><td>20</td><td>19</td></tr>\n",
       "\t<tr><td>12</td><td> 7</td><td> 9</td></tr>\n",
       "\t<tr><td>12</td><td> 8</td><td>12</td></tr>\n",
       "</tbody>\n",
       "</table>\n"
      ],
      "text/latex": [
       "\\begin{tabular}{r|lll}\n",
       " x1 & x2 & x3\\\\\n",
       "\\hline\n",
       "\t 30 &  5 & 23\\\\\n",
       "\t 33 & 10 & 20\\\\\n",
       "\t 61 & 13 & 33\\\\\n",
       "\t 40 & 12 & 21\\\\\n",
       "\t 30 &  6 & 27\\\\\n",
       "\t 33 &  5 & 22\\\\\n",
       "\t 25 &  9 & 19\\\\\n",
       "\t 23 &  5 &  9\\\\\n",
       "\t 23 &  7 & 23\\\\\n",
       "\t 23 &  6 & 23\\\\\n",
       "\t 20 &  9 & 23\\\\\n",
       "\t 33 & 14 & 20\\\\\n",
       "\t 21 &  8 & 33\\\\\n",
       "\t 27 &  7 & 21\\\\\n",
       "\t 22 &  9 & 27\\\\\n",
       "\t 19 &  9 & 22\\\\\n",
       "\t  9 & 20 & 19\\\\\n",
       "\t 12 &  7 &  9\\\\\n",
       "\t 12 &  8 & 12\\\\\n",
       "\\end{tabular}\n"
      ],
      "text/markdown": [
       "\n",
       "x1 | x2 | x3 | \n",
       "|---|---|---|---|---|---|---|---|---|---|---|---|---|---|---|---|---|---|---|\n",
       "| 30 |  5 | 23 | \n",
       "| 33 | 10 | 20 | \n",
       "| 61 | 13 | 33 | \n",
       "| 40 | 12 | 21 | \n",
       "| 30 |  6 | 27 | \n",
       "| 33 |  5 | 22 | \n",
       "| 25 |  9 | 19 | \n",
       "| 23 |  5 |  9 | \n",
       "| 23 |  7 | 23 | \n",
       "| 23 |  6 | 23 | \n",
       "| 20 |  9 | 23 | \n",
       "| 33 | 14 | 20 | \n",
       "| 21 |  8 | 33 | \n",
       "| 27 |  7 | 21 | \n",
       "| 22 |  9 | 27 | \n",
       "| 19 |  9 | 22 | \n",
       "|  9 | 20 | 19 | \n",
       "| 12 |  7 |  9 | \n",
       "| 12 |  8 | 12 | \n",
       "\n",
       "\n"
      ],
      "text/plain": [
       "   x1 x2 x3\n",
       "1  30  5 23\n",
       "2  33 10 20\n",
       "3  61 13 33\n",
       "4  40 12 21\n",
       "5  30  6 27\n",
       "6  33  5 22\n",
       "7  25  9 19\n",
       "8  23  5  9\n",
       "9  23  7 23\n",
       "10 23  6 23\n",
       "11 20  9 23\n",
       "12 33 14 20\n",
       "13 21  8 33\n",
       "14 27  7 21\n",
       "15 22  9 27\n",
       "16 19  9 22\n",
       "17  9 20 19\n",
       "18 12  7  9\n",
       "19 12  8 12"
      ]
     },
     "metadata": {},
     "output_type": "display_data"
    }
   ],
   "source": [
    "corre2 <- read.csv(\"data/correlationx1x2x3-raw.csv\", header = TRUE, encoding=\"UTF-8\")\n",
    "corre2"
   ]
  },
  {
   "cell_type": "markdown",
   "metadata": {},
   "source": [
    "#####  금액이나 이름등 중간에 \",\"이 포함된 CSV파일 읽기\n",
    "- 금액이나, 회사명 등을 표시할 때, 쉼표(\" , \")가 값의 중간에 포함되는 경우, 이름 또는 숫자와 같은 데이터 항목 내에 ','포함할 수 있다."
   ]
  },
  {
   "cell_type": "code",
   "execution_count": 37,
   "metadata": {},
   "outputs": [
    {
     "data": {
      "text/html": [
       "<table>\n",
       "<thead><tr><th scope=col>name</th><th scope=col>price</th><th scope=col>rate</th><th scope=col>doller</th><th scope=col>customer.class</th></tr></thead>\n",
       "<tbody>\n",
       "\t<tr><td>Hong, joo     </td><td> 200000       </td><td>1.14          </td><td>175           </td><td>A             </td></tr>\n",
       "\t<tr><td>Kim, Seondal  </td><td>1000000       </td><td>1.16          </td><td>862           </td><td>C             </td></tr>\n",
       "\t<tr><td>Lee, Soonsin  </td><td>1000000       </td><td>1.14          </td><td>877           </td><td>A             </td></tr>\n",
       "\t<tr><td>Hong, Seungjae</td><td> 300000       </td><td>1.15          </td><td>261           </td><td>B             </td></tr>\n",
       "</tbody>\n",
       "</table>\n"
      ],
      "text/latex": [
       "\\begin{tabular}{r|lllll}\n",
       " name & price & rate & doller & customer.class\\\\\n",
       "\\hline\n",
       "\t Hong, joo      &  200000        & 1.14           & 175            & A             \\\\\n",
       "\t Kim, Seondal   & 1000000        & 1.16           & 862            & C             \\\\\n",
       "\t Lee, Soonsin   & 1000000        & 1.14           & 877            & A             \\\\\n",
       "\t Hong, Seungjae &  300000        & 1.15           & 261            & B             \\\\\n",
       "\\end{tabular}\n"
      ],
      "text/markdown": [
       "\n",
       "name | price | rate | doller | customer.class | \n",
       "|---|---|---|---|\n",
       "| Hong, joo      |  200000        | 1.14           | 175            | A              | \n",
       "| Kim, Seondal   | 1000000        | 1.16           | 862            | C              | \n",
       "| Lee, Soonsin   | 1000000        | 1.14           | 877            | A              | \n",
       "| Hong, Seungjae |  300000        | 1.15           | 261            | B              | \n",
       "\n",
       "\n"
      ],
      "text/plain": [
       "  name           price   rate doller customer.class\n",
       "1 Hong, joo       200000 1.14 175    A             \n",
       "2 Kim, Seondal   1000000 1.16 862    C             \n",
       "3 Lee, Soonsin   1000000 1.14 877    A             \n",
       "4 Hong, Seungjae  300000 1.15 261    B             "
      ]
     },
     "metadata": {},
     "output_type": "display_data"
    }
   ],
   "source": [
    "read.csv(\"data/quote.csv\",quote=\"'\", header=TRUE)\n",
    "\n",
    "# quote=\"'\" -> 작은 따옴표를 하나로 보아라"
   ]
  },
  {
   "cell_type": "markdown",
   "metadata": {},
   "source": [
    "#####  컬럼별로 데이터타입을 지정하여 읽기\n",
    "- 데이터 분석을 할 때 용이함.\n"
   ]
  },
  {
   "cell_type": "code",
   "execution_count": 53,
   "metadata": {
    "scrolled": true
   },
   "outputs": [
    {
     "name": "stdout",
     "output_type": "stream",
     "text": [
      "'data.frame':\t4 obs. of  5 variables:\n",
      " $ name          : chr  \"Hong, joo\" \"Kim, Seondal\" \"Lee, Soonsin\" \"Hong, Seungjae\"\n",
      " $ price         : num  2e+05 1e+06 1e+06 3e+05\n",
      " $ rate          : num  1.14 1.16 1.14 1.15\n",
      " $ doller        : Factor w/ 4 levels \"175\",\"261\",\"862\",..: 1 3 4 2\n",
      " $ customer.class: chr  \"A\" \"C\" \"A\" \"B\"\n"
     ]
    }
   ],
   "source": [
    "col <- read.csv(\"data/quote.csv\",quote=\"'\", header=TRUE,\n",
    "        colClasses=c(\"character\",\"numeric\",\"numeric\",\"factor\"))\n",
    "str(col)"
   ]
  },
  {
   "cell_type": "markdown",
   "metadata": {},
   "source": [
    "##### 숫자로 된 데이터를 factor로 읽어오기"
   ]
  },
  {
   "cell_type": "code",
   "execution_count": 72,
   "metadata": {
    "collapsed": true,
    "scrolled": true
   },
   "outputs": [],
   "source": [
    "col <- read.csv(\"data/0_data.frame2_death.csv\", header = TRUE, fileEncoding = \"EUC-KR\", colClasses=rep(\"factor\",18))"
   ]
  },
  {
   "cell_type": "code",
   "execution_count": 74,
   "metadata": {},
   "outputs": [
    {
     "name": "stdout",
     "output_type": "stream",
     "text": [
      "'data.frame':\t7651 obs. of  18 variables:\n",
      " $ No.               : Factor w/ 7651 levels \"1\",\"10\",\"100\",..: 1 1112 2223 3334 4445 5556 6667 7430 7541 2 ...\n",
      " $ year              : Factor w/ 2 levels \"2012\",\"2013\": 1 1 1 1 1 1 1 1 1 1 ...\n",
      " $ 발생년월일        : Factor w/ 5984 levels \"2012010101\",\"2012010102\",..: 884 1986 28 346 709 977 1531 2091 2115 2392 ...\n",
      " $ 발생시간          : Factor w/ 60 levels \"0\",\"1\",\"10\",\"11\",..: 30 14 46 3 3 11 4 14 30 17 ...\n",
      " $ 사망자수          : Factor w/ 5 levels \"1\",\"2\",\"3\",\"4\",..: 1 1 1 1 1 1 1 1 1 1 ...\n",
      " $ 부상자수          : Factor w/ 28 levels \"1\",\"10\",\"100\",..: 1 1 1 1 1 1 1 1 1 1 ...\n",
      " $ 중상자수          : Factor w/ 18 levels \"0\",\"1\",\"10\",\"11\",..: 1 1 1 1 1 1 1 1 1 1 ...\n",
      " $ 경상자수          : Factor w/ 20 levels \"0\",\"1\",\"10\",\"11\",..: 1 1 1 1 1 1 1 1 1 1 ...\n",
      " $ 부상신고자수      : Factor w/ 9 levels \"0\",\"1\",\"2\",\"3\",..: 1 1 1 1 1 1 1 1 1 1 ...\n",
      " $ 발생지시군구      : Factor w/ 231 levels \"1101\",\"1102\",..: 1 1 7 7 7 7 7 7 7 7 ...\n",
      " $ 발생지시도코드    : Factor w/ 17 levels \"1100\",\"1200\",..: 1 1 1 1 1 1 1 1 1 1 ...\n",
      " $ 사고유형대분류    : Factor w/ 4 levels \"1\",\"2\",\"3\",\"4\": 1 1 1 2 3 1 2 2 2 1 ...\n",
      " $ 사고유형중분류    : Factor w/ 17 levels \"11\",\"12\",\"13\",..: 1 5 1 7 10 5 7 6 7 5 ...\n",
      " $ 사고유형          : Factor w/ 19 levels \"1\",\"2\",\"21\",\"22\",..: 1 16 1 4 10 16 4 3 4 16 ...\n",
      " $ 법규위반1단대분류 : Factor w/ 2 levels \"1\",\"2\": 1 1 1 1 1 1 1 1 1 1 ...\n",
      " $ 법규위반1당중분류 : Factor w/ 16 levels \"10\",\"12\",\"13\",..: 2 2 2 2 2 2 2 13 5 2 ...\n",
      " $ 도로형태대분류코드: Factor w/ 6 levels \"1\",\"2\",\"3\",\"4\",..: 2 1 1 1 6 1 2 2 1 1 ...\n",
      " $ 도로형태          : Factor w/ 11 levels \"1\",\"10\",\"2\",\"3\",..: 7 6 6 6 11 6 7 7 3 6 ...\n"
     ]
    }
   ],
   "source": [
    "str(col)  #factor로 읽어옴"
   ]
  },
  {
   "cell_type": "code",
   "execution_count": null,
   "metadata": {
    "collapsed": true
   },
   "outputs": [],
   "source": []
  },
  {
   "cell_type": "markdown",
   "metadata": {},
   "source": [
    "##### 상위 몇 개 라인을 제외하고 읽고, 메타 데이터 입력하기"
   ]
  },
  {
   "cell_type": "code",
   "execution_count": 67,
   "metadata": {},
   "outputs": [
    {
     "name": "stdout",
     "output_type": "stream",
     "text": [
      "'data.frame':\t2191 obs. of  3 variables:\n",
      " $ 날짜      : Factor w/ 2191 levels \"2010/01/01\",\"2010/01/02\",..: 1 2 3 4 5 6 7 8 9 10 ...\n",
      " $ 지점      : int  203 203 203 203 203 203 203 203 203 203 ...\n",
      " $ 강수량.mm.: num  NA 0.8 NA 17.8 0 NA NA NA 0.2 NA ...\n"
     ]
    }
   ],
   "source": [
    "w_ich <- read.csv(\"data/기상이천시강수량_20100101-20151231.csv\",skip=6, fileEncoding = \"EUC-KR\")\n",
    "str(w_ich)"
   ]
  },
  {
   "cell_type": "code",
   "execution_count": 68,
   "metadata": {
    "collapsed": true
   },
   "outputs": [],
   "source": [
    "w_ich <- structure(w_ich, \"Term\"=\"2010.1.1 ~ 2015.12.31\", \"district\" = \"Icheon\", \"description\" = \"일단위측청\", \"전영승\"=\"최화령\")"
   ]
  },
  {
   "cell_type": "code",
   "execution_count": 69,
   "metadata": {},
   "outputs": [
    {
     "name": "stdout",
     "output_type": "stream",
     "text": [
      "'data.frame':\t2191 obs. of  3 variables:\n",
      " $ 날짜      : Factor w/ 2191 levels \"2010/01/01\",\"2010/01/02\",..: 1 2 3 4 5 6 7 8 9 10 ...\n",
      " $ 지점      : int  203 203 203 203 203 203 203 203 203 203 ...\n",
      " $ 강수량.mm.: num  NA 0.8 NA 17.8 0 NA NA NA 0.2 NA ...\n",
      " - attr(*, \"Term\")= chr \"2010.1.1 ~ 2015.12.31\"\n",
      " - attr(*, \"district\")= chr \"Icheon\"\n",
      " - attr(*, \"description\")= chr \"일단위측청\"\n",
      " - attr(*, \"전영승\")= chr \"최화령\"\n"
     ]
    }
   ],
   "source": [
    "str(w_ich)"
   ]
  },
  {
   "cell_type": "markdown",
   "metadata": {},
   "source": [
    "## 탭으로 구분된 파일 읽기"
   ]
  },
  {
   "cell_type": "code",
   "execution_count": 49,
   "metadata": {},
   "outputs": [
    {
     "data": {},
     "metadata": {},
     "output_type": "display_data"
    }
   ],
   "source": [
    "??read"
   ]
  },
  {
   "cell_type": "code",
   "execution_count": 85,
   "metadata": {
    "scrolled": true
   },
   "outputs": [
    {
     "data": {
      "text/html": [
       "<table>\n",
       "<thead><tr><th scope=col>X1.1....2.98....4.05....3.72....4.17....4.28....3.94..301.30</th></tr></thead>\n",
       "<tbody>\n",
       "\t<tr><td> 1 1    2.44    3.98    3.46    4.14    3.85    3.87  360.41</td></tr>\n",
       "\t<tr><td> 1 1    3.03    3.42    3.04    2.67    2.94    2.94  330.74</td></tr>\n",
       "\t<tr><td> 1 1    3.15    4.35    5.00    4.65    4.69    4.75  317.40</td></tr>\n",
       "\t<tr><td> 1 1    2.06    3.48    2.81    3.67    3.78    3.60  350.98</td></tr>\n",
       "\t<tr><td> 2 1    2.39    3.67    3.88    4.23    4.12    3.83  333.04</td></tr>\n",
       "\t<tr><td> 1 1    2.98    4.13    4.18    4.00    4.61    4.36  347.53</td></tr>\n",
       "</tbody>\n",
       "</table>\n"
      ],
      "text/latex": [
       "\\begin{tabular}{r|l}\n",
       " X1.1....2.98....4.05....3.72....4.17....4.28....3.94..301.30\\\\\n",
       "\\hline\n",
       "\t  1 1    2.44    3.98    3.46    4.14    3.85    3.87  360.41\\\\\n",
       "\t  1 1    3.03    3.42    3.04    2.67    2.94    2.94  330.74\\\\\n",
       "\t  1 1    3.15    4.35    5.00    4.65    4.69    4.75  317.40\\\\\n",
       "\t  1 1    2.06    3.48    2.81    3.67    3.78    3.60  350.98\\\\\n",
       "\t  2 1    2.39    3.67    3.88    4.23    4.12    3.83  333.04\\\\\n",
       "\t  1 1    2.98    4.13    4.18    4.00    4.61    4.36  347.53\\\\\n",
       "\\end{tabular}\n"
      ],
      "text/markdown": [
       "\n",
       "X1.1....2.98....4.05....3.72....4.17....4.28....3.94..301.30 | \n",
       "|---|---|---|---|---|---|\n",
       "|  1 1    2.44    3.98    3.46    4.14    3.85    3.87  360.41 | \n",
       "|  1 1    3.03    3.42    3.04    2.67    2.94    2.94  330.74 | \n",
       "|  1 1    3.15    4.35    5.00    4.65    4.69    4.75  317.40 | \n",
       "|  1 1    2.06    3.48    2.81    3.67    3.78    3.60  350.98 | \n",
       "|  2 1    2.39    3.67    3.88    4.23    4.12    3.83  333.04 | \n",
       "|  1 1    2.98    4.13    4.18    4.00    4.61    4.36  347.53 | \n",
       "\n",
       "\n"
      ],
      "text/plain": [
       "  X1.1....2.98....4.05....3.72....4.17....4.28....3.94..301.30\n",
       "1  1 1    2.44    3.98    3.46    4.14    3.85    3.87  360.41\n",
       "2  1 1    3.03    3.42    3.04    2.67    2.94    2.94  330.74\n",
       "3  1 1    3.15    4.35    5.00    4.65    4.69    4.75  317.40\n",
       "4  1 1    2.06    3.48    2.81    3.67    3.78    3.60  350.98\n",
       "5  2 1    2.39    3.67    3.88    4.23    4.12    3.83  333.04\n",
       "6  1 1    2.98    4.13    4.18    4.00    4.61    4.36  347.53"
      ]
     },
     "metadata": {},
     "output_type": "display_data"
    }
   ],
   "source": [
    "ar <- read.csv(\"data/tab.csv\", sep=\"\\t\")\n",
    "head(ar)"
   ]
  },
  {
   "cell_type": "code",
   "execution_count": 91,
   "metadata": {},
   "outputs": [
    {
     "name": "stdout",
     "output_type": "stream",
     "text": [
      "'data.frame':\t142 obs. of  29 variables:\n",
      " $ X      : logi  NA NA NA NA NA NA ...\n",
      " $ X1     : int  1 1 1 1 2 1 1 2 1 1 ...\n",
      " $ X1.1   : int  1 1 1 1 1 1 1 1 1 1 ...\n",
      " $ X.1    : logi  NA NA NA NA NA NA ...\n",
      " $ X.2    : logi  NA NA NA NA NA NA ...\n",
      " $ X.3    : logi  NA NA NA NA NA NA ...\n",
      " $ X2.98  : num  2.44 3.03 3.15 2.06 2.39 2.98 2.73 2.77 2.61 2.01 ...\n",
      " $ X.4    : logi  NA NA NA NA NA NA ...\n",
      " $ X.5    : logi  NA NA NA NA NA NA ...\n",
      " $ X.6    : logi  NA NA NA NA NA NA ...\n",
      " $ X4.05  : num  3.98 3.42 4.35 3.48 3.67 4.13 3.75 3.98 3.45 4.33 ...\n",
      " $ X.7    : logi  NA NA NA NA NA NA ...\n",
      " $ X.8    : logi  NA NA NA NA NA NA ...\n",
      " $ X.9    : logi  NA NA NA NA NA NA ...\n",
      " $ X3.72  : num  3.46 3.04 5 2.81 3.88 4.18 2.75 3.19 2.12 3 ...\n",
      " $ X.10   : logi  NA NA NA NA NA NA ...\n",
      " $ X.11   : logi  NA NA NA NA NA NA ...\n",
      " $ X.12   : logi  NA NA NA NA NA NA ...\n",
      " $ X4.17  : num  4.14 2.67 4.65 3.67 4.23 4 3.54 4 2.54 4 ...\n",
      " $ X.13   : logi  NA NA NA NA NA NA ...\n",
      " $ X.14   : logi  NA NA NA NA NA NA ...\n",
      " $ X.15   : logi  NA NA NA NA NA NA ...\n",
      " $ X4.28  : num  3.85 2.94 4.69 3.78 4.12 4.61 4.16 3.91 3.85 4.21 ...\n",
      " $ X.16   : logi  NA NA NA NA NA NA ...\n",
      " $ X.17   : logi  NA NA NA NA NA NA ...\n",
      " $ X.18   : logi  NA NA NA NA NA NA ...\n",
      " $ X3.94  : num  3.87 2.94 4.75 3.6 3.83 4.36 3.33 3.61 3.4 4.2 ...\n",
      " $ X.19   : logi  NA NA NA NA NA NA ...\n",
      " $ X301.30: num  360 331 317 351 333 ...\n"
     ]
    }
   ],
   "source": [
    "ar<- read.delim(\"data/tab.csv\", sep=\" \")\n",
    "str(ar)"
   ]
  },
  {
   "cell_type": "code",
   "execution_count": null,
   "metadata": {
    "collapsed": true
   },
   "outputs": [],
   "source": []
  },
  {
   "cell_type": "code",
   "execution_count": 8,
   "metadata": {},
   "outputs": [
    {
     "name": "stdout",
     "output_type": "stream",
     "text": [
      "'data.frame':\t3896 obs. of  1 variable:\n",
      " $ 구명.유형.지역명.설치위치.X좌표..설치위치.Y좌표..설치기관.회사.: Factor w/ 3586 levels \"\",\"\\t123.977873\\t37.4746893\\t관악구\",..: 275 276 277 278 279 280 281 282 283 284 ...\n"
     ]
    }
   ],
   "source": [
    "wifi<- read.delim(\"data/seoul_wifi2.csv\", header = T, sep=\" \", fileEncoding = \"EUC-KR\")\n",
    "str(wifi)\n"
   ]
  },
  {
   "cell_type": "code",
   "execution_count": null,
   "metadata": {
    "collapsed": true
   },
   "outputs": [],
   "source": []
  },
  {
   "cell_type": "markdown",
   "metadata": {},
   "source": [
    "헤드가 있고, 속성명이 있는 경우"
   ]
  },
  {
   "cell_type": "code",
   "execution_count": 13,
   "metadata": {},
   "outputs": [
    {
     "data": {
      "text/html": [
       "<table>\n",
       "<thead><tr><th scope=col>Id_num</th><th scope=col>Price</th></tr></thead>\n",
       "<tbody>\n",
       "\t<tr><td>Aa  </td><td>36.9</td></tr>\n",
       "\t<tr><td>Bb  </td><td> 4.5</td></tr>\n",
       "\t<tr><td>Cc  </td><td> 8.9</td></tr>\n",
       "</tbody>\n",
       "</table>\n"
      ],
      "text/latex": [
       "\\begin{tabular}{r|ll}\n",
       " Id\\_num & Price\\\\\n",
       "\\hline\n",
       "\t Aa   & 36.9\\\\\n",
       "\t Bb   &  4.5\\\\\n",
       "\t Cc   &  8.9\\\\\n",
       "\\end{tabular}\n"
      ],
      "text/markdown": [
       "\n",
       "Id_num | Price | \n",
       "|---|---|---|\n",
       "| Aa   | 36.9 | \n",
       "| Bb   |  4.5 | \n",
       "| Cc   |  8.9 | \n",
       "\n",
       "\n"
      ],
      "text/plain": [
       "  Id_num Price\n",
       "1 Aa     36.9 \n",
       "2 Bb      4.5 \n",
       "3 Cc      8.9 "
      ]
     },
     "metadata": {},
     "output_type": "display_data"
    }
   ],
   "source": [
    "id <- read.delim(\"data/Id.txt\", sep= \"\\t\", header = T, fileEncoding = \"EUC-KR\")\n",
    "id"
   ]
  },
  {
   "cell_type": "code",
   "execution_count": 19,
   "metadata": {},
   "outputs": [
    {
     "data": {
      "text/html": [
       "<table>\n",
       "<thead><tr><th scope=col>id</th><th scope=col>price</th></tr></thead>\n",
       "<tbody>\n",
       "\t<tr><td>Aa  </td><td>36.9</td></tr>\n",
       "\t<tr><td>Bb  </td><td> 4.5</td></tr>\n",
       "\t<tr><td>Cc  </td><td> 8.9</td></tr>\n",
       "</tbody>\n",
       "</table>\n"
      ],
      "text/latex": [
       "\\begin{tabular}{r|ll}\n",
       " id & price\\\\\n",
       "\\hline\n",
       "\t Aa   & 36.9\\\\\n",
       "\t Bb   &  4.5\\\\\n",
       "\t Cc   &  8.9\\\\\n",
       "\\end{tabular}\n"
      ],
      "text/markdown": [
       "\n",
       "id | price | \n",
       "|---|---|---|\n",
       "| Aa   | 36.9 | \n",
       "| Bb   |  4.5 | \n",
       "| Cc   |  8.9 | \n",
       "\n",
       "\n"
      ],
      "text/plain": [
       "  id price\n",
       "1 Aa 36.9 \n",
       "2 Bb  4.5 \n",
       "3 Cc  8.9 "
      ]
     },
     "metadata": {},
     "output_type": "display_data"
    }
   ],
   "source": [
    "as <- read.table(\"data/Id.txt\", header =T, fileEncoding = \"EUC-KR\")\n",
    "names(as) <- c(\"id\",\"price\")\n",
    "as"
   ]
  },
  {
   "cell_type": "markdown",
   "metadata": {},
   "source": [
    "### 열의 모양이 불일치 하는 Text파일 읽기"
   ]
  },
  {
   "cell_type": "code",
   "execution_count": 28,
   "metadata": {},
   "outputs": [],
   "source": [
    "qar <- read.table(\"data/question1.txt\", fileEncoding = \"EUC-KR\")\n",
    "\n",
    "#  raw data에 '#'기호는 주석(설명문)으로 인식하여 자동으로 읽지 않는다.\n",
    "\n",
    "names(qar) <- c(\"첫월급\", \"성\", \"근무개월\", \"현재월급\", \"교육연수\")"
   ]
  },
  {
   "cell_type": "code",
   "execution_count": 29,
   "metadata": {},
   "outputs": [
    {
     "data": {
      "text/html": [
       "<table>\n",
       "<thead><tr><th scope=col>첫월급</th><th scope=col>성</th><th scope=col>근무개월</th><th scope=col>현재월급</th><th scope=col>교육연수</th></tr></thead>\n",
       "<tbody>\n",
       "\t<tr><td> 840000</td><td>0      </td><td>81     </td><td>1768800</td><td>16     </td></tr>\n",
       "\t<tr><td>2400000</td><td>0      </td><td>73     </td><td>4554000</td><td>16     </td></tr>\n",
       "\t<tr><td>1020000</td><td>0      </td><td>83     </td><td>2415600</td><td>15     </td></tr>\n",
       "\t<tr><td> 870000</td><td>0      </td><td>93     </td><td>2112000</td><td>16     </td></tr>\n",
       "\t<tr><td>1740000</td><td>0      </td><td>83     </td><td>3118500</td><td>19     </td></tr>\n",
       "\t<tr><td>1299600</td><td>0      </td><td>80     </td><td>2997500</td><td>18     </td></tr>\n",
       "</tbody>\n",
       "</table>\n"
      ],
      "text/latex": [
       "\\begin{tabular}{r|lllll}\n",
       " 첫월급 & 성 & 근무개월 & 현재월급 & 교육연수\\\\\n",
       "\\hline\n",
       "\t  840000 & 0       & 81      & 1768800 & 16     \\\\\n",
       "\t 2400000 & 0       & 73      & 4554000 & 16     \\\\\n",
       "\t 1020000 & 0       & 83      & 2415600 & 15     \\\\\n",
       "\t  870000 & 0       & 93      & 2112000 & 16     \\\\\n",
       "\t 1740000 & 0       & 83      & 3118500 & 19     \\\\\n",
       "\t 1299600 & 0       & 80      & 2997500 & 18     \\\\\n",
       "\\end{tabular}\n"
      ],
      "text/markdown": [
       "\n",
       "첫월급 | 성 | 근무개월 | 현재월급 | 교육연수 | \n",
       "|---|---|---|---|---|---|\n",
       "|  840000 | 0       | 81      | 1768800 | 16      | \n",
       "| 2400000 | 0       | 73      | 4554000 | 16      | \n",
       "| 1020000 | 0       | 83      | 2415600 | 15      | \n",
       "|  870000 | 0       | 93      | 2112000 | 16      | \n",
       "| 1740000 | 0       | 83      | 3118500 | 19      | \n",
       "| 1299600 | 0       | 80      | 2997500 | 18      | \n",
       "\n",
       "\n"
      ],
      "text/plain": [
       "  첫월급  성 근무개월 현재월급 교육연수\n",
       "1  840000 0  81       1768800  16      \n",
       "2 2400000 0  73       4554000  16      \n",
       "3 1020000 0  83       2415600  15      \n",
       "4  870000 0  93       2112000  16      \n",
       "5 1740000 0  83       3118500  19      \n",
       "6 1299600 0  80       2997500  18      "
      ]
     },
     "metadata": {},
     "output_type": "display_data"
    }
   ],
   "source": [
    "head(qar)"
   ]
  },
  {
   "cell_type": "markdown",
   "metadata": {},
   "source": [
    "#### 맨 앞줄 몇 라인 건너뛰고 읽기\n",
    "- 헤더영역 이라고도 표현되고 헤더부분은 파일 설명 문구로 상단에 포함되는 겨우가 대부분"
   ]
  },
  {
   "cell_type": "code",
   "execution_count": 47,
   "metadata": {},
   "outputs": [],
   "source": [
    "head <- read.table(\"data/header.txt\", comment.char=\"#\", quote=\"'\", sep=\",\", header= T, stringsAsFactors=FALSE,\n",
    "                   colClasses=c(\"character\",\"numeric\",\"numeric\",\"numeric\",\"factor\"))\n",
    "\n",
    "\n",
    "# stringsAsFactors=FALSE - >문자 타입을 factor구조로 변환여부지정, 예stringAsFactors=FALSE는 문자를 FActors로 읽지 않겠다\n",
    "# colClasses -> 각 컬럼의 타입 정해주기"
   ]
  },
  {
   "cell_type": "code",
   "execution_count": 40,
   "metadata": {},
   "outputs": [
    {
     "name": "stdout",
     "output_type": "stream",
     "text": [
      "'data.frame':\t4 obs. of  5 variables:\n",
      " $ customer.name : chr  \"Hong, Gildong\" \"Kim, Seondal\" \"Lee, Soonsin\" \"Kim, Seungjae\"\n",
      " $ price         : num  2e+05 1e+06 1e+06 3e+05\n",
      " $ exchange.rate : num  1.14 1.16 1.14 1.15\n",
      " $ doller        : num  175 862 877 261\n",
      " $ customer.class: Factor w/ 4 levels \"A\",\"B\",\"C\",\"VIP\": 1 3 4 2\n"
     ]
    },
    {
     "data": {
      "text/html": [
       "<table>\n",
       "<thead><tr><th scope=col>customer.name</th><th scope=col>price</th><th scope=col>exchange.rate</th><th scope=col>doller</th><th scope=col>customer.class</th></tr></thead>\n",
       "<tbody>\n",
       "\t<tr><td>Hong, Gildong</td><td>2e+05        </td><td>1.14         </td><td>175          </td><td>A            </td></tr>\n",
       "\t<tr><td>Kim, Seondal </td><td>1e+06        </td><td>1.16         </td><td>862          </td><td>C            </td></tr>\n",
       "\t<tr><td>Lee, Soonsin </td><td>1e+06        </td><td>1.14         </td><td>877          </td><td>VIP          </td></tr>\n",
       "\t<tr><td>Kim, Seungjae</td><td>3e+05        </td><td>1.15         </td><td>261          </td><td>B            </td></tr>\n",
       "</tbody>\n",
       "</table>\n"
      ],
      "text/latex": [
       "\\begin{tabular}{r|lllll}\n",
       " customer.name & price & exchange.rate & doller & customer.class\\\\\n",
       "\\hline\n",
       "\t Hong, Gildong & 2e+05         & 1.14          & 175           & A            \\\\\n",
       "\t Kim, Seondal  & 1e+06         & 1.16          & 862           & C            \\\\\n",
       "\t Lee, Soonsin  & 1e+06         & 1.14          & 877           & VIP          \\\\\n",
       "\t Kim, Seungjae & 3e+05         & 1.15          & 261           & B            \\\\\n",
       "\\end{tabular}\n"
      ],
      "text/markdown": [
       "\n",
       "customer.name | price | exchange.rate | doller | customer.class | \n",
       "|---|---|---|---|\n",
       "| Hong, Gildong | 2e+05         | 1.14          | 175           | A             | \n",
       "| Kim, Seondal  | 1e+06         | 1.16          | 862           | C             | \n",
       "| Lee, Soonsin  | 1e+06         | 1.14          | 877           | VIP           | \n",
       "| Kim, Seungjae | 3e+05         | 1.15          | 261           | B             | \n",
       "\n",
       "\n"
      ],
      "text/plain": [
       "  customer.name price exchange.rate doller customer.class\n",
       "1 Hong, Gildong 2e+05 1.14          175    A             \n",
       "2 Kim, Seondal  1e+06 1.16          862    C             \n",
       "3 Lee, Soonsin  1e+06 1.14          877    VIP           \n",
       "4 Kim, Seungjae 3e+05 1.15          261    B             "
      ]
     },
     "metadata": {},
     "output_type": "display_data"
    }
   ],
   "source": [
    "str(head)\n",
    "head(head)"
   ]
  },
  {
   "cell_type": "code",
   "execution_count": 44,
   "metadata": {},
   "outputs": [
    {
     "name": "stdout",
     "output_type": "stream",
     "text": [
      "'data.frame':\t4 obs. of  5 variables:\n",
      " $ customer.name : chr  \"Hong, Gildong\" \"Kim, Seondal\" \"Lee, Soonsin\" \"Kim, Seungjae\"\n",
      " $ price         : num  2e+05 1e+06 1e+06 3e+05\n",
      " $ exchange.rate : num  1.14 1.16 1.14 1.15\n",
      " $ doller        : num  175 862 877 261\n",
      " $ customer.class: Factor w/ 4 levels \"A\",\"B\",\"C\",\"VIP\": 1 3 4 2\n",
      " - attr(*, \"Owner\")= chr \"Hong, Gildong\"\n",
      " - attr(*, \"MakeDate\")= chr \"2012-05-15\"\n"
     ]
    }
   ],
   "source": [
    "head_str <- structure(head,\"Owner\"=\"Hong, Gildong\", \"MakeDate\"= \"2012-05-15\")\n",
    "str(head_str)"
   ]
  },
  {
   "cell_type": "code",
   "execution_count": null,
   "metadata": {
    "collapsed": true
   },
   "outputs": [],
   "source": []
  }
 ],
 "metadata": {
  "kernelspec": {
   "display_name": "R",
   "language": "R",
   "name": "ir"
  },
  "language_info": {
   "codemirror_mode": "r",
   "file_extension": ".r",
   "mimetype": "text/x-r-source",
   "name": "R",
   "pygments_lexer": "r",
   "version": "3.3.2"
  }
 },
 "nbformat": 4,
 "nbformat_minor": 2
}
