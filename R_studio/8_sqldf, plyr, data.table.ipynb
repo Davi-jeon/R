{
 "cells": [
  {
   "cell_type": "markdown",
   "metadata": {},
   "source": [
    "### sqldf\n",
    "\n",
    "- sqldf()함수 사용\n",
    "- select 컬럼명 from 데이터셋 where 조건"
   ]
  },
  {
   "cell_type": "code",
   "execution_count": 3,
   "metadata": {
    "scrolled": false
   },
   "outputs": [
    {
     "name": "stderr",
     "output_type": "stream",
     "text": [
      "Loading required package: gsubfn\n",
      "Loading required package: proto\n",
      "Warning message:\n",
      "“no DISPLAY variable so Tk is not available”Loading required package: RSQLite\n"
     ]
    }
   ],
   "source": [
    "library(sqldf)"
   ]
  },
  {
   "cell_type": "code",
   "execution_count": 4,
   "metadata": {
    "scrolled": true
   },
   "outputs": [
    {
     "data": {
      "text/html": [
       "<table>\n",
       "<thead><tr><th scope=col>Sepal.Length</th><th scope=col>Sepal.Width</th><th scope=col>Petal.Length</th><th scope=col>Petal.Width</th><th scope=col>Species</th></tr></thead>\n",
       "<tbody>\n",
       "\t<tr><td>5.1   </td><td>3.5   </td><td>1.4   </td><td>0.2   </td><td>setosa</td></tr>\n",
       "\t<tr><td>4.9   </td><td>3.0   </td><td>1.4   </td><td>0.2   </td><td>setosa</td></tr>\n",
       "\t<tr><td>4.7   </td><td>3.2   </td><td>1.3   </td><td>0.2   </td><td>setosa</td></tr>\n",
       "\t<tr><td>4.6   </td><td>3.1   </td><td>1.5   </td><td>0.2   </td><td>setosa</td></tr>\n",
       "\t<tr><td>5.0   </td><td>3.6   </td><td>1.4   </td><td>0.2   </td><td>setosa</td></tr>\n",
       "\t<tr><td>5.4   </td><td>3.9   </td><td>1.7   </td><td>0.4   </td><td>setosa</td></tr>\n",
       "\t<tr><td>4.6   </td><td>3.4   </td><td>1.4   </td><td>0.3   </td><td>setosa</td></tr>\n",
       "\t<tr><td>5.0   </td><td>3.4   </td><td>1.5   </td><td>0.2   </td><td>setosa</td></tr>\n",
       "\t<tr><td>4.4   </td><td>2.9   </td><td>1.4   </td><td>0.2   </td><td>setosa</td></tr>\n",
       "\t<tr><td>4.9   </td><td>3.1   </td><td>1.5   </td><td>0.1   </td><td>setosa</td></tr>\n",
       "\t<tr><td>5.4   </td><td>3.7   </td><td>1.5   </td><td>0.2   </td><td>setosa</td></tr>\n",
       "\t<tr><td>4.8   </td><td>3.4   </td><td>1.6   </td><td>0.2   </td><td>setosa</td></tr>\n",
       "\t<tr><td>4.8   </td><td>3.0   </td><td>1.4   </td><td>0.1   </td><td>setosa</td></tr>\n",
       "\t<tr><td>4.3   </td><td>3.0   </td><td>1.1   </td><td>0.1   </td><td>setosa</td></tr>\n",
       "\t<tr><td>5.8   </td><td>4.0   </td><td>1.2   </td><td>0.2   </td><td>setosa</td></tr>\n",
       "\t<tr><td>5.7   </td><td>4.4   </td><td>1.5   </td><td>0.4   </td><td>setosa</td></tr>\n",
       "\t<tr><td>5.4   </td><td>3.9   </td><td>1.3   </td><td>0.4   </td><td>setosa</td></tr>\n",
       "\t<tr><td>5.1   </td><td>3.5   </td><td>1.4   </td><td>0.3   </td><td>setosa</td></tr>\n",
       "\t<tr><td>5.7   </td><td>3.8   </td><td>1.7   </td><td>0.3   </td><td>setosa</td></tr>\n",
       "\t<tr><td>5.1   </td><td>3.8   </td><td>1.5   </td><td>0.3   </td><td>setosa</td></tr>\n",
       "\t<tr><td>5.4   </td><td>3.4   </td><td>1.7   </td><td>0.2   </td><td>setosa</td></tr>\n",
       "\t<tr><td>5.1   </td><td>3.7   </td><td>1.5   </td><td>0.4   </td><td>setosa</td></tr>\n",
       "\t<tr><td>4.6   </td><td>3.6   </td><td>1.0   </td><td>0.2   </td><td>setosa</td></tr>\n",
       "\t<tr><td>5.1   </td><td>3.3   </td><td>1.7   </td><td>0.5   </td><td>setosa</td></tr>\n",
       "\t<tr><td>4.8   </td><td>3.4   </td><td>1.9   </td><td>0.2   </td><td>setosa</td></tr>\n",
       "\t<tr><td>5.0   </td><td>3.0   </td><td>1.6   </td><td>0.2   </td><td>setosa</td></tr>\n",
       "\t<tr><td>5.0   </td><td>3.4   </td><td>1.6   </td><td>0.4   </td><td>setosa</td></tr>\n",
       "\t<tr><td>5.2   </td><td>3.5   </td><td>1.5   </td><td>0.2   </td><td>setosa</td></tr>\n",
       "\t<tr><td>5.2   </td><td>3.4   </td><td>1.4   </td><td>0.2   </td><td>setosa</td></tr>\n",
       "\t<tr><td>4.7   </td><td>3.2   </td><td>1.6   </td><td>0.2   </td><td>setosa</td></tr>\n",
       "\t<tr><td>⋮</td><td>⋮</td><td>⋮</td><td>⋮</td><td>⋮</td></tr>\n",
       "\t<tr><td>6.9      </td><td>3.2      </td><td>5.7      </td><td>2.3      </td><td>virginica</td></tr>\n",
       "\t<tr><td>5.6      </td><td>2.8      </td><td>4.9      </td><td>2.0      </td><td>virginica</td></tr>\n",
       "\t<tr><td>7.7      </td><td>2.8      </td><td>6.7      </td><td>2.0      </td><td>virginica</td></tr>\n",
       "\t<tr><td>6.3      </td><td>2.7      </td><td>4.9      </td><td>1.8      </td><td>virginica</td></tr>\n",
       "\t<tr><td>6.7      </td><td>3.3      </td><td>5.7      </td><td>2.1      </td><td>virginica</td></tr>\n",
       "\t<tr><td>7.2      </td><td>3.2      </td><td>6.0      </td><td>1.8      </td><td>virginica</td></tr>\n",
       "\t<tr><td>6.2      </td><td>2.8      </td><td>4.8      </td><td>1.8      </td><td>virginica</td></tr>\n",
       "\t<tr><td>6.1      </td><td>3.0      </td><td>4.9      </td><td>1.8      </td><td>virginica</td></tr>\n",
       "\t<tr><td>6.4      </td><td>2.8      </td><td>5.6      </td><td>2.1      </td><td>virginica</td></tr>\n",
       "\t<tr><td>7.2      </td><td>3.0      </td><td>5.8      </td><td>1.6      </td><td>virginica</td></tr>\n",
       "\t<tr><td>7.4      </td><td>2.8      </td><td>6.1      </td><td>1.9      </td><td>virginica</td></tr>\n",
       "\t<tr><td>7.9      </td><td>3.8      </td><td>6.4      </td><td>2.0      </td><td>virginica</td></tr>\n",
       "\t<tr><td>6.4      </td><td>2.8      </td><td>5.6      </td><td>2.2      </td><td>virginica</td></tr>\n",
       "\t<tr><td>6.3      </td><td>2.8      </td><td>5.1      </td><td>1.5      </td><td>virginica</td></tr>\n",
       "\t<tr><td>6.1      </td><td>2.6      </td><td>5.6      </td><td>1.4      </td><td>virginica</td></tr>\n",
       "\t<tr><td>7.7      </td><td>3.0      </td><td>6.1      </td><td>2.3      </td><td>virginica</td></tr>\n",
       "\t<tr><td>6.3      </td><td>3.4      </td><td>5.6      </td><td>2.4      </td><td>virginica</td></tr>\n",
       "\t<tr><td>6.4      </td><td>3.1      </td><td>5.5      </td><td>1.8      </td><td>virginica</td></tr>\n",
       "\t<tr><td>6.0      </td><td>3.0      </td><td>4.8      </td><td>1.8      </td><td>virginica</td></tr>\n",
       "\t<tr><td>6.9      </td><td>3.1      </td><td>5.4      </td><td>2.1      </td><td>virginica</td></tr>\n",
       "\t<tr><td>6.7      </td><td>3.1      </td><td>5.6      </td><td>2.4      </td><td>virginica</td></tr>\n",
       "\t<tr><td>6.9      </td><td>3.1      </td><td>5.1      </td><td>2.3      </td><td>virginica</td></tr>\n",
       "\t<tr><td>5.8      </td><td>2.7      </td><td>5.1      </td><td>1.9      </td><td>virginica</td></tr>\n",
       "\t<tr><td>6.8      </td><td>3.2      </td><td>5.9      </td><td>2.3      </td><td>virginica</td></tr>\n",
       "\t<tr><td>6.7      </td><td>3.3      </td><td>5.7      </td><td>2.5      </td><td>virginica</td></tr>\n",
       "\t<tr><td>6.7      </td><td>3.0      </td><td>5.2      </td><td>2.3      </td><td>virginica</td></tr>\n",
       "\t<tr><td>6.3      </td><td>2.5      </td><td>5.0      </td><td>1.9      </td><td>virginica</td></tr>\n",
       "\t<tr><td>6.5      </td><td>3.0      </td><td>5.2      </td><td>2.0      </td><td>virginica</td></tr>\n",
       "\t<tr><td>6.2      </td><td>3.4      </td><td>5.4      </td><td>2.3      </td><td>virginica</td></tr>\n",
       "\t<tr><td>5.9      </td><td>3.0      </td><td>5.1      </td><td>1.8      </td><td>virginica</td></tr>\n",
       "</tbody>\n",
       "</table>\n"
      ],
      "text/latex": [
       "\\begin{tabular}{r|lllll}\n",
       " Sepal.Length & Sepal.Width & Petal.Length & Petal.Width & Species\\\\\n",
       "\\hline\n",
       "\t 5.1    & 3.5    & 1.4    & 0.2    & setosa\\\\\n",
       "\t 4.9    & 3.0    & 1.4    & 0.2    & setosa\\\\\n",
       "\t 4.7    & 3.2    & 1.3    & 0.2    & setosa\\\\\n",
       "\t 4.6    & 3.1    & 1.5    & 0.2    & setosa\\\\\n",
       "\t 5.0    & 3.6    & 1.4    & 0.2    & setosa\\\\\n",
       "\t 5.4    & 3.9    & 1.7    & 0.4    & setosa\\\\\n",
       "\t 4.6    & 3.4    & 1.4    & 0.3    & setosa\\\\\n",
       "\t 5.0    & 3.4    & 1.5    & 0.2    & setosa\\\\\n",
       "\t 4.4    & 2.9    & 1.4    & 0.2    & setosa\\\\\n",
       "\t 4.9    & 3.1    & 1.5    & 0.1    & setosa\\\\\n",
       "\t 5.4    & 3.7    & 1.5    & 0.2    & setosa\\\\\n",
       "\t 4.8    & 3.4    & 1.6    & 0.2    & setosa\\\\\n",
       "\t 4.8    & 3.0    & 1.4    & 0.1    & setosa\\\\\n",
       "\t 4.3    & 3.0    & 1.1    & 0.1    & setosa\\\\\n",
       "\t 5.8    & 4.0    & 1.2    & 0.2    & setosa\\\\\n",
       "\t 5.7    & 4.4    & 1.5    & 0.4    & setosa\\\\\n",
       "\t 5.4    & 3.9    & 1.3    & 0.4    & setosa\\\\\n",
       "\t 5.1    & 3.5    & 1.4    & 0.3    & setosa\\\\\n",
       "\t 5.7    & 3.8    & 1.7    & 0.3    & setosa\\\\\n",
       "\t 5.1    & 3.8    & 1.5    & 0.3    & setosa\\\\\n",
       "\t 5.4    & 3.4    & 1.7    & 0.2    & setosa\\\\\n",
       "\t 5.1    & 3.7    & 1.5    & 0.4    & setosa\\\\\n",
       "\t 4.6    & 3.6    & 1.0    & 0.2    & setosa\\\\\n",
       "\t 5.1    & 3.3    & 1.7    & 0.5    & setosa\\\\\n",
       "\t 4.8    & 3.4    & 1.9    & 0.2    & setosa\\\\\n",
       "\t 5.0    & 3.0    & 1.6    & 0.2    & setosa\\\\\n",
       "\t 5.0    & 3.4    & 1.6    & 0.4    & setosa\\\\\n",
       "\t 5.2    & 3.5    & 1.5    & 0.2    & setosa\\\\\n",
       "\t 5.2    & 3.4    & 1.4    & 0.2    & setosa\\\\\n",
       "\t 4.7    & 3.2    & 1.6    & 0.2    & setosa\\\\\n",
       "\t ⋮ & ⋮ & ⋮ & ⋮ & ⋮\\\\\n",
       "\t 6.9       & 3.2       & 5.7       & 2.3       & virginica\\\\\n",
       "\t 5.6       & 2.8       & 4.9       & 2.0       & virginica\\\\\n",
       "\t 7.7       & 2.8       & 6.7       & 2.0       & virginica\\\\\n",
       "\t 6.3       & 2.7       & 4.9       & 1.8       & virginica\\\\\n",
       "\t 6.7       & 3.3       & 5.7       & 2.1       & virginica\\\\\n",
       "\t 7.2       & 3.2       & 6.0       & 1.8       & virginica\\\\\n",
       "\t 6.2       & 2.8       & 4.8       & 1.8       & virginica\\\\\n",
       "\t 6.1       & 3.0       & 4.9       & 1.8       & virginica\\\\\n",
       "\t 6.4       & 2.8       & 5.6       & 2.1       & virginica\\\\\n",
       "\t 7.2       & 3.0       & 5.8       & 1.6       & virginica\\\\\n",
       "\t 7.4       & 2.8       & 6.1       & 1.9       & virginica\\\\\n",
       "\t 7.9       & 3.8       & 6.4       & 2.0       & virginica\\\\\n",
       "\t 6.4       & 2.8       & 5.6       & 2.2       & virginica\\\\\n",
       "\t 6.3       & 2.8       & 5.1       & 1.5       & virginica\\\\\n",
       "\t 6.1       & 2.6       & 5.6       & 1.4       & virginica\\\\\n",
       "\t 7.7       & 3.0       & 6.1       & 2.3       & virginica\\\\\n",
       "\t 6.3       & 3.4       & 5.6       & 2.4       & virginica\\\\\n",
       "\t 6.4       & 3.1       & 5.5       & 1.8       & virginica\\\\\n",
       "\t 6.0       & 3.0       & 4.8       & 1.8       & virginica\\\\\n",
       "\t 6.9       & 3.1       & 5.4       & 2.1       & virginica\\\\\n",
       "\t 6.7       & 3.1       & 5.6       & 2.4       & virginica\\\\\n",
       "\t 6.9       & 3.1       & 5.1       & 2.3       & virginica\\\\\n",
       "\t 5.8       & 2.7       & 5.1       & 1.9       & virginica\\\\\n",
       "\t 6.8       & 3.2       & 5.9       & 2.3       & virginica\\\\\n",
       "\t 6.7       & 3.3       & 5.7       & 2.5       & virginica\\\\\n",
       "\t 6.7       & 3.0       & 5.2       & 2.3       & virginica\\\\\n",
       "\t 6.3       & 2.5       & 5.0       & 1.9       & virginica\\\\\n",
       "\t 6.5       & 3.0       & 5.2       & 2.0       & virginica\\\\\n",
       "\t 6.2       & 3.4       & 5.4       & 2.3       & virginica\\\\\n",
       "\t 5.9       & 3.0       & 5.1       & 1.8       & virginica\\\\\n",
       "\\end{tabular}\n"
      ],
      "text/markdown": [
       "\n",
       "Sepal.Length | Sepal.Width | Petal.Length | Petal.Width | Species | \n",
       "|---|---|---|---|---|---|---|---|---|---|---|---|---|---|---|---|---|---|---|---|---|---|---|---|---|---|---|---|---|---|---|---|---|---|---|---|---|---|---|---|---|---|---|---|---|---|---|---|---|---|---|---|---|---|---|---|---|---|---|---|---|\n",
       "| 5.1    | 3.5    | 1.4    | 0.2    | setosa | \n",
       "| 4.9    | 3.0    | 1.4    | 0.2    | setosa | \n",
       "| 4.7    | 3.2    | 1.3    | 0.2    | setosa | \n",
       "| 4.6    | 3.1    | 1.5    | 0.2    | setosa | \n",
       "| 5.0    | 3.6    | 1.4    | 0.2    | setosa | \n",
       "| 5.4    | 3.9    | 1.7    | 0.4    | setosa | \n",
       "| 4.6    | 3.4    | 1.4    | 0.3    | setosa | \n",
       "| 5.0    | 3.4    | 1.5    | 0.2    | setosa | \n",
       "| 4.4    | 2.9    | 1.4    | 0.2    | setosa | \n",
       "| 4.9    | 3.1    | 1.5    | 0.1    | setosa | \n",
       "| 5.4    | 3.7    | 1.5    | 0.2    | setosa | \n",
       "| 4.8    | 3.4    | 1.6    | 0.2    | setosa | \n",
       "| 4.8    | 3.0    | 1.4    | 0.1    | setosa | \n",
       "| 4.3    | 3.0    | 1.1    | 0.1    | setosa | \n",
       "| 5.8    | 4.0    | 1.2    | 0.2    | setosa | \n",
       "| 5.7    | 4.4    | 1.5    | 0.4    | setosa | \n",
       "| 5.4    | 3.9    | 1.3    | 0.4    | setosa | \n",
       "| 5.1    | 3.5    | 1.4    | 0.3    | setosa | \n",
       "| 5.7    | 3.8    | 1.7    | 0.3    | setosa | \n",
       "| 5.1    | 3.8    | 1.5    | 0.3    | setosa | \n",
       "| 5.4    | 3.4    | 1.7    | 0.2    | setosa | \n",
       "| 5.1    | 3.7    | 1.5    | 0.4    | setosa | \n",
       "| 4.6    | 3.6    | 1.0    | 0.2    | setosa | \n",
       "| 5.1    | 3.3    | 1.7    | 0.5    | setosa | \n",
       "| 4.8    | 3.4    | 1.9    | 0.2    | setosa | \n",
       "| 5.0    | 3.0    | 1.6    | 0.2    | setosa | \n",
       "| 5.0    | 3.4    | 1.6    | 0.4    | setosa | \n",
       "| 5.2    | 3.5    | 1.5    | 0.2    | setosa | \n",
       "| 5.2    | 3.4    | 1.4    | 0.2    | setosa | \n",
       "| 4.7    | 3.2    | 1.6    | 0.2    | setosa | \n",
       "| ⋮ | ⋮ | ⋮ | ⋮ | ⋮ | \n",
       "| 6.9       | 3.2       | 5.7       | 2.3       | virginica | \n",
       "| 5.6       | 2.8       | 4.9       | 2.0       | virginica | \n",
       "| 7.7       | 2.8       | 6.7       | 2.0       | virginica | \n",
       "| 6.3       | 2.7       | 4.9       | 1.8       | virginica | \n",
       "| 6.7       | 3.3       | 5.7       | 2.1       | virginica | \n",
       "| 7.2       | 3.2       | 6.0       | 1.8       | virginica | \n",
       "| 6.2       | 2.8       | 4.8       | 1.8       | virginica | \n",
       "| 6.1       | 3.0       | 4.9       | 1.8       | virginica | \n",
       "| 6.4       | 2.8       | 5.6       | 2.1       | virginica | \n",
       "| 7.2       | 3.0       | 5.8       | 1.6       | virginica | \n",
       "| 7.4       | 2.8       | 6.1       | 1.9       | virginica | \n",
       "| 7.9       | 3.8       | 6.4       | 2.0       | virginica | \n",
       "| 6.4       | 2.8       | 5.6       | 2.2       | virginica | \n",
       "| 6.3       | 2.8       | 5.1       | 1.5       | virginica | \n",
       "| 6.1       | 2.6       | 5.6       | 1.4       | virginica | \n",
       "| 7.7       | 3.0       | 6.1       | 2.3       | virginica | \n",
       "| 6.3       | 3.4       | 5.6       | 2.4       | virginica | \n",
       "| 6.4       | 3.1       | 5.5       | 1.8       | virginica | \n",
       "| 6.0       | 3.0       | 4.8       | 1.8       | virginica | \n",
       "| 6.9       | 3.1       | 5.4       | 2.1       | virginica | \n",
       "| 6.7       | 3.1       | 5.6       | 2.4       | virginica | \n",
       "| 6.9       | 3.1       | 5.1       | 2.3       | virginica | \n",
       "| 5.8       | 2.7       | 5.1       | 1.9       | virginica | \n",
       "| 6.8       | 3.2       | 5.9       | 2.3       | virginica | \n",
       "| 6.7       | 3.3       | 5.7       | 2.5       | virginica | \n",
       "| 6.7       | 3.0       | 5.2       | 2.3       | virginica | \n",
       "| 6.3       | 2.5       | 5.0       | 1.9       | virginica | \n",
       "| 6.5       | 3.0       | 5.2       | 2.0       | virginica | \n",
       "| 6.2       | 3.4       | 5.4       | 2.3       | virginica | \n",
       "| 5.9       | 3.0       | 5.1       | 1.8       | virginica | \n",
       "\n",
       "\n"
      ],
      "text/plain": [
       "    Sepal.Length Sepal.Width Petal.Length Petal.Width Species  \n",
       "1   5.1          3.5         1.4          0.2         setosa   \n",
       "2   4.9          3.0         1.4          0.2         setosa   \n",
       "3   4.7          3.2         1.3          0.2         setosa   \n",
       "4   4.6          3.1         1.5          0.2         setosa   \n",
       "5   5.0          3.6         1.4          0.2         setosa   \n",
       "6   5.4          3.9         1.7          0.4         setosa   \n",
       "7   4.6          3.4         1.4          0.3         setosa   \n",
       "8   5.0          3.4         1.5          0.2         setosa   \n",
       "9   4.4          2.9         1.4          0.2         setosa   \n",
       "10  4.9          3.1         1.5          0.1         setosa   \n",
       "11  5.4          3.7         1.5          0.2         setosa   \n",
       "12  4.8          3.4         1.6          0.2         setosa   \n",
       "13  4.8          3.0         1.4          0.1         setosa   \n",
       "14  4.3          3.0         1.1          0.1         setosa   \n",
       "15  5.8          4.0         1.2          0.2         setosa   \n",
       "16  5.7          4.4         1.5          0.4         setosa   \n",
       "17  5.4          3.9         1.3          0.4         setosa   \n",
       "18  5.1          3.5         1.4          0.3         setosa   \n",
       "19  5.7          3.8         1.7          0.3         setosa   \n",
       "20  5.1          3.8         1.5          0.3         setosa   \n",
       "21  5.4          3.4         1.7          0.2         setosa   \n",
       "22  5.1          3.7         1.5          0.4         setosa   \n",
       "23  4.6          3.6         1.0          0.2         setosa   \n",
       "24  5.1          3.3         1.7          0.5         setosa   \n",
       "25  4.8          3.4         1.9          0.2         setosa   \n",
       "26  5.0          3.0         1.6          0.2         setosa   \n",
       "27  5.0          3.4         1.6          0.4         setosa   \n",
       "28  5.2          3.5         1.5          0.2         setosa   \n",
       "29  5.2          3.4         1.4          0.2         setosa   \n",
       "30  4.7          3.2         1.6          0.2         setosa   \n",
       "⋮   ⋮            ⋮           ⋮            ⋮           ⋮        \n",
       "121 6.9          3.2         5.7          2.3         virginica\n",
       "122 5.6          2.8         4.9          2.0         virginica\n",
       "123 7.7          2.8         6.7          2.0         virginica\n",
       "124 6.3          2.7         4.9          1.8         virginica\n",
       "125 6.7          3.3         5.7          2.1         virginica\n",
       "126 7.2          3.2         6.0          1.8         virginica\n",
       "127 6.2          2.8         4.8          1.8         virginica\n",
       "128 6.1          3.0         4.9          1.8         virginica\n",
       "129 6.4          2.8         5.6          2.1         virginica\n",
       "130 7.2          3.0         5.8          1.6         virginica\n",
       "131 7.4          2.8         6.1          1.9         virginica\n",
       "132 7.9          3.8         6.4          2.0         virginica\n",
       "133 6.4          2.8         5.6          2.2         virginica\n",
       "134 6.3          2.8         5.1          1.5         virginica\n",
       "135 6.1          2.6         5.6          1.4         virginica\n",
       "136 7.7          3.0         6.1          2.3         virginica\n",
       "137 6.3          3.4         5.6          2.4         virginica\n",
       "138 6.4          3.1         5.5          1.8         virginica\n",
       "139 6.0          3.0         4.8          1.8         virginica\n",
       "140 6.9          3.1         5.4          2.1         virginica\n",
       "141 6.7          3.1         5.6          2.4         virginica\n",
       "142 6.9          3.1         5.1          2.3         virginica\n",
       "143 5.8          2.7         5.1          1.9         virginica\n",
       "144 6.8          3.2         5.9          2.3         virginica\n",
       "145 6.7          3.3         5.7          2.5         virginica\n",
       "146 6.7          3.0         5.2          2.3         virginica\n",
       "147 6.3          2.5         5.0          1.9         virginica\n",
       "148 6.5          3.0         5.2          2.0         virginica\n",
       "149 6.2          3.4         5.4          2.3         virginica\n",
       "150 5.9          3.0         5.1          1.8         virginica"
      ]
     },
     "metadata": {},
     "output_type": "display_data"
    }
   ],
   "source": [
    "sqldf(\"select * from iris\") #iris에서 모든 컬럼을 다 가져와라"
   ]
  },
  {
   "cell_type": "code",
   "execution_count": 6,
   "metadata": {},
   "outputs": [
    {
     "data": {
      "text/html": [
       "<table>\n",
       "<thead><tr><th scope=col>Sepal.Length</th><th scope=col>Sepal.Width</th><th scope=col>Petal.Length</th><th scope=col>Petal.Width</th><th scope=col>Species</th></tr></thead>\n",
       "<tbody>\n",
       "\t<tr><td>5.1   </td><td>3.5   </td><td>1.4   </td><td>0.2   </td><td>setosa</td></tr>\n",
       "\t<tr><td>4.9   </td><td>3.0   </td><td>1.4   </td><td>0.2   </td><td>setosa</td></tr>\n",
       "\t<tr><td>4.7   </td><td>3.2   </td><td>1.3   </td><td>0.2   </td><td>setosa</td></tr>\n",
       "\t<tr><td>4.6   </td><td>3.1   </td><td>1.5   </td><td>0.2   </td><td>setosa</td></tr>\n",
       "\t<tr><td>5.0   </td><td>3.6   </td><td>1.4   </td><td>0.2   </td><td>setosa</td></tr>\n",
       "\t<tr><td>5.4   </td><td>3.9   </td><td>1.7   </td><td>0.4   </td><td>setosa</td></tr>\n",
       "\t<tr><td>4.6   </td><td>3.4   </td><td>1.4   </td><td>0.3   </td><td>setosa</td></tr>\n",
       "\t<tr><td>5.0   </td><td>3.4   </td><td>1.5   </td><td>0.2   </td><td>setosa</td></tr>\n",
       "\t<tr><td>4.4   </td><td>2.9   </td><td>1.4   </td><td>0.2   </td><td>setosa</td></tr>\n",
       "\t<tr><td>4.9   </td><td>3.1   </td><td>1.5   </td><td>0.1   </td><td>setosa</td></tr>\n",
       "</tbody>\n",
       "</table>\n"
      ],
      "text/latex": [
       "\\begin{tabular}{r|lllll}\n",
       " Sepal.Length & Sepal.Width & Petal.Length & Petal.Width & Species\\\\\n",
       "\\hline\n",
       "\t 5.1    & 3.5    & 1.4    & 0.2    & setosa\\\\\n",
       "\t 4.9    & 3.0    & 1.4    & 0.2    & setosa\\\\\n",
       "\t 4.7    & 3.2    & 1.3    & 0.2    & setosa\\\\\n",
       "\t 4.6    & 3.1    & 1.5    & 0.2    & setosa\\\\\n",
       "\t 5.0    & 3.6    & 1.4    & 0.2    & setosa\\\\\n",
       "\t 5.4    & 3.9    & 1.7    & 0.4    & setosa\\\\\n",
       "\t 4.6    & 3.4    & 1.4    & 0.3    & setosa\\\\\n",
       "\t 5.0    & 3.4    & 1.5    & 0.2    & setosa\\\\\n",
       "\t 4.4    & 2.9    & 1.4    & 0.2    & setosa\\\\\n",
       "\t 4.9    & 3.1    & 1.5    & 0.1    & setosa\\\\\n",
       "\\end{tabular}\n"
      ],
      "text/markdown": [
       "\n",
       "Sepal.Length | Sepal.Width | Petal.Length | Petal.Width | Species | \n",
       "|---|---|---|---|---|---|---|---|---|---|\n",
       "| 5.1    | 3.5    | 1.4    | 0.2    | setosa | \n",
       "| 4.9    | 3.0    | 1.4    | 0.2    | setosa | \n",
       "| 4.7    | 3.2    | 1.3    | 0.2    | setosa | \n",
       "| 4.6    | 3.1    | 1.5    | 0.2    | setosa | \n",
       "| 5.0    | 3.6    | 1.4    | 0.2    | setosa | \n",
       "| 5.4    | 3.9    | 1.7    | 0.4    | setosa | \n",
       "| 4.6    | 3.4    | 1.4    | 0.3    | setosa | \n",
       "| 5.0    | 3.4    | 1.5    | 0.2    | setosa | \n",
       "| 4.4    | 2.9    | 1.4    | 0.2    | setosa | \n",
       "| 4.9    | 3.1    | 1.5    | 0.1    | setosa | \n",
       "\n",
       "\n"
      ],
      "text/plain": [
       "   Sepal.Length Sepal.Width Petal.Length Petal.Width Species\n",
       "1  5.1          3.5         1.4          0.2         setosa \n",
       "2  4.9          3.0         1.4          0.2         setosa \n",
       "3  4.7          3.2         1.3          0.2         setosa \n",
       "4  4.6          3.1         1.5          0.2         setosa \n",
       "5  5.0          3.6         1.4          0.2         setosa \n",
       "6  5.4          3.9         1.7          0.4         setosa \n",
       "7  4.6          3.4         1.4          0.3         setosa \n",
       "8  5.0          3.4         1.5          0.2         setosa \n",
       "9  4.4          2.9         1.4          0.2         setosa \n",
       "10 4.9          3.1         1.5          0.1         setosa "
      ]
     },
     "metadata": {},
     "output_type": "display_data"
    }
   ],
   "source": [
    "sqldf(\"select * from iris limit 10\") \n",
    "\n",
    "#행을 10개만 가져와라"
   ]
  },
  {
   "cell_type": "code",
   "execution_count": 7,
   "metadata": {},
   "outputs": [
    {
     "data": {
      "text/html": [
       "<table>\n",
       "<thead><tr><th scope=col>count(*)</th></tr></thead>\n",
       "<tbody>\n",
       "\t<tr><td>50</td></tr>\n",
       "</tbody>\n",
       "</table>\n"
      ],
      "text/latex": [
       "\\begin{tabular}{r|l}\n",
       " count(*)\\\\\n",
       "\\hline\n",
       "\t 50\\\\\n",
       "\\end{tabular}\n"
      ],
      "text/markdown": [
       "\n",
       "count(*) | \n",
       "|---|\n",
       "| 50 | \n",
       "\n",
       "\n"
      ],
      "text/plain": [
       "  count(*)\n",
       "1 50      "
      ]
     },
     "metadata": {},
     "output_type": "display_data"
    }
   ],
   "source": [
    "sqldf(\"select count(*) from iris where Species like 'se%'\")\n",
    "\n",
    "# 개수를 세어라 / iris에서  /  Species열이 'se'로 시작하는"
   ]
  },
  {
   "cell_type": "markdown",
   "metadata": {},
   "source": [
    "### plyr"
   ]
  },
  {
   "cell_type": "code",
   "execution_count": 8,
   "metadata": {
    "collapsed": true
   },
   "outputs": [],
   "source": [
    "library(plyr)"
   ]
  },
  {
   "cell_type": "code",
   "execution_count": 9,
   "metadata": {
    "collapsed": true
   },
   "outputs": [],
   "source": [
    "set.seed(1)"
   ]
  },
  {
   "cell_type": "code",
   "execution_count": 13,
   "metadata": {
    "scrolled": true
   },
   "outputs": [
    {
     "data": {
      "text/html": [
       "<table>\n",
       "<thead><tr><th scope=col>year</th><th scope=col>count</th></tr></thead>\n",
       "<tbody>\n",
       "\t<tr><td>2000</td><td> 1  </td></tr>\n",
       "\t<tr><td>2000</td><td> 4  </td></tr>\n",
       "\t<tr><td>2000</td><td> 4  </td></tr>\n",
       "\t<tr><td>2000</td><td>14  </td></tr>\n",
       "\t<tr><td>2000</td><td> 8  </td></tr>\n",
       "\t<tr><td>2000</td><td>15  </td></tr>\n",
       "\t<tr><td>2001</td><td>10  </td></tr>\n",
       "\t<tr><td>2001</td><td>14  </td></tr>\n",
       "\t<tr><td>2001</td><td>20  </td></tr>\n",
       "\t<tr><td>2001</td><td> 1  </td></tr>\n",
       "\t<tr><td>2001</td><td> 4  </td></tr>\n",
       "\t<tr><td>2001</td><td> 4  </td></tr>\n",
       "\t<tr><td>2002</td><td>14  </td></tr>\n",
       "\t<tr><td>2002</td><td> 8  </td></tr>\n",
       "\t<tr><td>2002</td><td>15  </td></tr>\n",
       "\t<tr><td>2002</td><td>10  </td></tr>\n",
       "\t<tr><td>2002</td><td>14  </td></tr>\n",
       "\t<tr><td>2002</td><td>20  </td></tr>\n",
       "</tbody>\n",
       "</table>\n"
      ],
      "text/latex": [
       "\\begin{tabular}{r|ll}\n",
       " year & count\\\\\n",
       "\\hline\n",
       "\t 2000 &  1  \\\\\n",
       "\t 2000 &  4  \\\\\n",
       "\t 2000 &  4  \\\\\n",
       "\t 2000 & 14  \\\\\n",
       "\t 2000 &  8  \\\\\n",
       "\t 2000 & 15  \\\\\n",
       "\t 2001 & 10  \\\\\n",
       "\t 2001 & 14  \\\\\n",
       "\t 2001 & 20  \\\\\n",
       "\t 2001 &  1  \\\\\n",
       "\t 2001 &  4  \\\\\n",
       "\t 2001 &  4  \\\\\n",
       "\t 2002 & 14  \\\\\n",
       "\t 2002 &  8  \\\\\n",
       "\t 2002 & 15  \\\\\n",
       "\t 2002 & 10  \\\\\n",
       "\t 2002 & 14  \\\\\n",
       "\t 2002 & 20  \\\\\n",
       "\\end{tabular}\n"
      ],
      "text/markdown": [
       "\n",
       "year | count | \n",
       "|---|---|---|---|---|---|---|---|---|---|---|---|---|---|---|---|---|---|\n",
       "| 2000 |  1   | \n",
       "| 2000 |  4   | \n",
       "| 2000 |  4   | \n",
       "| 2000 | 14   | \n",
       "| 2000 |  8   | \n",
       "| 2000 | 15   | \n",
       "| 2001 | 10   | \n",
       "| 2001 | 14   | \n",
       "| 2001 | 20   | \n",
       "| 2001 |  1   | \n",
       "| 2001 |  4   | \n",
       "| 2001 |  4   | \n",
       "| 2002 | 14   | \n",
       "| 2002 |  8   | \n",
       "| 2002 | 15   | \n",
       "| 2002 | 10   | \n",
       "| 2002 | 14   | \n",
       "| 2002 | 20   | \n",
       "\n",
       "\n"
      ],
      "text/plain": [
       "   year count\n",
       "1  2000  1   \n",
       "2  2000  4   \n",
       "3  2000  4   \n",
       "4  2000 14   \n",
       "5  2000  8   \n",
       "6  2000 15   \n",
       "7  2001 10   \n",
       "8  2001 14   \n",
       "9  2001 20   \n",
       "10 2001  1   \n",
       "11 2001  4   \n",
       "12 2001  4   \n",
       "13 2002 14   \n",
       "14 2002  8   \n",
       "15 2002 15   \n",
       "16 2002 10   \n",
       "17 2002 14   \n",
       "18 2002 20   "
      ]
     },
     "metadata": {},
     "output_type": "display_data"
    }
   ],
   "source": [
    "d <- data.frame(year=rep(2000:2002, each=6), count = round(runif(9,0,20)))\n",
    "d\n",
    "#runif(생성할 난수의 개수, 최소값, 최대값)"
   ]
  },
  {
   "cell_type": "code",
   "execution_count": 14,
   "metadata": {},
   "outputs": [
    {
     "data": {
      "text/html": [
       "<table>\n",
       "<thead><tr><th scope=col>year</th><th scope=col>cy.count</th></tr></thead>\n",
       "<tbody>\n",
       "\t<tr><td>2000     </td><td>0.7500473</td></tr>\n",
       "\t<tr><td>2001     </td><td>0.8176584</td></tr>\n",
       "\t<tr><td>2002     </td><td>0.3098741</td></tr>\n",
       "</tbody>\n",
       "</table>\n"
      ],
      "text/latex": [
       "\\begin{tabular}{r|ll}\n",
       " year & cy.count\\\\\n",
       "\\hline\n",
       "\t 2000      & 0.7500473\\\\\n",
       "\t 2001      & 0.8176584\\\\\n",
       "\t 2002      & 0.3098741\\\\\n",
       "\\end{tabular}\n"
      ],
      "text/markdown": [
       "\n",
       "year | cy.count | \n",
       "|---|---|---|\n",
       "| 2000      | 0.7500473 | \n",
       "| 2001      | 0.8176584 | \n",
       "| 2002      | 0.3098741 | \n",
       "\n",
       "\n"
      ],
      "text/plain": [
       "  year cy.count \n",
       "1 2000 0.7500473\n",
       "2 2001 0.8176584\n",
       "3 2002 0.3098741"
      ]
     },
     "metadata": {},
     "output_type": "display_data"
    }
   ],
   "source": [
    "?ddply\n",
    "ddply(d, \"year\", function(x) {  \n",
    "    mean.count <- mean(x$count)\n",
    "    sd.count <- sd(x$count)\n",
    "    cv<-sd.count/mean.count\n",
    "    data.frame(cy.count=cv)\n",
    "    \n",
    "})"
   ]
  },
  {
   "cell_type": "markdown",
   "metadata": {},
   "source": [
    "##### summarize, transform함수"
   ]
  },
  {
   "cell_type": "markdown",
   "metadata": {},
   "source": [
    "###### summarise\n",
    "- 해당 변수에 명령된 평균이나 합 등을 계산해주고, 새롱 생긴 변수만 보여준다."
   ]
  },
  {
   "cell_type": "code",
   "execution_count": 15,
   "metadata": {
    "scrolled": true
   },
   "outputs": [
    {
     "data": {
      "text/html": [
       "<table>\n",
       "<thead><tr><th scope=col>year</th><th scope=col>mean.count</th></tr></thead>\n",
       "<tbody>\n",
       "\t<tr><td>2000     </td><td> 7.666667</td></tr>\n",
       "\t<tr><td>2001     </td><td> 8.833333</td></tr>\n",
       "\t<tr><td>2002     </td><td>13.500000</td></tr>\n",
       "</tbody>\n",
       "</table>\n"
      ],
      "text/latex": [
       "\\begin{tabular}{r|ll}\n",
       " year & mean.count\\\\\n",
       "\\hline\n",
       "\t 2000      &  7.666667\\\\\n",
       "\t 2001      &  8.833333\\\\\n",
       "\t 2002      & 13.500000\\\\\n",
       "\\end{tabular}\n"
      ],
      "text/markdown": [
       "\n",
       "year | mean.count | \n",
       "|---|---|---|\n",
       "| 2000      |  7.666667 | \n",
       "| 2001      |  8.833333 | \n",
       "| 2002      | 13.500000 | \n",
       "\n",
       "\n"
      ],
      "text/plain": [
       "  year mean.count\n",
       "1 2000  7.666667 \n",
       "2 2001  8.833333 \n",
       "3 2002 13.500000 "
      ]
     },
     "metadata": {},
     "output_type": "display_data"
    }
   ],
   "source": [
    "ddply(d, \"year\", summarise, mean.count= mean(count))"
   ]
  },
  {
   "cell_type": "markdown",
   "metadata": {},
   "source": [
    "###### transform\n",
    "- summarise와 다르게 계산에 사용된 변수도 출력해준다."
   ]
  },
  {
   "cell_type": "code",
   "execution_count": 16,
   "metadata": {
    "scrolled": true
   },
   "outputs": [
    {
     "data": {
      "text/html": [
       "<table>\n",
       "<thead><tr><th scope=col>year</th><th scope=col>count</th><th scope=col>total.count</th></tr></thead>\n",
       "<tbody>\n",
       "\t<tr><td>2000</td><td> 1  </td><td>46  </td></tr>\n",
       "\t<tr><td>2000</td><td> 4  </td><td>46  </td></tr>\n",
       "\t<tr><td>2000</td><td> 4  </td><td>46  </td></tr>\n",
       "\t<tr><td>2000</td><td>14  </td><td>46  </td></tr>\n",
       "\t<tr><td>2000</td><td> 8  </td><td>46  </td></tr>\n",
       "\t<tr><td>2000</td><td>15  </td><td>46  </td></tr>\n",
       "\t<tr><td>2001</td><td>10  </td><td>53  </td></tr>\n",
       "\t<tr><td>2001</td><td>14  </td><td>53  </td></tr>\n",
       "\t<tr><td>2001</td><td>20  </td><td>53  </td></tr>\n",
       "\t<tr><td>2001</td><td> 1  </td><td>53  </td></tr>\n",
       "\t<tr><td>2001</td><td> 4  </td><td>53  </td></tr>\n",
       "\t<tr><td>2001</td><td> 4  </td><td>53  </td></tr>\n",
       "\t<tr><td>2002</td><td>14  </td><td>81  </td></tr>\n",
       "\t<tr><td>2002</td><td> 8  </td><td>81  </td></tr>\n",
       "\t<tr><td>2002</td><td>15  </td><td>81  </td></tr>\n",
       "\t<tr><td>2002</td><td>10  </td><td>81  </td></tr>\n",
       "\t<tr><td>2002</td><td>14  </td><td>81  </td></tr>\n",
       "\t<tr><td>2002</td><td>20  </td><td>81  </td></tr>\n",
       "</tbody>\n",
       "</table>\n"
      ],
      "text/latex": [
       "\\begin{tabular}{r|lll}\n",
       " year & count & total.count\\\\\n",
       "\\hline\n",
       "\t 2000 &  1   & 46  \\\\\n",
       "\t 2000 &  4   & 46  \\\\\n",
       "\t 2000 &  4   & 46  \\\\\n",
       "\t 2000 & 14   & 46  \\\\\n",
       "\t 2000 &  8   & 46  \\\\\n",
       "\t 2000 & 15   & 46  \\\\\n",
       "\t 2001 & 10   & 53  \\\\\n",
       "\t 2001 & 14   & 53  \\\\\n",
       "\t 2001 & 20   & 53  \\\\\n",
       "\t 2001 &  1   & 53  \\\\\n",
       "\t 2001 &  4   & 53  \\\\\n",
       "\t 2001 &  4   & 53  \\\\\n",
       "\t 2002 & 14   & 81  \\\\\n",
       "\t 2002 &  8   & 81  \\\\\n",
       "\t 2002 & 15   & 81  \\\\\n",
       "\t 2002 & 10   & 81  \\\\\n",
       "\t 2002 & 14   & 81  \\\\\n",
       "\t 2002 & 20   & 81  \\\\\n",
       "\\end{tabular}\n"
      ],
      "text/markdown": [
       "\n",
       "year | count | total.count | \n",
       "|---|---|---|---|---|---|---|---|---|---|---|---|---|---|---|---|---|---|\n",
       "| 2000 |  1   | 46   | \n",
       "| 2000 |  4   | 46   | \n",
       "| 2000 |  4   | 46   | \n",
       "| 2000 | 14   | 46   | \n",
       "| 2000 |  8   | 46   | \n",
       "| 2000 | 15   | 46   | \n",
       "| 2001 | 10   | 53   | \n",
       "| 2001 | 14   | 53   | \n",
       "| 2001 | 20   | 53   | \n",
       "| 2001 |  1   | 53   | \n",
       "| 2001 |  4   | 53   | \n",
       "| 2001 |  4   | 53   | \n",
       "| 2002 | 14   | 81   | \n",
       "| 2002 |  8   | 81   | \n",
       "| 2002 | 15   | 81   | \n",
       "| 2002 | 10   | 81   | \n",
       "| 2002 | 14   | 81   | \n",
       "| 2002 | 20   | 81   | \n",
       "\n",
       "\n"
      ],
      "text/plain": [
       "   year count total.count\n",
       "1  2000  1    46         \n",
       "2  2000  4    46         \n",
       "3  2000  4    46         \n",
       "4  2000 14    46         \n",
       "5  2000  8    46         \n",
       "6  2000 15    46         \n",
       "7  2001 10    53         \n",
       "8  2001 14    53         \n",
       "9  2001 20    53         \n",
       "10 2001  1    53         \n",
       "11 2001  4    53         \n",
       "12 2001  4    53         \n",
       "13 2002 14    81         \n",
       "14 2002  8    81         \n",
       "15 2002 15    81         \n",
       "16 2002 10    81         \n",
       "17 2002 14    81         \n",
       "18 2002 20    81         "
      ]
     },
     "metadata": {},
     "output_type": "display_data"
    }
   ],
   "source": [
    "ddply(d, \"year\", transform, total.count= sum(count))"
   ]
  },
  {
   "cell_type": "markdown",
   "metadata": {},
   "source": [
    "### 데이터 테이블\n",
    "- 용량이 많은 파일을 빠르게 처리한다."
   ]
  },
  {
   "cell_type": "code",
   "execution_count": 17,
   "metadata": {},
   "outputs": [
    {
     "name": "stderr",
     "output_type": "stream",
     "text": [
      "Updating HTML index of packages in '.Library'\n",
      "Making 'packages.html' ... done\n"
     ]
    }
   ],
   "source": [
    "install.packages(\"data.table\")"
   ]
  },
  {
   "cell_type": "code",
   "execution_count": 21,
   "metadata": {
    "collapsed": true
   },
   "outputs": [],
   "source": [
    "library(data.table)"
   ]
  },
  {
   "cell_type": "code",
   "execution_count": 22,
   "metadata": {
    "collapsed": true
   },
   "outputs": [],
   "source": [
    "DT = data.table(x=c(\"b\",\"b\",\"b\",\"a\",\"a\"), v=rnorm(5))"
   ]
  },
  {
   "cell_type": "code",
   "execution_count": 28,
   "metadata": {},
   "outputs": [
    {
     "data": {
      "text/html": [
       "<table>\n",
       "<thead><tr><th scope=col>x</th><th scope=col>v</th></tr></thead>\n",
       "<tbody>\n",
       "\t<tr><td>b       </td><td>1.511781</td></tr>\n",
       "</tbody>\n",
       "</table>\n"
      ],
      "text/latex": [
       "\\begin{tabular}{r|ll}\n",
       " x & v\\\\\n",
       "\\hline\n",
       "\t b        & 1.511781\\\\\n",
       "\\end{tabular}\n"
      ],
      "text/markdown": [
       "\n",
       "x | v | \n",
       "|---|\n",
       "| b        | 1.511781 | \n",
       "\n",
       "\n"
      ],
      "text/plain": [
       "  x v       \n",
       "1 b 1.511781"
      ]
     },
     "metadata": {},
     "output_type": "display_data"
    }
   ],
   "source": [
    "DT[2,]"
   ]
  },
  {
   "cell_type": "code",
   "execution_count": 26,
   "metadata": {},
   "outputs": [
    {
     "data": {
      "text/html": [
       "<table>\n",
       "<thead><tr><th scope=col>x</th><th scope=col>v</th></tr></thead>\n",
       "<tbody>\n",
       "\t<tr><td>b         </td><td>-0.3053884</td></tr>\n",
       "\t<tr><td>b         </td><td> 1.5117812</td></tr>\n",
       "\t<tr><td>b         </td><td> 0.3898432</td></tr>\n",
       "</tbody>\n",
       "</table>\n"
      ],
      "text/latex": [
       "\\begin{tabular}{r|ll}\n",
       " x & v\\\\\n",
       "\\hline\n",
       "\t b          & -0.3053884\\\\\n",
       "\t b          &  1.5117812\\\\\n",
       "\t b          &  0.3898432\\\\\n",
       "\\end{tabular}\n"
      ],
      "text/markdown": [
       "\n",
       "x | v | \n",
       "|---|---|---|\n",
       "| b          | -0.3053884 | \n",
       "| b          |  1.5117812 | \n",
       "| b          |  0.3898432 | \n",
       "\n",
       "\n"
      ],
      "text/plain": [
       "  x v         \n",
       "1 b -0.3053884\n",
       "2 b  1.5117812\n",
       "3 b  0.3898432"
      ]
     },
     "metadata": {},
     "output_type": "display_data"
    }
   ],
   "source": [
    "DT[DT$x==\"b\",]"
   ]
  },
  {
   "cell_type": "code",
   "execution_count": null,
   "metadata": {
    "collapsed": true
   },
   "outputs": [],
   "source": []
  },
  {
   "cell_type": "code",
   "execution_count": 30,
   "metadata": {},
   "outputs": [
    {
     "data": {
      "text/html": [
       "<table>\n",
       "<thead><tr><th scope=col>speed</th><th scope=col>dist</th></tr></thead>\n",
       "<tbody>\n",
       "\t<tr><td>4 </td><td> 2</td></tr>\n",
       "\t<tr><td>4 </td><td>10</td></tr>\n",
       "\t<tr><td>7 </td><td> 4</td></tr>\n",
       "\t<tr><td>7 </td><td>22</td></tr>\n",
       "\t<tr><td>8 </td><td>16</td></tr>\n",
       "\t<tr><td>9 </td><td>10</td></tr>\n",
       "</tbody>\n",
       "</table>\n"
      ],
      "text/latex": [
       "\\begin{tabular}{r|ll}\n",
       " speed & dist\\\\\n",
       "\\hline\n",
       "\t 4  &  2\\\\\n",
       "\t 4  & 10\\\\\n",
       "\t 7  &  4\\\\\n",
       "\t 7  & 22\\\\\n",
       "\t 8  & 16\\\\\n",
       "\t 9  & 10\\\\\n",
       "\\end{tabular}\n"
      ],
      "text/markdown": [
       "\n",
       "speed | dist | \n",
       "|---|---|---|---|---|---|\n",
       "| 4  |  2 | \n",
       "| 4  | 10 | \n",
       "| 7  |  4 | \n",
       "| 7  | 22 | \n",
       "| 8  | 16 | \n",
       "| 9  | 10 | \n",
       "\n",
       "\n"
      ],
      "text/plain": [
       "  speed dist\n",
       "1 4      2  \n",
       "2 4     10  \n",
       "3 7      4  \n",
       "4 7     22  \n",
       "5 8     16  \n",
       "6 9     10  "
      ]
     },
     "metadata": {},
     "output_type": "display_data"
    }
   ],
   "source": [
    "data(cars)\n",
    "head(cars)"
   ]
  },
  {
   "cell_type": "code",
   "execution_count": 32,
   "metadata": {
    "collapsed": true
   },
   "outputs": [],
   "source": [
    "CARS <- data.table(cars)"
   ]
  },
  {
   "cell_type": "code",
   "execution_count": 33,
   "metadata": {},
   "outputs": [
    {
     "data": {
      "text/html": [
       "<table>\n",
       "<thead><tr><th scope=col>speed</th><th scope=col>dist</th></tr></thead>\n",
       "<tbody>\n",
       "\t<tr><td>4 </td><td> 2</td></tr>\n",
       "\t<tr><td>4 </td><td>10</td></tr>\n",
       "\t<tr><td>7 </td><td> 4</td></tr>\n",
       "\t<tr><td>7 </td><td>22</td></tr>\n",
       "\t<tr><td>8 </td><td>16</td></tr>\n",
       "\t<tr><td>9 </td><td>10</td></tr>\n",
       "</tbody>\n",
       "</table>\n"
      ],
      "text/latex": [
       "\\begin{tabular}{r|ll}\n",
       " speed & dist\\\\\n",
       "\\hline\n",
       "\t 4  &  2\\\\\n",
       "\t 4  & 10\\\\\n",
       "\t 7  &  4\\\\\n",
       "\t 7  & 22\\\\\n",
       "\t 8  & 16\\\\\n",
       "\t 9  & 10\\\\\n",
       "\\end{tabular}\n"
      ],
      "text/markdown": [
       "\n",
       "speed | dist | \n",
       "|---|---|---|---|---|---|\n",
       "| 4  |  2 | \n",
       "| 4  | 10 | \n",
       "| 7  |  4 | \n",
       "| 7  | 22 | \n",
       "| 8  | 16 | \n",
       "| 9  | 10 | \n",
       "\n",
       "\n"
      ],
      "text/plain": [
       "  speed dist\n",
       "1 4      2  \n",
       "2 4     10  \n",
       "3 7      4  \n",
       "4 7     22  \n",
       "5 8     16  \n",
       "6 9     10  "
      ]
     },
     "metadata": {},
     "output_type": "display_data"
    }
   ],
   "source": [
    "head(CARS)  #콜롬이 추가됨!"
   ]
  },
  {
   "cell_type": "code",
   "execution_count": 34,
   "metadata": {},
   "outputs": [
    {
     "name": "stdout",
     "output_type": "stream",
     "text": [
      "     NAME NROW NCOL MB COLS       KEY\n",
      "[1,] CARS   50    2  1 speed,dist    \n",
      "[2,] DT      5    2  1 x,v           \n",
      "Total: 2MB\n"
     ]
    }
   ],
   "source": [
    "tables()  #지금까지 작업한 data table을 요약해준다."
   ]
  },
  {
   "cell_type": "code",
   "execution_count": 43,
   "metadata": {
    "collapsed": true
   },
   "outputs": [],
   "source": [
    "setkey(DT,x)"
   ]
  },
  {
   "cell_type": "code",
   "execution_count": 44,
   "metadata": {},
   "outputs": [
    {
     "name": "stdout",
     "output_type": "stream",
     "text": [
      "     NAME NROW NCOL MB COLS       KEY\n",
      "[1,] CARS   50    2  1 speed,dist    \n",
      "[2,] DT      5    2  1 x,v        x  \n",
      "Total: 2MB\n"
     ]
    }
   ],
   "source": [
    "tables()  #setkey로 DT에 x라는 key가 들어갔다."
   ]
  },
  {
   "cell_type": "code",
   "execution_count": 45,
   "metadata": {},
   "outputs": [
    {
     "data": {
      "text/html": [
       "<table>\n",
       "<thead><tr><th scope=col>x</th><th scope=col>v</th></tr></thead>\n",
       "<tbody>\n",
       "\t<tr><td>b         </td><td>-0.3053884</td></tr>\n",
       "\t<tr><td>b         </td><td> 0.3898432</td></tr>\n",
       "\t<tr><td>b         </td><td> 1.5117812</td></tr>\n",
       "</tbody>\n",
       "</table>\n"
      ],
      "text/latex": [
       "\\begin{tabular}{r|ll}\n",
       " x & v\\\\\n",
       "\\hline\n",
       "\t b          & -0.3053884\\\\\n",
       "\t b          &  0.3898432\\\\\n",
       "\t b          &  1.5117812\\\\\n",
       "\\end{tabular}\n"
      ],
      "text/markdown": [
       "\n",
       "x | v | \n",
       "|---|---|---|\n",
       "| b          | -0.3053884 | \n",
       "| b          |  0.3898432 | \n",
       "| b          |  1.5117812 | \n",
       "\n",
       "\n"
      ],
      "text/plain": [
       "  x v         \n",
       "1 b -0.3053884\n",
       "2 b  0.3898432\n",
       "3 b  1.5117812"
      ]
     },
     "metadata": {},
     "output_type": "display_data"
    }
   ],
   "source": [
    "DT[\"b\",] #DataFrame[커럼명 ==\"b\",] /  setkey를 정해주면, dataframe처럼 쓸 수 있다."
   ]
  }
 ],
 "metadata": {
  "kernelspec": {
   "display_name": "R",
   "language": "R",
   "name": "ir"
  },
  "language_info": {
   "codemirror_mode": "r",
   "file_extension": ".r",
   "mimetype": "text/x-r-source",
   "name": "R",
   "pygments_lexer": "r",
   "version": "3.3.2"
  }
 },
 "nbformat": 4,
 "nbformat_minor": 2
}
