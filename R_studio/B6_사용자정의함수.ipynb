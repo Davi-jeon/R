{
 "cells": [
  {
   "cell_type": "markdown",
   "metadata": {},
   "source": [
    "## 사용자 정의함수"
   ]
  },
  {
   "cell_type": "markdown",
   "metadata": {},
   "source": [
    "### 1. 피보나치"
   ]
  },
  {
   "cell_type": "code",
   "execution_count": 1,
   "metadata": {
    "collapsed": true
   },
   "outputs": [],
   "source": [
    "fibo <- function(n){\n",
    "    if(n==1|| n==2){\n",
    "        return(1)\n",
    "    }\n",
    "    return(fibo(n-1) + fibo(n-2))\n",
    "}"
   ]
  },
  {
   "cell_type": "code",
   "execution_count": 2,
   "metadata": {},
   "outputs": [
    {
     "data": {
      "text/html": [
       "1"
      ],
      "text/latex": [
       "1"
      ],
      "text/markdown": [
       "1"
      ],
      "text/plain": [
       "[1] 1"
      ]
     },
     "metadata": {},
     "output_type": "display_data"
    }
   ],
   "source": [
    "fibo(1)"
   ]
  },
  {
   "cell_type": "code",
   "execution_count": 3,
   "metadata": {},
   "outputs": [
    {
     "data": {
      "text/html": [
       "55"
      ],
      "text/latex": [
       "55"
      ],
      "text/markdown": [
       "55"
      ],
      "text/plain": [
       "[1] 55"
      ]
     },
     "metadata": {},
     "output_type": "display_data"
    }
   ],
   "source": [
    "fibo(10)"
   ]
  },
  {
   "cell_type": "markdown",
   "metadata": {},
   "source": [
    "### 2. 계속 더하는 예제"
   ]
  },
  {
   "cell_type": "code",
   "execution_count": 7,
   "metadata": {
    "collapsed": true
   },
   "outputs": [],
   "source": [
    "addto=function(a){\n",
    "    isum=0\n",
    "    for(i in 1:a){\n",
    "        isum=isum+i\n",
    "        print(isum)\n",
    "    }\n",
    "    print(isum)\n",
    "}"
   ]
  },
  {
   "cell_type": "code",
   "execution_count": 8,
   "metadata": {
    "scrolled": true
   },
   "outputs": [
    {
     "name": "stdout",
     "output_type": "stream",
     "text": [
      "[1] 1\n",
      "[1] 3\n",
      "[1] 6\n",
      "[1] 10\n",
      "[1] 15\n",
      "[1] 21\n",
      "[1] 28\n",
      "[1] 36\n",
      "[1] 45\n",
      "[1] 55\n",
      "[1] 66\n",
      "[1] 78\n",
      "[1] 91\n",
      "[1] 105\n",
      "[1] 120\n",
      "[1] 136\n",
      "[1] 153\n",
      "[1] 171\n",
      "[1] 190\n",
      "[1] 210\n",
      "[1] 231\n",
      "[1] 253\n",
      "[1] 276\n",
      "[1] 300\n",
      "[1] 325\n",
      "[1] 351\n",
      "[1] 378\n",
      "[1] 406\n",
      "[1] 435\n",
      "[1] 465\n",
      "[1] 496\n",
      "[1] 528\n",
      "[1] 561\n",
      "[1] 595\n",
      "[1] 630\n",
      "[1] 666\n",
      "[1] 703\n",
      "[1] 741\n",
      "[1] 780\n",
      "[1] 820\n",
      "[1] 861\n",
      "[1] 903\n",
      "[1] 946\n",
      "[1] 990\n",
      "[1] 1035\n",
      "[1] 1081\n",
      "[1] 1128\n",
      "[1] 1176\n",
      "[1] 1225\n",
      "[1] 1275\n",
      "[1] 1275\n"
     ]
    }
   ],
   "source": [
    "addto(50)"
   ]
  },
  {
   "cell_type": "code",
   "execution_count": null,
   "metadata": {
    "collapsed": true
   },
   "outputs": [],
   "source": []
  },
  {
   "cell_type": "markdown",
   "metadata": {},
   "source": [
    "### 3. 1부터 n까지의 합 출력하기"
   ]
  },
  {
   "cell_type": "code",
   "execution_count": 45,
   "metadata": {},
   "outputs": [],
   "source": [
    "for2 <- function(x){\n",
    "    i <- 0\n",
    "    for(j in 1:x){\n",
    "        i <-i+j\n",
    "    \n",
    "    }\n",
    "    print (i)\n",
    "}"
   ]
  },
  {
   "cell_type": "code",
   "execution_count": 47,
   "metadata": {},
   "outputs": [
    {
     "name": "stdout",
     "output_type": "stream",
     "text": [
      "[1] 1275\n"
     ]
    }
   ],
   "source": [
    "for2(50)"
   ]
  },
  {
   "cell_type": "markdown",
   "metadata": {},
   "source": [
    "1부터 10까지 합 출력하기"
   ]
  },
  {
   "cell_type": "code",
   "execution_count": 65,
   "metadata": {},
   "outputs": [],
   "source": [
    "a<-1\n",
    "sum.a <- 0\n",
    "\n",
    "repeat{\n",
    "    if(a>0 & a<10){\n",
    "        sum.a = sum.a + a\n",
    "        a = a+1\n",
    "    }\n",
    "    else {\n",
    "        break\n",
    "    }\n",
    "    }"
   ]
  },
  {
   "cell_type": "code",
   "execution_count": 67,
   "metadata": {},
   "outputs": [
    {
     "data": {
      "text/html": [
       "45"
      ],
      "text/latex": [
       "45"
      ],
      "text/markdown": [
       "45"
      ],
      "text/plain": [
       "[1] 45"
      ]
     },
     "metadata": {},
     "output_type": "display_data"
    }
   ],
   "source": [
    "sum.a"
   ]
  },
  {
   "cell_type": "markdown",
   "metadata": {},
   "source": [
    "### 4.switch"
   ]
  },
  {
   "cell_type": "code",
   "execution_count": 59,
   "metadata": {
    "collapsed": true
   },
   "outputs": [],
   "source": [
    "centre = function(x, type) {\n",
    "    switch(type,\n",
    "        mean = mean(x), \n",
    "        median = median(x),\n",
    "        trimmed = mean(x, trim=0.05)\n",
    "    )\n",
    "}"
   ]
  },
  {
   "cell_type": "code",
   "execution_count": 60,
   "metadata": {
    "scrolled": true
   },
   "outputs": [],
   "source": [
    "# 표준정규분포에서 10개의 난수를 생성\n",
    "x = rnorm(n=10, mean=0, sd=1)"
   ]
  },
  {
   "cell_type": "markdown",
   "metadata": {},
   "source": [
    "switch 함수 이용해서 결과도출"
   ]
  },
  {
   "cell_type": "code",
   "execution_count": 61,
   "metadata": {},
   "outputs": [
    {
     "data": {
      "text/html": [
       "0.337237922927655"
      ],
      "text/latex": [
       "0.337237922927655"
      ],
      "text/markdown": [
       "0.337237922927655"
      ],
      "text/plain": [
       "[1] 0.3372379"
      ]
     },
     "metadata": {},
     "output_type": "display_data"
    }
   ],
   "source": [
    "centre(x, \"mean\")"
   ]
  },
  {
   "cell_type": "code",
   "execution_count": 62,
   "metadata": {},
   "outputs": [
    {
     "data": {
      "text/html": [
       "0.564587491025457"
      ],
      "text/latex": [
       "0.564587491025457"
      ],
      "text/markdown": [
       "0.564587491025457"
      ],
      "text/plain": [
       "[1] 0.5645875"
      ]
     },
     "metadata": {},
     "output_type": "display_data"
    }
   ],
   "source": [
    "centre(x, \"median\")"
   ]
  },
  {
   "cell_type": "code",
   "execution_count": 63,
   "metadata": {},
   "outputs": [
    {
     "data": {
      "text/html": [
       "0.337237922927655"
      ],
      "text/latex": [
       "0.337237922927655"
      ],
      "text/markdown": [
       "0.337237922927655"
      ],
      "text/plain": [
       "[1] 0.3372379"
      ]
     },
     "metadata": {},
     "output_type": "display_data"
    }
   ],
   "source": [
    "centre(x, \"trimmed\")"
   ]
  },
  {
   "cell_type": "markdown",
   "metadata": {},
   "source": [
    "### 5. 구구단 출력"
   ]
  },
  {
   "cell_type": "code",
   "execution_count": 37,
   "metadata": {
    "collapsed": true
   },
   "outputs": [],
   "source": [
    "gugu <- matrix(0,nrow=9, ncol=9)"
   ]
  },
  {
   "cell_type": "code",
   "execution_count": 38,
   "metadata": {},
   "outputs": [
    {
     "data": {
      "text/html": [
       "<table>\n",
       "<tbody>\n",
       "\t<tr><td>1 </td><td> 2</td><td> 3</td><td> 4</td><td> 5</td><td> 6</td><td> 7</td><td> 8</td><td> 9</td></tr>\n",
       "\t<tr><td>2 </td><td> 4</td><td> 6</td><td> 8</td><td>10</td><td>12</td><td>14</td><td>16</td><td>18</td></tr>\n",
       "\t<tr><td>3 </td><td> 6</td><td> 9</td><td>12</td><td>15</td><td>18</td><td>21</td><td>24</td><td>27</td></tr>\n",
       "\t<tr><td>4 </td><td> 8</td><td>12</td><td>16</td><td>20</td><td>24</td><td>28</td><td>32</td><td>36</td></tr>\n",
       "\t<tr><td>5 </td><td>10</td><td>15</td><td>20</td><td>25</td><td>30</td><td>35</td><td>40</td><td>45</td></tr>\n",
       "\t<tr><td>6 </td><td>12</td><td>18</td><td>24</td><td>30</td><td>36</td><td>42</td><td>48</td><td>54</td></tr>\n",
       "\t<tr><td>7 </td><td>14</td><td>21</td><td>28</td><td>35</td><td>42</td><td>49</td><td>56</td><td>63</td></tr>\n",
       "\t<tr><td>8 </td><td>16</td><td>24</td><td>32</td><td>40</td><td>48</td><td>56</td><td>64</td><td>72</td></tr>\n",
       "\t<tr><td>9 </td><td>18</td><td>27</td><td>36</td><td>45</td><td>54</td><td>63</td><td>72</td><td>81</td></tr>\n",
       "</tbody>\n",
       "</table>\n"
      ],
      "text/latex": [
       "\\begin{tabular}{lllllllll}\n",
       "\t 1  &  2 &  3 &  4 &  5 &  6 &  7 &  8 &  9\\\\\n",
       "\t 2  &  4 &  6 &  8 & 10 & 12 & 14 & 16 & 18\\\\\n",
       "\t 3  &  6 &  9 & 12 & 15 & 18 & 21 & 24 & 27\\\\\n",
       "\t 4  &  8 & 12 & 16 & 20 & 24 & 28 & 32 & 36\\\\\n",
       "\t 5  & 10 & 15 & 20 & 25 & 30 & 35 & 40 & 45\\\\\n",
       "\t 6  & 12 & 18 & 24 & 30 & 36 & 42 & 48 & 54\\\\\n",
       "\t 7  & 14 & 21 & 28 & 35 & 42 & 49 & 56 & 63\\\\\n",
       "\t 8  & 16 & 24 & 32 & 40 & 48 & 56 & 64 & 72\\\\\n",
       "\t 9  & 18 & 27 & 36 & 45 & 54 & 63 & 72 & 81\\\\\n",
       "\\end{tabular}\n"
      ],
      "text/markdown": [
       "\n",
       "| 1  |  2 |  3 |  4 |  5 |  6 |  7 |  8 |  9 | \n",
       "| 2  |  4 |  6 |  8 | 10 | 12 | 14 | 16 | 18 | \n",
       "| 3  |  6 |  9 | 12 | 15 | 18 | 21 | 24 | 27 | \n",
       "| 4  |  8 | 12 | 16 | 20 | 24 | 28 | 32 | 36 | \n",
       "| 5  | 10 | 15 | 20 | 25 | 30 | 35 | 40 | 45 | \n",
       "| 6  | 12 | 18 | 24 | 30 | 36 | 42 | 48 | 54 | \n",
       "| 7  | 14 | 21 | 28 | 35 | 42 | 49 | 56 | 63 | \n",
       "| 8  | 16 | 24 | 32 | 40 | 48 | 56 | 64 | 72 | \n",
       "| 9  | 18 | 27 | 36 | 45 | 54 | 63 | 72 | 81 | \n",
       "\n",
       "\n"
      ],
      "text/plain": [
       "      [,1] [,2] [,3] [,4] [,5] [,6] [,7] [,8] [,9]\n",
       " [1,] 1     2    3    4    5    6    7    8    9  \n",
       " [2,] 2     4    6    8   10   12   14   16   18  \n",
       " [3,] 3     6    9   12   15   18   21   24   27  \n",
       " [4,] 4     8   12   16   20   24   28   32   36  \n",
       " [5,] 5    10   15   20   25   30   35   40   45  \n",
       " [6,] 6    12   18   24   30   36   42   48   54  \n",
       " [7,] 7    14   21   28   35   42   49   56   63  \n",
       " [8,] 8    16   24   32   40   48   56   64   72  \n",
       " [9,] 9    18   27   36   45   54   63   72   81  "
      ]
     },
     "metadata": {},
     "output_type": "display_data"
    }
   ],
   "source": [
    "for (i in 1:9) {\n",
    "    for (j in 1:9) {\n",
    "       gugu[i,j] <- i*j\n",
    "    }\n",
    "}\n",
    "\n",
    "gugu"
   ]
  }
 ],
 "metadata": {
  "kernelspec": {
   "display_name": "R",
   "language": "R",
   "name": "ir"
  },
  "language_info": {
   "codemirror_mode": "r",
   "file_extension": ".r",
   "mimetype": "text/x-r-source",
   "name": "R",
   "pygments_lexer": "r",
   "version": "3.4.2"
  }
 },
 "nbformat": 4,
 "nbformat_minor": 2
}
