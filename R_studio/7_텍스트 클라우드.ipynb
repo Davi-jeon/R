{
 "cells": [
  {
   "cell_type": "markdown",
   "metadata": {},
   "source": [
    "## Text Cloud\n"
   ]
  },
  {
   "cell_type": "markdown",
   "metadata": {},
   "source": [
    "#### 목표 : 'mtcars' data에서 row이름 중 가장 많이 나온 단어는 무엇일까? \n",
    "\n",
    "#### 순서 : matrix -> VectorSource화 -> Corpus -> TDM문자추출"
   ]
  },
  {
   "cell_type": "code",
   "execution_count": 46,
   "metadata": {},
   "outputs": [],
   "source": [
    "library(tm)"
   ]
  },
  {
   "cell_type": "code",
   "execution_count": 47,
   "metadata": {},
   "outputs": [
    {
     "data": {
      "text/html": [
       "<ol class=list-inline>\n",
       "\t<li>'Mazda RX4'</li>\n",
       "\t<li>'Mazda RX4 Wag'</li>\n",
       "\t<li>'Datsun 710'</li>\n",
       "\t<li>'Hornet 4 Drive'</li>\n",
       "\t<li>'Hornet Sportabout'</li>\n",
       "\t<li>'Valiant'</li>\n",
       "\t<li>'Duster 360'</li>\n",
       "\t<li>'Merc 240D'</li>\n",
       "\t<li>'Merc 230'</li>\n",
       "\t<li>'Merc 280'</li>\n",
       "\t<li>'Merc 280C'</li>\n",
       "\t<li>'Merc 450SE'</li>\n",
       "\t<li>'Merc 450SL'</li>\n",
       "\t<li>'Merc 450SLC'</li>\n",
       "\t<li>'Cadillac Fleetwood'</li>\n",
       "\t<li>'Lincoln Continental'</li>\n",
       "\t<li>'Chrysler Imperial'</li>\n",
       "\t<li>'Fiat 128'</li>\n",
       "\t<li>'Honda Civic'</li>\n",
       "\t<li>'Toyota Corolla'</li>\n",
       "\t<li>'Toyota Corona'</li>\n",
       "\t<li>'Dodge Challenger'</li>\n",
       "\t<li>'AMC Javelin'</li>\n",
       "\t<li>'Camaro Z28'</li>\n",
       "\t<li>'Pontiac Firebird'</li>\n",
       "\t<li>'Fiat X1-9'</li>\n",
       "\t<li>'Porsche 914-2'</li>\n",
       "\t<li>'Lotus Europa'</li>\n",
       "\t<li>'Ford Pantera L'</li>\n",
       "\t<li>'Ferrari Dino'</li>\n",
       "\t<li>'Maserati Bora'</li>\n",
       "\t<li>'Volvo 142E'</li>\n",
       "</ol>\n"
      ],
      "text/latex": [
       "\\begin{enumerate*}\n",
       "\\item 'Mazda RX4'\n",
       "\\item 'Mazda RX4 Wag'\n",
       "\\item 'Datsun 710'\n",
       "\\item 'Hornet 4 Drive'\n",
       "\\item 'Hornet Sportabout'\n",
       "\\item 'Valiant'\n",
       "\\item 'Duster 360'\n",
       "\\item 'Merc 240D'\n",
       "\\item 'Merc 230'\n",
       "\\item 'Merc 280'\n",
       "\\item 'Merc 280C'\n",
       "\\item 'Merc 450SE'\n",
       "\\item 'Merc 450SL'\n",
       "\\item 'Merc 450SLC'\n",
       "\\item 'Cadillac Fleetwood'\n",
       "\\item 'Lincoln Continental'\n",
       "\\item 'Chrysler Imperial'\n",
       "\\item 'Fiat 128'\n",
       "\\item 'Honda Civic'\n",
       "\\item 'Toyota Corolla'\n",
       "\\item 'Toyota Corona'\n",
       "\\item 'Dodge Challenger'\n",
       "\\item 'AMC Javelin'\n",
       "\\item 'Camaro Z28'\n",
       "\\item 'Pontiac Firebird'\n",
       "\\item 'Fiat X1-9'\n",
       "\\item 'Porsche 914-2'\n",
       "\\item 'Lotus Europa'\n",
       "\\item 'Ford Pantera L'\n",
       "\\item 'Ferrari Dino'\n",
       "\\item 'Maserati Bora'\n",
       "\\item 'Volvo 142E'\n",
       "\\end{enumerate*}\n"
      ],
      "text/markdown": [
       "1. 'Mazda RX4'\n",
       "2. 'Mazda RX4 Wag'\n",
       "3. 'Datsun 710'\n",
       "4. 'Hornet 4 Drive'\n",
       "5. 'Hornet Sportabout'\n",
       "6. 'Valiant'\n",
       "7. 'Duster 360'\n",
       "8. 'Merc 240D'\n",
       "9. 'Merc 230'\n",
       "10. 'Merc 280'\n",
       "11. 'Merc 280C'\n",
       "12. 'Merc 450SE'\n",
       "13. 'Merc 450SL'\n",
       "14. 'Merc 450SLC'\n",
       "15. 'Cadillac Fleetwood'\n",
       "16. 'Lincoln Continental'\n",
       "17. 'Chrysler Imperial'\n",
       "18. 'Fiat 128'\n",
       "19. 'Honda Civic'\n",
       "20. 'Toyota Corolla'\n",
       "21. 'Toyota Corona'\n",
       "22. 'Dodge Challenger'\n",
       "23. 'AMC Javelin'\n",
       "24. 'Camaro Z28'\n",
       "25. 'Pontiac Firebird'\n",
       "26. 'Fiat X1-9'\n",
       "27. 'Porsche 914-2'\n",
       "28. 'Lotus Europa'\n",
       "29. 'Ford Pantera L'\n",
       "30. 'Ferrari Dino'\n",
       "31. 'Maserati Bora'\n",
       "32. 'Volvo 142E'\n",
       "\n",
       "\n"
      ],
      "text/plain": [
       " [1] \"Mazda RX4\"           \"Mazda RX4 Wag\"       \"Datsun 710\"         \n",
       " [4] \"Hornet 4 Drive\"      \"Hornet Sportabout\"   \"Valiant\"            \n",
       " [7] \"Duster 360\"          \"Merc 240D\"           \"Merc 230\"           \n",
       "[10] \"Merc 280\"            \"Merc 280C\"           \"Merc 450SE\"         \n",
       "[13] \"Merc 450SL\"          \"Merc 450SLC\"         \"Cadillac Fleetwood\" \n",
       "[16] \"Lincoln Continental\" \"Chrysler Imperial\"   \"Fiat 128\"           \n",
       "[19] \"Honda Civic\"         \"Toyota Corolla\"      \"Toyota Corona\"      \n",
       "[22] \"Dodge Challenger\"    \"AMC Javelin\"         \"Camaro Z28\"         \n",
       "[25] \"Pontiac Firebird\"    \"Fiat X1-9\"           \"Porsche 914-2\"      \n",
       "[28] \"Lotus Europa\"        \"Ford Pantera L\"      \"Ferrari Dino\"       \n",
       "[31] \"Maserati Bora\"       \"Volvo 142E\"         "
      ]
     },
     "metadata": {},
     "output_type": "display_data"
    },
    {
     "data": {
      "text/html": [
       "<table>\n",
       "<tbody>\n",
       "\t<tr><td>Mazda RX4        </td><td>Mazda RX4 Wag    </td><td>Datsun 710       </td><td>Hornet 4 Drive   </td><td>Hornet Sportabout</td><td>Valiant          </td><td>Duster 360       </td><td>Merc 240D        </td><td>Merc 230         </td><td>Merc 280         </td><td>⋯                </td><td>AMC Javelin      </td><td>Camaro Z28       </td><td>Pontiac Firebird </td><td>Fiat X1-9        </td><td>Porsche 914-2    </td><td>Lotus Europa     </td><td>Ford Pantera L   </td><td>Ferrari Dino     </td><td>Maserati Bora    </td><td>Volvo 142E       </td></tr>\n",
       "</tbody>\n",
       "</table>\n"
      ],
      "text/latex": [
       "\\begin{tabular}{llllllllllllllllllllllllllllllll}\n",
       "\t Mazda RX4         & Mazda RX4 Wag     & Datsun 710        & Hornet 4 Drive    & Hornet Sportabout & Valiant           & Duster 360        & Merc 240D         & Merc 230          & Merc 280          & ⋯                 & AMC Javelin       & Camaro Z28        & Pontiac Firebird  & Fiat X1-9         & Porsche 914-2     & Lotus Europa      & Ford Pantera L    & Ferrari Dino      & Maserati Bora     & Volvo 142E       \\\\\n",
       "\\end{tabular}\n"
      ],
      "text/markdown": [
       "\n",
       "| Mazda RX4         | Mazda RX4 Wag     | Datsun 710        | Hornet 4 Drive    | Hornet Sportabout | Valiant           | Duster 360        | Merc 240D         | Merc 230          | Merc 280          | ⋯                 | AMC Javelin       | Camaro Z28        | Pontiac Firebird  | Fiat X1-9         | Porsche 914-2     | Lotus Europa      | Ford Pantera L    | Ferrari Dino      | Maserati Bora     | Volvo 142E        | \n",
       "\n",
       "\n"
      ],
      "text/plain": [
       "     [,1]      [,2]          [,3]       [,4]           [,5]             \n",
       "[1,] Mazda RX4 Mazda RX4 Wag Datsun 710 Hornet 4 Drive Hornet Sportabout\n",
       "     [,6]    [,7]       [,8]      [,9]     [,10]    [,11] [,12]      \n",
       "[1,] Valiant Duster 360 Merc 240D Merc 230 Merc 280 ⋯     AMC Javelin\n",
       "     [,13]      [,14]            [,15]     [,16]         [,17]       \n",
       "[1,] Camaro Z28 Pontiac Firebird Fiat X1-9 Porsche 914-2 Lotus Europa\n",
       "     [,18]          [,19]        [,20]         [,21]     \n",
       "[1,] Ford Pantera L Ferrari Dino Maserati Bora Volvo 142E"
      ]
     },
     "metadata": {},
     "output_type": "display_data"
    }
   ],
   "source": [
    "# raw named\n",
    "vCarname <- rownames(mtcars)\n",
    "vCarname\n",
    "\n",
    "#t를 이용해 행과 열을 바꿈 - 역함수\n",
    "(t(vCarname))"
   ]
  },
  {
   "cell_type": "markdown",
   "metadata": {},
   "source": [
    "##### vectosource화"
   ]
  },
  {
   "cell_type": "markdown",
   "metadata": {},
   "source": [
    "텍스트 마이닝을 통해 데이터를 분석하려면 우선 원데이터가 텍스트 형태로 되어 있고 이를 말뭉치로 변환하여야 한다. 데이터가 벡터 형태(연설문 등) 혹은 데이터프레임 형태(트위터 트윗 등)에 따라 VectorSource(), DataframeSource() 함수를 적용하여 Source 객체로 변형을 시킨다. 그리고 나서 VCorpus() 함수를 활용하여 말뭉치(Corpus)로 저장한다. 휘발성 말뭉치(Volatile Corpus, VCorpus)와 영구저장 말뭉치(Permanent Corpus, PCorpus)로 변환이 가능하다. 주로 VCorpus를 메모리에 적재하여 텍스트 데이터 분석에 활용한다."
   ]
  },
  {
   "cell_type": "code",
   "execution_count": 45,
   "metadata": {},
   "outputs": [
    {
     "data": {
      "text/plain": [
       "$encoding\n",
       "[1] \"\"\n",
       "\n",
       "$length\n",
       "[1] 32\n",
       "\n",
       "$position\n",
       "[1] 0\n",
       "\n",
       "$reader\n",
       "function (elem, language, id) \n",
       "{\n",
       "    if (!is.null(elem$uri)) \n",
       "        id <- basename(elem$uri)\n",
       "    PlainTextDocument(elem$content, id = id, language = language)\n",
       "}\n",
       "<environment: namespace:tm>\n",
       "\n",
       "$content\n",
       "     [,1]        [,2]            [,3]         [,4]            \n",
       "[1,] \"Mazda RX4\" \"Mazda RX4 Wag\" \"Datsun 710\" \"Hornet 4 Drive\"\n",
       "     [,5]                [,6]      [,7]         [,8]        [,9]      \n",
       "[1,] \"Hornet Sportabout\" \"Valiant\" \"Duster 360\" \"Merc 240D\" \"Merc 230\"\n",
       "     [,10]      [,11]       [,12]        [,13]        [,14]        \n",
       "[1,] \"Merc 280\" \"Merc 280C\" \"Merc 450SE\" \"Merc 450SL\" \"Merc 450SLC\"\n",
       "     [,15]                [,16]                 [,17]               [,18]     \n",
       "[1,] \"Cadillac Fleetwood\" \"Lincoln Continental\" \"Chrysler Imperial\" \"Fiat 128\"\n",
       "     [,19]         [,20]            [,21]           [,22]             \n",
       "[1,] \"Honda Civic\" \"Toyota Corolla\" \"Toyota Corona\" \"Dodge Challenger\"\n",
       "     [,23]         [,24]        [,25]              [,26]       [,27]          \n",
       "[1,] \"AMC Javelin\" \"Camaro Z28\" \"Pontiac Firebird\" \"Fiat X1-9\" \"Porsche 914-2\"\n",
       "     [,28]          [,29]            [,30]          [,31]          \n",
       "[1,] \"Lotus Europa\" \"Ford Pantera L\" \"Ferrari Dino\" \"Maserati Bora\"\n",
       "     [,32]       \n",
       "[1,] \"Volvo 142E\"\n",
       "\n",
       "attr(,\"class\")\n",
       "[1] \"VectorSource\" \"SimpleSource\" \"Source\"      "
      ]
     },
     "metadata": {},
     "output_type": "display_data"
    }
   ],
   "source": [
    "VectorSource(t(vCarname))"
   ]
  },
  {
   "cell_type": "markdown",
   "metadata": {},
   "source": [
    "##### Corpus화"
   ]
  },
  {
   "cell_type": "code",
   "execution_count": 48,
   "metadata": {},
   "outputs": [
    {
     "data": {
      "text/plain": [
       "<<SimpleCorpus>>\n",
       "Metadata:  corpus specific: 1, document level (indexed): 0\n",
       "Content:  documents: 32"
      ]
     },
     "metadata": {},
     "output_type": "display_data"
    }
   ],
   "source": [
    "oCorpustest <- Corpus(VectorSource(t(vCarname)))\n",
    "oCorpustest"
   ]
  },
  {
   "cell_type": "markdown",
   "metadata": {},
   "source": [
    "##### DTM 화"
   ]
  },
  {
   "cell_type": "code",
   "execution_count": 31,
   "metadata": {},
   "outputs": [
    {
     "data": {
      "text/html": [
       "<ol class=list-inline>\n",
       "\t<li>32</li>\n",
       "\t<li>52</li>\n",
       "</ol>\n"
      ],
      "text/latex": [
       "\\begin{enumerate*}\n",
       "\\item 32\n",
       "\\item 52\n",
       "\\end{enumerate*}\n"
      ],
      "text/markdown": [
       "1. 32\n",
       "2. 52\n",
       "\n",
       "\n"
      ],
      "text/plain": [
       "[1] 32 52"
      ]
     },
     "metadata": {},
     "output_type": "display_data"
    }
   ],
   "source": [
    "myDtm2test <- DocumentTermMatrix(oCorpustest,\n",
    "                                control = list(wordLength=c(2,Inf)))\n",
    "\n",
    "dim(myDtm2test)"
   ]
  },
  {
   "cell_type": "markdown",
   "metadata": {},
   "source": [
    "##### inspect"
   ]
  },
  {
   "cell_type": "code",
   "execution_count": 32,
   "metadata": {
    "scrolled": true
   },
   "outputs": [
    {
     "name": "stdout",
     "output_type": "stream",
     "text": [
      "<<DocumentTermMatrix (documents: 5, terms: 5)>>\n",
      "Non-/sparse entries: 7/18\n",
      "Sparsity           : 72%\n",
      "Maximal term length: 6\n",
      "Weighting          : term frequency (tf)\n",
      "Sample             :\n",
      "    Terms\n",
      "Docs 710 datsun mazda rx4 wag\n",
      "   1   0      0     1   1   0\n",
      "   2   0      0     1   1   1\n",
      "   3   1      1     0   0   0\n",
      "   4   0      0     0   0   0\n",
      "   5   0      0     0   0   0\n"
     ]
    }
   ],
   "source": [
    "inspect(myDtm2test[1:5,1:5])"
   ]
  },
  {
   "cell_type": "code",
   "execution_count": 33,
   "metadata": {
    "scrolled": true
   },
   "outputs": [
    {
     "name": "stdout",
     "output_type": "stream",
     "text": [
      "<<DocumentTermMatrix (documents: 6, terms: 10)>>\n",
      "Non-/sparse entries: 0/60\n",
      "Sparsity           : 100%\n",
      "Maximal term length: 10\n",
      "Weighting          : term frequency (tf)\n",
      "Sample             :\n",
      "    Terms\n",
      "Docs 360 710 datsun drive hornet mazda rx4 sportabout valiant wag\n",
      "  10   0   0      0     0      0     0   0          0       0   0\n",
      "  11   0   0      0     0      0     0   0          0       0   0\n",
      "  12   0   0      0     0      0     0   0          0       0   0\n",
      "  13   0   0      0     0      0     0   0          0       0   0\n",
      "  14   0   0      0     0      0     0   0          0       0   0\n",
      "  15   0   0      0     0      0     0   0          0       0   0\n"
     ]
    }
   ],
   "source": [
    "inspect(myDtm2test[10:15,1:10])"
   ]
  },
  {
   "cell_type": "code",
   "execution_count": 34,
   "metadata": {},
   "outputs": [
    {
     "data": {
      "text/html": [
       "<ol class=list-inline>\n",
       "\t<li>32</li>\n",
       "\t<li>52</li>\n",
       "</ol>\n"
      ],
      "text/latex": [
       "\\begin{enumerate*}\n",
       "\\item 32\n",
       "\\item 52\n",
       "\\end{enumerate*}\n"
      ],
      "text/markdown": [
       "1. 32\n",
       "2. 52\n",
       "\n",
       "\n"
      ],
      "text/plain": [
       "[1] 32 52"
      ]
     },
     "metadata": {},
     "output_type": "display_data"
    }
   ],
   "source": [
    "m <- as.matrix(myDtm2test)\n",
    "dim(m)"
   ]
  },
  {
   "cell_type": "code",
   "execution_count": 35,
   "metadata": {},
   "outputs": [
    {
     "data": {
      "text/html": [
       "<table>\n",
       "<thead><tr><th></th><th scope=col>mazda</th><th scope=col>rx4</th><th scope=col>wag</th><th scope=col>710</th><th scope=col>datsun</th><th scope=col>drive</th><th scope=col>hornet</th><th scope=col>sportabout</th><th scope=col>valiant</th><th scope=col>360</th></tr></thead>\n",
       "<tbody>\n",
       "\t<tr><th scope=row>1</th><td>1</td><td>1</td><td>0</td><td>0</td><td>0</td><td>0</td><td>0</td><td>0</td><td>0</td><td>0</td></tr>\n",
       "\t<tr><th scope=row>2</th><td>1</td><td>1</td><td>1</td><td>0</td><td>0</td><td>0</td><td>0</td><td>0</td><td>0</td><td>0</td></tr>\n",
       "\t<tr><th scope=row>3</th><td>0</td><td>0</td><td>0</td><td>1</td><td>1</td><td>0</td><td>0</td><td>0</td><td>0</td><td>0</td></tr>\n",
       "\t<tr><th scope=row>4</th><td>0</td><td>0</td><td>0</td><td>0</td><td>0</td><td>1</td><td>1</td><td>0</td><td>0</td><td>0</td></tr>\n",
       "\t<tr><th scope=row>5</th><td>0</td><td>0</td><td>0</td><td>0</td><td>0</td><td>0</td><td>1</td><td>1</td><td>0</td><td>0</td></tr>\n",
       "</tbody>\n",
       "</table>\n"
      ],
      "text/latex": [
       "\\begin{tabular}{r|llllllllll}\n",
       "  & mazda & rx4 & wag & 710 & datsun & drive & hornet & sportabout & valiant & 360\\\\\n",
       "\\hline\n",
       "\t1 & 1 & 1 & 0 & 0 & 0 & 0 & 0 & 0 & 0 & 0\\\\\n",
       "\t2 & 1 & 1 & 1 & 0 & 0 & 0 & 0 & 0 & 0 & 0\\\\\n",
       "\t3 & 0 & 0 & 0 & 1 & 1 & 0 & 0 & 0 & 0 & 0\\\\\n",
       "\t4 & 0 & 0 & 0 & 0 & 0 & 1 & 1 & 0 & 0 & 0\\\\\n",
       "\t5 & 0 & 0 & 0 & 0 & 0 & 0 & 1 & 1 & 0 & 0\\\\\n",
       "\\end{tabular}\n"
      ],
      "text/markdown": [
       "\n",
       "| <!--/--> | mazda | rx4 | wag | 710 | datsun | drive | hornet | sportabout | valiant | 360 | \n",
       "|---|---|---|---|---|\n",
       "| 1 | 1 | 1 | 0 | 0 | 0 | 0 | 0 | 0 | 0 | 0 | \n",
       "| 2 | 1 | 1 | 1 | 0 | 0 | 0 | 0 | 0 | 0 | 0 | \n",
       "| 3 | 0 | 0 | 0 | 1 | 1 | 0 | 0 | 0 | 0 | 0 | \n",
       "| 4 | 0 | 0 | 0 | 0 | 0 | 1 | 1 | 0 | 0 | 0 | \n",
       "| 5 | 0 | 0 | 0 | 0 | 0 | 0 | 1 | 1 | 0 | 0 | \n",
       "\n",
       "\n"
      ],
      "text/plain": [
       "    Terms\n",
       "Docs mazda rx4 wag 710 datsun drive hornet sportabout valiant 360\n",
       "   1 1     1   0   0   0      0     0      0          0       0  \n",
       "   2 1     1   1   0   0      0     0      0          0       0  \n",
       "   3 0     0   0   1   1      0     0      0          0       0  \n",
       "   4 0     0   0   0   0      1     1      0          0       0  \n",
       "   5 0     0   0   0   0      0     1      1          0       0  "
      ]
     },
     "metadata": {},
     "output_type": "display_data"
    }
   ],
   "source": [
    "m[1:5,1:10]"
   ]
  },
  {
   "cell_type": "code",
   "execution_count": 36,
   "metadata": {},
   "outputs": [
    {
     "data": {
      "text/html": [
       "<dl class=dl-horizontal>\n",
       "\t<dt>merc</dt>\n",
       "\t\t<dd>7</dd>\n",
       "\t<dt>mazda</dt>\n",
       "\t\t<dd>2</dd>\n",
       "\t<dt>rx4</dt>\n",
       "\t\t<dd>2</dd>\n",
       "\t<dt>hornet</dt>\n",
       "\t\t<dd>2</dd>\n",
       "\t<dt>fiat</dt>\n",
       "\t\t<dd>2</dd>\n",
       "\t<dt>toyota</dt>\n",
       "\t\t<dd>2</dd>\n",
       "\t<dt>wag</dt>\n",
       "\t\t<dd>1</dd>\n",
       "\t<dt>710</dt>\n",
       "\t\t<dd>1</dd>\n",
       "\t<dt>datsun</dt>\n",
       "\t\t<dd>1</dd>\n",
       "\t<dt>drive</dt>\n",
       "\t\t<dd>1</dd>\n",
       "\t<dt>sportabout</dt>\n",
       "\t\t<dd>1</dd>\n",
       "\t<dt>valiant</dt>\n",
       "\t\t<dd>1</dd>\n",
       "\t<dt>360</dt>\n",
       "\t\t<dd>1</dd>\n",
       "\t<dt>duster</dt>\n",
       "\t\t<dd>1</dd>\n",
       "\t<dt>240d</dt>\n",
       "\t\t<dd>1</dd>\n",
       "\t<dt>230</dt>\n",
       "\t\t<dd>1</dd>\n",
       "\t<dt>280</dt>\n",
       "\t\t<dd>1</dd>\n",
       "\t<dt>280c</dt>\n",
       "\t\t<dd>1</dd>\n",
       "\t<dt>450se</dt>\n",
       "\t\t<dd>1</dd>\n",
       "\t<dt>450sl</dt>\n",
       "\t\t<dd>1</dd>\n",
       "\t<dt>450slc</dt>\n",
       "\t\t<dd>1</dd>\n",
       "\t<dt>cadillac</dt>\n",
       "\t\t<dd>1</dd>\n",
       "\t<dt>fleetwood</dt>\n",
       "\t\t<dd>1</dd>\n",
       "\t<dt>continental</dt>\n",
       "\t\t<dd>1</dd>\n",
       "\t<dt>lincoln</dt>\n",
       "\t\t<dd>1</dd>\n",
       "\t<dt>chrysler</dt>\n",
       "\t\t<dd>1</dd>\n",
       "\t<dt>imperial</dt>\n",
       "\t\t<dd>1</dd>\n",
       "\t<dt>128</dt>\n",
       "\t\t<dd>1</dd>\n",
       "\t<dt>civic</dt>\n",
       "\t\t<dd>1</dd>\n",
       "\t<dt>honda</dt>\n",
       "\t\t<dd>1</dd>\n",
       "\t<dt>corolla</dt>\n",
       "\t\t<dd>1</dd>\n",
       "\t<dt>corona</dt>\n",
       "\t\t<dd>1</dd>\n",
       "\t<dt>challenger</dt>\n",
       "\t\t<dd>1</dd>\n",
       "\t<dt>dodge</dt>\n",
       "\t\t<dd>1</dd>\n",
       "\t<dt>amc</dt>\n",
       "\t\t<dd>1</dd>\n",
       "\t<dt>javelin</dt>\n",
       "\t\t<dd>1</dd>\n",
       "\t<dt>camaro</dt>\n",
       "\t\t<dd>1</dd>\n",
       "\t<dt>z28</dt>\n",
       "\t\t<dd>1</dd>\n",
       "\t<dt>firebird</dt>\n",
       "\t\t<dd>1</dd>\n",
       "\t<dt>pontiac</dt>\n",
       "\t\t<dd>1</dd>\n",
       "\t<dt>914</dt>\n",
       "\t\t<dd>1</dd>\n",
       "\t<dt>porsche</dt>\n",
       "\t\t<dd>1</dd>\n",
       "\t<dt>europa</dt>\n",
       "\t\t<dd>1</dd>\n",
       "\t<dt>lotus</dt>\n",
       "\t\t<dd>1</dd>\n",
       "\t<dt>ford</dt>\n",
       "\t\t<dd>1</dd>\n",
       "\t<dt>pantera</dt>\n",
       "\t\t<dd>1</dd>\n",
       "\t<dt>dino</dt>\n",
       "\t\t<dd>1</dd>\n",
       "\t<dt>ferrari</dt>\n",
       "\t\t<dd>1</dd>\n",
       "\t<dt>bora</dt>\n",
       "\t\t<dd>1</dd>\n",
       "\t<dt>maserati</dt>\n",
       "\t\t<dd>1</dd>\n",
       "\t<dt>142e</dt>\n",
       "\t\t<dd>1</dd>\n",
       "\t<dt>volvo</dt>\n",
       "\t\t<dd>1</dd>\n",
       "</dl>\n"
      ],
      "text/latex": [
       "\\begin{description*}\n",
       "\\item[merc] 7\n",
       "\\item[mazda] 2\n",
       "\\item[rx4] 2\n",
       "\\item[hornet] 2\n",
       "\\item[fiat] 2\n",
       "\\item[toyota] 2\n",
       "\\item[wag] 1\n",
       "\\item[710] 1\n",
       "\\item[datsun] 1\n",
       "\\item[drive] 1\n",
       "\\item[sportabout] 1\n",
       "\\item[valiant] 1\n",
       "\\item[360] 1\n",
       "\\item[duster] 1\n",
       "\\item[240d] 1\n",
       "\\item[230] 1\n",
       "\\item[280] 1\n",
       "\\item[280c] 1\n",
       "\\item[450se] 1\n",
       "\\item[450sl] 1\n",
       "\\item[450slc] 1\n",
       "\\item[cadillac] 1\n",
       "\\item[fleetwood] 1\n",
       "\\item[continental] 1\n",
       "\\item[lincoln] 1\n",
       "\\item[chrysler] 1\n",
       "\\item[imperial] 1\n",
       "\\item[128] 1\n",
       "\\item[civic] 1\n",
       "\\item[honda] 1\n",
       "\\item[corolla] 1\n",
       "\\item[corona] 1\n",
       "\\item[challenger] 1\n",
       "\\item[dodge] 1\n",
       "\\item[amc] 1\n",
       "\\item[javelin] 1\n",
       "\\item[camaro] 1\n",
       "\\item[z28] 1\n",
       "\\item[firebird] 1\n",
       "\\item[pontiac] 1\n",
       "\\item[914] 1\n",
       "\\item[porsche] 1\n",
       "\\item[europa] 1\n",
       "\\item[lotus] 1\n",
       "\\item[ford] 1\n",
       "\\item[pantera] 1\n",
       "\\item[dino] 1\n",
       "\\item[ferrari] 1\n",
       "\\item[bora] 1\n",
       "\\item[maserati] 1\n",
       "\\item[142e] 1\n",
       "\\item[volvo] 1\n",
       "\\end{description*}\n"
      ],
      "text/markdown": [
       "merc\n",
       ":   7mazda\n",
       ":   2rx4\n",
       ":   2hornet\n",
       ":   2fiat\n",
       ":   2toyota\n",
       ":   2wag\n",
       ":   1710\n",
       ":   1datsun\n",
       ":   1drive\n",
       ":   1sportabout\n",
       ":   1valiant\n",
       ":   1360\n",
       ":   1duster\n",
       ":   1240d\n",
       ":   1230\n",
       ":   1280\n",
       ":   1280c\n",
       ":   1450se\n",
       ":   1450sl\n",
       ":   1450slc\n",
       ":   1cadillac\n",
       ":   1fleetwood\n",
       ":   1continental\n",
       ":   1lincoln\n",
       ":   1chrysler\n",
       ":   1imperial\n",
       ":   1128\n",
       ":   1civic\n",
       ":   1honda\n",
       ":   1corolla\n",
       ":   1corona\n",
       ":   1challenger\n",
       ":   1dodge\n",
       ":   1amc\n",
       ":   1javelin\n",
       ":   1camaro\n",
       ":   1z28\n",
       ":   1firebird\n",
       ":   1pontiac\n",
       ":   1914\n",
       ":   1porsche\n",
       ":   1europa\n",
       ":   1lotus\n",
       ":   1ford\n",
       ":   1pantera\n",
       ":   1dino\n",
       ":   1ferrari\n",
       ":   1bora\n",
       ":   1maserati\n",
       ":   1142e\n",
       ":   1volvo\n",
       ":   1\n",
       "\n"
      ],
      "text/plain": [
       "       merc       mazda         rx4      hornet        fiat      toyota \n",
       "          7           2           2           2           2           2 \n",
       "        wag         710      datsun       drive  sportabout     valiant \n",
       "          1           1           1           1           1           1 \n",
       "        360      duster        240d         230         280        280c \n",
       "          1           1           1           1           1           1 \n",
       "      450se       450sl      450slc    cadillac   fleetwood continental \n",
       "          1           1           1           1           1           1 \n",
       "    lincoln    chrysler    imperial         128       civic       honda \n",
       "          1           1           1           1           1           1 \n",
       "    corolla      corona  challenger       dodge         amc     javelin \n",
       "          1           1           1           1           1           1 \n",
       "     camaro         z28    firebird     pontiac         914     porsche \n",
       "          1           1           1           1           1           1 \n",
       "     europa       lotus        ford     pantera        dino     ferrari \n",
       "          1           1           1           1           1           1 \n",
       "       bora    maserati        142e       volvo \n",
       "          1           1           1           1 "
      ]
     },
     "metadata": {},
     "output_type": "display_data"
    }
   ],
   "source": [
    "wordFreq <- sort(colSums(m),decreasing = TRUE)\n",
    "wordFreq "
   ]
  },
  {
   "cell_type": "markdown",
   "metadata": {},
   "source": [
    "##### color지정"
   ]
  },
  {
   "cell_type": "code",
   "execution_count": 37,
   "metadata": {
    "collapsed": true
   },
   "outputs": [],
   "source": [
    "#Dark2의 색상을 사용해서 8가지 색을 만듬\n",
    "library(RColorBrewer)"
   ]
  },
  {
   "cell_type": "code",
   "execution_count": 38,
   "metadata": {
    "scrolled": true
   },
   "outputs": [
    {
     "data": {
      "image/png": "[encoded data removed]",
      "text/plain": [
       "plot without title"
      ]
     },
     "metadata": {},
     "output_type": "display_data"
    }
   ],
   "source": [
    "set.seed(375)\n",
    "pal <- brewer.pal(8,\"Dark2\")\n",
    "plot(1:8,col=pal)"
   ]
  },
  {
   "cell_type": "markdown",
   "metadata": {},
   "source": [
    "##### Text Cloud"
   ]
  },
  {
   "cell_type": "code",
   "execution_count": 42,
   "metadata": {},
   "outputs": [],
   "source": [
    "library(wordcloud)"
   ]
  },
  {
   "cell_type": "code",
   "execution_count": 44,
   "metadata": {},
   "outputs": [
    {
     "data": {
      "image/png": "[encoded data removed]",
      "text/plain": [
       "plot without title"
      ]
     },
     "metadata": {},
     "output_type": "display_data"
    }
   ],
   "source": [
    "wordcloud(words = names(wordFreq),\n",
    "         freq = wordFreq, min.freq=1, random.order=F,\n",
    "         rot.per= 0.1, colors = pal)"
   ]
  }
 ],
 "metadata": {
  "kernelspec": {
   "display_name": "R",
   "language": "R",
   "name": "ir"
  },
  "language_info": {
   "codemirror_mode": "r",
   "file_extension": ".r",
   "mimetype": "text/x-r-source",
   "name": "R",
   "pygments_lexer": "r",
   "version": "3.3.2"
  }
 },
 "nbformat": 4,
 "nbformat_minor": 2
}
